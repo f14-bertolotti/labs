{
 "cells": [
  {
   "cell_type": "markdown",
   "metadata": {
    "deletable": true,
    "editable": true
   },
   "source": [
    "# Python Tutorial ([Original Tutorial](https://gist.github.com/kenjyco/69eeb503125035f21a9d#file-learning-python3-ipynb) )\n",
    "\n",
    "## Python objects, basic types, and variables\n",
    "\n",
    "Everything in Python is an object and every object in Python has a type. Some of the primitive types include:\n",
    "\n",
    "- ```int``` (whole numbers) (e.g. ```10```, ```-3```, ```2```, ```0```).\n",
    "- ```float``` (number with decimals) (e.g. ```7.41```, ```-0.006```).\n",
    "- ```bool``` (boolean values) (```True``` and ```False```).\n",
    "- ```str``` (sequence of characters)\n",
    "  - ```'this is a string using single quotes'```\n",
    "  - ```\"this is a string using double quotes\"```\n",
    "  - ```'''this is a triple quoted string using single quotes'''```\n",
    "  - ```\"\"\"this is a triple quoted string using double quotes\"\"\"```\n",
    "- ```NoneType``` (value representing the absence of a value) (only ```None```)\n",
    "\n",
    "In Python, a variable is a name that maps to an object. \n",
    "> Note: Names for variables can only contain letters, underscores (_), or numbers (no spaces, dashes, or other characters). Variable names must start with a letter or underscore (e.g. ```temp```, ```dist```, ```temp_dist```, ```var123```)."
   ]
  },
  {
   "cell_type": "code",
   "execution_count": null,
   "metadata": {},
   "outputs": [],
   "source": []
  },
  {
   "cell_type": "markdown",
   "metadata": {},
   "source": [
    "## Basic operators\n",
    "\n",
    "In Python, there are different types of operators (special symbols) that operate on different values. Some of the basic operators include:\n",
    "\n",
    "- arithmetic operators: ```+```, ```-```, ```*```, ```/```, ```**``` (addition, subtraction, multiplication, division, exponent).\n",
    "- assignment operators: ```=```, ```+=```, ```-=```, ```*=``` (assign, increment and assign, decrement and assign, multiply and assign).\n",
    "- comparison operators:  ```==```, ```!=```, ```<```,```<=```, ```>```, ```>=``` (equal to, not equal to, less than, less than or equal to, greater than greater than or equal to)."
   ]
  },
  {
   "cell_type": "code",
   "execution_count": null,
   "metadata": {},
   "outputs": [],
   "source": []
  },
  {
   "cell_type": "markdown",
   "metadata": {
    "deletable": true,
    "editable": true
   },
   "source": [
    "## Basic containers\n",
    "Containers are objects that can be used to group other objects. The basic containers include:\n",
    "\n",
    "- `list` (mutable, ordered, indexable)\n",
    "  - `[3, 5, 6, 3, 'dog', 'cat', False]`\n",
    "- `tuple` (immutable, ordered, indexable)\n",
    "  - `(3, 5, 6, 3, 'dog', 'cat', False)`\n",
    "- `set` (mutable, non-ordered, non-indexable, no-duplicate)\n",
    "  - `{3, 5, 6, 3, 'dog', 'cat', False}`\n",
    "- ```dict``` (mutable, indexable, unordered)\n",
    "  - `{'name': 'Jane', 'age': 23, 'fav_foods': ['pizza', 'fruit', 'fish']}`\n",
    "\n",
    "> Note: **mutable** objects can be modified after creation and **immutable** objects cannot.<br/>\n",
    "> Note: **ordered** objects mantain the order of the inserted elements and **non-ordered** objects cannot.<br/>\n",
    "> Note: **indexable** objects can be accessed with `object[index]` notation and **non-indexable** objects cannot."
   ]
  },
  {
   "cell_type": "code",
   "execution_count": null,
   "metadata": {},
   "outputs": [],
   "source": []
  },
  {
   "cell_type": "markdown",
   "metadata": {
    "deletable": true,
    "editable": true
   },
   "source": [
    "## Accessing data in containers\n",
    "\n",
    "For strings, lists, tuples, and dicts, we can use `object[index]` notation to access data.\n",
    "\n",
    "- strings, lists, and tuples are indexed by integers.\n",
    "  - indices start with `0` (`object[0]` denotes the first element).\n",
    "  - these types support **slicing** (`object[0:3]` denotes the first three elements).\n",
    "  - **negative indices** to start at the back of the sequence (e.g. `object[-1]` denotes the last element).\n",
    "  - slicing support negative indices (e.g. `object[1:-2]` denotes the subsequence starting from the second to the second to last element)\n",
    "- dicts are indexed by their keys"
   ]
  },
  {
   "cell_type": "code",
   "execution_count": null,
   "metadata": {},
   "outputs": [],
   "source": []
  },
  {
   "cell_type": "markdown",
   "metadata": {
    "deletable": true,
    "editable": true
   },
   "source": [
    "## Python built-in functions and callables\n",
    "\n",
    "A **function** is a Python object that you can \"call\". You call a function by using `object(args,...)` notation (remember, everything in Python is an object).\n",
    "\n",
    "Python has several useful built-in functionst. Here is a small sample of them:\n",
    "\n",
    "- **`type(obj)`** returns the type of `obj`.\n",
    "- **`len(container)`** returns the length of `container`.\n",
    "- **`callable(obj)`** returns `True` if `obj` is callable.\n",
    "- **`sorted(container)`** returns a sorted version of `container`\n",
    "- **`sum(container)`** returns the sums of the elements in the `container`\n",
    "- **`str(obj)`** returns a string representation of `object`\n",
    "\n",
    "> Complete list of built-in functions: https://docs.python.org/3/library/functions.html"
   ]
  },
  {
   "cell_type": "code",
   "execution_count": null,
   "metadata": {},
   "outputs": [],
   "source": []
  },
  {
   "cell_type": "markdown",
   "metadata": {
    "deletable": true,
    "editable": true
   },
   "source": [
    "## Object Attributes\n",
    "\n",
    "Objects in Python may have **attributes** associated. To access an attribute of an object, use the `object.attribute` notation.\n",
    "\n",
    "When an attribute is **callable**, it is called a **method**. It is a function but bound to a particular object.\n",
    "\n",
    "When an attribute is not **callable**, that attribute is called a **field**.\n",
    "\n",
    "> Note: Both fields and methods are objects but nested in other objects. <br/>\n",
    "> Note: The builtin `dir(obj)` returns a list of an `obj`'s attributes."
   ]
  },
  {
   "cell_type": "code",
   "execution_count": null,
   "metadata": {},
   "outputs": [],
   "source": []
  },
  {
   "cell_type": "markdown",
   "metadata": {
    "deletable": true,
    "editable": true
   },
   "source": [
    "## Methods of String Objects\n",
    "\n",
    "- `obj.upper()` returns the uppercase version of `obj`.\n",
    "- `obj.lower()` returns the lowercase version of `obj`.\n",
    "- `obj.startswith(sub)` returns `True` if string `obj` starts with string `sub`.\n",
    "- `obj.endswith(sub)` returns `True` if string `obj` ends with string `sub`.\n",
    "- `obj.replace(old, new)` returns a copy of `obj` where occurences of `old` are replaced with string `new`.\n",
    "\n",
    "> Note: see the [doc](https://docs.python.org/3/library/stdtypes.html#textseq) for the complete documentation."
   ]
  },
  {
   "cell_type": "code",
   "execution_count": null,
   "metadata": {},
   "outputs": [],
   "source": []
  },
  {
   "cell_type": "markdown",
   "metadata": {
    "collapsed": true,
    "deletable": true,
    "editable": true,
    "jupyter": {
     "outputs_hidden": true
    }
   },
   "source": [
    "## Methods of List Objects\n",
    "\n",
    "- `obj.append(item)` adds `item` at the end of list `obj`.\n",
    "- `obj.remove(item)` removes a single occurence of `item` in list `obj`.\n",
    "- `obj.pop()` removes and returns the last item of the list `obj`.\n",
    "> Note: see the [doc](https://docs.python.org/3/library/stdtypes.html#sequence-types-list-tuple-range) for the complete documentation"
   ]
  },
  {
   "cell_type": "code",
   "execution_count": null,
   "metadata": {},
   "outputs": [],
   "source": []
  },
  {
   "cell_type": "markdown",
   "metadata": {
    "deletable": true,
    "editable": true
   },
   "source": [
    "## Methods of Set Objects\n",
    "\n",
    "- `obj.add(item)` adds `item` to the set `obj`.\n",
    "- `obj.difference(other)` returns a set that is the set difference between `obj` and `other`.\n",
    "- `obj.intersection(other)` returns a set that is the set intersection between `obj` and `other`.\n",
    "- `obj.union(other)` returns a set that is the set union between `obj` and `other`\n",
    "> Note: see the [doc](https://docs.python.org/3/library/stdtypes.html#set) for the complete documentation."
   ]
  },
  {
   "cell_type": "code",
   "execution_count": null,
   "metadata": {
    "deletable": true,
    "editable": true
   },
   "outputs": [],
   "source": []
  },
  {
   "cell_type": "markdown",
   "metadata": {
    "deletable": true,
    "editable": true
   },
   "source": [
    "## Methods of Dict Objects\n",
    "\n",
    "- `obj.pop(key)` returns the value associated to `key` and removes `key` from the dict `obj` (error if `key` not found).\n",
    "- `obj.get(key)` returns the value associated to `key` in `obj` (or `None` if key not found).\n",
    "- `obj.keys()` returns a list of keys in the dict `obj`.\n",
    "- `obj.values()` to return a list of values in the dict `obj`.\n",
    "- `obj.items()` to return a list of key-value pairs as tuples in the dict `obj`.\n",
    "> Note: see the [doc](https://docs.python.org/3/library/stdtypes.html#dict) for the complete documentation)"
   ]
  },
  {
   "cell_type": "code",
   "execution_count": null,
   "metadata": {},
   "outputs": [],
   "source": []
  },
  {
   "cell_type": "markdown",
   "metadata": {
    "deletable": true,
    "editable": true
   },
   "source": [
    "## Positional arguments and keyword arguments to callables\n",
    "\n",
    "Function/Method can be called in various different ways:\n",
    "\n",
    "- `func()`: calls `func` with no arguments.\n",
    "- `func(arg)`: calls `func` with one positional argument.\n",
    "- `func(arg1, arg2, ..., argn)`: calls `func` with several positional arguments.\n",
    "- `func(kwarg=value)`: calls `func` with one keyword argument. \n",
    "- `func(kwarg1=value1, kwarg2=value2, ..., kwargn=valuen)`: calls `func` with several keyword arguments.\n",
    "- `func(arg1, arg2, kwarg1=value1, kwarg2=value2)`: calls `func` with positonal arguments and keyword arguments.\n",
    "- `obj.method()`: Same for `func`.\n",
    "\n",
    "> Note: **Positional arguments** must be provided in order of the function definition. <br/>\n",
    "> Note: **Keyword arguments** must be provided in any order. <br/>\n",
    "> Note: positional arguments must come before any keyword argument. <br/>"
   ]
  },
  {
   "cell_type": "code",
   "execution_count": null,
   "metadata": {
    "deletable": true,
    "editable": true
   },
   "outputs": [],
   "source": []
  },
  {
   "cell_type": "markdown",
   "metadata": {
    "deletable": true,
    "editable": true
   },
   "source": [
    "## f-strings\n",
    "\n",
    "Python does support what is called **string interpolation**. This is a convenient way of evaluating expressions inside strings.\n",
    "\n",
    "- f-strings starts with an f (e.g. `f\"This is an f-string\"`.\n",
    "- Interpolation is made with the `{expr}` notation (e.g. `f\"1+1 = {1+1}\"` results in string `1+1 = 2`). "
   ]
  },
  {
   "cell_type": "code",
   "execution_count": null,
   "metadata": {
    "deletable": true,
    "editable": true
   },
   "outputs": [],
   "source": []
  },
  {
   "cell_type": "markdown",
   "metadata": {
    "deletable": true,
    "editable": true
   },
   "source": [
    "## For loops\n",
    "\n",
    "The strings, lists, tuples, sets, and dictionaries are **iterable** containers. This means that their elements can be iterated using a for-loop. The for-loop will go through the container, one item at a time, and provide a temporary variable for the current item. You can use this temporary variable like a normal variable. The notation for the python for-loop is the following:\n",
    "\n",
    "```\n",
    "for obj in container:\n",
    "    do_something(obj)\n",
    "```"
   ]
  },
  {
   "cell_type": "code",
   "execution_count": null,
   "metadata": {
    "deletable": true,
    "editable": true
   },
   "outputs": [],
   "source": []
  },
  {
   "cell_type": "markdown",
   "metadata": {
    "deletable": true,
    "editable": true
   },
   "source": [
    "## while loops\n",
    "The **while loop** will keep looping until its conditional expression evaluates to `False`. The notation for the python while-loop is the following:\n",
    "```\n",
    "while expr:\n",
    "    do_something()\n",
    "```"
   ]
  },
  {
   "cell_type": "code",
   "execution_count": null,
   "metadata": {
    "deletable": true,
    "editable": true
   },
   "outputs": [],
   "source": []
  },
  {
   "cell_type": "markdown",
   "metadata": {},
   "source": [
    "## If statements \n",
    "\n",
    "The **if statement** allows you to test a condition and perform some actions if the condition evaluates to `True`. You can also provide `elif` and/or `else` clauses to an if statement to take alternative actions if the condition evaluates to `False`. The notation for the if statement is the following:\n",
    "``` \n",
    "if expr:\n",
    "    do_something()\n",
    "```\n",
    "The notation for the if-else statement is the following:\n",
    "```\n",
    "if expr:\n",
    "    do_something()\n",
    "else:\n",
    "    do_something_else()\n",
    "```\n",
    "The notation for the if-elif-else statement is the following:\n",
    "```\n",
    "if expr:\n",
    "    do_something()\n",
    "elif expr:\n",
    "    else_if_do_something()\n",
    "else:\n",
    "    do_something_else()\n",
    "```"
   ]
  },
  {
   "cell_type": "code",
   "execution_count": null,
   "metadata": {
    "deletable": true,
    "editable": true
   },
   "outputs": [],
   "source": []
  },
  {
   "cell_type": "markdown",
   "metadata": {
    "deletable": true,
    "editable": true
   },
   "source": [
    "## List, set, and dict comprehensions\n",
    "\n",
    "List/Set/Dict comprehension are one-liner convenient way to process and generate lists/sets/dictionaries.\n",
    "- for lists the notation is `[expr for elem in container if expr]`\n",
    "- for sets the notation is `{expr for elem in container if expr}`\n",
    "- for dicts the notation is `{expr:expr for elem in container if expr]`"
   ]
  },
  {
   "cell_type": "code",
   "execution_count": null,
   "metadata": {
    "deletable": true,
    "editable": true
   },
   "outputs": [],
   "source": []
  },
  {
   "cell_type": "markdown",
   "metadata": {
    "deletable": true,
    "editable": true
   },
   "source": [
    "## Importing modules\n",
    "Modules can be imported with the notation:\n",
    "- `import modulename` to import a module named`modulename`.\n",
    "- `from modulename import obj` to import only `obj` from module named `modulename`."
   ]
  },
  {
   "cell_type": "code",
   "execution_count": null,
   "metadata": {
    "deletable": true,
    "editable": true
   },
   "outputs": [],
   "source": []
  },
  {
   "cell_type": "markdown",
   "metadata": {
    "deletable": true,
    "editable": true
   },
   "source": [
    "## Classes\n",
    "class attributes, instantiation, methods, fields, magic methods"
   ]
  },
  {
   "cell_type": "code",
   "execution_count": null,
   "metadata": {},
   "outputs": [],
   "source": []
  }
 ],
 "metadata": {
  "kernelspec": {
   "display_name": "Python 3 (ipykernel)",
   "language": "python",
   "name": "python3"
  },
  "language_info": {
   "codemirror_mode": {
    "name": "ipython",
    "version": 3
   },
   "file_extension": ".py",
   "mimetype": "text/x-python",
   "name": "python",
   "nbconvert_exporter": "python",
   "pygments_lexer": "ipython3",
   "version": "3.11.7"
  }
 },
 "nbformat": 4,
 "nbformat_minor": 4
}
