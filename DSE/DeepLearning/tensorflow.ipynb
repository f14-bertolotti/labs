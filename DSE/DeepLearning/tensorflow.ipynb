{
 "cells": [
  {
   "cell_type": "markdown",
   "id": "3ae67d3b-e35e-48b8-8f42-db3db6fe4be7",
   "metadata": {
    "tags": []
   },
   "source": [
    "# 1. Preliminaries.\n",
    "\n",
    "Before talking about deep learning and deep learning framework. Let's establish a bit of notation. From here on, we will talk about optimizing models. Think of a model as a set of functions. For example, a model could be a family of functions described as \n",
    "$$F(x; w) = x + w \\text{ with } x,w \\in \\mathbb{R}$$\n",
    "$$\\text{or equivantly } F(x; w) = \\{f:\\mathbb{R}\\rightarrow\\mathbb{R}\\texttt{ }\\vert\\texttt{ }f(x) = x + w, w \\in \\mathbb{R}\\}$$\n",
    "\n",
    "However, we will use the first notation. Now, let's make a very important distinction. We call the arguments before \";\" **inputs** (such is $x$). Instead, we call the argument after \";\" **parameters** (such is $w$).\n",
    "\n",
    "In python a model could look something like this:"
   ]
  },
  {
   "cell_type": "code",
   "execution_count": 1,
   "id": "192e7c25-9b24-402b-baca-04ea1f0fa3d3",
   "metadata": {},
   "outputs": [
    {
     "name": "stdout",
     "output_type": "stream",
     "text": [
      "F returns functions. For example F(5) = <function F.<locals>.<lambda> at 0x7f4e9cced1b0>\n",
      "if F returns functions we can call F(5). For example, F(5)(5) = 10\n"
     ]
    }
   ],
   "source": [
    "def F(w):\n",
    "    return lambda x: x + w\n",
    "\n",
    "print(f\"F returns functions. For example F(5) = {F(5)}\")\n",
    "print(f\"if F returns functions we can call F(5). For example, F(5)(5) = {F(5)(5)}\")"
   ]
  },
  {
   "cell_type": "markdown",
   "id": "633ff2cc-d1a8-4dbb-a476-394d7da7bdb9",
   "metadata": {
    "tags": []
   },
   "source": [
    "______\n",
    "\n",
    "## 1.1 Training/Optimizing\n",
    "\n",
    "What does it mean to train or optimize a model? It means searching among the family of functions for those who satisfy desired properties. For example, we could want to search for function that are symmetric. Or we could search for functions that interpolate a set of points. Ultimately, this amount to find good parameters. You can search for good parameters any ways you desire. You can even randomly sample parameters until you find good ones.\n",
    "\n",
    "______\n",
    "\n",
    "## 1.2 Optimize a constant function.\n",
    "\n",
    "Let's make a concrete, yet super simple example. This should help you to understand how all blocks fall together. So consider the following model: \n",
    "\n",
    "$$F(;w_1) = w_1^2 + 1$$ \n",
    "\n",
    "Where $w_1 \\in [-10,10]$. $F$ is a model which can be instantiated in infinitely many functions. Each one of these functions has no input and constant real output.  This function is not particularly useful to optimize but it can help you to understand the methodology. \n",
    "\n",
    "Now suppose that we want to find in $F$ the function with lowest output. For example, if we set $w_1 = 5$ we get $g(x) = 5^2+1 = 26$ which is not very good. Instead, if we set $w_1 = 2$ we get $s(x)=2^2+1=5$ which is already better. Let's formalize wath we want:\n",
    "\n",
    "$$\\min_{w \\in [-10,10]}\\{F(;w_1)\\} = \\min_{w \\in [-10, 10]}\\{w_1^2 + 1\\}$$\n",
    "\n",
    "______\n",
    "\n",
    "### 1.1.1 Zeroth Order Optimization (or derivative-free optimization)\n",
    "Zeroth order optimization tries to optimize models without knowledge of gradients. 0th order optimization is useful when you cannot compute gradients of the model (it may require too much time, too much memory, or you do not know the model at all). These methods are often called black-box optimization, as they require only to be able to query the model. One common kind of zeroth order algorithms are evolutionary ones.\n",
    "\n",
    "Let's see a super simple example of Zeroth Order optimization that randomly search for the optimal value."
   ]
  },
  {
   "cell_type": "code",
   "execution_count": 2,
   "id": "c799e7c8-6c90-4ee4-8c25-ef55eb3367d7",
   "metadata": {},
   "outputs": [
    {
     "name": "stdout",
     "output_type": "stream",
     "text": [
      "best parameter found w1=-0.0009051764401668549 which yield f(w1)=1.000000819344388\n"
     ]
    }
   ],
   "source": [
    "import random\n",
    "\n",
    "# let's define our model as before\n",
    "def F(w1):\n",
    "    return lambda: w1**2 + 1\n",
    "    \n",
    "# let's search for good functions by randomly sampling w1.\n",
    "best_score = float(\"+inf\")\n",
    "best_param = None\n",
    "for i in range(10000):\n",
    "    w1 = random.uniform(-10, 10)\n",
    "    if F(w1)() < best_score:\n",
    "        best_score, best_param = F(w1)(), w1\n",
    "        \n",
    "print(f\"best parameter found w1={best_param} which yield f(w1)={F(best_param)()}\")"
   ]
  },
  {
   "cell_type": "markdown",
   "id": "fe0e0e83-ad10-4f4e-8f2b-99d74ff31d5b",
   "metadata": {},
   "source": [
    "Which is pretty close to the optimal value ($1$). Unfortunately, randomly searching works only on super simple cases. If we want to tackle real world problems we need to searching more intelligently. \n",
    "\n",
    "______\n",
    "\n",
    "### 1.1.2 First Order Optimization\n",
    "\n",
    "First-order optimization algorithms require the knowledge of the derivative of $F$. The most used first-order technique is gradient descent. With respect to zeroth-order algorithms, we have more knowledge so usually, we can obtain good results faster. However, computing gradients does require time and memory. Let's compute the derivative of $F$ wrt. $w_1$.\n",
    "\n",
    "$$\\frac{dF(;w_1)}{dw_1} = \\frac{d w_1^2 + 1}{d w_1} = 2w_1$$\n",
    "\n",
    "Now, no matter how we choose $w1$, we can compute the slope of the model. By knowing the slope, we can make small steps towards smaller and smaller functions. Let me visualize a little bit better what I mean."
   ]
  },
  {
   "cell_type": "code",
   "execution_count": 3,
   "id": "1915c9c5-e53f-4628-b950-90b09b3fc95d",
   "metadata": {},
   "outputs": [
    {
     "data": {
      "application/vnd.jupyter.widget-view+json": {
       "model_id": "2e7de05b00bd4c69be93baed232c5856",
       "version_major": 2,
       "version_minor": 0
      },
      "text/plain": [
       "interactive(children=(FloatSlider(value=1.0, description='w1', max=10.0, min=-10.0, step=0.25), Output()), _do…"
      ]
     },
     "metadata": {},
     "output_type": "display_data"
    }
   ],
   "source": [
    "import matplotlib\n",
    "%matplotlib widget\n",
    "%matplotlib inline\n",
    "\n",
    "import ipywidgets as widgets\n",
    "import matplotlib.pyplot as plt\n",
    "import numpy as np\n",
    "\n",
    "\n",
    "@widgets.interact(w1=(-10, 10, 0.25))\n",
    "def update(w1 = 1.0):\n",
    "    w = np.linspace(-10, 10,1000)\n",
    "    y = F(w)() \n",
    "    plt.plot(w, y)\n",
    "    \n",
    "    plt.scatter(w1, F(w1)())\n",
    "    \n",
    "    x = np.linspace(-10,10)\n",
    "    y = 2*x*w1 - F(w1)() + 2\n",
    "    plt.plot(x,y)\n",
    "    \n",
    "    plt.gca().set_xlim((-5,+5))\n",
    "    plt.gca().set_ylim((-2,+10))\n"
   ]
  },
  {
   "cell_type": "markdown",
   "id": "7a4b7917-4d93-4adc-b732-d10df46559e7",
   "metadata": {},
   "source": [
    "The blue line is our model. Remember, each point of our model is actually a function, a constant function. For each of this point we can compute a derivative, the derivative tells us the slope of model. By following the slope we can obtain a function with higher value. By following the negative slope, we can obtain a function with lower value. Step by step, we can obtain incresingly bigger functions of icreasingly smaller functions.   \n",
    "\n",
    "Just for fun, let's write an algorithm that performs the gradient descent of our model."
   ]
  },
  {
   "cell_type": "code",
   "execution_count": 4,
   "id": "1b283019-831d-44f3-a5c9-acf7a645286b",
   "metadata": {},
   "outputs": [
    {
     "name": "stdout",
     "output_type": "stream",
     "text": [
      "best parameter found w1=1.7981372559086767e-08 which yield f(w1)=1.0000000000000002\n"
     ]
    }
   ],
   "source": [
    "import random\n",
    "\n",
    "def F     (w1): return lambda: w1**2 + 1\n",
    "def dF_dw1(w1): return 2*w1\n",
    "\n",
    "param_w1 = random.uniform(-10,10)\n",
    "learning_rate = 0.001\n",
    "\n",
    "for i in range(10000):\n",
    "    param_w1 = param_w1 - learning_rate * dF_dw1(param_w1) # compute a small step in the direction of the slope\n",
    "\n",
    "print(f\"best parameter found w1={param_w1} which yield f(w1)={F(param_w1)()}\")"
   ]
  },
  {
   "cell_type": "markdown",
   "id": "e08f20d9-3560-4e79-ad4d-1f5cfc92ea84",
   "metadata": {},
   "source": [
    "______\n",
    "\n",
    "### 1.1.3 Second Order Optimization\n",
    "\n",
    "We could go a step beyond and use even the second derivative. There are a lot of reasons to use and to not use the second derivative. However, we will not cover these optimization methods.\n",
    "______\n",
    "\n",
    "## 1.2 Optimize a simple function\n",
    "\n",
    "Now that we have seen how to optimize a model that produced constant functions, we can now try to optimize a model that describes more interesting functions. Consider this model:\n",
    "\n",
    "$$ F(x;w_1, w_2) = x*w_1 + w_2 $$\n",
    "\n",
    "Firstly, let's see what kinds of functions does our $F$ describes."
   ]
  },
  {
   "cell_type": "code",
   "execution_count": 5,
   "id": "b646947e-7c4c-40ad-b27d-ae1fef12ccc8",
   "metadata": {},
   "outputs": [
    {
     "data": {
      "application/vnd.jupyter.widget-view+json": {
       "model_id": "d068f0d5b4794ecabcb60863f87781bd",
       "version_major": 2,
       "version_minor": 0
      },
      "text/plain": [
       "interactive(children=(FloatSlider(value=7.5, description='w1', max=10.0, min=-10.0, step=0.25), FloatSlider(va…"
      ]
     },
     "metadata": {},
     "output_type": "display_data"
    }
   ],
   "source": [
    "def F(w1, w2):\n",
    "    return lambda x: x*w1+w2\n",
    "\n",
    "@widgets.interact(w1=(-10, 10, 0.25), w2=(-10, 10, 0.25))\n",
    "def plot(w1=7.5, w2=7.5):\n",
    "    x = np.linspace(-10, 10)\n",
    "    y = F(w1, w2)(x)\n",
    "    plt.plot(x, y)\n",
    "    plt.grid()\n",
    "    plt.gca().set_xlim((-5,+5))\n",
    "    plt.gca().set_ylim((-10,+10))\n"
   ]
  },
  {
   "cell_type": "markdown",
   "id": "45838325-4942-49a7-9340-d0e68914b185",
   "metadata": {},
   "source": [
    "These are all straight lines. No matter which $w_1$ and $w_2$ you will chose. $f$ will always describe a straight line. Let's suppose that we want to find the function with these input-output relation:\n",
    "\n",
    "| x | y |\n",
    "|---|---|\n",
    "| 1 | 2 |\n",
    "| 2 | 3 |\n",
    "| 3 | 4 |\n",
    "| 4 | 5 |\n",
    "\n",
    "A function from our model is good when fed with $x$s it outputs something close to the described $y$s. Let's define a bit more formally what does this means. So, we derive yet another model from F, which we call L.\n",
    "\n",
    "$$ L(x; w_1, w_2) = \\sum_{(x,y) \\in D} (F(x; w1, w2) - y)^2 $$\n",
    "\n",
    "$L$ is close to $0$ when $F(x_i; w1, w2)$ is similar to $y_i$, for all $i$. In fact $L$ is exactly $0$ when $F(x_i; w1, w2) = y_i$, for all $i$. So, optimizing this model yields exactly the property that we desire. Again, we need to compute the gradients.\n",
    "\n",
    "Now we need the derivative wrt. $w_1$: \n",
    "$$\n",
    "\\begin{align}\n",
    "\\frac{\\partial L(x;w_1,w_2)}{\\partial w_1} = & \\frac{\\partial \\sum_{(x,y) \\in D} (F(x; w1, w2) - y)^2}{d w_1}  \\\\\n",
    "= & \\sum_{(x,y) \\in D} \\frac{\\partial(F(x; w1, w2) - y)^2}{\\partial w_1} \\\\\n",
    "= & \\sum_{(x,y) \\in D} \\frac{\\partial(x*w_1+w_2 - y)^2}{\\partial w_1}  \\\\\n",
    "= & \\sum_{(x,y) \\in D} 2(x*w_1+w_2 - y) \\frac{\\partial x*w_1+w_2 - y}{\\partial w_1}  \\\\\n",
    "= & \\sum_{(x,y) \\in D} 2(x*w_1+w_2 - y)x\n",
    "\\end{align}\n",
    "$$\n",
    "\n",
    "And also wrt. $w_2$:\n",
    "\n",
    "$$\n",
    "\\begin{align}\n",
    "\\frac{\\partial L(x;w_1,w_2)}{\\partial w_2} = & \\frac{d \\sum_{(x,y) \\in D} (F(x; w1, w2) - y)^2}{\\partial w_2} \\\\\n",
    "= & \\sum_{(x,y) \\in D} \\frac{\\partial(F(x; w1, w2) - y)^2}{\\partial w_2} \\\\\n",
    "= & \\sum_{(x,y) \\in D} \\frac{\\partial(x*w_1+w_2 - y)^2}{\\partial w_2} \\\\\n",
    "= & \\sum_{(x,y) \\in D} 2(x*w_1+w_2 - y) \\frac{dx*w_1+w_2 - y}{\\partial w_2} \\\\\n",
    "= & \\sum_{(x,y) \\in D} 2(x*w_1+w_2 - y)\n",
    "\\end{align}\n",
    "$$\n",
    "\n",
    "Now, we have again all the pieces to perform our first order optimization, like we did before."
   ]
  },
  {
   "cell_type": "code",
   "execution_count": 6,
   "id": "5c176299-183c-489b-aa03-f3da009ccf6b",
   "metadata": {},
   "outputs": [
    {
     "name": "stdout",
     "output_type": "stream",
     "text": [
      "best parameter found w1=(0.9999999999999668, 1.0000000000000968) which yield f(2;w1,w2)=3.00000000000003\n"
     ]
    }
   ],
   "source": [
    "import numpy as np\n",
    "import random\n",
    "\n",
    "x = np.array([1,2,3,4])\n",
    "y = np.array([2,3,4,5])\n",
    "\n",
    "def F(w1, w2):\n",
    "    return lambda x: x*w1+w2\n",
    "\n",
    "def dF_dw1(w1, w2):\n",
    "    return (2*(x * w1 + w2 - y)*x).sum()\n",
    "\n",
    "def dF_dw2(w1, w2):\n",
    "    return (2*(x * w1 + w2 - y)).sum()\n",
    "\n",
    "param_w1 = random.uniform(-10,10)\n",
    "param_w2 = random.uniform(-10,10)\n",
    "learning_rate = 0.001\n",
    "\n",
    "for i in range(100000):\n",
    "    param_w1, param_w2 = (param_w1 - learning_rate * dF_dw1(param_w1, param_w2), \n",
    "                          param_w2 - learning_rate * dF_dw2(param_w1, param_w2))\n",
    "\n",
    "print(f\"best parameter found w1={param_w1, param_w2} which yield f(2;w1,w2)={F(param_w1, param_w2)(2)}\")"
   ]
  },
  {
   "cell_type": "markdown",
   "id": "d6d5980a-a23e-48e2-96d2-95f5172eac5e",
   "metadata": {},
   "source": [
    "_________________________________________\n",
    "# 2. Automatic Differentiation.\n",
    "\n",
    "As you have noticed, computing the the gradients by hand is a real pain, and it becomes unmanageble real fast. Fortunately, this work can be done automatically. Again there are many ways to perform differentiation. Let's review few of them. First let's define the gradient of a function $f(x_1, x_2, \\dots, x_n)$\n",
    "\n",
    "$$\\nabla f(x_1, x_2, \\dots, x_n) = \n",
    "\\begin{bmatrix}\n",
    "\\frac{\\partial f}{\\partial x_1}(x_1, x_2, \\dots, x_n) \\\\\n",
    "\\frac{\\partial f}{\\partial x_2}(x_1, x_2, \\dots, x_n) \\\\\n",
    "\\dots \\\\\n",
    "\\frac{\\partial f}{\\partial x_n}(x_1, x_2, \\dots, x_n)\n",
    "\\end{bmatrix}$$\n",
    "\n",
    "There are two main way to compute $\\nabla f(x_1, x_2, \\dots, x_n)$.\n",
    "* **Numerical differentiation**. We are only interested in computing the value of the gradient for a particular point in the domain of $f$.\n",
    "* **Symbolic differentiation**. We are interested in the formula representing the gradients for $f$ for each point in the domain of $f$. \n",
    "\n",
    "There are several technique to compute both Numerical differentiation and Symbolic differentiation. Let's review a very simple ones. \n",
    "______\n",
    "\n",
    "# 2.1. Numerical Differentiation.\n",
    "\n",
    "To get an approximation of the derivative of a function $f$ in a point $(x_0, x_1, \\dots, x_n)$, we can use the definition: \n",
    "\n",
    "$$\\nabla f(x_0, x_1, \\dots, x_n) = \n",
    "\\begin{bmatrix}\n",
    "\\frac{\\partial f}{\\partial x_1}(x_1, x_2, \\dots, x_n) \\\\\n",
    "\\frac{\\partial f}{\\partial x_2}(x_1, x_2, \\dots, x_n) \\\\\n",
    "\\dots \\\\\n",
    "\\frac{\\partial f}{\\partial x_n}(x_1, x_2, \\dots, x_n)\n",
    "\\end{bmatrix} = \n",
    "\\begin{bmatrix}\n",
    "\\lim_{\\epsilon \\rightarrow 0} \\frac{f(x_0+\\epsilon,x_1,\\dots,x_n)-f(x_1, x_2, \\dots, x_n)}{\\epsilon} \\\\\n",
    "\\lim_{\\epsilon \\rightarrow 0} \\frac{f(x_0,x_1+\\epsilon,\\dots,x_n)-f(x_1, x_2, \\dots, x_n)}{\\epsilon} \\\\\n",
    "\\dots \\\\\n",
    "\\lim_{\\epsilon \\rightarrow 0} \\frac{f(x_0,x_1,\\dots,x_n+\\epsilon)-f(x_1, x_2, \\dots, x_n)}{\\epsilon}\n",
    "\\end{bmatrix}\n",
    "$$\n",
    "\n",
    "\n"
   ]
  },
  {
   "cell_type": "code",
   "execution_count": 7,
   "id": "2e9c16a8-2627-47b0-ba20-be0d7ab390ae",
   "metadata": {},
   "outputs": [
    {
     "data": {
      "application/vnd.jupyter.widget-view+json": {
       "model_id": "dbba0de702e34fadba87eda97195eae6",
       "version_major": 2,
       "version_minor": 0
      },
      "text/plain": [
       "interactive(children=(FloatSlider(value=1.0, description='x0', max=2.0, min=-2.0, step=0.001), Output()), _dom…"
      ]
     },
     "metadata": {},
     "output_type": "display_data"
    }
   ],
   "source": [
    "def f(x): return x**3\n",
    "def dfdx(f,eps=0.001): return lambda x:(f(x+eps) - f(x))/(eps)\n",
    "\n",
    "@widgets.interact(x0=(-2, 2, 0.001))\n",
    "def plot(x0=1):\n",
    "    x = np.linspace(-10, 10, 1000)\n",
    "    y = f(x)\n",
    "    plt.plot(x, y)\n",
    "    \n",
    "    plt.scatter(x0, f(x0))\n",
    "    \n",
    "    x = np.linspace(-10, 10, 1000)\n",
    "    y = (x-x0)*dfdx(f)(x0) + f(x0)\n",
    "    y1 = 3*x**2\n",
    "    plt.plot(x, y)\n",
    "    \n",
    "    plt.gca().set_xlim((-5,+5))\n",
    "    plt.gca().set_ylim((-10,+10))\n",
    "\n",
    "    "
   ]
  },
  {
   "cell_type": "markdown",
   "id": "118301e0-65cf-46e5-9064-a5d99c8d0eaa",
   "metadata": {},
   "source": [
    "This method is perfectly fine and usable. However, it requires computing $f$ as many times as the number or its arguments. Computing $f$ this way may require too much time.\n",
    "______\n",
    "\n",
    "## 2.2. Symbolic Differentiation\n",
    "\n",
    "Instead of recomputing $f$ with a small changes, we can compute the gradient symbolically ones. We can use the symbolic formula to obtain the numerical gradients in any point of the domain. Moreover, we can also apply optimizations to the symbolic representation of the gradients. But first, we need to talk about how we represent functions. Functions such as \n",
    "$$f(x) = x^2 + 5x + 2$$ \n",
    "which may look complex, are actually a composition of simpler operations. In this case, there are only three operations: exponentiation ($pow(x,y)=x^y$), multiplication ($mul(x,y)=x*y$) and summation ($sum(x,y)=x+y$). Therefore:\n",
    "\n",
    "$$f(x) = x^2 + 5x + 2 = sum(sum(pow(x,2),mul(5,x)),2)$$ \n",
    "\n",
    "Now, it should be more clear that we can represent $f(x)$ as a tree:\n",
    "\n",
    "\n",
    "\n"
   ]
  },
  {
   "cell_type": "markdown",
   "id": "5ae55878-5d75-4e7b-9189-4e1d3332e711",
   "metadata": {
    "tags": []
   },
   "source": [
    "Now, we know how to represent complex composition of functions... as a tree.\n",
    "______\n",
    "\n",
    "### 2.2.1 Chain Rule.\n",
    "\n",
    "Before stepping into the heart of symbolic automatic differentiation, let's see how you can differentiate a composition of functions. Let $f(x) = g(h(x))$ then,  \n",
    "\n",
    "$$\\frac{df(x)}{dx} = \\frac{dg(h(x))}{dx} = \\frac{dg}{dh}\\frac{dh}{dx}$$\n",
    "\n",
    "Or in the multivariate case. Let $f(x) = g(h_1(x),\\dots,h_n(x))$ \n",
    "\n",
    "$$\\frac{df(x)}{dx} = \n",
    "\\frac{g(h_1(x),\\dots,h_n(x))}{dx} = \n",
    "\\frac{\\partial g}{\\partial h_1}\\frac{dh_1}{dx} + \\dots + \\frac{\\partial g}{\\partial h_n}\\frac{dh_n}{dx}$$\n",
    "______\n",
    "\n",
    "#### 2.2.1.1 Example 1.\n",
    "\n",
    "$$\\frac{d sum(f(x),g(x))}{dx} = \n",
    "\\frac{\\partial sum}{\\partial f}\\frac{df}{dx} + \\frac{\\partial sum}{\\partial g}\\frac{dg}{dx} = \n",
    "\\frac{df}{dx} + \\frac{dg}{dx}$$\n",
    "______\n",
    "\n",
    "#### 2.2.1.2 Example 2.\n",
    "\n",
    "$$\\frac{d mul(f(x),g(x))}{dx} = \n",
    "\\frac{\\partial mul}{\\partial f}\\frac{df}{dx} + \\frac{\\partial mul}{\\partial g}\\frac{dg}{dx} = \n",
    "g\\frac{df}{dx} + f\\frac{dg}{dx}$$\n",
    "______\n",
    "\n",
    "#### 2.2.1.3 Example 3.\n",
    "\n",
    "$$\\frac{d pow(f(x),g(x))}{dx} = \n",
    "\\frac{\\partial pow}{\\partial f}\\frac{df}{dx} + \\frac{\\partial pow}{\\partial g}\\frac{dg}{dx} = \n",
    "gf^{g-1}\\frac{df}{dx} + log(f)f^g\\frac{dg}{dx}$$\n",
    "\n",
    "Now, we have the tools to differentiate the function mentioned before (the one in the tree).\n",
    "\n",
    "$$\n",
    "\\begin{aligned}\n",
    "\\frac{d sum(sum(pow(x,2),mul(5,x)),2)}{dx} =& \\frac{d sum(pow(x,2),mul(5,x))}{dx} + \\frac{d2}{dx} \\\\\n",
    "= & \\frac{d pow(x,2)}{dx} + \\frac{d mul(5,x)}{dx} + 0 \\\\\n",
    "= & 2x^{2-1}\\frac{dx}{dx} + log(x)x^2\\frac{d2}{dx} + x\\frac{d5}{dx} + 5\\frac{dx}{dx} \\\\\n",
    "= & 2x + 0 + 0 + 5 \\\\\n",
    "= & 2x + 5\n",
    "\\end{aligned}\n",
    "$$ \n",
    "\n",
    "Ok, that was quite a bit of work. At least, it was fairly mechanical. Note that, we only used the knowledge of the derivative of $sum$, $sum$, and $pow$. Given these three pieces, we can derivate any composition of $sum$, $mul$, and $pow$. You can write a differentiation engine in very few lines of code."
   ]
  },
  {
   "cell_type": "code",
   "execution_count": 8,
   "id": "4e7f0cfb-959c-4a77-9198-25ed2c056e4c",
   "metadata": {},
   "outputs": [],
   "source": [
    "class sum:\n",
    "    def __init__(self, f, g): \n",
    "        self.f, self.g = f, g\n",
    "    def diff(self, var):\n",
    "        return f\"({self.f.diff(var)} + {self.g.diff(var)})\"\n",
    "    def tostr(self):\n",
    "        return f\"({self.f.tostr()} + {self.g.tostr()})\"\n",
    "        \n",
    "class mul:\n",
    "    def __init__(self, f, g):\n",
    "        self.f, self.g = f, g\n",
    "    def diff(self, var):\n",
    "        return f\"({self.f.tostr()} * {self.g.diff(var)} + {self.g.tostr()} * {self.f.diff(var)})\"\n",
    "    def tostr(self):\n",
    "        return f\"({self.f.tostr()} * {self.g.tostr()})\"\n",
    "                   \n",
    "class pow:\n",
    "    def __init__(self, f, g):\n",
    "        self.f, self.g = f, g\n",
    "    def diff(self, var):\n",
    "        return f\"({self.g.tostr()} * {self.f.tostr()} ^ ({self.g.tostr()}-1))({self.f.diff(var)}) + (log({self.f.tostr()}) * {self.f.tostr()} ^ {self.g.tostr()})({self.g.diff(var)})\"\n",
    "    def tostr(self):\n",
    "        return f\"({self.f.tostr()}) ^ ({self.g.tostr()})\"\n",
    "                   \n",
    "class var:\n",
    "    def __init__(self, name):\n",
    "        self.name = name\n",
    "    def diff(self, var):\n",
    "        if self.name == var.name: return \"1\"\n",
    "        return \"0\"\n",
    "    def tostr(self):\n",
    "        return self.name\n",
    "                   \n",
    "class const:\n",
    "    def __init__(self, value):\n",
    "        self.value = value\n",
    "    def diff(self, var):\n",
    "        return \"0\"\n",
    "    def tostr(self):\n",
    "        return self.value\n"
   ]
  },
  {
   "cell_type": "code",
   "execution_count": 9,
   "id": "280a5926-1fce-44d0-9cbb-bcfe10fb35f1",
   "metadata": {},
   "outputs": [
    {
     "name": "stdout",
     "output_type": "stream",
     "text": [
      "     f(x) = (((x) ^ (2) + (5 * x)) + 2)\n",
      "d/dx f(x) = (((2 * x ^ (2-1))(1) + (log(x) * x ^ 2)(0) + (5 * 1 + x * 0)) + 0)\n"
     ]
    }
   ],
   "source": [
    "x    = var(\"x\")\n",
    "two  = const(\"2\")\n",
    "five = const(\"5\")\n",
    "\n",
    "f = sum(sum(pow(x, two), mul(five, x)), const(2))\n",
    "\n",
    "print(\"     f(x) =\", f.tostr())\n",
    "print(\"d/dx f(x) =\", f.diff(x))"
   ]
  },
  {
   "cell_type": "code",
   "execution_count": 10,
   "id": "465b19c2-47bf-4fe0-8c53-11dbfdef2fa6",
   "metadata": {},
   "outputs": [
    {
     "name": "stdout",
     "output_type": "stream",
     "text": [
      "     f(x,y) = (((x) ^ (2) + (5 * y)) + 2)\n",
      "d/dx f(x,y) = (((2 * x ^ (2-1))(1) + (log(x) * x ^ 2)(0) + (5 * 0 + y * 0)) + 0)\n",
      "d/dy f(x,y) = (((2 * x ^ (2-1))(0) + (log(x) * x ^ 2)(0) + (5 * 1 + y * 0)) + 0)\n"
     ]
    }
   ],
   "source": [
    "x    = var(\"x\")\n",
    "y    = var(\"y\")\n",
    "two  = const(\"2\")\n",
    "five = const(\"5\")\n",
    "\n",
    "f = sum(sum(pow(x, two), mul(five, y)), const(2))\n",
    "print(\"     f(x,y) =\", f.tostr())\n",
    "print(\"d/dx f(x,y) =\", f.diff(x))\n",
    "print(\"d/dy f(x,y) =\", f.diff(y))\n"
   ]
  },
  {
   "cell_type": "markdown",
   "id": "7f82433b-585b-4370-af4a-0c90d95337e9",
   "metadata": {},
   "source": [
    "We have seen a method for computing derivatives symbolically and a method for computing derivative numerically. In practice, neither of these methods are used in modern automatic differentiation APIs. Usually, much more efficient algorithms are used to perform automatic differentiation. However, this introduction should give you a brief introduction on the main concepts used in automatic differentiation algorithms.\n",
    "\n",
    "_____________________\n",
    "\n",
    "# 3.Tensorflow\n",
    "\n",
    "[Tensorflow] is one of the most famous automatic differentiation libraries. It provides api to access fast, parallel automatic differentiation libraries. [Tensorflow] does provide much more than automatic differentiation. It provides the whole infrastracture to define and train complex models with million of parameters.  \n",
    "______\n",
    "\n",
    "## 3.1 Tensorflow: Automatic Differentiation\n",
    "Before defining complex neural network, let's see how we can use [Tensorflow] to do what we have already done by hand. \n",
    "\n",
    "\n",
    "[Tensorflow]: https://www.tensorflow.org/\n"
   ]
  },
  {
   "cell_type": "code",
   "execution_count": 11,
   "id": "fd448033-d0ed-47a7-95a1-97f9d437002c",
   "metadata": {},
   "outputs": [
    {
     "name": "stderr",
     "output_type": "stream",
     "text": [
      "2022-03-02 18:31:28.451703: I tensorflow/stream_executor/cuda/cuda_gpu_executor.cc:936] successful NUMA node read from SysFS had negative value (-1), but there must be at least one NUMA node, so returning NUMA node zero\n",
      "2022-03-02 18:31:28.488907: W tensorflow/stream_executor/platform/default/dso_loader.cc:64] Could not load dynamic library 'libcudnn.so.8'; dlerror: libcudnn.so.8: cannot open shared object file: No such file or directory\n",
      "2022-03-02 18:31:28.488926: W tensorflow/core/common_runtime/gpu/gpu_device.cc:1850] Cannot dlopen some GPU libraries. Please make sure the missing libraries mentioned above are installed properly if you would like to use GPU. Follow the guide at https://www.tensorflow.org/install/gpu for how to download and setup the required libraries for your platform.\n",
      "Skipping registering GPU devices...\n",
      "2022-03-02 18:31:28.489797: I tensorflow/core/platform/cpu_feature_guard.cc:151] This TensorFlow binary is optimized with oneAPI Deep Neural Network Library (oneDNN) to use the following CPU instructions in performance-critical operations:  AVX2 FMA\n",
      "To enable them in other operations, rebuild TensorFlow with the appropriate compiler flags.\n"
     ]
    },
    {
     "name": "stdout",
     "output_type": "stream",
     "text": [
      "x**2 + 5*x + 2 is low for x=-0.8116925954818726. (-0.8116925954818726)**2 + 5*(-0.8116925954818726) + 2=-1.399618107849264\n"
     ]
    }
   ],
   "source": [
    "import tensorflow as tf\n",
    "\n",
    "\n",
    "x = tf.Variable(10.0) # A variable is what we called a parameter.\n",
    "\n",
    "for i in range(1000):\n",
    "    \n",
    "    with tf.GradientTape() as tape:\n",
    "        # Here, operations perfomed are registered.\n",
    "        # Later, these operations will be used to compute gradients.\n",
    "        y = x**2 + 5*x + 2\n",
    "\n",
    "    # Now, we can get the derivative of y with respect of x\n",
    "    dy_dx = tape.gradient(y, x)\n",
    "    \n",
    "    # With the derivative, we can, for example, minimize f(x).\n",
    "    x.assign(x - 0.001*dy_dx)\n",
    "\n",
    "print(f\"x**2 + 5*x + 2 is low for x={x.numpy()}. ({x.numpy()})**2 + 5*({x.numpy()}) + 2={x.numpy()**2 + 5*x.numpy() + 2}\")"
   ]
  },
  {
   "cell_type": "markdown",
   "id": "4ba2e1dd-dcea-400b-93e6-e2de0725cd1a",
   "metadata": {},
   "source": [
    "In something like 5 line of code, we obtained the same behavior that we obtained with our custom functions. "
   ]
  },
  {
   "cell_type": "code",
   "execution_count": 12,
   "id": "5f74fb5a-a58d-4dfe-bc36-7acef202f8ee",
   "metadata": {},
   "outputs": [
    {
     "data": {
      "application/vnd.jupyter.widget-view+json": {
       "model_id": "4a63dba9458647ecb7b471a7f008d15f",
       "version_major": 2,
       "version_minor": 0
      },
      "text/plain": [
       "Button(description='step', style=ButtonStyle())"
      ]
     },
     "metadata": {},
     "output_type": "display_data"
    },
    {
     "data": {
      "application/vnd.jupyter.widget-view+json": {
       "model_id": "6c77cf89b70b4c848a427249f51809a5",
       "version_major": 2,
       "version_minor": 0
      },
      "text/plain": [
       "FloatSlider(value=0.0, description='lr', max=1.0, step=0.001)"
      ]
     },
     "metadata": {},
     "output_type": "display_data"
    },
    {
     "data": {
      "application/vnd.jupyter.widget-view+json": {
       "model_id": "d16f977d82624488a99ad0609ffb5abc",
       "version_major": 2,
       "version_minor": 0
      },
      "text/plain": [
       "Output()"
      ]
     },
     "metadata": {},
     "output_type": "display_data"
    }
   ],
   "source": [
    "import matplotlib\n",
    "%matplotlib widget\n",
    "%matplotlib inline\n",
    "\n",
    "from IPython.display import clear_output\n",
    "\n",
    "import ipywidgets        as widgets\n",
    "import matplotlib.pyplot as plt\n",
    "import numpy             as np\n",
    "import tensorflow        as tf\n",
    "\n",
    "slider = widgets.FloatSlider(description=\"lr\", min=0, max=1,step=0.001)\n",
    "button = widgets.Button(description=\"step\") \n",
    "output = widgets.Output()\n",
    "display(button, slider, output)\n",
    "\n",
    "x = tf.Variable(10.0) \n",
    "\n",
    "def on_button_clicked(b):\n",
    "    with output:\n",
    "        with tf.GradientTape() as tape: y = x**2 + 5*x + 2\n",
    "        x.assign(x - slider.value*tape.gradient(y, x))\n",
    "        clear_output(wait=True)\n",
    "        plt.plot(np.linspace(-10,10,100),\n",
    "                 np.linspace(-10,10,100)**2 + 5*np.linspace(-10,10,100) + 2)\n",
    "        plt.scatter([x],[x**2+5*x+2], c=\"red\")\n",
    "        plt.show()\n",
    "\n",
    "button.on_click(on_button_clicked)\n"
   ]
  },
  {
   "cell_type": "markdown",
   "id": "1ed970bb-d9cb-48e8-a6cf-3bdb633e58f6",
   "metadata": {},
   "source": [
    "______\n",
    "\n",
    "## 3.2 Tensorflow: Supervised Learning.\n",
    "\n",
    "In supervised learning, we have set of couples (input, output) and we are interested to get a predictor that can map input and output correctly. For example, You have a bunch of images of dogs and cat, you can train a model to distinguish dogs from cats. There are a lot of components that are important in any supervised learning enviroment. Let's highlight the main ones. \n",
    "\n",
    "\n",
    "1. The **training set**: a set of couples (input, output). We search for functions that are capable of mapping inputs to outputs for the whole training set.  \n",
    "2. The **test set**: To see wheter our predictors generalizes well, we use another set to test our predictors.\n",
    "3. The **predictor class**: The set of possible predictors. We search among the predictor class for good ones.\n",
    "4. The **loss functions**: The loss should be low for good predictor and should be high for bad one. \n",
    "5. The **model**: When we combine loss and predictor class, we obtain a model. We can train a model as we have already see.\n",
    "______\n",
    "\n",
    "### 3.2.1 Get The Data.\n",
    "\n",
    "1. Download the dataset.\n",
    "2. Define loading procedures.\n"
   ]
  },
  {
   "cell_type": "code",
   "execution_count": 13,
   "id": "2325949e-dd3e-41dc-9129-1027a465f44f",
   "metadata": {
    "tags": []
   },
   "outputs": [],
   "source": [
    "import wget, zipfile, os, random\n",
    "\n",
    "if not os.path.isfile(\"data.zip\"): \n",
    "    print(\"downloading...\")\n",
    "    wget.download(\"https://storage.googleapis.com/kaggle-competitions-data/kaggle-v2/3362/31148/bundle/archive.zip?GoogleAccessId=web-data@kaggle-161607.iam.gserviceaccount.com&Expires=1646390400&Signature=mEr6DFSAZ3dCo2el6QcXOhwDIubJ1d%2B%2Fk1tLEHL9hr0LM682fco0IOWdNOfMMQG9no27M%2F%2BD2pU4ZbXh%2BLo1c0Gve%2BsAJgdYHblfmfg41hvyVOMXvrqZ%2BCGDrD3KhRSU%2Bc9xCHAQIfBppYJg0zKitt1zT69ccYkOK17cYs2now6PgJ1o4STlh6B%2BUTAP%2BwmQ4nYzr5hZ3s%2BAE8d%2FxiEVEGP53pkHMYJv60Pl8JSj80p7DCY8EJ7RfLZcbW2G6%2B%2F7TsblvZeDJQmFQEsQlUOLuQUvePPhh%2BysYDBGwyC27gf5fGixl31z92AppMkUH2ooWb9GDrnWt7ey9zeaNQoQxA%3D%3D&response-content-disposition=attachment%3B+filename%3Ddogs-vs-cats.zip\", \"data.zip\")\n",
    "\n",
    "if not (os.path.isdir(\"data\") and os.path.isdir(\"data/train\") and os.path.isdir(\"data/test1\")): \n",
    "    print(\"extracting...\")\n",
    "    with zipfile.ZipFile(\"data.zip\"      , 'r') as file: file.extractall(\"./data/\")\n",
    "    with zipfile.ZipFile(\"data/train.zip\", 'r') as file: file.extractall(\"./data/\")\n",
    "    with zipfile.ZipFile(\"data/test1.zip\", 'r') as file: file.extractall(\"./data/\")\n",
    "\n",
    "paths = list(map(lambda name:os.path.join(\"data/train\",name), os.listdir(\"data/train/\")))\n",
    "random.shuffle(paths)\n",
    "test_paths  = paths[:len(paths)//3]\n",
    "train_paths = paths[len(paths)//3+1:]"
   ]
  },
  {
   "cell_type": "code",
   "execution_count": 14,
   "id": "90e963c0-eed3-4888-a749-6d2a72bc77f5",
   "metadata": {
    "tags": []
   },
   "outputs": [
    {
     "data": {
      "image/png": "[encoded data removed]",
      "text/plain": [
       "<PIL.Image.Image image mode=RGB size=256x256 at 0x7F4E1B9370A0>"
      ]
     },
     "execution_count": 14,
     "metadata": {},
     "output_type": "execute_result"
    }
   ],
   "source": [
    "import random, PIL\n",
    "PIL.Image.open(random.choice(train_paths)).resize((256,256), PIL.Image.NEAREST)"
   ]
  },
  {
   "cell_type": "code",
   "execution_count": 15,
   "id": "cb9dfca7-2523-4cee-86e3-3d74b4765f9f",
   "metadata": {},
   "outputs": [
    {
     "name": "stdout",
     "output_type": "stream",
     "text": [
      "label: 0\n"
     ]
    },
    {
     "data": {
      "image/png": "[encoded data removed]",
      "text/plain": [
       "<Figure size 432x288 with 1 Axes>"
      ]
     },
     "metadata": {
      "needs_background": "light"
     },
     "output_type": "display_data"
    }
   ],
   "source": [
    "import random, PIL\n",
    "import numpy as np\n",
    "import tensorflow as tf\n",
    "import matplotlib.pyplot as plt\n",
    "\n",
    "def to_standard_image(path, size=(64, 64)):\n",
    "    return tf.keras.utils.img_to_array(PIL.Image.open(path).resize(size, PIL.Image.NEAREST)).mean(-1)/255\n",
    "\n",
    "def to_standard_label(path): \n",
    "    return 0 if \"cat\" in path else 1\n",
    "\n",
    "def load_normalized_batch(paths, batch_size = 10, image_size = (64, 64)):\n",
    "    batch = random.choices(paths, k=batch_size)\n",
    "    X = np.stack([to_standard_image(p, size=image_size) for p in batch])\n",
    "    Y = np.array([to_standard_label(p) for p in batch])\n",
    "    return X,Y\n",
    "    \n",
    "X,Y = load_normalized_batch(train_paths)\n",
    "plt.imshow(X[0], cmap='gray')\n",
    "print(f\"label: {Y[0]}\")"
   ]
  },
  {
   "cell_type": "markdown",
   "id": "715268f3-66f7-461d-a7cd-0169a79566f0",
   "metadata": {
    "tags": []
   },
   "source": [
    "______\n",
    "### 3.2.2 Define A Model.\n",
    "\n",
    "In tensorflow you can define a model in many ways. One of the most flexible ways to define a models is extending [tf.keras.Model]. The `__init__` should define which component you are going to use. Instead, the `call` method should define how the pre-defined components interact.   \n",
    "\n",
    "In `tf.keras.layers` you can find a vast amount of layers. Some very common, some very specific. You can build new layer using the predefined ones. Or, you can define new layers entirily using tensorflow Variables. \n",
    "______\n",
    "#### 3.2.2.1 Dense Layer\n",
    "For example one of the most common layers is the `tf.keras.layers.Dense`. It computes:\n",
    "\n",
    "$$g(xW^T + b)$$\n",
    "\n",
    "Where $x$ is the layer input, $x \\in \\mathbb{R}^{n}$. $W$ is a matrix of learnable variables, $W \\in \\mathbb{R}^{m\\times n}$. $b$ is a vector of learnable variables, $b \\in \\mathbb{R}^m$. $g$ is an activation function. Without $g$, the dense layer would be a simple linear layer. Both, $g$ and $m$ are hyper-parameters of choice. Why hyper-parameters? if parameters defines class of functions, hyper-parameters define class of class of functions. Do not think to it too much, it is just a convenient way to say that it is a parameter that you can choose as you like, and it is not trained. Often, you can find a dense layer represented as:\n",
    "\n",
    "\n",
    "<center><img src=\"https://slugnet.jarrodkahn.com/_images/tikz-be0593f4dad31d763e7f8371668007610e7907c1.png\" alt=\"drawing\" width=\"400\"/></center>\n",
    "\n",
    "________\n",
    "\n",
    "### 3.2.2.2 Convolution Layer\n",
    "\n",
    "[Convolution] is another deep learning layer. It was originally inspired by the structure of the human visual cortex. In practice, convolution layers works extremely well with visual tasks. The Covolution layer is already defined in tensorflow and you can adopt it easily. Below there is a simple gif showing a convolution operation. \n",
    "\n",
    "* the **kernel** is the sliding window that you see below. It is composed of trainable parameters. While it slides, it computes the element-wise multiplication between the kernel and the window.\n",
    "* the kernel is said to become **active** when it produces an high value. In practice, this means that it becomes active when it is multiplied against a window similar to the kernel.\n",
    "\n",
    "<center><img src=\"https://theano-pymc.readthedocs.io/en/latest/_images/numerical_no_padding_no_strides.gif\" alt=\"drawing\" width=\"400\"/></center>\n",
    "\n",
    "In modern architectures, convolution layers are stacked on top of each other. Layers closer to the input become become active for simple shapes. The layers on top activates on complex patterns formed by the features below. The figure below shows some activation pattern for low/mid/high-level layers. \n",
    "\n",
    "<center><img src=\"https://d33wubrfki0l68.cloudfront.net/05c47b9b612f8b9f2f57cae4505a4773415f3f22/b9ed6/assets/convnets/cnn20.png\" alt=\"drawing\" width=\"400\"/></center>\n",
    "\n",
    "_________\n",
    "\n",
    "### 3.2.2.3 Max Pooling Layer\n",
    "The [MaxPooling2D] layer is another common layer found in neural network for vision. In practice, works similarly to the convolution layer. Instead of having a kernel of trainable parameters, it takes the maximum of each window.\n",
    "______\n",
    "\n",
    "\n",
    "[MaxPooling2D]:https://keras.io/api/layers/pooling_layers/max_pooling2d/\n",
    "[Dense]:https://www.tensorflow.org/api_docs/python/tf/keras/layers/Dense\n",
    "[Convolution]:https://www.tensorflow.org/api_docs/python/tf/keras/layers/Conv2D"
   ]
  },
  {
   "cell_type": "code",
   "execution_count": 16,
   "id": "4b6c61cd-5542-4668-8ec0-eca5c1430cc2",
   "metadata": {},
   "outputs": [],
   "source": [
    "batch_size = 10\n",
    "image_size = (256,256)\n",
    "\n",
    "class MyModel(tf.keras.Model):\n",
    "    def __init__(self, batch_size, image_size):\n",
    "        super(MyModel, self).__init__()\n",
    "        self.reshape = tf.keras.layers.Reshape((128*128,))\n",
    "        \n",
    "        self.conv1 = tf.keras.layers.Conv2D(32, (3, 3), activation='relu') \n",
    "        self.maxp1 = tf.keras.layers.MaxPooling2D((2, 2))\n",
    "        self.conv2 = tf.keras.layers.Conv2D(64, (3, 3), activation='relu') \n",
    "        self.maxp2 = tf.keras.layers.MaxPooling2D((2, 2))\n",
    "        self.conv3 = tf.keras.layers.Conv2D(64, (3, 3), activation='relu')\n",
    "        self.flat1 = tf.keras.layers.Flatten()\n",
    "        \n",
    "        self.dense1  = tf.keras.layers.Dense(64, activation=\"relu\")\n",
    "        self.dense2  = tf.keras.layers.Dense(1 , activation=\"relu\")\n",
    "\n",
    "    def call(self, x):\n",
    "        x = tf.expand_dims(x, -1)\n",
    "        x = self.maxp1(self.conv1(x))\n",
    "        x = self.maxp2(self.conv2(x))\n",
    "        x = self.flat1(self.conv3(x))\n",
    "        x = self.dense2(self.dense1(x))\n",
    "        return x[:, 0]\n",
    "        \n",
    "lossfn = lambda preds, truths: tf.reduce_sum((preds - truths)**2)"
   ]
  },
  {
   "cell_type": "markdown",
   "id": "170dc7e3-3aaa-4d73-a4e5-99322c06a720",
   "metadata": {},
   "source": [
    "______\n",
    "### 3.2.3. Training Step\n",
    "\n",
    "Now we can define a training step. We need to do the following things:\n",
    "1. Feed data to the model.\n",
    "2. Compute gradients.\n",
    "3. Update model paramaters (aka tensorflow variables).\n",
    "4. Compute additional metrics, such as accuracy."
   ]
  },
  {
   "cell_type": "code",
   "execution_count": 17,
   "id": "fcb55d7f-bcc5-4e45-952a-36415d04d0c3",
   "metadata": {},
   "outputs": [],
   "source": [
    "def train_step(X, Y, model):\n",
    "    \n",
    "    # register operations\n",
    "    with tf.GradientTape() as tape:\n",
    "        X = tf.cast(tf.convert_to_tensor(X), tf.float32)\n",
    "        Y = tf.cast(tf.convert_to_tensor(Y), tf.float32)\n",
    "        P = model(X, training=True)\n",
    "        loss = lossfn(Y, P)\n",
    "        \n",
    "    # compute gradients\n",
    "    gradients = tape.gradient(loss, model.trainable_variables)\n",
    "\n",
    "    # update parameters\n",
    "    for v,g in zip(model.trainable_variables, gradients): v.assign(v - 0.0001*g)\n",
    "        \n",
    "    # compute accuracy\n",
    "    acc = tf.reduce_sum(tf.cast(Y == tf.round(P), tf.int32))/X.shape[0]\n",
    "    \n",
    "    return loss.numpy(), acc.numpy()"
   ]
  },
  {
   "cell_type": "markdown",
   "id": "0ff066ad-ba98-4223-b217-b4198b4e6282",
   "metadata": {
    "jp-MarkdownHeadingCollapsed": true,
    "tags": []
   },
   "source": [
    "_____\n",
    "### 3.2.4. Training the model\n",
    "To train we just need to repeat the train step until we are satisfied."
   ]
  },
  {
   "cell_type": "code",
   "execution_count": 18,
   "id": "f317a159-309b-4d3b-a911-492d9a128c54",
   "metadata": {},
   "outputs": [
    {
     "name": "stdout",
     "output_type": "stream",
     "text": [
      " batch: 99, loss: 2.2379167079925537, acc: 0.7    "
     ]
    }
   ],
   "source": [
    "model = MyModel(batch_size, image_size)\n",
    "for i in range(1000):\n",
    "    X,Y = load_normalized_batch(train_paths, batch_size=batch_size, image_size=image_size)\n",
    "    l,a = train_step(X, Y, model=model)\n",
    "    print(f\"\\r batch: {i}, loss: {l}, acc: {a}\", end=\"    \")"
   ]
  },
  {
   "cell_type": "markdown",
   "id": "f2dac6b2-3b32-435f-a681-b6ae4e929f49",
   "metadata": {},
   "source": [
    "______\n",
    "### 3.2.4. Testing the model\n",
    "\n",
    "To test the model, we collect the metrics on the test set, without performing any training."
   ]
  },
  {
   "cell_type": "code",
   "execution_count": 19,
   "id": "2ac82e5d-cd56-4413-a80d-78b07ae07f51",
   "metadata": {},
   "outputs": [
    {
     "name": "stdout",
     "output_type": "stream",
     "text": [
      " 999/1000, acc: 0.51851751751751756\n",
      "test accuracy: 0.518\n"
     ]
    }
   ],
   "source": [
    "import random\n",
    "\n",
    "tp, fp, fn, tn = 0, 0, 0, 0\n",
    "random.shuffle(test_paths)\n",
    "paths = test_paths[:1000]\n",
    "for i,p in enumerate(paths):\n",
    "    X = to_standard_image(p, size=image_size)\n",
    "    Y = to_standard_label(p)\n",
    "    P = tf.round(model(X.reshape(1,image_size[0],image_size[1]), training=True)).numpy()[0]\n",
    "\n",
    "    if Y == 1 and P == 1: tp += 1\n",
    "    if Y == 0 and P == 1: fp += 1\n",
    "    if Y == 1 and P == 0: fn += 1\n",
    "    if Y == 0 and P == 0: tn += 1\n",
    "    acc = (tp + tn) / (tp + tn + fp + fn)\n",
    "    print(f\"\\r {i}/{len(paths)}, acc: {acc}\",end=\"\")\n",
    "\n",
    "print(f\"\\ntest accuracy: {acc}\")"
   ]
  },
  {
   "cell_type": "markdown",
   "id": "3f01b4f2-912a-41a1-b18c-52ce9cb95c59",
   "metadata": {},
   "source": [
    "We have trained our model for very few training step, still we managed to achieve something around ~60% of accuracy. All considered, which is not particularly good. If you let it run for more time you will obtain better results. However, we can do much better. There are a few things we need to introduce before going any further.\n",
    "\n",
    "_______\n",
    "### 3.2.5. Improving the Model.\n",
    "\n",
    "#### 3.2.5.1 Loss.\n",
    "\n",
    "All loss have the one thing in common, they are big when there are error and they are small when everithing is right. By minimizing a loss, you are forcing your model do behave the way you want. However, it should be noted that different loss may impact the learning process differently. Ultimatly, using the right loss for your task can lead to improvements and faster convergence. Unfotunatly, knowing the right loss to use is not an easy task. Luckily, tensorflo already defines several losses that you can try out easily. \n",
    "\n",
    "______\n",
    "\n",
    "#### 3.2.5.2 Optimizer.\n",
    "\n",
    "Up until now to we update the model parameter by simply computing the partial derivatives of $w$ with respect our model $L$.  \n",
    "$$ w \\leftarrow w - \\frac{\\partial L}{\\partial w} $$\n",
    "\n",
    "This little procedure is called optimizer. It turns out that there are a lot of ways you can define an optimizer. Instead of following blindly the current gradient you can average the current gradient with previous ones. You are still doing gradient descent but with a different optimization procedure. One popular optimizer that is often used is [Adam]. Adam, among many others, is already defined in tensorflow and can be adopted easily.\n",
    "\n",
    "______\n",
    "\n",
    "#### 3.2.5.3 Skip-Connections.\n",
    "\n",
    "You should know that a bigger model means that you can approximate more complex functions. However, in practice, it is not always the case. You will find yourself in many situation in which having more layers does actually hurt the results. Skip-connections are one of those mechanism that can be useful to avoid this issue. given a layer $layer$ woth input $x$ you can define a skip-connection for $x$ as follow:  \n",
    "\n",
    "$$x = x + layer(x)$$\n",
    "\n",
    "______\n",
    "\n",
    "### 3.2.5.4 Pretraining\n",
    "\n",
    "When we say nothing, tensorflow initialize the parameters randomly. This is perfectly fine for most scenarios. However, it is well known that some initializations are better than others. For example, if we were to train our model on task for which we have many many data available, we can hope that it will learn feature general enough that can be useful for our task of interest. \n",
    "\n",
    "* When we train a model on a task with huge dataset available with the intention of reusing its parameter later, we are doing **pretraining**.\n",
    "* When we train an already trained model on another task (or a different dataset), we are doing **fine-tunig**.\n",
    "\n",
    "Luckily, tensorflow has some pretrained models already defined so that we can just fine-tune them. Among these, one famous pretrained model is [ResNet]. ResNet relies heavily on both convolutions and skip-connections.\n",
    "______\n",
    "\n",
    "Finally, we can put everything toghether and train a much better model. \n",
    "\n",
    "[Adam]:https://www.tensorflow.org/api_docs/python/tf/keras/optimizers/Adam\n",
    "[ResNet]:https://www.tensorflow.org/api_docs/python/tf/keras/applications/resnet50/ResNet50"
   ]
  },
  {
   "cell_type": "code",
   "execution_count": 20,
   "id": "3ce86334-57d7-4561-b1a9-bff98a52f9a5",
   "metadata": {},
   "outputs": [
    {
     "name": "stdout",
     "output_type": "stream",
     "text": [
      " train 0/20, loss:0.7095881104469299, acc:0.5\n",
      " train 1/20, loss:0.7494958639144897, acc:0.6\n",
      " train 2/20, loss:0.5074869990348816, acc:0.8\n",
      " train 3/20, loss:0.5289326310157776, acc:0.7\n",
      " train 4/20, loss:0.5476246476173401, acc:0.7\n",
      " train 5/20, loss:0.39856094121932983, acc:0.9\n",
      " train 6/20, loss:0.3666684627532959, acc:1.0\n",
      " train 7/20, loss:0.44464969635009766, acc:0.9\n",
      " train 8/20, loss:0.49842995405197144, acc:0.8\n",
      " train 9/20, loss:0.331683486700058, acc:1.0\n",
      " train 10/20, loss:0.3283822536468506, acc:1.0\n",
      " train 11/20, loss:0.3337506949901581, acc:1.0\n",
      " train 12/20, loss:0.3279488682746887, acc:1.0\n",
      " train 13/20, loss:0.3446766138076782, acc:1.0\n",
      " train 14/20, loss:0.3569696247577667, acc:1.0\n",
      " train 15/20, loss:0.35724398493766785, acc:1.0\n",
      " train 16/20, loss:0.32425346970558167, acc:1.0\n",
      " train 17/20, loss:0.3204311430454254, acc:1.0\n",
      " train 18/20, loss:0.33001023530960083, acc:1.0\n",
      " train 19/20, loss:0.3241623342037201, acc:1.0\n",
      "test 99/100, acc:0.9594949494949495"
     ]
    }
   ],
   "source": [
    "import tensorflow as tf\n",
    "import random\n",
    "\n",
    "class ResNet(tf.keras.Model):\n",
    "    def __init__(self):\n",
    "        super(ResNet, self).__init__()\n",
    "        self.resnet  = tf.keras.applications.resnet50.ResNet50(include_top=False, weights='imagenet', input_shape=(224,224,3))\n",
    "        self.avg     = tf.keras.layers.AveragePooling2D(pool_size=(7, 7))\n",
    "        self.dense   = tf.keras.layers.Dense(2, activation=\"softmax\")\n",
    "        self.squeeze = tf.keras.layers.Reshape((2,))\n",
    "        \n",
    "    def call(self, x):\n",
    "        return self.squeeze(self.dense(self.avg(self.resnet(x))))\n",
    "    \n",
    "resnet  = ResNet()\n",
    "optim   = tf.keras.optimizers.Adam(learning_rate=0.0001)\n",
    "lossfn  = tf.keras.losses.CategoricalCrossentropy(from_logits=True, axis=-1,)\n",
    "\n",
    "### TRAIN LOOP ###\n",
    "for i in range(20):\n",
    "    batch = random.choices(train_paths, k = 10)                                                # load a\n",
    "    batchX = [tf.keras.preprocessing.image.load_img(x, target_size=(224,224)) for x in batch ] # batch\n",
    "    batchY = [[1,0] if \"cat\" in p else [0, 1]                                 for p in batch ] # worth of\n",
    "    batchX = [tf.keras.preprocessing.image.img_to_array(x)                    for x in batchX] # images\n",
    "    batchX = [tf.keras.applications.resnet50.preprocess_input(x)              for x in batchX] # \n",
    "    batchX = tf.stack(batchX)                                                                  #\n",
    "    batchY = tf.convert_to_tensor(batchY)                                                      #\n",
    "\n",
    "    \n",
    "    with tf.GradientTape() as tape:            # register the\n",
    "        batchP = resnet(batchX, training=True) # computational \n",
    "        loss   = lossfn(batchY, batchP)        # graph\n",
    "\n",
    "    # compute gradient and update the parameters\n",
    "    gradients = tape.gradient(loss, resnet.trainable_variables)\n",
    "    optim.apply_gradients(zip(gradients, resnet.trainable_variables))\n",
    "    \n",
    "    # compute accuracy score\n",
    "    acc = tf.reduce_sum(tf.cast(tf.argmax(batchY,-1) == tf.argmax(batchP,-1), tf.int32))/batchX.shape[0]\n",
    "\n",
    "    print(f\" train {i}/{20}, loss:{loss.numpy()}, acc:{acc.numpy()}\")\n",
    "    \n",
    "### TEST LOOP ###\n",
    "tp,fp,fn,tn = 0,0,0,0\n",
    "for i,p in enumerate(test_paths[:100]):\n",
    "    X = tf.keras.preprocessing.image.load_img(p, target_size=(224,224))\n",
    "    X = tf.keras.preprocessing.image.img_to_array(X)\n",
    "    X = tf.keras.applications.resnet50.preprocess_input(X)\n",
    "    X = tf.expand_dims(X,0)\n",
    "    Y = [1,0] if \"cat\" in p else [0,1]\n",
    "    Y = tf.convert_to_tensor(Y)\n",
    "    Y = tf.expand_dims(Y,0)    \n",
    "    \n",
    "    P = resnet(X, training=False)\n",
    "    \n",
    "    Y, P = tf.argmax(Y,-1).numpy(), tf.argmax(P,-1).numpy()\n",
    "\n",
    "    if Y == 1 and P == 1: tp += 1\n",
    "    if Y == 0 and P == 1: fp += 1\n",
    "    if Y == 1 and P == 0: fn += 1\n",
    "    if Y == 0 and P == 0: tn += 1\n",
    "    \n",
    "    print(f\"\\rtest {i}/{100}, acc:{(tp + tn) / (tp + tn + fp + fn)}\", end=\"\")"
   ]
  },
  {
   "cell_type": "code",
   "execution_count": 21,
   "id": "665ede2f-9b8f-4cb7-941c-d98f566a6add",
   "metadata": {},
   "outputs": [
    {
     "name": "stdout",
     "output_type": "stream",
     "text": [
      "logit: [[0.6691641211509705, 0.33083590865135193]]\n",
      "label: cat\n"
     ]
    },
    {
     "data": {
      "image/png": "[encoded data removed]",
      "text/plain": [
       "<PIL.Image.Image image mode=RGB size=224x224 at 0x7F4E1A57D4B0>"
      ]
     },
     "execution_count": 21,
     "metadata": {},
     "output_type": "execute_result"
    }
   ],
   "source": [
    "paths = list(map(lambda name:os.path.join(\"data/test1\",name), os.listdir(\"data/test1/\")))\n",
    "image = tf.keras.preprocessing.image.load_img(\"samples/dog4.jpg\", target_size=(224,224))\n",
    "X = tf.keras.preprocessing.image.img_to_array(image)\n",
    "X = tf.keras.applications.resnet50.preprocess_input(X)\n",
    "X = tf.expand_dims(X,0)\n",
    "\n",
    "P = resnet(X, training=False)\n",
    "label2name = {0:\"cat\", 1:\"dog\"}\n",
    "\n",
    "print(f\"logit: {P.numpy().tolist()}\")\n",
    "print(f\"label: {label2name[tf.argmax(P,-1).numpy()[0]]}\")\n",
    "image"
   ]
  }
 ],
 "metadata": {
  "kernelspec": {
   "display_name": "venv-DL",
   "language": "python",
   "name": "venv-dl"
  },
  "language_info": {
   "codemirror_mode": {
    "name": "ipython",
    "version": 3
   },
   "file_extension": ".py",
   "mimetype": "text/x-python",
   "name": "python",
   "nbconvert_exporter": "python",
   "pygments_lexer": "ipython3",
   "version": "3.10.2"
  }
 },
 "nbformat": 4,
 "nbformat_minor": 5
}
