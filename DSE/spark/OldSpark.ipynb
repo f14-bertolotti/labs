{
 "cells": [
  {
   "cell_type": "markdown",
   "metadata": {
    "application/vnd.databricks.v1+cell": {
     "inputWidgets": {},
     "nuid": "2f62d681-2236-43d0-9e82-d5436387ad78",
     "showTitle": false,
     "title": ""
    }
   },
   "source": [
    "<a rel=\"license\" href=\"http://creativecommons.org/licenses/by-nc-nd/4.0/\"><img alt=\"Creative Commons License\" style=\"border-width:0\" src=\"https://i.creativecommons.org/l/by-nc-nd/4.0/88x31.png\" /></a><br />This work is licensed under a <a rel=\"license\" href=\"http://creativecommons.org/licenses/by-nc-nd/4.0/\">Creative Commons Attribution-NonCommercial-NoDerivatives 4.0 International License</a>."
   ]
  },
  {
   "cell_type": "markdown",
   "metadata": {
    "application/vnd.databricks.v1+cell": {
     "inputWidgets": {},
     "nuid": "6dba3a5a-ef9f-4442-9e5b-772c395ecfa2",
     "showTitle": false,
     "title": ""
    }
   },
   "source": [
    "#![Spark Logo](http://spark-mooc.github.io/web-assets/images/ta_Spark-logo-small.png) + ![Python Logo](http://spark-mooc.github.io/web-assets/images/python-logo-master-v3-TM-flattened_small.png)\n",
    "# **Spark Tutorial: Learning Apache Spark**\n",
    " \n",
    "This tutorial will teach you how to use [Apache Spark](http://spark.apache.org/), a framework for large-scale data processing, within a notebook. Many traditional frameworks were designed to be run on a single computer.  However, many datasets today are too large to be stored on a single computer, and even when a dataset can be stored on one computer (such as the datasets in this tutorial), the dataset can often be processed much more quickly using multiple computers.\n",
    " \n",
    "Spark has efficient implementations of a number of transformations and actions that can be composed together to perform data processing and analysis.  Spark excels at distributing these operations across a cluster while abstracting away many of the underlying implementation details.  Spark has been designed with a focus on scalability and efficiency.  With Spark you can begin developing your solution on your laptop, using a small dataset, and then use that same code to process terabytes or even petabytes across a distributed cluster.\n",
    " \n",
    "**During this tutorial we will cover:**\n",
    "\n",
    "* *Part 1:* An introduction to using [Apache Spark](https://spark.apache.org/) with the Python [pySpark API](https://spark.apache.org/docs/latest/api/python/pyspark.html#pyspark.RDD) running in the browser\n",
    "* *Part 2:* Using RDDs and chaining together transformations and actions\n",
    "* *Part 3:* Lambda functions\n",
    "* *Part 4:* Additional RDD actions\n",
    "* *Part 5:* Additional RDD transformations\n",
    "* *Part 6:* Caching RDDs and storage options\n",
    "* *Part 7:* Debugging Spark applications and lazy evaluation\n",
    " \n",
    "The following transformations will be covered:\n",
    "* `map()`, `mapPartitions()`, `mapPartitionsWithIndex()`, `filter()`, `flatMap()`, `reduceByKey()`, `groupByKey()`\n",
    " \n",
    "The following actions will be covered:\n",
    "* `first()`, `take()`, `takeSample()`, `takeOrdered()`, `collect()`, `count()`, `countByValue()`, `reduce()`, `top()`\n",
    " \n",
    "Also covered:\n",
    "* `cache()`, `unpersist()`, `id()`, `setName()`\n",
    " \n",
    "Note that, for reference, you can look up the details of these methods in [Spark's Python API](https://spark.apache.org/docs/latest/api/python/pyspark.html#pyspark.RDD)"
   ]
  },
  {
   "cell_type": "markdown",
   "metadata": {
    "application/vnd.databricks.v1+cell": {
     "inputWidgets": {},
     "nuid": "3d98ace6-e4e3-4bf4-8322-b5f76626f1a0",
     "showTitle": false,
     "title": ""
    }
   },
   "source": [
    "####  **Part 1: An introduction to using [Apache Spark](https://spark.apache.org/) with the Python [pySpark API](https://spark.apache.org/docs/latest/api/python/pyspark.html#pyspark.RDD) running in the browser**"
   ]
  },
  {
   "cell_type": "markdown",
   "metadata": {
    "application/vnd.databricks.v1+cell": {
     "inputWidgets": {},
     "nuid": "8b4f4c6d-6dc7-4c2e-bda8-6a43c3f9523f",
     "showTitle": false,
     "title": ""
    }
   },
   "source": [
    "**Spark Context**\n",
    " \n",
    "In Spark, communication occurs between a driver (e.g. a Python notebook) and executors (e.g. Java Virtual Machines).  The driver has Spark jobs that it needs to run and these jobs are split into tasks that are submitted to the executors for completion.  The results from these tasks are delivered back to the driver.\n",
    " \n",
    "In order to use Spark and its API we will need to use a `SparkContext`.  When running Spark, you start a new Spark application by creating a [SparkContext](http://spark.apache.org/docs/latest/api/python/pyspark.html#pyspark.SparkContext).  When the `SparkContext` is created, it asks the master for some cores to use to do work.  The master sets these cores aside just for you; they won't be used for other applications. When using Databricks or the virtual machine provisioned for this class, the `SparkContext` is created for you automatically as `sc`."
   ]
  },
  {
   "cell_type": "markdown",
   "metadata": {
    "application/vnd.databricks.v1+cell": {
     "inputWidgets": {},
     "nuid": "80328f64-0cd9-48ff-9af5-98cb7a0bb43a",
     "showTitle": false,
     "title": ""
    }
   },
   "source": [
    "**(2a) Example Cluster**\n",
    "The diagram below shows an example cluster, where the cores allocated for an application are outlined in purple. (Note: *In the case of the Community Edition tier there is no Worker, and the Master, not shown in the figure, executes the entire code.*)\n",
    "\n",
    "![executors](http://spark-mooc.github.io/web-assets/images/executors.png)\n",
    " \n",
    "You can view the details of your Spark application in the Spark web UI.  The web UI is accessible in Databricks by going to \"Clusters\" and then clicking on the \"View Spark UI\" link for your cluster.  When running locally you'll find it at [localhost:4040](http://localhost:4040) (if localhost doesn't work, try [this](http://127.0.0.1:4040/)).  In the web UI, under the \"Jobs\" tab, you can see a list of jobs that have been scheduled or run.  It's likely there isn't any thing interesting here yet because we haven't run any jobs, but we'll return to this page later.\n",
    " \n",
    "At a high level, every Spark application consists of a driver program that launches various parallel operations on executor Java Virtual Machines (JVMs) running either in a cluster or locally on the same machine.The driver program contains the main loop for the program and creates distributed datasets on the cluster, then applies operations (transformations & actions) to those datasets.\n",
    "Driver programs access Spark through a SparkContext object, which represents a connection to a computing cluster. A Spark context object (`sc`) is the main entry point for Spark functionality. A Spark context can be used to create Resilient Distributed Datasets (RDDs) on a cluster.\n",
    " \n",
    "Try printing out `sc` to see its type."
   ]
  },
  {
   "cell_type": "code",
   "execution_count": null,
   "metadata": {
    "application/vnd.databricks.v1+cell": {
     "inputWidgets": {},
     "nuid": "8b4a48f9-c839-4553-bd69-efa32395d940",
     "showTitle": false,
     "title": ""
    }
   },
   "outputs": [
    {
     "data": {
      "text/html": [
       "<style scoped>\n",
       "  .ansiout {\n",
       "    display: block;\n",
       "    unicode-bidi: embed;\n",
       "    white-space: pre-wrap;\n",
       "    word-wrap: break-word;\n",
       "    word-break: break-all;\n",
       "    font-family: \"Source Code Pro\", \"Menlo\", monospace;;\n",
       "    font-size: 13px;\n",
       "    color: #555;\n",
       "    margin-left: 4px;\n",
       "    line-height: 19px;\n",
       "  }\n",
       "</style>\n",
       "<div class=\"ansiout\">Out[1]: PythonShellImpl.RemoteContext</div>"
      ]
     },
     "metadata": {
      "application/vnd.databricks.v1+output": {
       "addedWidgets": {},
       "arguments": {},
       "data": "<div class=\"ansiout\">Out[1]: PythonShellImpl.RemoteContext</div>",
       "datasetInfos": [],
       "removedWidgets": [],
       "type": "html"
      }
     },
     "output_type": "display_data"
    }
   ],
   "source": [
    "# Display the type of the Spark Context sc\n",
    "type(sc)"
   ]
  },
  {
   "cell_type": "markdown",
   "metadata": {
    "application/vnd.databricks.v1+cell": {
     "inputWidgets": {},
     "nuid": "26e7d0bc-98c6-45d1-8762-a908ad38bc63",
     "showTitle": false,
     "title": ""
    }
   },
   "source": [
    "**(2b) `SparkContext` attributes**\n",
    " \n",
    "You can use Python's [dir()](https://docs.python.org/2/library/functions.html?highlight=dir#dir) function to get a list of all the attributes (including methods) accessible through the `sc` object."
   ]
  },
  {
   "cell_type": "code",
   "execution_count": null,
   "metadata": {
    "application/vnd.databricks.v1+cell": {
     "inputWidgets": {},
     "nuid": "9b916d96-82f4-48af-a15f-ea3d5c0f4a4a",
     "showTitle": false,
     "title": ""
    }
   },
   "outputs": [
    {
     "data": {
      "text/html": [
       "<style scoped>\n",
       "  .ansiout {\n",
       "    display: block;\n",
       "    unicode-bidi: embed;\n",
       "    white-space: pre-wrap;\n",
       "    word-wrap: break-word;\n",
       "    word-break: break-all;\n",
       "    font-family: \"Source Code Pro\", \"Menlo\", monospace;;\n",
       "    font-size: 13px;\n",
       "    color: #555;\n",
       "    margin-left: 4px;\n",
       "    line-height: 19px;\n",
       "  }\n",
       "</style>\n",
       "<div class=\"ansiout\">Out[2]: [&#39;PACKAGE_EXTENSIONS&#39;,\n",
       " &#39;__class__&#39;,\n",
       " &#39;__delattr__&#39;,\n",
       " &#39;__dict__&#39;,\n",
       " &#39;__dir__&#39;,\n",
       " &#39;__doc__&#39;,\n",
       " &#39;__enter__&#39;,\n",
       " &#39;__eq__&#39;,\n",
       " &#39;__exit__&#39;,\n",
       " &#39;__format__&#39;,\n",
       " &#39;__ge__&#39;,\n",
       " &#39;__getattribute__&#39;,\n",
       " &#39;__getnewargs__&#39;,\n",
       " &#39;__gt__&#39;,\n",
       " &#39;__hash__&#39;,\n",
       " &#39;__init__&#39;,\n",
       " &#39;__init_subclass__&#39;,\n",
       " &#39;__le__&#39;,\n",
       " &#39;__lt__&#39;,\n",
       " &#39;__module__&#39;,\n",
       " &#39;__ne__&#39;,\n",
       " &#39;__new__&#39;,\n",
       " &#39;__reduce__&#39;,\n",
       " &#39;__reduce_ex__&#39;,\n",
       " &#39;__repr__&#39;,\n",
       " &#39;__setattr__&#39;,\n",
       " &#39;__sizeof__&#39;,\n",
       " &#39;__str__&#39;,\n",
       " &#39;__subclasshook__&#39;,\n",
       " &#39;__weakref__&#39;,\n",
       " &#39;_accumulatorServer&#39;,\n",
       " &#39;_active_spark_context&#39;,\n",
       " &#39;_assert_on_driver&#39;,\n",
       " &#39;_batchSize&#39;,\n",
       " &#39;_callsite&#39;,\n",
       " &#39;_checkpointFile&#39;,\n",
       " &#39;_conf&#39;,\n",
       " &#39;_dictToJavaMap&#39;,\n",
       " &#39;_do_init&#39;,\n",
       " &#39;_encryption_enabled&#39;,\n",
       " &#39;_ensure_initialized&#39;,\n",
       " &#39;_gateway&#39;,\n",
       " &#39;_getJavaStorageLevel&#39;,\n",
       " &#39;_initialize_context&#39;,\n",
       " &#39;_javaAccumulator&#39;,\n",
       " &#39;_jsc&#39;,\n",
       " &#39;_jvm&#39;,\n",
       " &#39;_lock&#39;,\n",
       " &#39;_next_accum_id&#39;,\n",
       " &#39;_pickled_broadcast_vars&#39;,\n",
       " &#39;_python_includes&#39;,\n",
       " &#39;_repr_html_&#39;,\n",
       " &#39;_serialize_to_jvm&#39;,\n",
       " &#39;_temp_dir&#39;,\n",
       " &#39;_unbatched_serializer&#39;,\n",
       " &#39;accumulator&#39;,\n",
       " &#39;addClusterWideLibraryToPath&#39;,\n",
       " &#39;addFile&#39;,\n",
       " &#39;addIsolatedLibraryPath&#39;,\n",
       " &#39;addPyFile&#39;,\n",
       " &#39;appName&#39;,\n",
       " &#39;applicationId&#39;,\n",
       " &#39;binaryFiles&#39;,\n",
       " &#39;binaryRecords&#39;,\n",
       " &#39;broadcast&#39;,\n",
       " &#39;cancelAllJobs&#39;,\n",
       " &#39;cancelJobGroup&#39;,\n",
       " &#39;defaultMinPartitions&#39;,\n",
       " &#39;defaultParallelism&#39;,\n",
       " &#39;dump_profiles&#39;,\n",
       " &#39;emptyRDD&#39;,\n",
       " &#39;environment&#39;,\n",
       " &#39;getConf&#39;,\n",
       " &#39;getLocalProperty&#39;,\n",
       " &#39;getOrCreate&#39;,\n",
       " &#39;hadoopFile&#39;,\n",
       " &#39;hadoopRDD&#39;,\n",
       " &#39;init_batched_serializer&#39;,\n",
       " &#39;master&#39;,\n",
       " &#39;newAPIHadoopFile&#39;,\n",
       " &#39;newAPIHadoopRDD&#39;,\n",
       " &#39;parallelize&#39;,\n",
       " &#39;pickleFile&#39;,\n",
       " &#39;profiler_collector&#39;,\n",
       " &#39;pythonExec&#39;,\n",
       " &#39;pythonVer&#39;,\n",
       " &#39;range&#39;,\n",
       " &#39;resources&#39;,\n",
       " &#39;runJob&#39;,\n",
       " &#39;sequenceFile&#39;,\n",
       " &#39;serializer&#39;,\n",
       " &#39;setCheckpointDir&#39;,\n",
       " &#39;setJobDescription&#39;,\n",
       " &#39;setJobGroup&#39;,\n",
       " &#39;setLocalProperty&#39;,\n",
       " &#39;setLogLevel&#39;,\n",
       " &#39;setSystemProperty&#39;,\n",
       " &#39;show_profiles&#39;,\n",
       " &#39;sparkHome&#39;,\n",
       " &#39;sparkUser&#39;,\n",
       " &#39;startTime&#39;,\n",
       " &#39;statusTracker&#39;,\n",
       " &#39;stop&#39;,\n",
       " &#39;textFile&#39;,\n",
       " &#39;uiWebUrl&#39;,\n",
       " &#39;union&#39;,\n",
       " &#39;version&#39;,\n",
       " &#39;wholeTextFiles&#39;]</div>"
      ]
     },
     "metadata": {
      "application/vnd.databricks.v1+output": {
       "addedWidgets": {},
       "arguments": {},
       "data": "<div class=\"ansiout\">Out[2]: [&#39;PACKAGE_EXTENSIONS&#39;,\n &#39;__class__&#39;,\n &#39;__delattr__&#39;,\n &#39;__dict__&#39;,\n &#39;__dir__&#39;,\n &#39;__doc__&#39;,\n &#39;__enter__&#39;,\n &#39;__eq__&#39;,\n &#39;__exit__&#39;,\n &#39;__format__&#39;,\n &#39;__ge__&#39;,\n &#39;__getattribute__&#39;,\n &#39;__getnewargs__&#39;,\n &#39;__gt__&#39;,\n &#39;__hash__&#39;,\n &#39;__init__&#39;,\n &#39;__init_subclass__&#39;,\n &#39;__le__&#39;,\n &#39;__lt__&#39;,\n &#39;__module__&#39;,\n &#39;__ne__&#39;,\n &#39;__new__&#39;,\n &#39;__reduce__&#39;,\n &#39;__reduce_ex__&#39;,\n &#39;__repr__&#39;,\n &#39;__setattr__&#39;,\n &#39;__sizeof__&#39;,\n &#39;__str__&#39;,\n &#39;__subclasshook__&#39;,\n &#39;__weakref__&#39;,\n &#39;_accumulatorServer&#39;,\n &#39;_active_spark_context&#39;,\n &#39;_assert_on_driver&#39;,\n &#39;_batchSize&#39;,\n &#39;_callsite&#39;,\n &#39;_checkpointFile&#39;,\n &#39;_conf&#39;,\n &#39;_dictToJavaMap&#39;,\n &#39;_do_init&#39;,\n &#39;_encryption_enabled&#39;,\n &#39;_ensure_initialized&#39;,\n &#39;_gateway&#39;,\n &#39;_getJavaStorageLevel&#39;,\n &#39;_initialize_context&#39;,\n &#39;_javaAccumulator&#39;,\n &#39;_jsc&#39;,\n &#39;_jvm&#39;,\n &#39;_lock&#39;,\n &#39;_next_accum_id&#39;,\n &#39;_pickled_broadcast_vars&#39;,\n &#39;_python_includes&#39;,\n &#39;_repr_html_&#39;,\n &#39;_serialize_to_jvm&#39;,\n &#39;_temp_dir&#39;,\n &#39;_unbatched_serializer&#39;,\n &#39;accumulator&#39;,\n &#39;addClusterWideLibraryToPath&#39;,\n &#39;addFile&#39;,\n &#39;addIsolatedLibraryPath&#39;,\n &#39;addPyFile&#39;,\n &#39;appName&#39;,\n &#39;applicationId&#39;,\n &#39;binaryFiles&#39;,\n &#39;binaryRecords&#39;,\n &#39;broadcast&#39;,\n &#39;cancelAllJobs&#39;,\n &#39;cancelJobGroup&#39;,\n &#39;defaultMinPartitions&#39;,\n &#39;defaultParallelism&#39;,\n &#39;dump_profiles&#39;,\n &#39;emptyRDD&#39;,\n &#39;environment&#39;,\n &#39;getConf&#39;,\n &#39;getLocalProperty&#39;,\n &#39;getOrCreate&#39;,\n &#39;hadoopFile&#39;,\n &#39;hadoopRDD&#39;,\n &#39;init_batched_serializer&#39;,\n &#39;master&#39;,\n &#39;newAPIHadoopFile&#39;,\n &#39;newAPIHadoopRDD&#39;,\n &#39;parallelize&#39;,\n &#39;pickleFile&#39;,\n &#39;profiler_collector&#39;,\n &#39;pythonExec&#39;,\n &#39;pythonVer&#39;,\n &#39;range&#39;,\n &#39;resources&#39;,\n &#39;runJob&#39;,\n &#39;sequenceFile&#39;,\n &#39;serializer&#39;,\n &#39;setCheckpointDir&#39;,\n &#39;setJobDescription&#39;,\n &#39;setJobGroup&#39;,\n &#39;setLocalProperty&#39;,\n &#39;setLogLevel&#39;,\n &#39;setSystemProperty&#39;,\n &#39;show_profiles&#39;,\n &#39;sparkHome&#39;,\n &#39;sparkUser&#39;,\n &#39;startTime&#39;,\n &#39;statusTracker&#39;,\n &#39;stop&#39;,\n &#39;textFile&#39;,\n &#39;uiWebUrl&#39;,\n &#39;union&#39;,\n &#39;version&#39;,\n &#39;wholeTextFiles&#39;]</div>",
       "datasetInfos": [],
       "removedWidgets": [],
       "type": "html"
      }
     },
     "output_type": "display_data"
    }
   ],
   "source": [
    "# List sc's attributes\n",
    "dir(sc)"
   ]
  },
  {
   "cell_type": "markdown",
   "metadata": {
    "application/vnd.databricks.v1+cell": {
     "inputWidgets": {},
     "nuid": "37d7bd22-bbb8-475b-a08e-d5725ab8b56a",
     "showTitle": false,
     "title": ""
    }
   },
   "source": [
    "**(2c) Getting help**\n",
    " \n",
    "Alternatively, you can use Python's [help()](https://docs.python.org/2/library/functions.html?highlight=help#help) function to get an easier to read list of all the attributes, including examples, that the `sc` object has."
   ]
  },
  {
   "cell_type": "code",
   "execution_count": null,
   "metadata": {
    "application/vnd.databricks.v1+cell": {
     "inputWidgets": {},
     "nuid": "ce187211-f778-4969-b457-40e189c01816",
     "showTitle": false,
     "title": ""
    }
   },
   "outputs": [
    {
     "data": {
      "text/html": [
       "<style scoped>\n",
       "  .ansiout {\n",
       "    display: block;\n",
       "    unicode-bidi: embed;\n",
       "    white-space: pre-wrap;\n",
       "    word-wrap: break-word;\n",
       "    word-break: break-all;\n",
       "    font-family: \"Source Code Pro\", \"Menlo\", monospace;;\n",
       "    font-size: 13px;\n",
       "    color: #555;\n",
       "    margin-left: 4px;\n",
       "    line-height: 19px;\n",
       "  }\n",
       "</style>\n",
       "<div class=\"ansiout\">Help on RemoteContext in module PythonShellImpl object:\n",
       "\n",
       "class RemoteContext(pyspark.context.SparkContext)\n",
       "  RemoteContext(master=None, appName=None, sparkHome=None, pyFiles=None, environment=None, batchSize=0, serializer=PickleSerializer(), conf=None, gateway=None, jsc=None, profiler_cls=&lt;class &#39;pyspark.profiler.BasicProfiler&#39;&gt;)\n",
       "  \n",
       "  Main entry point for Spark functionality. A SparkContext represents the\n",
       "  connection to a Spark cluster, and can be used to create :class:`RDD` and\n",
       "  broadcast variables on that cluster.\n",
       "  \n",
       "  .. note:: Only one :class:`SparkContext` should be active per JVM. You must `stop()`\n",
       "      the active :class:`SparkContext` before creating a new one.\n",
       "  \n",
       "  .. note:: :class:`SparkContext` instance is not supported to share across multiple\n",
       "      processes out of the box, and PySpark does not guarantee multi-processing execution.\n",
       "      Use threads instead for concurrent processing purpose.\n",
       "  \n",
       "  Method resolution order:\n",
       "      RemoteContext\n",
       "      pyspark.context.SparkContext\n",
       "      builtins.object\n",
       "  \n",
       "  Methods inherited from pyspark.context.SparkContext:\n",
       "  \n",
       "  __enter__(self)\n",
       "      Enable &#39;with SparkContext(...) as sc: app(sc)&#39; syntax.\n",
       "  \n",
       "  __exit__(self, type, value, trace)\n",
       "      Enable &#39;with SparkContext(...) as sc: app&#39; syntax.\n",
       "      \n",
       "      Specifically stop the context on exit of the with block.\n",
       "  \n",
       "  __getnewargs__(self)\n",
       "  \n",
       "  __init__(self, master=None, appName=None, sparkHome=None, pyFiles=None, environment=None, batchSize=0, serializer=PickleSerializer(), conf=None, gateway=None, jsc=None, profiler_cls=&lt;class &#39;pyspark.profiler.BasicProfiler&#39;&gt;)\n",
       "      Create a new SparkContext. At least the master and app name should be set,\n",
       "      either through the named parameters here or through `conf`.\n",
       "      \n",
       "      :param master: Cluster URL to connect to\n",
       "             (e.g. mesos://host:port, spark://host:port, local[4]).\n",
       "      :param appName: A name for your job, to display on the cluster web UI.\n",
       "      :param sparkHome: Location where Spark is installed on cluster nodes.\n",
       "      :param pyFiles: Collection of .zip or .py files to send to the cluster\n",
       "             and add to PYTHONPATH.  These can be paths on the local file\n",
       "             system or HDFS, HTTP, HTTPS, or FTP URLs.\n",
       "      :param environment: A dictionary of environment variables to set on\n",
       "             worker nodes.\n",
       "      :param batchSize: The number of Python objects represented as a single\n",
       "             Java object. Set 1 to disable batching, 0 to automatically choose\n",
       "             the batch size based on object sizes, or -1 to use an unlimited\n",
       "             batch size\n",
       "      :param serializer: The serializer for RDDs.\n",
       "      :param conf: A :class:`SparkConf` object setting Spark properties.\n",
       "      :param gateway: Use an existing gateway and JVM, otherwise a new JVM\n",
       "             will be instantiated.\n",
       "      :param jsc: The JavaSparkContext instance (optional).\n",
       "      :param profiler_cls: A class of custom Profiler used to do profiling\n",
       "             (default is pyspark.profiler.BasicProfiler).\n",
       "      \n",
       "      \n",
       "      &gt;&gt;&gt; from pyspark.context import SparkContext\n",
       "      &gt;&gt;&gt; sc = SparkContext(&#39;local&#39;, &#39;test&#39;)\n",
       "      \n",
       "      &gt;&gt;&gt; sc2 = SparkContext(&#39;local&#39;, &#39;test2&#39;) # doctest: +IGNORE_EXCEPTION_DETAIL\n",
       "      Traceback (most recent call last):\n",
       "          ...\n",
       "      ValueError:...\n",
       "  \n",
       "  __repr__(self)\n",
       "      Return repr(self).\n",
       "  \n",
       "  accumulator(self, value, accum_param=None)\n",
       "      Create an :class:`Accumulator` with the given initial value, using a given\n",
       "      :class:`AccumulatorParam` helper object to define how to add values of the\n",
       "      data type if provided. Default AccumulatorParams are used for integers\n",
       "      and floating-point numbers if you do not provide one. For other types,\n",
       "      a custom AccumulatorParam can be used.\n",
       "  \n",
       "  addClusterWideLibraryToPath(self, libname)\n",
       "      # add cluster wide library to the system path. This is called by libraries installed\n",
       "      # through addPyFile, library installation UI or command line (databricks libraries install)\n",
       "  \n",
       "  addFile(self, path, recursive=False)\n",
       "      Add a file to be downloaded with this Spark job on every node.\n",
       "      The `path` passed can be either a local file, a file in HDFS\n",
       "      (or other Hadoop-supported filesystems), or an HTTP, HTTPS or\n",
       "      FTP URI.\n",
       "      \n",
       "      To access the file in Spark jobs, use :meth:`SparkFiles.get` with the\n",
       "      filename to find its download location.\n",
       "      \n",
       "      A directory can be given if the recursive option is set to True.\n",
       "      Currently directories are only supported for Hadoop-supported filesystems.\n",
       "      \n",
       "      .. note:: A path can be added only once. Subsequent additions of the same path are ignored.\n",
       "      \n",
       "      &gt;&gt;&gt; from pyspark import SparkFiles\n",
       "      &gt;&gt;&gt; path = os.path.join(tempdir, &#34;test.txt&#34;)\n",
       "      &gt;&gt;&gt; with open(path, &#34;w&#34;) as testFile:\n",
       "      ...    _ = testFile.write(&#34;100&#34;)\n",
       "      &gt;&gt;&gt; sc.addFile(path)\n",
       "      &gt;&gt;&gt; def func(iterator):\n",
       "      ...    with open(SparkFiles.get(&#34;test.txt&#34;)) as testFile:\n",
       "      ...        fileVal = int(testFile.readline())\n",
       "      ...        return [x * fileVal for x in iterator]\n",
       "      &gt;&gt;&gt; sc.parallelize([1, 2, 3, 4]).mapPartitions(func).collect()\n",
       "      [100, 200, 300, 400]\n",
       "  \n",
       "  addIsolatedLibraryPath(self, libname)\n",
       "      For a .egg, .zip, or .jar library, add the path to sys.path, and add it to\n",
       "      _python_includes for passing it to executor.\n",
       "  \n",
       "  addPyFile(self, path)\n",
       "      Add a .py or .zip dependency for all tasks to be executed on this\n",
       "      SparkContext in the future.  The `path` passed can be either a local\n",
       "      file, a file in HDFS (or other Hadoop-supported filesystems), or an\n",
       "      HTTP, HTTPS or FTP URI.\n",
       "      \n",
       "      .. note:: A path can be added only once. Subsequent additions of the same path are ignored.\n",
       "  \n",
       "  binaryFiles(self, path, minPartitions=None)\n",
       "      Read a directory of binary files from HDFS, a local file system\n",
       "      (available on all nodes), or any Hadoop-supported file system URI\n",
       "      as a byte array. Each file is read as a single record and returned\n",
       "      in a key-value pair, where the key is the path of each file, the\n",
       "      value is the content of each file.\n",
       "      \n",
       "      .. note:: Small files are preferred, large file is also allowable, but\n",
       "          may cause bad performance.\n",
       "  \n",
       "  binaryRecords(self, path, recordLength)\n",
       "      Load data from a flat binary file, assuming each record is a set of numbers\n",
       "      with the specified numerical format (see ByteBuffer), and the number of\n",
       "      bytes per record is constant.\n",
       "      \n",
       "      :param path: Directory to the input data files\n",
       "      :param recordLength: The length at which to split the records\n",
       "  \n",
       "  broadcast(self, value)\n",
       "      Broadcast a read-only variable to the cluster, returning a :class:`Broadcast`\n",
       "      object for reading it in distributed functions. The variable will\n",
       "      be sent to each cluster only once.\n",
       "  \n",
       "  cancelAllJobs(self)\n",
       "      Cancel all jobs that have been scheduled or are running.\n",
       "  \n",
       "  cancelJobGroup(self, groupId)\n",
       "      Cancel active jobs for the specified group. See :meth:`SparkContext.setJobGroup`.\n",
       "      for more information.\n",
       "  \n",
       "  dump_profiles(self, path)\n",
       "      Dump the profile stats into directory `path`\n",
       "  \n",
       "  emptyRDD(self)\n",
       "      Create an RDD that has no partitions or elements.\n",
       "  \n",
       "  getConf(self)\n",
       "  \n",
       "  getLocalProperty(self, key)\n",
       "      Get a local property set in this thread, or null if it is missing. See\n",
       "      :meth:`setLocalProperty`.\n",
       "  \n",
       "  hadoopFile(self, path, inputFormatClass, keyClass, valueClass, keyConverter=None, valueConverter=None, conf=None, batchSize=0)\n",
       "      Read an &#39;old&#39; Hadoop InputFormat with arbitrary key and value class from HDFS,\n",
       "      a local file system (available on all nodes), or any Hadoop-supported file system URI.\n",
       "      The mechanism is the same as for sc.sequenceFile.\n",
       "      \n",
       "      A Hadoop configuration can be passed in as a Python dict. This will be converted into a\n",
       "      Configuration in Java.\n",
       "      \n",
       "      :param path: path to Hadoop file\n",
       "      :param inputFormatClass: fully qualified classname of Hadoop InputFormat\n",
       "             (e.g. &#34;org.apache.hadoop.mapred.TextInputFormat&#34;)\n",
       "      :param keyClass: fully qualified classname of key Writable class\n",
       "             (e.g. &#34;org.apache.hadoop.io.Text&#34;)\n",
       "      :param valueClass: fully qualified classname of value Writable class\n",
       "             (e.g. &#34;org.apache.hadoop.io.LongWritable&#34;)\n",
       "      :param keyConverter: (None by default)\n",
       "      :param valueConverter: (None by default)\n",
       "      :param conf: Hadoop configuration, passed in as a dict\n",
       "             (None by default)\n",
       "      :param batchSize: The number of Python objects represented as a single\n",
       "             Java object. (default 0, choose batchSize automatically)\n",
       "  \n",
       "  hadoopRDD(self, inputFormatClass, keyClass, valueClass, keyConverter=None, valueConverter=None, conf=None, batchSize=0)\n",
       "      Read an &#39;old&#39; Hadoop InputFormat with arbitrary key and value class, from an arbitrary\n",
       "      Hadoop configuration, which is passed in as a Python dict.\n",
       "      This will be converted into a Configuration in Java.\n",
       "      The mechanism is the same as for sc.sequenceFile.\n",
       "      \n",
       "      :param inputFormatClass: fully qualified classname of Hadoop InputFormat\n",
       "             (e.g. &#34;org.apache.hadoop.mapred.TextInputFormat&#34;)\n",
       "      :param keyClass: fully qualified classname of key Writable class\n",
       "             (e.g. &#34;org.apache.hadoop.io.Text&#34;)\n",
       "      :param valueClass: fully qualified classname of value Writable class\n",
       "             (e.g. &#34;org.apache.hadoop.io.LongWritable&#34;)\n",
       "      :param keyConverter: (None by default)\n",
       "      :param valueConverter: (None by default)\n",
       "      :param conf: Hadoop configuration, passed in as a dict\n",
       "             (None by default)\n",
       "      :param batchSize: The number of Python objects represented as a single\n",
       "             Java object. (default 0, choose batchSize automatically)\n",
       "  \n",
       "  init_batched_serializer(self, data, numSlices=None)\n",
       "      Init the batched serializer with the data to parallelize into an RDD and numSlices for the\n",
       "      batch size.\n",
       "  \n",
       "  newAPIHadoopFile(self, path, inputFormatClass, keyClass, valueClass, keyConverter=None, valueConverter=None, conf=None, batchSize=0)\n",
       "      Read a &#39;new API&#39; Hadoop InputFormat with arbitrary key and value class from HDFS,\n",
       "      a local file system (available on all nodes), or any Hadoop-supported file system URI.\n",
       "      The mechanism is the same as for sc.sequenceFile.\n",
       "      \n",
       "      A Hadoop configuration can be passed in as a Python dict. This will be converted into a\n",
       "      Configuration in Java\n",
       "      \n",
       "      :param path: path to Hadoop file\n",
       "      :param inputFormatClass: fully qualified classname of Hadoop InputFormat\n",
       "             (e.g. &#34;org.apache.hadoop.mapreduce.lib.input.TextInputFormat&#34;)\n",
       "      :param keyClass: fully qualified classname of key Writable class\n",
       "             (e.g. &#34;org.apache.hadoop.io.Text&#34;)\n",
       "      :param valueClass: fully qualified classname of value Writable class\n",
       "             (e.g. &#34;org.apache.hadoop.io.LongWritable&#34;)\n",
       "      :param keyConverter: (None by default)\n",
       "      :param valueConverter: (None by default)\n",
       "      :param conf: Hadoop configuration, passed in as a dict\n",
       "             (None by default)\n",
       "      :param batchSize: The number of Python objects represented as a single\n",
       "             Java object. (default 0, choose batchSize automatically)\n",
       "  \n",
       "  newAPIHadoopRDD(self, inputFormatClass, keyClass, valueClass, keyConverter=None, valueConverter=None, conf=None, batchSize=0)\n",
       "      Read a &#39;new API&#39; Hadoop InputFormat with arbitrary key and value class, from an arbitrary\n",
       "      Hadoop configuration, which is passed in as a Python dict.\n",
       "      This will be converted into a Configuration in Java.\n",
       "      The mechanism is the same as for sc.sequenceFile.\n",
       "      \n",
       "      :param inputFormatClass: fully qualified classname of Hadoop InputFormat\n",
       "             (e.g. &#34;org.apache.hadoop.mapreduce.lib.input.TextInputFormat&#34;)\n",
       "      :param keyClass: fully qualified classname of key Writable class\n",
       "             (e.g. &#34;org.apache.hadoop.io.Text&#34;)\n",
       "      :param valueClass: fully qualified classname of value Writable class\n",
       "             (e.g. &#34;org.apache.hadoop.io.LongWritable&#34;)\n",
       "      :param keyConverter: (None by default)\n",
       "      :param valueConverter: (None by default)\n",
       "      :param conf: Hadoop configuration, passed in as a dict\n",
       "             (None by default)\n",
       "      :param batchSize: The number of Python objects represented as a single\n",
       "             Java object. (default 0, choose batchSize automatically)\n",
       "  \n",
       "  parallelize(self, c, numSlices=None)\n",
       "      Distribute a local Python collection to form an RDD. Using xrange\n",
       "      is recommended if the input represents a range for performance.\n",
       "      \n",
       "      &gt;&gt;&gt; sc.parallelize([0, 2, 3, 4, 6], 5).glom().collect()\n",
       "      [[0], [2], [3], [4], [6]]\n",
       "      &gt;&gt;&gt; sc.parallelize(xrange(0, 6, 2), 5).glom().collect()\n",
       "      [[], [0], [], [2], [4]]\n",
       "  \n",
       "  pickleFile(self, name, minPartitions=None)\n",
       "      Load an RDD previously saved using :meth:`RDD.saveAsPickleFile` method.\n",
       "      \n",
       "      &gt;&gt;&gt; tmpFile = NamedTemporaryFile(delete=True)\n",
       "      &gt;&gt;&gt; tmpFile.close()\n",
       "      &gt;&gt;&gt; sc.parallelize(range(10)).saveAsPickleFile(tmpFile.name, 5)\n",
       "      &gt;&gt;&gt; sorted(sc.pickleFile(tmpFile.name, 3).collect())\n",
       "      [0, 1, 2, 3, 4, 5, 6, 7, 8, 9]\n",
       "  \n",
       "  range(self, start, end=None, step=1, numSlices=None)\n",
       "      Create a new RDD of int containing elements from `start` to `end`\n",
       "      (exclusive), increased by `step` every element. Can be called the same\n",
       "      way as python&#39;s built-in range() function. If called with a single argument,\n",
       "      the argument is interpreted as `end`, and `start` is set to 0.\n",
       "      \n",
       "      :param start: the start value\n",
       "      :param end: the end value (exclusive)\n",
       "      :param step: the incremental step (default: 1)\n",
       "      :param numSlices: the number of partitions of the new RDD\n",
       "      :return: An RDD of int\n",
       "      \n",
       "      &gt;&gt;&gt; sc.range(5).collect()\n",
       "      [0, 1, 2, 3, 4]\n",
       "      &gt;&gt;&gt; sc.range(2, 4).collect()\n",
       "      [2, 3]\n",
       "      &gt;&gt;&gt; sc.range(1, 7, 2).collect()\n",
       "      [1, 3, 5]\n",
       "  \n",
       "  runJob(self, rdd, partitionFunc, partitions=None, allowLocal=False)\n",
       "      Executes the given partitionFunc on the specified set of partitions,\n",
       "      returning the result as an array of elements.\n",
       "      \n",
       "      If &#39;partitions&#39; is not specified, this will run over all partitions.\n",
       "      \n",
       "      &gt;&gt;&gt; myRDD = sc.parallelize(range(6), 3)\n",
       "      &gt;&gt;&gt; sc.runJob(myRDD, lambda part: [x * x for x in part])\n",
       "      [0, 1, 4, 9, 16, 25]\n",
       "      \n",
       "      &gt;&gt;&gt; myRDD = sc.parallelize(range(6), 3)\n",
       "      &gt;&gt;&gt; sc.runJob(myRDD, lambda part: [x * x for x in part], [0, 2], True)\n",
       "      [0, 1, 16, 25]\n",
       "  \n",
       "  sequenceFile(self, path, keyClass=None, valueClass=None, keyConverter=None, valueConverter=None, minSplits=None, batchSize=0)\n",
       "      Read a Hadoop SequenceFile with arbitrary key and value Writable class from HDFS,\n",
       "      a local file system (available on all nodes), or any Hadoop-supported file system URI.\n",
       "      The mechanism is as follows:\n",
       "      \n",
       "          1. A Java RDD is created from the SequenceFile or other InputFormat, and the key\n",
       "             and value Writable classes\n",
       "          2. Serialization is attempted via Pyrolite pickling\n",
       "          3. If this fails, the fallback is to call &#39;toString&#39; on each key and value\n",
       "          4. :class:`PickleSerializer` is used to deserialize pickled objects on the Python side\n",
       "      \n",
       "      :param path: path to sequncefile\n",
       "      :param keyClass: fully qualified classname of key Writable class\n",
       "             (e.g. &#34;org.apache.hadoop.io.Text&#34;)\n",
       "      :param valueClass: fully qualified classname of value Writable class\n",
       "             (e.g. &#34;org.apache.hadoop.io.LongWritable&#34;)\n",
       "      :param keyConverter:\n",
       "      :param valueConverter:\n",
       "      :param minSplits: minimum splits in dataset\n",
       "             (default min(2, sc.defaultParallelism))\n",
       "      :param batchSize: The number of Python objects represented as a single\n",
       "             Java object. (default 0, choose batchSize automatically)\n",
       "  \n",
       "  setCheckpointDir(self, dirName)\n",
       "      Set the directory under which RDDs are going to be checkpointed. The\n",
       "      directory must be an HDFS path if running on a cluster.\n",
       "  \n",
       "  setJobDescription(self, value)\n",
       "      Set a human readable description of the current job.\n",
       "      \n",
       "      .. note:: Currently, setting a job description (set to local properties) with multiple\n",
       "          threads does not properly work. Internally threads on PVM and JVM are not synced,\n",
       "          and JVM thread can be reused for multiple threads on PVM, which fails to isolate\n",
       "          local properties for each thread on PVM. To work around this, You can use\n",
       "          :meth:`RDD.collectWithJobGroup` for now.\n",
       "  \n",
       "  setJobGroup(self, groupId, description, interruptOnCancel=False)\n",
       "      Assigns a group ID to all the jobs started by this thread until the group ID is set to a\n",
       "      different value or cleared.\n",
       "      \n",
       "      Often, a unit of execution in an application consists of multiple Spark actions or jobs.\n",
       "      Application programmers can use this method to group all those jobs together and give a\n",
       "      group description. Once set, the Spark web UI will associate such jobs with this group.\n",
       "      \n",
       "      The application can use :meth:`SparkContext.cancelJobGroup` to cancel all\n",
       "      running jobs in this group.\n",
       "      \n",
       "      &gt;&gt;&gt; import threading\n",
       "      &gt;&gt;&gt; from time import sleep\n",
       "      &gt;&gt;&gt; result = &#34;Not Set&#34;\n",
       "      &gt;&gt;&gt; lock = threading.Lock()\n",
       "      &gt;&gt;&gt; def map_func(x):\n",
       "      ...     sleep(100)\n",
       "      ...     raise Exception(&#34;Task should have been cancelled&#34;)\n",
       "      &gt;&gt;&gt; def start_job(x):\n",
       "      ...     global result\n",
       "      ...     try:\n",
       "      ...         sc.setJobGroup(&#34;job_to_cancel&#34;, &#34;some description&#34;)\n",
       "      ...         result = sc.parallelize(range(x)).map(map_func).collect()\n",
       "      ...     except Exception as e:\n",
       "      ...         result = &#34;Cancelled&#34;\n",
       "      ...     lock.release()\n",
       "      &gt;&gt;&gt; def stop_job():\n",
       "      ...     sleep(5)\n",
       "      ...     sc.cancelJobGroup(&#34;job_to_cancel&#34;)\n",
       "      &gt;&gt;&gt; suppress = lock.acquire()\n",
       "      &gt;&gt;&gt; suppress = threading.Thread(target=start_job, args=(10,)).start()\n",
       "      &gt;&gt;&gt; suppress = threading.Thread(target=stop_job).start()\n",
       "      &gt;&gt;&gt; suppress = lock.acquire()\n",
       "      &gt;&gt;&gt; print(result)\n",
       "      Cancelled\n",
       "      \n",
       "      If interruptOnCancel is set to true for the job group, then job cancellation will result\n",
       "      in Thread.interrupt() being called on the job&#39;s executor threads. This is useful to help\n",
       "      ensure that the tasks are actually stopped in a timely manner, but is off by default due\n",
       "      to HDFS-1208, where HDFS may respond to Thread.interrupt() by marking nodes as dead.\n",
       "      \n",
       "      .. note:: Currently, setting a group ID (set to local properties) with multiple threads\n",
       "          does not properly work. Internally threads on PVM and JVM are not synced, and JVM\n",
       "          thread can be reused for multiple threads on PVM, which fails to isolate local\n",
       "          properties for each thread on PVM. To work around this, You can use\n",
       "          :meth:`RDD.collectWithJobGroup` for now.\n",
       "  \n",
       "  setLocalProperty(self, key, value)\n",
       "      Set a local property that affects jobs submitted from this thread, such as the\n",
       "      Spark fair scheduler pool.\n",
       "      \n",
       "      .. note:: Currently, setting a local property with multiple threads does not properly work.\n",
       "          Internally threads on PVM and JVM are not synced, and JVM thread\n",
       "          can be reused for multiple threads on PVM, which fails to isolate local properties\n",
       "          for each thread on PVM. To work around this, You can use\n",
       "          :meth:`RDD.collectWithJobGroup`.\n",
       "  \n",
       "  setLogLevel(self, logLevel)\n",
       "      Control our logLevel. This overrides any user-defined log settings.\n",
       "      Valid log levels include: ALL, DEBUG, ERROR, FATAL, INFO, OFF, TRACE, WARN\n",
       "  \n",
       "  show_profiles(self)\n",
       "      Print the profile stats to stdout\n",
       "  \n",
       "  sparkUser(self)\n",
       "      Get SPARK_USER for user who is running SparkContext.\n",
       "  \n",
       "  statusTracker(self)\n",
       "      Return :class:`StatusTracker` object\n",
       "  \n",
       "  stop(self)\n",
       "      Shut down the SparkContext.\n",
       "  \n",
       "  textFile(self, name, minPartitions=None, use_unicode=True)\n",
       "      Read a text file from HDFS, a local file system (available on all\n",
       "      nodes), or any Hadoop-supported file system URI, and return it as an\n",
       "      RDD of Strings.\n",
       "      The text files must be encoded as UTF-8.\n",
       "      \n",
       "      If use_unicode is False, the strings will be kept as `str` (encoding\n",
       "      as `utf-8`), which is faster and smaller than unicode. (Added in\n",
       "      Spark 1.2)\n",
       "      \n",
       "      &gt;&gt;&gt; path = os.path.join(tempdir, &#34;sample-text.txt&#34;)\n",
       "      &gt;&gt;&gt; with open(path, &#34;w&#34;) as testFile:\n",
       "      ...    _ = testFile.write(&#34;Hello world!&#34;)\n",
       "      &gt;&gt;&gt; textFile = sc.textFile(path)\n",
       "      &gt;&gt;&gt; textFile.collect()\n",
       "      [&#39;Hello world!&#39;]\n",
       "  \n",
       "  union(self, rdds)\n",
       "      Build the union of a list of RDDs.\n",
       "      \n",
       "      This supports unions() of RDDs with different serialized formats,\n",
       "      although this forces them to be reserialized using the default\n",
       "      serializer:\n",
       "      \n",
       "      &gt;&gt;&gt; path = os.path.join(tempdir, &#34;union-text.txt&#34;)\n",
       "      &gt;&gt;&gt; with open(path, &#34;w&#34;) as testFile:\n",
       "      ...    _ = testFile.write(&#34;Hello&#34;)\n",
       "      &gt;&gt;&gt; textFile = sc.textFile(path)\n",
       "      &gt;&gt;&gt; textFile.collect()\n",
       "      [&#39;Hello&#39;]\n",
       "      &gt;&gt;&gt; parallelized = sc.parallelize([&#34;World!&#34;])\n",
       "      &gt;&gt;&gt; sorted(sc.union([textFile, parallelized]).collect())\n",
       "      [&#39;Hello&#39;, &#39;World!&#39;]\n",
       "  \n",
       "  wholeTextFiles(self, path, minPartitions=None, use_unicode=True)\n",
       "      Read a directory of text files from HDFS, a local file system\n",
       "      (available on all nodes), or any  Hadoop-supported file system\n",
       "      URI. Each file is read as a single record and returned in a\n",
       "      key-value pair, where the key is the path of each file, the\n",
       "      value is the content of each file.\n",
       "      The text files must be encoded as UTF-8.\n",
       "      \n",
       "      If use_unicode is False, the strings will be kept as `str` (encoding\n",
       "      as `utf-8`), which is faster and smaller than unicode. (Added in\n",
       "      Spark 1.2)\n",
       "      \n",
       "      For example, if you have the following files:\n",
       "      \n",
       "      .. code-block:: text\n",
       "      \n",
       "          hdfs://a-hdfs-path/part-00000\n",
       "          hdfs://a-hdfs-path/part-00001\n",
       "          ...\n",
       "          hdfs://a-hdfs-path/part-nnnnn\n",
       "      \n",
       "      Do ``rdd = sparkContext.wholeTextFiles(&#34;hdfs://a-hdfs-path&#34;)``,\n",
       "      then ``rdd`` contains:\n",
       "      \n",
       "      .. code-block:: text\n",
       "      \n",
       "          (a-hdfs-path/part-00000, its content)\n",
       "          (a-hdfs-path/part-00001, its content)\n",
       "          ...\n",
       "          (a-hdfs-path/part-nnnnn, its content)\n",
       "      \n",
       "      .. note:: Small files are preferred, as each file will be loaded\n",
       "          fully in memory.\n",
       "      \n",
       "      &gt;&gt;&gt; dirPath = os.path.join(tempdir, &#34;files&#34;)\n",
       "      &gt;&gt;&gt; os.mkdir(dirPath)\n",
       "      &gt;&gt;&gt; with open(os.path.join(dirPath, &#34;1.txt&#34;), &#34;w&#34;) as file1:\n",
       "      ...    _ = file1.write(&#34;1&#34;)\n",
       "      &gt;&gt;&gt; with open(os.path.join(dirPath, &#34;2.txt&#34;), &#34;w&#34;) as file2:\n",
       "      ...    _ = file2.write(&#34;2&#34;)\n",
       "      &gt;&gt;&gt; textFiles = sc.wholeTextFiles(dirPath)\n",
       "      &gt;&gt;&gt; sorted(textFiles.collect())\n",
       "      [(&#39;.../1.txt&#39;, &#39;1&#39;), (&#39;.../2.txt&#39;, &#39;2&#39;)]\n",
       "  \n",
       "  ----------------------------------------------------------------------\n",
       "  Class methods inherited from pyspark.context.SparkContext:\n",
       "  \n",
       "  getOrCreate(conf=None) from builtins.type\n",
       "      Get or instantiate a SparkContext and register it as a singleton object.\n",
       "      \n",
       "      :param conf: SparkConf (optional)\n",
       "  \n",
       "  setSystemProperty(key, value) from builtins.type\n",
       "      Set a Java system property, such as spark.executor.memory. This must\n",
       "      must be invoked before instantiating SparkContext.\n",
       "  \n",
       "  ----------------------------------------------------------------------\n",
       "  Data descriptors inherited from pyspark.context.SparkContext:\n",
       "  \n",
       "  __dict__\n",
       "      dictionary for instance variables (if defined)\n",
       "  \n",
       "  __weakref__\n",
       "      list of weak references to the object (if defined)\n",
       "  \n",
       "  applicationId\n",
       "      A unique identifier for the Spark application.\n",
       "      Its format depends on the scheduler implementation.\n",
       "      \n",
       "      * in case of local spark app something like &#39;local-1433865536131&#39;\n",
       "      * in case of YARN something like &#39;application_1433865536131_34483&#39;\n",
       "      \n",
       "      &gt;&gt;&gt; sc.applicationId  # doctest: +ELLIPSIS\n",
       "      &#39;local-...&#39;\n",
       "  \n",
       "  defaultMinPartitions\n",
       "      Default min number of partitions for Hadoop RDDs when not given by user\n",
       "  \n",
       "  defaultParallelism\n",
       "      Default level of parallelism to use when not given by user (e.g. for\n",
       "      reduce tasks)\n",
       "  \n",
       "  resources\n",
       "  \n",
       "  startTime\n",
       "      Return the epoch time when the Spark Context was started.\n",
       "  \n",
       "  uiWebUrl\n",
       "      Return the URL of the SparkUI instance started by this SparkContext\n",
       "  \n",
       "  version\n",
       "      The version of Spark on which this application is running.\n",
       "  \n",
       "  ----------------------------------------------------------------------\n",
       "  Data and other attributes inherited from pyspark.context.SparkContext:\n",
       "  \n",
       "  PACKAGE_EXTENSIONS = (&#39;.zip&#39;, &#39;.egg&#39;, &#39;.jar&#39;)\n",
       "\n",
       "</div>"
      ]
     },
     "metadata": {
      "application/vnd.databricks.v1+output": {
       "addedWidgets": {},
       "arguments": {},
       "data": "<div class=\"ansiout\">Help on RemoteContext in module PythonShellImpl object:\n\nclass RemoteContext(pyspark.context.SparkContext)\n |  RemoteContext(master=None, appName=None, sparkHome=None, pyFiles=None, environment=None, batchSize=0, serializer=PickleSerializer(), conf=None, gateway=None, jsc=None, profiler_cls=&lt;class &#39;pyspark.profiler.BasicProfiler&#39;&gt;)\n |  \n |  Main entry point for Spark functionality. A SparkContext represents the\n |  connection to a Spark cluster, and can be used to create :class:`RDD` and\n |  broadcast variables on that cluster.\n |  \n |  .. note:: Only one :class:`SparkContext` should be active per JVM. You must `stop()`\n |      the active :class:`SparkContext` before creating a new one.\n |  \n |  .. note:: :class:`SparkContext` instance is not supported to share across multiple\n |      processes out of the box, and PySpark does not guarantee multi-processing execution.\n |      Use threads instead for concurrent processing purpose.\n |  \n |  Method resolution order:\n |      RemoteContext\n |      pyspark.context.SparkContext\n |      builtins.object\n |  \n |  Methods inherited from pyspark.context.SparkContext:\n |  \n |  __enter__(self)\n |      Enable &#39;with SparkContext(...) as sc: app(sc)&#39; syntax.\n |  \n |  __exit__(self, type, value, trace)\n |      Enable &#39;with SparkContext(...) as sc: app&#39; syntax.\n |      \n |      Specifically stop the context on exit of the with block.\n |  \n |  __getnewargs__(self)\n |  \n |  __init__(self, master=None, appName=None, sparkHome=None, pyFiles=None, environment=None, batchSize=0, serializer=PickleSerializer(), conf=None, gateway=None, jsc=None, profiler_cls=&lt;class &#39;pyspark.profiler.BasicProfiler&#39;&gt;)\n |      Create a new SparkContext. At least the master and app name should be set,\n |      either through the named parameters here or through `conf`.\n |      \n |      :param master: Cluster URL to connect to\n |             (e.g. mesos://host:port, spark://host:port, local[4]).\n |      :param appName: A name for your job, to display on the cluster web UI.\n |      :param sparkHome: Location where Spark is installed on cluster nodes.\n |      :param pyFiles: Collection of .zip or .py files to send to the cluster\n |             and add to PYTHONPATH.  These can be paths on the local file\n |             system or HDFS, HTTP, HTTPS, or FTP URLs.\n |      :param environment: A dictionary of environment variables to set on\n |             worker nodes.\n |      :param batchSize: The number of Python objects represented as a single\n |             Java object. Set 1 to disable batching, 0 to automatically choose\n |             the batch size based on object sizes, or -1 to use an unlimited\n |             batch size\n |      :param serializer: The serializer for RDDs.\n |      :param conf: A :class:`SparkConf` object setting Spark properties.\n |      :param gateway: Use an existing gateway and JVM, otherwise a new JVM\n |             will be instantiated.\n |      :param jsc: The JavaSparkContext instance (optional).\n |      :param profiler_cls: A class of custom Profiler used to do profiling\n |             (default is pyspark.profiler.BasicProfiler).\n |      \n |      \n |      &gt;&gt;&gt; from pyspark.context import SparkContext\n |      &gt;&gt;&gt; sc = SparkContext(&#39;local&#39;, &#39;test&#39;)\n |      \n |      &gt;&gt;&gt; sc2 = SparkContext(&#39;local&#39;, &#39;test2&#39;) # doctest: +IGNORE_EXCEPTION_DETAIL\n |      Traceback (most recent call last):\n |          ...\n |      ValueError:...\n |  \n |  __repr__(self)\n |      Return repr(self).\n |  \n |  accumulator(self, value, accum_param=None)\n |      Create an :class:`Accumulator` with the given initial value, using a given\n |      :class:`AccumulatorParam` helper object to define how to add values of the\n |      data type if provided. Default AccumulatorParams are used for integers\n |      and floating-point numbers if you do not provide one. For other types,\n |      a custom AccumulatorParam can be used.\n |  \n |  addClusterWideLibraryToPath(self, libname)\n |      # add cluster wide library to the system path. This is called by libraries installed\n |      # through addPyFile, library installation UI or command line (databricks libraries install)\n |  \n |  addFile(self, path, recursive=False)\n |      Add a file to be downloaded with this Spark job on every node.\n |      The `path` passed can be either a local file, a file in HDFS\n |      (or other Hadoop-supported filesystems), or an HTTP, HTTPS or\n |      FTP URI.\n |      \n |      To access the file in Spark jobs, use :meth:`SparkFiles.get` with the\n |      filename to find its download location.\n |      \n |      A directory can be given if the recursive option is set to True.\n |      Currently directories are only supported for Hadoop-supported filesystems.\n |      \n |      .. note:: A path can be added only once. Subsequent additions of the same path are ignored.\n |      \n |      &gt;&gt;&gt; from pyspark import SparkFiles\n |      &gt;&gt;&gt; path = os.path.join(tempdir, &#34;test.txt&#34;)\n |      &gt;&gt;&gt; with open(path, &#34;w&#34;) as testFile:\n |      ...    _ = testFile.write(&#34;100&#34;)\n |      &gt;&gt;&gt; sc.addFile(path)\n |      &gt;&gt;&gt; def func(iterator):\n |      ...    with open(SparkFiles.get(&#34;test.txt&#34;)) as testFile:\n |      ...        fileVal = int(testFile.readline())\n |      ...        return [x * fileVal for x in iterator]\n |      &gt;&gt;&gt; sc.parallelize([1, 2, 3, 4]).mapPartitions(func).collect()\n |      [100, 200, 300, 400]\n |  \n |  addIsolatedLibraryPath(self, libname)\n |      For a .egg, .zip, or .jar library, add the path to sys.path, and add it to\n |      _python_includes for passing it to executor.\n |  \n |  addPyFile(self, path)\n |      Add a .py or .zip dependency for all tasks to be executed on this\n |      SparkContext in the future.  The `path` passed can be either a local\n |      file, a file in HDFS (or other Hadoop-supported filesystems), or an\n |      HTTP, HTTPS or FTP URI.\n |      \n |      .. note:: A path can be added only once. Subsequent additions of the same path are ignored.\n |  \n |  binaryFiles(self, path, minPartitions=None)\n |      Read a directory of binary files from HDFS, a local file system\n |      (available on all nodes), or any Hadoop-supported file system URI\n |      as a byte array. Each file is read as a single record and returned\n |      in a key-value pair, where the key is the path of each file, the\n |      value is the content of each file.\n |      \n |      .. note:: Small files are preferred, large file is also allowable, but\n |          may cause bad performance.\n |  \n |  binaryRecords(self, path, recordLength)\n |      Load data from a flat binary file, assuming each record is a set of numbers\n |      with the specified numerical format (see ByteBuffer), and the number of\n |      bytes per record is constant.\n |      \n |      :param path: Directory to the input data files\n |      :param recordLength: The length at which to split the records\n |  \n |  broadcast(self, value)\n |      Broadcast a read-only variable to the cluster, returning a :class:`Broadcast`\n |      object for reading it in distributed functions. The variable will\n |      be sent to each cluster only once.\n |  \n |  cancelAllJobs(self)\n |      Cancel all jobs that have been scheduled or are running.\n |  \n |  cancelJobGroup(self, groupId)\n |      Cancel active jobs for the specified group. See :meth:`SparkContext.setJobGroup`.\n |      for more information.\n |  \n |  dump_profiles(self, path)\n |      Dump the profile stats into directory `path`\n |  \n |  emptyRDD(self)\n |      Create an RDD that has no partitions or elements.\n |  \n |  getConf(self)\n |  \n |  getLocalProperty(self, key)\n |      Get a local property set in this thread, or null if it is missing. See\n |      :meth:`setLocalProperty`.\n |  \n |  hadoopFile(self, path, inputFormatClass, keyClass, valueClass, keyConverter=None, valueConverter=None, conf=None, batchSize=0)\n |      Read an &#39;old&#39; Hadoop InputFormat with arbitrary key and value class from HDFS,\n |      a local file system (available on all nodes), or any Hadoop-supported file system URI.\n |      The mechanism is the same as for sc.sequenceFile.\n |      \n |      A Hadoop configuration can be passed in as a Python dict. This will be converted into a\n |      Configuration in Java.\n |      \n |      :param path: path to Hadoop file\n |      :param inputFormatClass: fully qualified classname of Hadoop InputFormat\n |             (e.g. &#34;org.apache.hadoop.mapred.TextInputFormat&#34;)\n |      :param keyClass: fully qualified classname of key Writable class\n |             (e.g. &#34;org.apache.hadoop.io.Text&#34;)\n |      :param valueClass: fully qualified classname of value Writable class\n |             (e.g. &#34;org.apache.hadoop.io.LongWritable&#34;)\n |      :param keyConverter: (None by default)\n |      :param valueConverter: (None by default)\n |      :param conf: Hadoop configuration, passed in as a dict\n |             (None by default)\n |      :param batchSize: The number of Python objects represented as a single\n |             Java object. (default 0, choose batchSize automatically)\n |  \n |  hadoopRDD(self, inputFormatClass, keyClass, valueClass, keyConverter=None, valueConverter=None, conf=None, batchSize=0)\n |      Read an &#39;old&#39; Hadoop InputFormat with arbitrary key and value class, from an arbitrary\n |      Hadoop configuration, which is passed in as a Python dict.\n |      This will be converted into a Configuration in Java.\n |      The mechanism is the same as for sc.sequenceFile.\n |      \n |      :param inputFormatClass: fully qualified classname of Hadoop InputFormat\n |             (e.g. &#34;org.apache.hadoop.mapred.TextInputFormat&#34;)\n |      :param keyClass: fully qualified classname of key Writable class\n |             (e.g. &#34;org.apache.hadoop.io.Text&#34;)\n |      :param valueClass: fully qualified classname of value Writable class\n |             (e.g. &#34;org.apache.hadoop.io.LongWritable&#34;)\n |      :param keyConverter: (None by default)\n |      :param valueConverter: (None by default)\n |      :param conf: Hadoop configuration, passed in as a dict\n |             (None by default)\n |      :param batchSize: The number of Python objects represented as a single\n |             Java object. (default 0, choose batchSize automatically)\n |  \n |  init_batched_serializer(self, data, numSlices=None)\n |      Init the batched serializer with the data to parallelize into an RDD and numSlices for the\n |      batch size.\n |  \n |  newAPIHadoopFile(self, path, inputFormatClass, keyClass, valueClass, keyConverter=None, valueConverter=None, conf=None, batchSize=0)\n |      Read a &#39;new API&#39; Hadoop InputFormat with arbitrary key and value class from HDFS,\n |      a local file system (available on all nodes), or any Hadoop-supported file system URI.\n |      The mechanism is the same as for sc.sequenceFile.\n |      \n |      A Hadoop configuration can be passed in as a Python dict. This will be converted into a\n |      Configuration in Java\n |      \n |      :param path: path to Hadoop file\n |      :param inputFormatClass: fully qualified classname of Hadoop InputFormat\n |             (e.g. &#34;org.apache.hadoop.mapreduce.lib.input.TextInputFormat&#34;)\n |      :param keyClass: fully qualified classname of key Writable class\n |             (e.g. &#34;org.apache.hadoop.io.Text&#34;)\n |      :param valueClass: fully qualified classname of value Writable class\n |             (e.g. &#34;org.apache.hadoop.io.LongWritable&#34;)\n |      :param keyConverter: (None by default)\n |      :param valueConverter: (None by default)\n |      :param conf: Hadoop configuration, passed in as a dict\n |             (None by default)\n |      :param batchSize: The number of Python objects represented as a single\n |             Java object. (default 0, choose batchSize automatically)\n |  \n |  newAPIHadoopRDD(self, inputFormatClass, keyClass, valueClass, keyConverter=None, valueConverter=None, conf=None, batchSize=0)\n |      Read a &#39;new API&#39; Hadoop InputFormat with arbitrary key and value class, from an arbitrary\n |      Hadoop configuration, which is passed in as a Python dict.\n |      This will be converted into a Configuration in Java.\n |      The mechanism is the same as for sc.sequenceFile.\n |      \n |      :param inputFormatClass: fully qualified classname of Hadoop InputFormat\n |             (e.g. &#34;org.apache.hadoop.mapreduce.lib.input.TextInputFormat&#34;)\n |      :param keyClass: fully qualified classname of key Writable class\n |             (e.g. &#34;org.apache.hadoop.io.Text&#34;)\n |      :param valueClass: fully qualified classname of value Writable class\n |             (e.g. &#34;org.apache.hadoop.io.LongWritable&#34;)\n |      :param keyConverter: (None by default)\n |      :param valueConverter: (None by default)\n |      :param conf: Hadoop configuration, passed in as a dict\n |             (None by default)\n |      :param batchSize: The number of Python objects represented as a single\n |             Java object. (default 0, choose batchSize automatically)\n |  \n |  parallelize(self, c, numSlices=None)\n |      Distribute a local Python collection to form an RDD. Using xrange\n |      is recommended if the input represents a range for performance.\n |      \n |      &gt;&gt;&gt; sc.parallelize([0, 2, 3, 4, 6], 5).glom().collect()\n |      [[0], [2], [3], [4], [6]]\n |      &gt;&gt;&gt; sc.parallelize(xrange(0, 6, 2), 5).glom().collect()\n |      [[], [0], [], [2], [4]]\n |  \n |  pickleFile(self, name, minPartitions=None)\n |      Load an RDD previously saved using :meth:`RDD.saveAsPickleFile` method.\n |      \n |      &gt;&gt;&gt; tmpFile = NamedTemporaryFile(delete=True)\n |      &gt;&gt;&gt; tmpFile.close()\n |      &gt;&gt;&gt; sc.parallelize(range(10)).saveAsPickleFile(tmpFile.name, 5)\n |      &gt;&gt;&gt; sorted(sc.pickleFile(tmpFile.name, 3).collect())\n |      [0, 1, 2, 3, 4, 5, 6, 7, 8, 9]\n |  \n |  range(self, start, end=None, step=1, numSlices=None)\n |      Create a new RDD of int containing elements from `start` to `end`\n |      (exclusive), increased by `step` every element. Can be called the same\n |      way as python&#39;s built-in range() function. If called with a single argument,\n |      the argument is interpreted as `end`, and `start` is set to 0.\n |      \n |      :param start: the start value\n |      :param end: the end value (exclusive)\n |      :param step: the incremental step (default: 1)\n |      :param numSlices: the number of partitions of the new RDD\n |      :return: An RDD of int\n |      \n |      &gt;&gt;&gt; sc.range(5).collect()\n |      [0, 1, 2, 3, 4]\n |      &gt;&gt;&gt; sc.range(2, 4).collect()\n |      [2, 3]\n |      &gt;&gt;&gt; sc.range(1, 7, 2).collect()\n |      [1, 3, 5]\n |  \n |  runJob(self, rdd, partitionFunc, partitions=None, allowLocal=False)\n |      Executes the given partitionFunc on the specified set of partitions,\n |      returning the result as an array of elements.\n |      \n |      If &#39;partitions&#39; is not specified, this will run over all partitions.\n |      \n |      &gt;&gt;&gt; myRDD = sc.parallelize(range(6), 3)\n |      &gt;&gt;&gt; sc.runJob(myRDD, lambda part: [x * x for x in part])\n |      [0, 1, 4, 9, 16, 25]\n |      \n |      &gt;&gt;&gt; myRDD = sc.parallelize(range(6), 3)\n |      &gt;&gt;&gt; sc.runJob(myRDD, lambda part: [x * x for x in part], [0, 2], True)\n |      [0, 1, 16, 25]\n |  \n |  sequenceFile(self, path, keyClass=None, valueClass=None, keyConverter=None, valueConverter=None, minSplits=None, batchSize=0)\n |      Read a Hadoop SequenceFile with arbitrary key and value Writable class from HDFS,\n |      a local file system (available on all nodes), or any Hadoop-supported file system URI.\n |      The mechanism is as follows:\n |      \n |          1. A Java RDD is created from the SequenceFile or other InputFormat, and the key\n |             and value Writable classes\n |          2. Serialization is attempted via Pyrolite pickling\n |          3. If this fails, the fallback is to call &#39;toString&#39; on each key and value\n |          4. :class:`PickleSerializer` is used to deserialize pickled objects on the Python side\n |      \n |      :param path: path to sequncefile\n |      :param keyClass: fully qualified classname of key Writable class\n |             (e.g. &#34;org.apache.hadoop.io.Text&#34;)\n |      :param valueClass: fully qualified classname of value Writable class\n |             (e.g. &#34;org.apache.hadoop.io.LongWritable&#34;)\n |      :param keyConverter:\n |      :param valueConverter:\n |      :param minSplits: minimum splits in dataset\n |             (default min(2, sc.defaultParallelism))\n |      :param batchSize: The number of Python objects represented as a single\n |             Java object. (default 0, choose batchSize automatically)\n |  \n |  setCheckpointDir(self, dirName)\n |      Set the directory under which RDDs are going to be checkpointed. The\n |      directory must be an HDFS path if running on a cluster.\n |  \n |  setJobDescription(self, value)\n |      Set a human readable description of the current job.\n |      \n |      .. note:: Currently, setting a job description (set to local properties) with multiple\n |          threads does not properly work. Internally threads on PVM and JVM are not synced,\n |          and JVM thread can be reused for multiple threads on PVM, which fails to isolate\n |          local properties for each thread on PVM. To work around this, You can use\n |          :meth:`RDD.collectWithJobGroup` for now.\n |  \n |  setJobGroup(self, groupId, description, interruptOnCancel=False)\n |      Assigns a group ID to all the jobs started by this thread until the group ID is set to a\n |      different value or cleared.\n |      \n |      Often, a unit of execution in an application consists of multiple Spark actions or jobs.\n |      Application programmers can use this method to group all those jobs together and give a\n |      group description. Once set, the Spark web UI will associate such jobs with this group.\n |      \n |      The application can use :meth:`SparkContext.cancelJobGroup` to cancel all\n |      running jobs in this group.\n |      \n |      &gt;&gt;&gt; import threading\n |      &gt;&gt;&gt; from time import sleep\n |      &gt;&gt;&gt; result = &#34;Not Set&#34;\n |      &gt;&gt;&gt; lock = threading.Lock()\n |      &gt;&gt;&gt; def map_func(x):\n |      ...     sleep(100)\n |      ...     raise Exception(&#34;Task should have been cancelled&#34;)\n |      &gt;&gt;&gt; def start_job(x):\n |      ...     global result\n |      ...     try:\n |      ...         sc.setJobGroup(&#34;job_to_cancel&#34;, &#34;some description&#34;)\n |      ...         result = sc.parallelize(range(x)).map(map_func).collect()\n |      ...     except Exception as e:\n |      ...         result = &#34;Cancelled&#34;\n |      ...     lock.release()\n |      &gt;&gt;&gt; def stop_job():\n |      ...     sleep(5)\n |      ...     sc.cancelJobGroup(&#34;job_to_cancel&#34;)\n |      &gt;&gt;&gt; suppress = lock.acquire()\n |      &gt;&gt;&gt; suppress = threading.Thread(target=start_job, args=(10,)).start()\n |      &gt;&gt;&gt; suppress = threading.Thread(target=stop_job).start()\n |      &gt;&gt;&gt; suppress = lock.acquire()\n |      &gt;&gt;&gt; print(result)\n |      Cancelled\n |      \n |      If interruptOnCancel is set to true for the job group, then job cancellation will result\n |      in Thread.interrupt() being called on the job&#39;s executor threads. This is useful to help\n |      ensure that the tasks are actually stopped in a timely manner, but is off by default due\n |      to HDFS-1208, where HDFS may respond to Thread.interrupt() by marking nodes as dead.\n |      \n |      .. note:: Currently, setting a group ID (set to local properties) with multiple threads\n |          does not properly work. Internally threads on PVM and JVM are not synced, and JVM\n |          thread can be reused for multiple threads on PVM, which fails to isolate local\n |          properties for each thread on PVM. To work around this, You can use\n |          :meth:`RDD.collectWithJobGroup` for now.\n |  \n |  setLocalProperty(self, key, value)\n |      Set a local property that affects jobs submitted from this thread, such as the\n |      Spark fair scheduler pool.\n |      \n |      .. note:: Currently, setting a local property with multiple threads does not properly work.\n |          Internally threads on PVM and JVM are not synced, and JVM thread\n |          can be reused for multiple threads on PVM, which fails to isolate local properties\n |          for each thread on PVM. To work around this, You can use\n |          :meth:`RDD.collectWithJobGroup`.\n |  \n |  setLogLevel(self, logLevel)\n |      Control our logLevel. This overrides any user-defined log settings.\n |      Valid log levels include: ALL, DEBUG, ERROR, FATAL, INFO, OFF, TRACE, WARN\n |  \n |  show_profiles(self)\n |      Print the profile stats to stdout\n |  \n |  sparkUser(self)\n |      Get SPARK_USER for user who is running SparkContext.\n |  \n |  statusTracker(self)\n |      Return :class:`StatusTracker` object\n |  \n |  stop(self)\n |      Shut down the SparkContext.\n |  \n |  textFile(self, name, minPartitions=None, use_unicode=True)\n |      Read a text file from HDFS, a local file system (available on all\n |      nodes), or any Hadoop-supported file system URI, and return it as an\n |      RDD of Strings.\n |      The text files must be encoded as UTF-8.\n |      \n |      If use_unicode is False, the strings will be kept as `str` (encoding\n |      as `utf-8`), which is faster and smaller than unicode. (Added in\n |      Spark 1.2)\n |      \n |      &gt;&gt;&gt; path = os.path.join(tempdir, &#34;sample-text.txt&#34;)\n |      &gt;&gt;&gt; with open(path, &#34;w&#34;) as testFile:\n |      ...    _ = testFile.write(&#34;Hello world!&#34;)\n |      &gt;&gt;&gt; textFile = sc.textFile(path)\n |      &gt;&gt;&gt; textFile.collect()\n |      [&#39;Hello world!&#39;]\n |  \n |  union(self, rdds)\n |      Build the union of a list of RDDs.\n |      \n |      This supports unions() of RDDs with different serialized formats,\n |      although this forces them to be reserialized using the default\n |      serializer:\n |      \n |      &gt;&gt;&gt; path = os.path.join(tempdir, &#34;union-text.txt&#34;)\n |      &gt;&gt;&gt; with open(path, &#34;w&#34;) as testFile:\n |      ...    _ = testFile.write(&#34;Hello&#34;)\n |      &gt;&gt;&gt; textFile = sc.textFile(path)\n |      &gt;&gt;&gt; textFile.collect()\n |      [&#39;Hello&#39;]\n |      &gt;&gt;&gt; parallelized = sc.parallelize([&#34;World!&#34;])\n |      &gt;&gt;&gt; sorted(sc.union([textFile, parallelized]).collect())\n |      [&#39;Hello&#39;, &#39;World!&#39;]\n |  \n |  wholeTextFiles(self, path, minPartitions=None, use_unicode=True)\n |      Read a directory of text files from HDFS, a local file system\n |      (available on all nodes), or any  Hadoop-supported file system\n |      URI. Each file is read as a single record and returned in a\n |      key-value pair, where the key is the path of each file, the\n |      value is the content of each file.\n |      The text files must be encoded as UTF-8.\n |      \n |      If use_unicode is False, the strings will be kept as `str` (encoding\n |      as `utf-8`), which is faster and smaller than unicode. (Added in\n |      Spark 1.2)\n |      \n |      For example, if you have the following files:\n |      \n |      .. code-block:: text\n |      \n |          hdfs://a-hdfs-path/part-00000\n |          hdfs://a-hdfs-path/part-00001\n |          ...\n |          hdfs://a-hdfs-path/part-nnnnn\n |      \n |      Do ``rdd = sparkContext.wholeTextFiles(&#34;hdfs://a-hdfs-path&#34;)``,\n |      then ``rdd`` contains:\n |      \n |      .. code-block:: text\n |      \n |          (a-hdfs-path/part-00000, its content)\n |          (a-hdfs-path/part-00001, its content)\n |          ...\n |          (a-hdfs-path/part-nnnnn, its content)\n |      \n |      .. note:: Small files are preferred, as each file will be loaded\n |          fully in memory.\n |      \n |      &gt;&gt;&gt; dirPath = os.path.join(tempdir, &#34;files&#34;)\n |      &gt;&gt;&gt; os.mkdir(dirPath)\n |      &gt;&gt;&gt; with open(os.path.join(dirPath, &#34;1.txt&#34;), &#34;w&#34;) as file1:\n |      ...    _ = file1.write(&#34;1&#34;)\n |      &gt;&gt;&gt; with open(os.path.join(dirPath, &#34;2.txt&#34;), &#34;w&#34;) as file2:\n |      ...    _ = file2.write(&#34;2&#34;)\n |      &gt;&gt;&gt; textFiles = sc.wholeTextFiles(dirPath)\n |      &gt;&gt;&gt; sorted(textFiles.collect())\n |      [(&#39;.../1.txt&#39;, &#39;1&#39;), (&#39;.../2.txt&#39;, &#39;2&#39;)]\n |  \n |  ----------------------------------------------------------------------\n |  Class methods inherited from pyspark.context.SparkContext:\n |  \n |  getOrCreate(conf=None) from builtins.type\n |      Get or instantiate a SparkContext and register it as a singleton object.\n |      \n |      :param conf: SparkConf (optional)\n |  \n |  setSystemProperty(key, value) from builtins.type\n |      Set a Java system property, such as spark.executor.memory. This must\n |      must be invoked before instantiating SparkContext.\n |  \n |  ----------------------------------------------------------------------\n |  Data descriptors inherited from pyspark.context.SparkContext:\n |  \n |  __dict__\n |      dictionary for instance variables (if defined)\n |  \n |  __weakref__\n |      list of weak references to the object (if defined)\n |  \n |  applicationId\n |      A unique identifier for the Spark application.\n |      Its format depends on the scheduler implementation.\n |      \n |      * in case of local spark app something like &#39;local-1433865536131&#39;\n |      * in case of YARN something like &#39;application_1433865536131_34483&#39;\n |      \n |      &gt;&gt;&gt; sc.applicationId  # doctest: +ELLIPSIS\n |      &#39;local-...&#39;\n |  \n |  defaultMinPartitions\n |      Default min number of partitions for Hadoop RDDs when not given by user\n |  \n |  defaultParallelism\n |      Default level of parallelism to use when not given by user (e.g. for\n |      reduce tasks)\n |  \n |  resources\n |  \n |  startTime\n |      Return the epoch time when the Spark Context was started.\n |  \n |  uiWebUrl\n |      Return the URL of the SparkUI instance started by this SparkContext\n |  \n |  version\n |      The version of Spark on which this application is running.\n |  \n |  ----------------------------------------------------------------------\n |  Data and other attributes inherited from pyspark.context.SparkContext:\n |  \n |  PACKAGE_EXTENSIONS = (&#39;.zip&#39;, &#39;.egg&#39;, &#39;.jar&#39;)\n\n</div>",
       "datasetInfos": [],
       "removedWidgets": [],
       "type": "html"
      }
     },
     "output_type": "display_data"
    }
   ],
   "source": [
    "# Use help to obtain more detailed information\n",
    "help(sc)"
   ]
  },
  {
   "cell_type": "code",
   "execution_count": null,
   "metadata": {
    "application/vnd.databricks.v1+cell": {
     "inputWidgets": {},
     "nuid": "42cbb36a-d518-4fce-a7b7-a7cc8aa4f9b2",
     "showTitle": false,
     "title": ""
    }
   },
   "outputs": [
    {
     "data": {
      "text/html": [
       "<style scoped>\n",
       "  .ansiout {\n",
       "    display: block;\n",
       "    unicode-bidi: embed;\n",
       "    white-space: pre-wrap;\n",
       "    word-wrap: break-word;\n",
       "    word-break: break-all;\n",
       "    font-family: \"Source Code Pro\", \"Menlo\", monospace;;\n",
       "    font-size: 13px;\n",
       "    color: #555;\n",
       "    margin-left: 4px;\n",
       "    line-height: 19px;\n",
       "  }\n",
       "</style>\n",
       "<div class=\"ansiout\">Out[4]: &#39;3.0.1&#39;</div>"
      ]
     },
     "metadata": {
      "application/vnd.databricks.v1+output": {
       "addedWidgets": {},
       "arguments": {},
       "data": "<div class=\"ansiout\">Out[4]: &#39;3.0.1&#39;</div>",
       "datasetInfos": [],
       "removedWidgets": [],
       "type": "html"
      }
     },
     "output_type": "display_data"
    }
   ],
   "source": [
    "# After reading the help we've decided we want to use sc.version to see what version of Spark we are running\n",
    "#sc.version\n",
    "sc.version"
   ]
  },
  {
   "cell_type": "markdown",
   "metadata": {
    "application/vnd.databricks.v1+cell": {
     "inputWidgets": {},
     "nuid": "319f0d28-fdd3-43b0-bdfd-825fd7c7ccf4",
     "showTitle": false,
     "title": ""
    }
   },
   "source": [
    "#### **Part 3: Using RDDs and chaining together transformations and actions**"
   ]
  },
  {
   "cell_type": "markdown",
   "metadata": {
    "application/vnd.databricks.v1+cell": {
     "inputWidgets": {},
     "nuid": "edee9313-3ca0-43bd-9c9f-7f97f9d75914",
     "showTitle": false,
     "title": ""
    }
   },
   "source": [
    "**Working with your first RDD**\n",
    " \n",
    "In Spark, we first create a base [Resilient Distributed Dataset](http://spark.apache.org/docs/latest/api/python/pyspark.html#pyspark.RDD) (RDD). We can then apply one or more transformations to that base RDD. *An RDD is immutable, so once it is created, it cannot be changed.* As a result, each transformation creates a new RDD. Finally, we can apply one or more actions to the RDDs.\n",
    " \n",
    "> Note that Spark uses lazy evaluation, so transformations are not actually executed until an action occurs.\n",
    " \n",
    "We will perform several exercises to obtain a better understanding of RDDs:\n",
    "* Create a Python collection of 10,000 integers\n",
    "* Create a Spark base RDD from that collection\n",
    "* Subtract one from each value using `map`\n",
    "* Perform action `collect` to view results\n",
    "* Perform action `count` to view counts\n",
    "* Apply transformation `filter` and view results with `collect`\n",
    "* Learn about lambda functions\n",
    "* Explore how lazy evaluation works and the debugging challenges that it introduces"
   ]
  },
  {
   "cell_type": "markdown",
   "metadata": {
    "application/vnd.databricks.v1+cell": {
     "inputWidgets": {},
     "nuid": "d3b7f76b-9f6d-4bea-8a1e-f869f14e0edf",
     "showTitle": false,
     "title": ""
    }
   },
   "source": [
    "**(3a) Create a Python collection of integers in the range of 1 .. 10000**\n",
    " \n",
    "We will use the [range()](https://docs.python.org/3/library/functions.html#func-range) function to create a [list()](https://docs.python.org/3/tutorial/datastructures.html) of integers.  `range()` only generates values as they are needed.  This is different from the behavior of other methods which generates the complete list upon execution.  Because of this `range()` is more memory efficient especially for large ranges."
   ]
  },
  {
   "cell_type": "code",
   "execution_count": null,
   "metadata": {
    "application/vnd.databricks.v1+cell": {
     "inputWidgets": {},
     "nuid": "3aaed241-8bb5-400f-9b9f-2ebb48960946",
     "showTitle": false,
     "title": ""
    }
   },
   "outputs": [
    {
     "data": {
      "text/html": [
       "<style scoped>\n",
       "  .ansiout {\n",
       "    display: block;\n",
       "    unicode-bidi: embed;\n",
       "    white-space: pre-wrap;\n",
       "    word-wrap: break-word;\n",
       "    word-break: break-all;\n",
       "    font-family: \"Source Code Pro\", \"Menlo\", monospace;;\n",
       "    font-size: 13px;\n",
       "    color: #555;\n",
       "    margin-left: 4px;\n",
       "    line-height: 19px;\n",
       "  }\n",
       "</style>\n",
       "<div class=\"ansiout\"></div>"
      ]
     },
     "metadata": {
      "application/vnd.databricks.v1+output": {
       "addedWidgets": {},
       "arguments": {},
       "data": "<div class=\"ansiout\"></div>",
       "datasetInfos": [],
       "removedWidgets": [],
       "type": "html"
      }
     },
     "output_type": "display_data"
    }
   ],
   "source": [
    "data = range(1,10001)"
   ]
  },
  {
   "cell_type": "markdown",
   "metadata": {
    "application/vnd.databricks.v1+cell": {
     "inputWidgets": {},
     "nuid": "d2dc96b3-d3e4-4859-9812-6f480cbd11b5",
     "showTitle": false,
     "title": ""
    }
   },
   "source": [
    "**(3b) Distributed data and using a collection to create an RDD**\n",
    " \n",
    "In Spark, datasets are represented as a list of entries, where the list is broken up into many different partitions that are each stored on a different machine.  Each partition holds a unique subset of the entries in the list.  Spark calls datasets that it stores \"Resilient Distributed Datasets\" (RDDs).\n",
    " \n",
    "One of the defining features of Spark, compared to other data analytics frameworks (e.g., Hadoop), is that it stores data in memory rather than on disk.  This allows Spark applications to run much more quickly, because they are not slowed down by needing to read data from disk.\n",
    "The figure below illustrates how Spark breaks a list of data entries into partitions that are each stored in memory on a worker.\n",
    "![partitions](http://spark-mooc.github.io/web-assets/images/partitions.png)\n",
    " \n",
    "To create the RDD, we use `sc.parallelize()`, which tells Spark to create a new set of input data based on data that is passed in.  In this example, we will provide a `range`.  The second argument to the [sc.parallelize()](http://spark.apache.org/docs/latest/api/python/pyspark.html#pyspark.SparkContext.parallelize) method tells Spark how many partitions to break the data into when it stores the data in memory (we'll talk more about this later in this tutorial). Note that for better performance when using `parallelize`, `range()` is recommended if the input represents a range.\n",
    " \n",
    "There are many different types of RDDs.  The base class for RDDs is [pyspark.RDD](http://spark.apache.org/docs/latest/api/python/pyspark.html#pyspark.RDD) and all RDDs are subclass of `pyspark.RDD`.  Since the other RDD types inherit from `pyspark.RDD` they have the same APIs and are functionally identical.  We'll see that `sc.parallelize()` generates a `pyspark.rdd.PipelinedRDD` when its input is n `range`."
   ]
  },
  {
   "cell_type": "code",
   "execution_count": null,
   "metadata": {
    "application/vnd.databricks.v1+cell": {
     "inputWidgets": {},
     "nuid": "4b8b2f15-b443-46b8-b263-986f09853dfc",
     "showTitle": false,
     "title": ""
    }
   },
   "outputs": [
    {
     "data": {
      "text/html": [
       "<style scoped>\n",
       "  .ansiout {\n",
       "    display: block;\n",
       "    unicode-bidi: embed;\n",
       "    white-space: pre-wrap;\n",
       "    word-wrap: break-word;\n",
       "    word-break: break-all;\n",
       "    font-family: \"Source Code Pro\", \"Menlo\", monospace;;\n",
       "    font-size: 13px;\n",
       "    color: #555;\n",
       "    margin-left: 4px;\n",
       "    line-height: 19px;\n",
       "  }\n",
       "</style>\n",
       "<div class=\"ansiout\"></div>"
      ]
     },
     "metadata": {
      "application/vnd.databricks.v1+output": {
       "addedWidgets": {},
       "arguments": {},
       "data": "<div class=\"ansiout\"></div>",
       "datasetInfos": [],
       "removedWidgets": [],
       "type": "html"
      }
     },
     "output_type": "display_data"
    }
   ],
   "source": [
    "# Parallelize data using 8 partitions\n",
    "# This operation is a transformation of data into an RDD\n",
    "# Spark uses lazy evaluation, so no Spark jobs are run at this point\n",
    "rangeRDD = sc.parallelize(data, 8)"
   ]
  },
  {
   "cell_type": "code",
   "execution_count": null,
   "metadata": {
    "application/vnd.databricks.v1+cell": {
     "inputWidgets": {},
     "nuid": "864ac3da-feaa-41d8-b852-3829835bd3e6",
     "showTitle": false,
     "title": ""
    }
   },
   "outputs": [
    {
     "data": {
      "text/html": [
       "<style scoped>\n",
       "  .ansiout {\n",
       "    display: block;\n",
       "    unicode-bidi: embed;\n",
       "    white-space: pre-wrap;\n",
       "    word-wrap: break-word;\n",
       "    word-break: break-all;\n",
       "    font-family: \"Source Code Pro\", \"Menlo\", monospace;;\n",
       "    font-size: 13px;\n",
       "    color: #555;\n",
       "    margin-left: 4px;\n",
       "    line-height: 19px;\n",
       "  }\n",
       "</style>\n",
       "<div class=\"ansiout\">rangeRDD id: 1\n",
       "</div>"
      ]
     },
     "metadata": {
      "application/vnd.databricks.v1+output": {
       "addedWidgets": {},
       "arguments": {},
       "data": "<div class=\"ansiout\">rangeRDD id: 1\n</div>",
       "datasetInfos": [],
       "removedWidgets": [],
       "type": "html"
      }
     },
     "output_type": "display_data"
    }
   ],
   "source": [
    "# Each RDD gets a unique ID\n",
    "print('rangeRDD id: {0}'.format(rangeRDD.id()))"
   ]
  },
  {
   "cell_type": "code",
   "execution_count": null,
   "metadata": {
    "application/vnd.databricks.v1+cell": {
     "inputWidgets": {},
     "nuid": "cc159125-dd24-4d6d-9c0a-8eb620c51dd5",
     "showTitle": false,
     "title": ""
    }
   },
   "outputs": [
    {
     "data": {
      "text/html": [
       "<style scoped>\n",
       "  .ansiout {\n",
       "    display: block;\n",
       "    unicode-bidi: embed;\n",
       "    white-space: pre-wrap;\n",
       "    word-wrap: break-word;\n",
       "    word-break: break-all;\n",
       "    font-family: \"Source Code Pro\", \"Menlo\", monospace;;\n",
       "    font-size: 13px;\n",
       "    color: #555;\n",
       "    margin-left: 4px;\n",
       "    line-height: 19px;\n",
       "  }\n",
       "</style>\n",
       "<div class=\"ansiout\">Out[8]: My first RDD PythonRDD[1] at RDD at PythonRDD.scala:58</div>"
      ]
     },
     "metadata": {
      "application/vnd.databricks.v1+output": {
       "addedWidgets": {},
       "arguments": {},
       "data": "<div class=\"ansiout\">Out[8]: My first RDD PythonRDD[1] at RDD at PythonRDD.scala:58</div>",
       "datasetInfos": [],
       "removedWidgets": [],
       "type": "html"
      }
     },
     "output_type": "display_data"
    }
   ],
   "source": [
    "# We can name each newly created RDD using the setName() method\n",
    "rangeRDD.setName('My first RDD')"
   ]
  },
  {
   "cell_type": "code",
   "execution_count": null,
   "metadata": {
    "application/vnd.databricks.v1+cell": {
     "inputWidgets": {},
     "nuid": "07a277b4-c6c3-41ca-8008-c928f7a83ad3",
     "showTitle": false,
     "title": ""
    }
   },
   "outputs": [
    {
     "data": {
      "text/html": [
       "<style scoped>\n",
       "  .ansiout {\n",
       "    display: block;\n",
       "    unicode-bidi: embed;\n",
       "    white-space: pre-wrap;\n",
       "    word-wrap: break-word;\n",
       "    word-break: break-all;\n",
       "    font-family: \"Source Code Pro\", \"Menlo\", monospace;;\n",
       "    font-size: 13px;\n",
       "    color: #555;\n",
       "    margin-left: 4px;\n",
       "    line-height: 19px;\n",
       "  }\n",
       "</style>\n",
       "<div class=\"ansiout\">b&#39;(8) My first RDD PythonRDD[1] at RDD at PythonRDD.scala:58 []\\n |  ParallelCollectionRDD[0] at readRDDFromInputStream at PythonRDD.scala:413 []&#39;\n",
       "</div>"
      ]
     },
     "metadata": {
      "application/vnd.databricks.v1+output": {
       "addedWidgets": {},
       "arguments": {},
       "data": "<div class=\"ansiout\">b&#39;(8) My first RDD PythonRDD[1] at RDD at PythonRDD.scala:58 []\\n |  ParallelCollectionRDD[0] at readRDDFromInputStream at PythonRDD.scala:413 []&#39;\n</div>",
       "datasetInfos": [],
       "removedWidgets": [],
       "type": "html"
      }
     },
     "output_type": "display_data"
    }
   ],
   "source": [
    "# Let's view the lineage (the set of transformations) of the RDD using toDebugString()\n",
    "print(rangeRDD.toDebugString())"
   ]
  },
  {
   "cell_type": "code",
   "execution_count": null,
   "metadata": {
    "application/vnd.databricks.v1+cell": {
     "inputWidgets": {},
     "nuid": "6dcdf101-3fd2-413d-a3ed-c27e20d98040",
     "showTitle": false,
     "title": ""
    }
   },
   "outputs": [
    {
     "data": {
      "text/html": [
       "<style scoped>\n",
       "  .ansiout {\n",
       "    display: block;\n",
       "    unicode-bidi: embed;\n",
       "    white-space: pre-wrap;\n",
       "    word-wrap: break-word;\n",
       "    word-break: break-all;\n",
       "    font-family: \"Source Code Pro\", \"Menlo\", monospace;;\n",
       "    font-size: 13px;\n",
       "    color: #555;\n",
       "    margin-left: 4px;\n",
       "    line-height: 19px;\n",
       "  }\n",
       "</style>\n",
       "<div class=\"ansiout\">Help on PipelinedRDD in module pyspark.rdd object:\n",
       "\n",
       "class PipelinedRDD(RDD)\n",
       "  PipelinedRDD(prev, func, preservesPartitioning=False, isFromBarrier=False)\n",
       "  \n",
       "  Pipelined maps:\n",
       "  \n",
       "  &gt;&gt;&gt; rdd = sc.parallelize([1, 2, 3, 4])\n",
       "  &gt;&gt;&gt; rdd.map(lambda x: 2 * x).cache().map(lambda x: 2 * x).collect()\n",
       "  [4, 8, 12, 16]\n",
       "  &gt;&gt;&gt; rdd.map(lambda x: 2 * x).map(lambda x: 2 * x).collect()\n",
       "  [4, 8, 12, 16]\n",
       "  \n",
       "  Pipelined reduces:\n",
       "  &gt;&gt;&gt; from operator import add\n",
       "  &gt;&gt;&gt; rdd.map(lambda x: 2 * x).reduce(add)\n",
       "  20\n",
       "  &gt;&gt;&gt; rdd.flatMap(lambda x: [x, x]).reduce(add)\n",
       "  20\n",
       "  \n",
       "  Method resolution order:\n",
       "      PipelinedRDD\n",
       "      RDD\n",
       "      builtins.object\n",
       "  \n",
       "  Methods defined here:\n",
       "  \n",
       "  __init__(self, prev, func, preservesPartitioning=False, isFromBarrier=False)\n",
       "      Initialize self.  See help(type(self)) for accurate signature.\n",
       "  \n",
       "  getNumPartitions(self)\n",
       "      Returns the number of partitions in RDD\n",
       "      \n",
       "      &gt;&gt;&gt; rdd = sc.parallelize([1, 2, 3, 4], 2)\n",
       "      &gt;&gt;&gt; rdd.getNumPartitions()\n",
       "      2\n",
       "  \n",
       "  id(self)\n",
       "      A unique ID for this RDD (within its SparkContext).\n",
       "  \n",
       "  ----------------------------------------------------------------------\n",
       "  Methods inherited from RDD:\n",
       "  \n",
       "  __add__(self, other)\n",
       "      Return the union of this RDD and another one.\n",
       "      \n",
       "      &gt;&gt;&gt; rdd = sc.parallelize([1, 1, 2, 3])\n",
       "      &gt;&gt;&gt; (rdd + rdd).collect()\n",
       "      [1, 1, 2, 3, 1, 1, 2, 3]\n",
       "  \n",
       "  __getnewargs__(self)\n",
       "  \n",
       "  __repr__(self)\n",
       "      Return repr(self).\n",
       "  \n",
       "  aggregate(self, zeroValue, seqOp, combOp)\n",
       "      Aggregate the elements of each partition, and then the results for all\n",
       "      the partitions, using a given combine functions and a neutral &#34;zero\n",
       "      value.&#34;\n",
       "      \n",
       "      The functions ``op(t1, t2)`` is allowed to modify ``t1`` and return it\n",
       "      as its result value to avoid object allocation; however, it should not\n",
       "      modify ``t2``.\n",
       "      \n",
       "      The first function (seqOp) can return a different result type, U, than\n",
       "      the type of this RDD. Thus, we need one operation for merging a T into\n",
       "      an U and one operation for merging two U\n",
       "      \n",
       "      &gt;&gt;&gt; seqOp = (lambda x, y: (x[0] + y, x[1] + 1))\n",
       "      &gt;&gt;&gt; combOp = (lambda x, y: (x[0] + y[0], x[1] + y[1]))\n",
       "      &gt;&gt;&gt; sc.parallelize([1, 2, 3, 4]).aggregate((0, 0), seqOp, combOp)\n",
       "      (10, 4)\n",
       "      &gt;&gt;&gt; sc.parallelize([]).aggregate((0, 0), seqOp, combOp)\n",
       "      (0, 0)\n",
       "  \n",
       "  aggregateByKey(self, zeroValue, seqFunc, combFunc, numPartitions=None, partitionFunc=&lt;function portable_hash at 0x7f7f8c68fb90&gt;)\n",
       "      Aggregate the values of each key, using given combine functions and a neutral\n",
       "      &#34;zero value&#34;. This function can return a different result type, U, than the type\n",
       "      of the values in this RDD, V. Thus, we need one operation for merging a V into\n",
       "      a U and one operation for merging two U&#39;s, The former operation is used for merging\n",
       "      values within a partition, and the latter is used for merging values between\n",
       "      partitions. To avoid memory allocation, both of these functions are\n",
       "      allowed to modify and return their first argument instead of creating a new U.\n",
       "  \n",
       "  barrier(self)\n",
       "      .. note:: Experimental\n",
       "      \n",
       "      Marks the current stage as a barrier stage, where Spark must launch all tasks together.\n",
       "      In case of a task failure, instead of only restarting the failed task, Spark will abort the\n",
       "      entire stage and relaunch all tasks for this stage.\n",
       "      The barrier execution mode feature is experimental and it only handles limited scenarios.\n",
       "      Please read the linked SPIP and design docs to understand the limitations and future plans.\n",
       "      \n",
       "      :return: an :class:`RDDBarrier` instance that provides actions within a barrier stage.\n",
       "      \n",
       "      .. seealso:: :class:`BarrierTaskContext`\n",
       "      .. seealso:: `SPIP: Barrier Execution Mode\n",
       "          &lt;http://jira.apache.org/jira/browse/SPARK-24374&gt;`_\n",
       "      .. seealso:: `Design Doc &lt;https://jira.apache.org/jira/browse/SPARK-24582&gt;`_\n",
       "      \n",
       "      .. versionadded:: 2.4.0\n",
       "  \n",
       "  cache(self)\n",
       "      Persist this RDD with the default storage level (`MEMORY_ONLY`).\n",
       "  \n",
       "  cartesian(self, other)\n",
       "      Return the Cartesian product of this RDD and another one, that is, the\n",
       "      RDD of all pairs of elements ``(a, b)`` where ``a`` is in `self` and\n",
       "      ``b`` is in `other`.\n",
       "      \n",
       "      &gt;&gt;&gt; rdd = sc.parallelize([1, 2])\n",
       "      &gt;&gt;&gt; sorted(rdd.cartesian(rdd).collect())\n",
       "      [(1, 1), (1, 2), (2, 1), (2, 2)]\n",
       "  \n",
       "  checkpoint(self)\n",
       "      Mark this RDD for checkpointing. It will be saved to a file inside the\n",
       "      checkpoint directory set with :meth:`SparkContext.setCheckpointDir` and\n",
       "      all references to its parent RDDs will be removed. This function must\n",
       "      be called before any job has been executed on this RDD. It is strongly\n",
       "      recommended that this RDD is persisted in memory, otherwise saving it\n",
       "      on a file will require recomputation.\n",
       "  \n",
       "  coalesce(self, numPartitions, shuffle=False)\n",
       "      Return a new RDD that is reduced into `numPartitions` partitions.\n",
       "      \n",
       "      &gt;&gt;&gt; sc.parallelize([1, 2, 3, 4, 5], 3).glom().collect()\n",
       "      [[1], [2, 3], [4, 5]]\n",
       "      &gt;&gt;&gt; sc.parallelize([1, 2, 3, 4, 5], 3).coalesce(1).glom().collect()\n",
       "      [[1, 2, 3, 4, 5]]\n",
       "  \n",
       "  cogroup(self, other, numPartitions=None)\n",
       "      For each key k in `self` or `other`, return a resulting RDD that\n",
       "      contains a tuple with the list of values for that key in `self` as\n",
       "      well as `other`.\n",
       "      \n",
       "      &gt;&gt;&gt; x = sc.parallelize([(&#34;a&#34;, 1), (&#34;b&#34;, 4)])\n",
       "      &gt;&gt;&gt; y = sc.parallelize([(&#34;a&#34;, 2)])\n",
       "      &gt;&gt;&gt; [(x, tuple(map(list, y))) for x, y in sorted(list(x.cogroup(y).collect()))]\n",
       "      [(&#39;a&#39;, ([1], [2])), (&#39;b&#39;, ([4], []))]\n",
       "  \n",
       "  collect(self)\n",
       "      Return a list that contains all of the elements in this RDD.\n",
       "      \n",
       "      .. note:: This method should only be used if the resulting array is expected\n",
       "          to be small, as all the data is loaded into the driver&#39;s memory.\n",
       "  \n",
       "  collectAsMap(self)\n",
       "      Return the key-value pairs in this RDD to the master as a dictionary.\n",
       "      \n",
       "      .. note:: this method should only be used if the resulting data is expected\n",
       "          to be small, as all the data is loaded into the driver&#39;s memory.\n",
       "      \n",
       "      &gt;&gt;&gt; m = sc.parallelize([(1, 2), (3, 4)]).collectAsMap()\n",
       "      &gt;&gt;&gt; m[1]\n",
       "      2\n",
       "      &gt;&gt;&gt; m[3]\n",
       "      4\n",
       "  \n",
       "  collectWithJobGroup(self, groupId, description, interruptOnCancel=False)\n",
       "      .. note:: Experimental\n",
       "      \n",
       "      When collect rdd, use this method to specify job group.\n",
       "      \n",
       "      .. versionadded:: 3.0.0\n",
       "  \n",
       "  combineByKey(self, createCombiner, mergeValue, mergeCombiners, numPartitions=None, partitionFunc=&lt;function portable_hash at 0x7f7f8c68fb90&gt;)\n",
       "      Generic function to combine the elements for each key using a custom\n",
       "      set of aggregation functions.\n",
       "      \n",
       "      Turns an RDD[(K, V)] into a result of type RDD[(K, C)], for a &#34;combined\n",
       "      type&#34; C.\n",
       "      \n",
       "      Users provide three functions:\n",
       "      \n",
       "          - `createCombiner`, which turns a V into a C (e.g., creates\n",
       "            a one-element list)\n",
       "          - `mergeValue`, to merge a V into a C (e.g., adds it to the end of\n",
       "            a list)\n",
       "          - `mergeCombiners`, to combine two C&#39;s into a single one (e.g., merges\n",
       "            the lists)\n",
       "      \n",
       "      To avoid memory allocation, both mergeValue and mergeCombiners are allowed to\n",
       "      modify and return their first argument instead of creating a new C.\n",
       "      \n",
       "      In addition, users can control the partitioning of the output RDD.\n",
       "      \n",
       "      .. note:: V and C can be different -- for example, one might group an RDD of type\n",
       "          (Int, Int) into an RDD of type (Int, List[Int]).\n",
       "      \n",
       "      &gt;&gt;&gt; x = sc.parallelize([(&#34;a&#34;, 1), (&#34;b&#34;, 1), (&#34;a&#34;, 2)])\n",
       "      &gt;&gt;&gt; def to_list(a):\n",
       "      ...     return [a]\n",
       "      ...\n",
       "      &gt;&gt;&gt; def append(a, b):\n",
       "      ...     a.append(b)\n",
       "      ...     return a\n",
       "      ...\n",
       "      &gt;&gt;&gt; def extend(a, b):\n",
       "      ...     a.extend(b)\n",
       "      ...     return a\n",
       "      ...\n",
       "      &gt;&gt;&gt; sorted(x.combineByKey(to_list, append, extend).collect())\n",
       "      [(&#39;a&#39;, [1, 2]), (&#39;b&#39;, [1])]\n",
       "  \n",
       "  count(self)\n",
       "      Return the number of elements in this RDD.\n",
       "      \n",
       "      &gt;&gt;&gt; sc.parallelize([2, 3, 4]).count()\n",
       "      3\n",
       "  \n",
       "  countApprox(self, timeout, confidence=0.95)\n",
       "      Approximate version of count() that returns a potentially incomplete\n",
       "      result within a timeout, even if not all tasks have finished.\n",
       "      \n",
       "      &gt;&gt;&gt; rdd = sc.parallelize(range(1000), 10)\n",
       "      &gt;&gt;&gt; rdd.countApprox(1000, 1.0)\n",
       "      1000\n",
       "  \n",
       "  countApproxDistinct(self, relativeSD=0.05)\n",
       "      Return approximate number of distinct elements in the RDD.\n",
       "      \n",
       "      The algorithm used is based on streamlib&#39;s implementation of\n",
       "      `&#34;HyperLogLog in Practice: Algorithmic Engineering of a State\n",
       "      of The Art Cardinality Estimation Algorithm&#34;, available here\n",
       "      &lt;https://doi.org/10.1145/2452376.2452456&gt;`_.\n",
       "      \n",
       "      :param relativeSD: Relative accuracy. Smaller values create\n",
       "                         counters that require more space.\n",
       "                         It must be greater than 0.000017.\n",
       "      \n",
       "      &gt;&gt;&gt; n = sc.parallelize(range(1000)).map(str).countApproxDistinct()\n",
       "      &gt;&gt;&gt; 900 &lt; n &lt; 1100\n",
       "      True\n",
       "      &gt;&gt;&gt; n = sc.parallelize([i % 20 for i in range(1000)]).countApproxDistinct()\n",
       "      &gt;&gt;&gt; 16 &lt; n &lt; 24\n",
       "      True\n",
       "  \n",
       "  countByKey(self)\n",
       "      Count the number of elements for each key, and return the result to the\n",
       "      master as a dictionary.\n",
       "      \n",
       "      &gt;&gt;&gt; rdd = sc.parallelize([(&#34;a&#34;, 1), (&#34;b&#34;, 1), (&#34;a&#34;, 1)])\n",
       "      &gt;&gt;&gt; sorted(rdd.countByKey().items())\n",
       "      [(&#39;a&#39;, 2), (&#39;b&#39;, 1)]\n",
       "  \n",
       "  countByValue(self)\n",
       "      Return the count of each unique value in this RDD as a dictionary of\n",
       "      (value, count) pairs.\n",
       "      \n",
       "      &gt;&gt;&gt; sorted(sc.parallelize([1, 2, 1, 2, 2], 2).countByValue().items())\n",
       "      [(1, 2), (2, 3)]\n",
       "  \n",
       "  distinct(self, numPartitions=None)\n",
       "      Return a new RDD containing the distinct elements in this RDD.\n",
       "      \n",
       "      &gt;&gt;&gt; sorted(sc.parallelize([1, 1, 2, 3]).distinct().collect())\n",
       "      [1, 2, 3]\n",
       "  \n",
       "  filter(self, f)\n",
       "      Return a new RDD containing only the elements that satisfy a predicate.\n",
       "      \n",
       "      &gt;&gt;&gt; rdd = sc.parallelize([1, 2, 3, 4, 5])\n",
       "      &gt;&gt;&gt; rdd.filter(lambda x: x % 2 == 0).collect()\n",
       "      [2, 4]\n",
       "  \n",
       "  first(self)\n",
       "      Return the first element in this RDD.\n",
       "      \n",
       "      &gt;&gt;&gt; sc.parallelize([2, 3, 4]).first()\n",
       "      2\n",
       "      &gt;&gt;&gt; sc.parallelize([]).first()\n",
       "      Traceback (most recent call last):\n",
       "          ...\n",
       "      ValueError: RDD is empty\n",
       "  \n",
       "  flatMap(self, f, preservesPartitioning=False)\n",
       "      Return a new RDD by first applying a function to all elements of this\n",
       "      RDD, and then flattening the results.\n",
       "      \n",
       "      &gt;&gt;&gt; rdd = sc.parallelize([2, 3, 4])\n",
       "      &gt;&gt;&gt; sorted(rdd.flatMap(lambda x: range(1, x)).collect())\n",
       "      [1, 1, 1, 2, 2, 3]\n",
       "      &gt;&gt;&gt; sorted(rdd.flatMap(lambda x: [(x, x), (x, x)]).collect())\n",
       "      [(2, 2), (2, 2), (3, 3), (3, 3), (4, 4), (4, 4)]\n",
       "  \n",
       "  flatMapValues(self, f)\n",
       "      Pass each value in the key-value pair RDD through a flatMap function\n",
       "      without changing the keys; this also retains the original RDD&#39;s\n",
       "      partitioning.\n",
       "      \n",
       "      &gt;&gt;&gt; x = sc.parallelize([(&#34;a&#34;, [&#34;x&#34;, &#34;y&#34;, &#34;z&#34;]), (&#34;b&#34;, [&#34;p&#34;, &#34;r&#34;])])\n",
       "      &gt;&gt;&gt; def f(x): return x\n",
       "      &gt;&gt;&gt; x.flatMapValues(f).collect()\n",
       "      [(&#39;a&#39;, &#39;x&#39;), (&#39;a&#39;, &#39;y&#39;), (&#39;a&#39;, &#39;z&#39;), (&#39;b&#39;, &#39;p&#39;), (&#39;b&#39;, &#39;r&#39;)]\n",
       "  \n",
       "  fold(self, zeroValue, op)\n",
       "      Aggregate the elements of each partition, and then the results for all\n",
       "      the partitions, using a given associative function and a neutral &#34;zero value.&#34;\n",
       "      \n",
       "      The function ``op(t1, t2)`` is allowed to modify ``t1`` and return it\n",
       "      as its result value to avoid object allocation; however, it should not\n",
       "      modify ``t2``.\n",
       "      \n",
       "      This behaves somewhat differently from fold operations implemented\n",
       "      for non-distributed collections in functional languages like Scala.\n",
       "      This fold operation may be applied to partitions individually, and then\n",
       "      fold those results into the final result, rather than apply the fold\n",
       "      to each element sequentially in some defined ordering. For functions\n",
       "      that are not commutative, the result may differ from that of a fold\n",
       "      applied to a non-distributed collection.\n",
       "      \n",
       "      &gt;&gt;&gt; from operator import add\n",
       "      &gt;&gt;&gt; sc.parallelize([1, 2, 3, 4, 5]).fold(0, add)\n",
       "      15\n",
       "  \n",
       "  foldByKey(self, zeroValue, func, numPartitions=None, partitionFunc=&lt;function portable_hash at 0x7f7f8c68fb90&gt;)\n",
       "      Merge the values for each key using an associative function &#34;func&#34;\n",
       "      and a neutral &#34;zeroValue&#34; which may be added to the result an\n",
       "      arbitrary number of times, and must not change the result\n",
       "      (e.g., 0 for addition, or 1 for multiplication.).\n",
       "      \n",
       "      &gt;&gt;&gt; rdd = sc.parallelize([(&#34;a&#34;, 1), (&#34;b&#34;, 1), (&#34;a&#34;, 1)])\n",
       "      &gt;&gt;&gt; from operator import add\n",
       "      &gt;&gt;&gt; sorted(rdd.foldByKey(0, add).collect())\n",
       "      [(&#39;a&#39;, 2), (&#39;b&#39;, 1)]\n",
       "  \n",
       "  foreach(self, f)\n",
       "      Applies a function to all elements of this RDD.\n",
       "      \n",
       "      &gt;&gt;&gt; def f(x): print(x)\n",
       "      &gt;&gt;&gt; sc.parallelize([1, 2, 3, 4, 5]).foreach(f)\n",
       "  \n",
       "  foreachPartition(self, f)\n",
       "      Applies a function to each partition of this RDD.\n",
       "      \n",
       "      &gt;&gt;&gt; def f(iterator):\n",
       "      ...     for x in iterator:\n",
       "      ...          print(x)\n",
       "      &gt;&gt;&gt; sc.parallelize([1, 2, 3, 4, 5]).foreachPartition(f)\n",
       "  \n",
       "  fullOuterJoin(self, other, numPartitions=None)\n",
       "      Perform a right outer join of `self` and `other`.\n",
       "      \n",
       "      For each element (k, v) in `self`, the resulting RDD will either\n",
       "      contain all pairs (k, (v, w)) for w in `other`, or the pair\n",
       "      (k, (v, None)) if no elements in `other` have key k.\n",
       "      \n",
       "      Similarly, for each element (k, w) in `other`, the resulting RDD will\n",
       "      either contain all pairs (k, (v, w)) for v in `self`, or the pair\n",
       "      (k, (None, w)) if no elements in `self` have key k.\n",
       "      \n",
       "      Hash-partitions the resulting RDD into the given number of partitions.\n",
       "      \n",
       "      &gt;&gt;&gt; x = sc.parallelize([(&#34;a&#34;, 1), (&#34;b&#34;, 4)])\n",
       "      &gt;&gt;&gt; y = sc.parallelize([(&#34;a&#34;, 2), (&#34;c&#34;, 8)])\n",
       "      &gt;&gt;&gt; sorted(x.fullOuterJoin(y).collect())\n",
       "      [(&#39;a&#39;, (1, 2)), (&#39;b&#39;, (4, None)), (&#39;c&#39;, (None, 8))]\n",
       "  \n",
       "  getCheckpointFile(self)\n",
       "      Gets the name of the file to which this RDD was checkpointed\n",
       "      \n",
       "      Not defined if RDD is checkpointed locally.\n",
       "  \n",
       "  getStorageLevel(self)\n",
       "      Get the RDD&#39;s current storage level.\n",
       "      \n",
       "      &gt;&gt;&gt; rdd1 = sc.parallelize([1,2])\n",
       "      &gt;&gt;&gt; rdd1.getStorageLevel()\n",
       "      StorageLevel(False, False, False, False, 1)\n",
       "      &gt;&gt;&gt; print(rdd1.getStorageLevel())\n",
       "      Serialized 1x Replicated\n",
       "  \n",
       "  glom(self)\n",
       "      Return an RDD created by coalescing all elements within each partition\n",
       "      into a list.\n",
       "      \n",
       "      &gt;&gt;&gt; rdd = sc.parallelize([1, 2, 3, 4], 2)\n",
       "      &gt;&gt;&gt; sorted(rdd.glom().collect())\n",
       "      [[1, 2], [3, 4]]\n",
       "  \n",
       "  groupBy(self, f, numPartitions=None, partitionFunc=&lt;function portable_hash at 0x7f7f8c68fb90&gt;)\n",
       "      Return an RDD of grouped items.\n",
       "      \n",
       "      &gt;&gt;&gt; rdd = sc.parallelize([1, 1, 2, 3, 5, 8])\n",
       "      &gt;&gt;&gt; result = rdd.groupBy(lambda x: x % 2).collect()\n",
       "      &gt;&gt;&gt; sorted([(x, sorted(y)) for (x, y) in result])\n",
       "      [(0, [2, 8]), (1, [1, 1, 3, 5])]\n",
       "  \n",
       "  groupByKey(self, numPartitions=None, partitionFunc=&lt;function portable_hash at 0x7f7f8c68fb90&gt;)\n",
       "      Group the values for each key in the RDD into a single sequence.\n",
       "      Hash-partitions the resulting RDD with numPartitions partitions.\n",
       "      \n",
       "      .. note:: If you are grouping in order to perform an aggregation (such as a\n",
       "          sum or average) over each key, using reduceByKey or aggregateByKey will\n",
       "          provide much better performance.\n",
       "      \n",
       "      &gt;&gt;&gt; rdd = sc.parallelize([(&#34;a&#34;, 1), (&#34;b&#34;, 1), (&#34;a&#34;, 1)])\n",
       "      &gt;&gt;&gt; sorted(rdd.groupByKey().mapValues(len).collect())\n",
       "      [(&#39;a&#39;, 2), (&#39;b&#39;, 1)]\n",
       "      &gt;&gt;&gt; sorted(rdd.groupByKey().mapValues(list).collect())\n",
       "      [(&#39;a&#39;, [1, 1]), (&#39;b&#39;, [1])]\n",
       "  \n",
       "  groupWith(self, other, *others)\n",
       "      Alias for cogroup but with support for multiple RDDs.\n",
       "      \n",
       "      &gt;&gt;&gt; w = sc.parallelize([(&#34;a&#34;, 5), (&#34;b&#34;, 6)])\n",
       "      &gt;&gt;&gt; x = sc.parallelize([(&#34;a&#34;, 1), (&#34;b&#34;, 4)])\n",
       "      &gt;&gt;&gt; y = sc.parallelize([(&#34;a&#34;, 2)])\n",
       "      &gt;&gt;&gt; z = sc.parallelize([(&#34;b&#34;, 42)])\n",
       "      &gt;&gt;&gt; [(x, tuple(map(list, y))) for x, y in sorted(list(w.groupWith(x, y, z).collect()))]\n",
       "      [(&#39;a&#39;, ([5], [1], [2], [])), (&#39;b&#39;, ([6], [4], [], [42]))]\n",
       "  \n",
       "  histogram(self, buckets)\n",
       "      Compute a histogram using the provided buckets. The buckets\n",
       "      are all open to the right except for the last which is closed.\n",
       "      e.g. [1,10,20,50] means the buckets are [1,10) [10,20) [20,50],\n",
       "      which means 1&lt;=x&lt;10, 10&lt;=x&lt;20, 20&lt;=x&lt;=50. And on the input of 1\n",
       "      and 50 we would have a histogram of 1,0,1.\n",
       "      \n",
       "      If your histogram is evenly spaced (e.g. [0, 10, 20, 30]),\n",
       "      this can be switched from an O(log n) inseration to O(1) per\n",
       "      element (where n is the number of buckets).\n",
       "      \n",
       "      Buckets must be sorted, not contain any duplicates, and have\n",
       "      at least two elements.\n",
       "      \n",
       "      If `buckets` is a number, it will generate buckets which are\n",
       "      evenly spaced between the minimum and maximum of the RDD. For\n",
       "      example, if the min value is 0 and the max is 100, given `buckets`\n",
       "      as 2, the resulting buckets will be [0,50) [50,100]. `buckets` must\n",
       "      be at least 1. An exception is raised if the RDD contains infinity.\n",
       "      If the elements in the RDD do not vary (max == min), a single bucket\n",
       "      will be used.\n",
       "      \n",
       "      The return value is a tuple of buckets and histogram.\n",
       "      \n",
       "      &gt;&gt;&gt; rdd = sc.parallelize(range(51))\n",
       "      &gt;&gt;&gt; rdd.histogram(2)\n",
       "      ([0, 25, 50], [25, 26])\n",
       "      &gt;&gt;&gt; rdd.histogram([0, 5, 25, 50])\n",
       "      ([0, 5, 25, 50], [5, 20, 26])\n",
       "      &gt;&gt;&gt; rdd.histogram([0, 15, 30, 45, 60])  # evenly spaced buckets\n",
       "      ([0, 15, 30, 45, 60], [15, 15, 15, 6])\n",
       "      &gt;&gt;&gt; rdd = sc.parallelize([&#34;ab&#34;, &#34;ac&#34;, &#34;b&#34;, &#34;bd&#34;, &#34;ef&#34;])\n",
       "      &gt;&gt;&gt; rdd.histogram((&#34;a&#34;, &#34;b&#34;, &#34;c&#34;))\n",
       "      ((&#39;a&#39;, &#39;b&#39;, &#39;c&#39;), [2, 2])\n",
       "  \n",
       "  intersection(self, other)\n",
       "      Return the intersection of this RDD and another one. The output will\n",
       "      not contain any duplicate elements, even if the input RDDs did.\n",
       "      \n",
       "      .. note:: This method performs a shuffle internally.\n",
       "      \n",
       "      &gt;&gt;&gt; rdd1 = sc.parallelize([1, 10, 2, 3, 4, 5])\n",
       "      &gt;&gt;&gt; rdd2 = sc.parallelize([1, 6, 2, 3, 7, 8])\n",
       "      &gt;&gt;&gt; rdd1.intersection(rdd2).collect()\n",
       "      [1, 2, 3]\n",
       "  \n",
       "  isCheckpointed(self)\n",
       "      Return whether this RDD is checkpointed and materialized, either reliably or locally.\n",
       "  \n",
       "  isEmpty(self)\n",
       "      Returns true if and only if the RDD contains no elements at all.\n",
       "      \n",
       "      .. note:: an RDD may be empty even when it has at least 1 partition.\n",
       "      \n",
       "      &gt;&gt;&gt; sc.parallelize([]).isEmpty()\n",
       "      True\n",
       "      &gt;&gt;&gt; sc.parallelize([1]).isEmpty()\n",
       "      False\n",
       "  \n",
       "  isLocallyCheckpointed(self)\n",
       "      Return whether this RDD is marked for local checkpointing.\n",
       "      \n",
       "      Exposed for testing.\n",
       "  \n",
       "  join(self, other, numPartitions=None)\n",
       "      Return an RDD containing all pairs of elements with matching keys in\n",
       "      `self` and `other`.\n",
       "      \n",
       "      Each pair of elements will be returned as a (k, (v1, v2)) tuple, where\n",
       "      (k, v1) is in `self` and (k, v2) is in `other`.\n",
       "      \n",
       "      Performs a hash join across the cluster.\n",
       "      \n",
       "      &gt;&gt;&gt; x = sc.parallelize([(&#34;a&#34;, 1), (&#34;b&#34;, 4)])\n",
       "      &gt;&gt;&gt; y = sc.parallelize([(&#34;a&#34;, 2), (&#34;a&#34;, 3)])\n",
       "      &gt;&gt;&gt; sorted(x.join(y).collect())\n",
       "      [(&#39;a&#39;, (1, 2)), (&#39;a&#39;, (1, 3))]\n",
       "  \n",
       "  keyBy(self, f)\n",
       "      Creates tuples of the elements in this RDD by applying `f`.\n",
       "      \n",
       "      &gt;&gt;&gt; x = sc.parallelize(range(0,3)).keyBy(lambda x: x*x)\n",
       "      &gt;&gt;&gt; y = sc.parallelize(zip(range(0,5), range(0,5)))\n",
       "      &gt;&gt;&gt; [(x, list(map(list, y))) for x, y in sorted(x.cogroup(y).collect())]\n",
       "      [(0, [[0], [0]]), (1, [[1], [1]]), (2, [[], [2]]), (3, [[], [3]]), (4, [[2], [4]])]\n",
       "  \n",
       "  keys(self)\n",
       "      Return an RDD with the keys of each tuple.\n",
       "      \n",
       "      &gt;&gt;&gt; m = sc.parallelize([(1, 2), (3, 4)]).keys()\n",
       "      &gt;&gt;&gt; m.collect()\n",
       "      [1, 3]\n",
       "  \n",
       "  leftOuterJoin(self, other, numPartitions=None)\n",
       "      Perform a left outer join of `self` and `other`.\n",
       "      \n",
       "      For each element (k, v) in `self`, the resulting RDD will either\n",
       "      contain all pairs (k, (v, w)) for w in `other`, or the pair\n",
       "      (k, (v, None)) if no elements in `other` have key k.\n",
       "      \n",
       "      Hash-partitions the resulting RDD into the given number of partitions.\n",
       "      \n",
       "      &gt;&gt;&gt; x = sc.parallelize([(&#34;a&#34;, 1), (&#34;b&#34;, 4)])\n",
       "      &gt;&gt;&gt; y = sc.parallelize([(&#34;a&#34;, 2)])\n",
       "      &gt;&gt;&gt; sorted(x.leftOuterJoin(y).collect())\n",
       "      [(&#39;a&#39;, (1, 2)), (&#39;b&#39;, (4, None))]\n",
       "  \n",
       "  localCheckpoint(self)\n",
       "      Mark this RDD for local checkpointing using Spark&#39;s existing caching layer.\n",
       "      \n",
       "      This method is for users who wish to truncate RDD lineages while skipping the expensive\n",
       "      step of replicating the materialized data in a reliable distributed file system. This is\n",
       "      useful for RDDs with long lineages that need to be truncated periodically (e.g. GraphX).\n",
       "      \n",
       "      Local checkpointing sacrifices fault-tolerance for performance. In particular, checkpointed\n",
       "      data is written to ephemeral local storage in the executors instead of to a reliable,\n",
       "      fault-tolerant storage. The effect is that if an executor fails during the computation,\n",
       "      the checkpointed data may no longer be accessible, causing an irrecoverable job failure.\n",
       "      \n",
       "      This is NOT safe to use with dynamic allocation, which removes executors along\n",
       "      with their cached blocks. If you must use both features, you are advised to set\n",
       "      `spark.dynamicAllocation.cachedExecutorIdleTimeout` to a high value.\n",
       "      \n",
       "      The checkpoint directory set through :meth:`SparkContext.setCheckpointDir` is not used.\n",
       "  \n",
       "  lookup(self, key)\n",
       "      Return the list of values in the RDD for key `key`. This operation\n",
       "      is done efficiently if the RDD has a known partitioner by only\n",
       "      searching the partition that the key maps to.\n",
       "      \n",
       "      &gt;&gt;&gt; l = range(1000)\n",
       "      &gt;&gt;&gt; rdd = sc.parallelize(zip(l, l), 10)\n",
       "      &gt;&gt;&gt; rdd.lookup(42)  # slow\n",
       "      [42]\n",
       "      &gt;&gt;&gt; sorted = rdd.sortByKey()\n",
       "      &gt;&gt;&gt; sorted.lookup(42)  # fast\n",
       "      [42]\n",
       "      &gt;&gt;&gt; sorted.lookup(1024)\n",
       "      []\n",
       "      &gt;&gt;&gt; rdd2 = sc.parallelize([((&#39;a&#39;, &#39;b&#39;), &#39;c&#39;)]).groupByKey()\n",
       "      &gt;&gt;&gt; list(rdd2.lookup((&#39;a&#39;, &#39;b&#39;))[0])\n",
       "      [&#39;c&#39;]\n",
       "  \n",
       "  map(self, f, preservesPartitioning=False)\n",
       "      Return a new RDD by applying a function to each element of this RDD.\n",
       "      \n",
       "      &gt;&gt;&gt; rdd = sc.parallelize([&#34;b&#34;, &#34;a&#34;, &#34;c&#34;])\n",
       "      &gt;&gt;&gt; sorted(rdd.map(lambda x: (x, 1)).collect())\n",
       "      [(&#39;a&#39;, 1), (&#39;b&#39;, 1), (&#39;c&#39;, 1)]\n",
       "  \n",
       "  mapPartitions(self, f, preservesPartitioning=False)\n",
       "      Return a new RDD by applying a function to each partition of this RDD.\n",
       "      \n",
       "      &gt;&gt;&gt; rdd = sc.parallelize([1, 2, 3, 4], 2)\n",
       "      &gt;&gt;&gt; def f(iterator): yield sum(iterator)\n",
       "      &gt;&gt;&gt; rdd.mapPartitions(f).collect()\n",
       "      [3, 7]\n",
       "  \n",
       "  mapPartitionsWithIndex(self, f, preservesPartitioning=False)\n",
       "      Return a new RDD by applying a function to each partition of this RDD,\n",
       "      while tracking the index of the original partition.\n",
       "      \n",
       "      &gt;&gt;&gt; rdd = sc.parallelize([1, 2, 3, 4], 4)\n",
       "      &gt;&gt;&gt; def f(splitIndex, iterator): yield splitIndex\n",
       "      &gt;&gt;&gt; rdd.mapPartitionsWithIndex(f).sum()\n",
       "      6\n",
       "  \n",
       "  mapPartitionsWithSplit(self, f, preservesPartitioning=False)\n",
       "      Deprecated: use mapPartitionsWithIndex instead.\n",
       "      \n",
       "      Return a new RDD by applying a function to each partition of this RDD,\n",
       "      while tracking the index of the original partition.\n",
       "      \n",
       "      &gt;&gt;&gt; rdd = sc.parallelize([1, 2, 3, 4], 4)\n",
       "      &gt;&gt;&gt; def f(splitIndex, iterator): yield splitIndex\n",
       "      &gt;&gt;&gt; rdd.mapPartitionsWithSplit(f).sum()\n",
       "      6\n",
       "  \n",
       "  mapValues(self, f)\n",
       "      Pass each value in the key-value pair RDD through a map function\n",
       "      without changing the keys; this also retains the original RDD&#39;s\n",
       "      partitioning.\n",
       "      \n",
       "      &gt;&gt;&gt; x = sc.parallelize([(&#34;a&#34;, [&#34;apple&#34;, &#34;banana&#34;, &#34;lemon&#34;]), (&#34;b&#34;, [&#34;grapes&#34;])])\n",
       "      &gt;&gt;&gt; def f(x): return len(x)\n",
       "      &gt;&gt;&gt; x.mapValues(f).collect()\n",
       "      [(&#39;a&#39;, 3), (&#39;b&#39;, 1)]\n",
       "  \n",
       "  max(self, key=None)\n",
       "      Find the maximum item in this RDD.\n",
       "      \n",
       "      :param key: A function used to generate key for comparing\n",
       "\n",
       "*** WARNING: skipped 741 bytes of output ***\n",
       "\n",
       "      \n",
       "      &gt;&gt;&gt; rdd = sc.parallelize([2.0, 5.0, 43.0, 10.0])\n",
       "      &gt;&gt;&gt; rdd.min()\n",
       "      2.0\n",
       "      &gt;&gt;&gt; rdd.min(key=str)\n",
       "      10.0\n",
       "  \n",
       "  name(self)\n",
       "      Return the name of this RDD.\n",
       "  \n",
       "  partitionBy(self, numPartitions, partitionFunc=&lt;function portable_hash at 0x7f7f8c68fb90&gt;)\n",
       "      Return a copy of the RDD partitioned using the specified partitioner.\n",
       "      \n",
       "      &gt;&gt;&gt; pairs = sc.parallelize([1, 2, 3, 4, 2, 4, 1]).map(lambda x: (x, x))\n",
       "      &gt;&gt;&gt; sets = pairs.partitionBy(2).glom().collect()\n",
       "      &gt;&gt;&gt; len(set(sets[0]).intersection(set(sets[1])))\n",
       "      0\n",
       "  \n",
       "  persist(self, storageLevel=StorageLevel(False, True, False, False, 1))\n",
       "      Set this RDD&#39;s storage level to persist its values across operations\n",
       "      after the first time it is computed. This can only be used to assign\n",
       "      a new storage level if the RDD does not have a storage level set yet.\n",
       "      If no storage level is specified defaults to (`MEMORY_ONLY`).\n",
       "      \n",
       "      &gt;&gt;&gt; rdd = sc.parallelize([&#34;b&#34;, &#34;a&#34;, &#34;c&#34;])\n",
       "      &gt;&gt;&gt; rdd.persist().is_cached\n",
       "      True\n",
       "  \n",
       "  pipe(self, command, env=None, checkCode=False)\n",
       "      Return an RDD created by piping elements to a forked external process.\n",
       "      \n",
       "      &gt;&gt;&gt; sc.parallelize([&#39;1&#39;, &#39;2&#39;, &#39;&#39;, &#39;3&#39;]).pipe(&#39;cat&#39;).collect()\n",
       "      [&#39;1&#39;, &#39;2&#39;, &#39;&#39;, &#39;3&#39;]\n",
       "      \n",
       "      :param checkCode: whether or not to check the return value of the shell command.\n",
       "  \n",
       "  randomSplit(self, weights, seed=None)\n",
       "      Randomly splits this RDD with the provided weights.\n",
       "      \n",
       "      :param weights: weights for splits, will be normalized if they don&#39;t sum to 1\n",
       "      :param seed: random seed\n",
       "      :return: split RDDs in a list\n",
       "      \n",
       "      &gt;&gt;&gt; rdd = sc.parallelize(range(500), 1)\n",
       "      &gt;&gt;&gt; rdd1, rdd2 = rdd.randomSplit([2, 3], 17)\n",
       "      &gt;&gt;&gt; len(rdd1.collect() + rdd2.collect())\n",
       "      500\n",
       "      &gt;&gt;&gt; 150 &lt; rdd1.count() &lt; 250\n",
       "      True\n",
       "      &gt;&gt;&gt; 250 &lt; rdd2.count() &lt; 350\n",
       "      True\n",
       "  \n",
       "  reduce(self, f)\n",
       "      Reduces the elements of this RDD using the specified commutative and\n",
       "      associative binary operator. Currently reduces partitions locally.\n",
       "      \n",
       "      &gt;&gt;&gt; from operator import add\n",
       "      &gt;&gt;&gt; sc.parallelize([1, 2, 3, 4, 5]).reduce(add)\n",
       "      15\n",
       "      &gt;&gt;&gt; sc.parallelize((2 for _ in range(10))).map(lambda x: 1).cache().reduce(add)\n",
       "      10\n",
       "      &gt;&gt;&gt; sc.parallelize([]).reduce(add)\n",
       "      Traceback (most recent call last):\n",
       "          ...\n",
       "      ValueError: Can not reduce() empty RDD\n",
       "  \n",
       "  reduceByKey(self, func, numPartitions=None, partitionFunc=&lt;function portable_hash at 0x7f7f8c68fb90&gt;)\n",
       "      Merge the values for each key using an associative and commutative reduce function.\n",
       "      \n",
       "      This will also perform the merging locally on each mapper before\n",
       "      sending results to a reducer, similarly to a &#34;combiner&#34; in MapReduce.\n",
       "      \n",
       "      Output will be partitioned with `numPartitions` partitions, or\n",
       "      the default parallelism level if `numPartitions` is not specified.\n",
       "      Default partitioner is hash-partition.\n",
       "      \n",
       "      &gt;&gt;&gt; from operator import add\n",
       "      &gt;&gt;&gt; rdd = sc.parallelize([(&#34;a&#34;, 1), (&#34;b&#34;, 1), (&#34;a&#34;, 1)])\n",
       "      &gt;&gt;&gt; sorted(rdd.reduceByKey(add).collect())\n",
       "      [(&#39;a&#39;, 2), (&#39;b&#39;, 1)]\n",
       "  \n",
       "  reduceByKeyLocally(self, func)\n",
       "      Merge the values for each key using an associative and commutative reduce function, but\n",
       "      return the results immediately to the master as a dictionary.\n",
       "      \n",
       "      This will also perform the merging locally on each mapper before\n",
       "      sending results to a reducer, similarly to a &#34;combiner&#34; in MapReduce.\n",
       "      \n",
       "      &gt;&gt;&gt; from operator import add\n",
       "      &gt;&gt;&gt; rdd = sc.parallelize([(&#34;a&#34;, 1), (&#34;b&#34;, 1), (&#34;a&#34;, 1)])\n",
       "      &gt;&gt;&gt; sorted(rdd.reduceByKeyLocally(add).items())\n",
       "      [(&#39;a&#39;, 2), (&#39;b&#39;, 1)]\n",
       "  \n",
       "  repartition(self, numPartitions)\n",
       "      Return a new RDD that has exactly numPartitions partitions.\n",
       "      \n",
       "      Can increase or decrease the level of parallelism in this RDD.\n",
       "      Internally, this uses a shuffle to redistribute data.\n",
       "      If you are decreasing the number of partitions in this RDD, consider\n",
       "      using `coalesce`, which can avoid performing a shuffle.\n",
       "      \n",
       "      &gt;&gt;&gt; rdd = sc.parallelize([1,2,3,4,5,6,7], 4)\n",
       "      &gt;&gt;&gt; sorted(rdd.glom().collect())\n",
       "      [[1], [2, 3], [4, 5], [6, 7]]\n",
       "      &gt;&gt;&gt; len(rdd.repartition(2).glom().collect())\n",
       "      2\n",
       "      &gt;&gt;&gt; len(rdd.repartition(10).glom().collect())\n",
       "      10\n",
       "  \n",
       "  repartitionAndSortWithinPartitions(self, numPartitions=None, partitionFunc=&lt;function portable_hash at 0x7f7f8c68fb90&gt;, ascending=True, keyfunc=&lt;function RDD.&lt;lambda&gt; at 0x7f7f8c54d290&gt;)\n",
       "      Repartition the RDD according to the given partitioner and, within each resulting partition,\n",
       "      sort records by their keys.\n",
       "      \n",
       "      &gt;&gt;&gt; rdd = sc.parallelize([(0, 5), (3, 8), (2, 6), (0, 8), (3, 8), (1, 3)])\n",
       "      &gt;&gt;&gt; rdd2 = rdd.repartitionAndSortWithinPartitions(2, lambda x: x % 2, True)\n",
       "      &gt;&gt;&gt; rdd2.glom().collect()\n",
       "      [[(0, 5), (0, 8), (2, 6)], [(1, 3), (3, 8), (3, 8)]]\n",
       "  \n",
       "  rightOuterJoin(self, other, numPartitions=None)\n",
       "      Perform a right outer join of `self` and `other`.\n",
       "      \n",
       "      For each element (k, w) in `other`, the resulting RDD will either\n",
       "      contain all pairs (k, (v, w)) for v in this, or the pair (k, (None, w))\n",
       "      if no elements in `self` have key k.\n",
       "      \n",
       "      Hash-partitions the resulting RDD into the given number of partitions.\n",
       "      \n",
       "      &gt;&gt;&gt; x = sc.parallelize([(&#34;a&#34;, 1), (&#34;b&#34;, 4)])\n",
       "      &gt;&gt;&gt; y = sc.parallelize([(&#34;a&#34;, 2)])\n",
       "      &gt;&gt;&gt; sorted(y.rightOuterJoin(x).collect())\n",
       "      [(&#39;a&#39;, (2, 1)), (&#39;b&#39;, (None, 4))]\n",
       "  \n",
       "  sample(self, withReplacement, fraction, seed=None)\n",
       "      Return a sampled subset of this RDD.\n",
       "      \n",
       "      :param withReplacement: can elements be sampled multiple times (replaced when sampled out)\n",
       "      :param fraction: expected size of the sample as a fraction of this RDD&#39;s size\n",
       "          without replacement: probability that each element is chosen; fraction must be [0, 1]\n",
       "          with replacement: expected number of times each element is chosen; fraction must be &gt;= 0\n",
       "      :param seed: seed for the random number generator\n",
       "      \n",
       "      .. note:: This is not guaranteed to provide exactly the fraction specified of the total\n",
       "          count of the given :class:`DataFrame`.\n",
       "      \n",
       "      &gt;&gt;&gt; rdd = sc.parallelize(range(100), 4)\n",
       "      &gt;&gt;&gt; 6 &lt;= rdd.sample(False, 0.1, 81).count() &lt;= 14\n",
       "      True\n",
       "  \n",
       "  sampleByKey(self, withReplacement, fractions, seed=None)\n",
       "      Return a subset of this RDD sampled by key (via stratified sampling).\n",
       "      Create a sample of this RDD using variable sampling rates for\n",
       "      different keys as specified by fractions, a key to sampling rate map.\n",
       "      \n",
       "      &gt;&gt;&gt; fractions = {&#34;a&#34;: 0.2, &#34;b&#34;: 0.1}\n",
       "      &gt;&gt;&gt; rdd = sc.parallelize(fractions.keys()).cartesian(sc.parallelize(range(0, 1000)))\n",
       "      &gt;&gt;&gt; sample = dict(rdd.sampleByKey(False, fractions, 2).groupByKey().collect())\n",
       "      &gt;&gt;&gt; 100 &lt; len(sample[&#34;a&#34;]) &lt; 300 and 50 &lt; len(sample[&#34;b&#34;]) &lt; 150\n",
       "      True\n",
       "      &gt;&gt;&gt; max(sample[&#34;a&#34;]) &lt;= 999 and min(sample[&#34;a&#34;]) &gt;= 0\n",
       "      True\n",
       "      &gt;&gt;&gt; max(sample[&#34;b&#34;]) &lt;= 999 and min(sample[&#34;b&#34;]) &gt;= 0\n",
       "      True\n",
       "  \n",
       "  sampleStdev(self)\n",
       "      Compute the sample standard deviation of this RDD&#39;s elements (which\n",
       "      corrects for bias in estimating the standard deviation by dividing by\n",
       "      N-1 instead of N).\n",
       "      \n",
       "      &gt;&gt;&gt; sc.parallelize([1, 2, 3]).sampleStdev()\n",
       "      1.0\n",
       "  \n",
       "  sampleVariance(self)\n",
       "      Compute the sample variance of this RDD&#39;s elements (which corrects\n",
       "      for bias in estimating the variance by dividing by N-1 instead of N).\n",
       "      \n",
       "      &gt;&gt;&gt; sc.parallelize([1, 2, 3]).sampleVariance()\n",
       "      1.0\n",
       "  \n",
       "  saveAsHadoopDataset(self, conf, keyConverter=None, valueConverter=None)\n",
       "      Output a Python RDD of key-value pairs (of form ``RDD[(K, V)]``) to any Hadoop file\n",
       "      system, using the old Hadoop OutputFormat API (mapred package). Keys/values are\n",
       "      converted for output using either user specified converters or, by default,\n",
       "      &#34;org.apache.spark.api.python.JavaToWritableConverter&#34;.\n",
       "      \n",
       "      :param conf: Hadoop job configuration, passed in as a dict\n",
       "      :param keyConverter: (None by default)\n",
       "      :param valueConverter: (None by default)\n",
       "  \n",
       "  saveAsHadoopFile(self, path, outputFormatClass, keyClass=None, valueClass=None, keyConverter=None, valueConverter=None, conf=None, compressionCodecClass=None)\n",
       "      Output a Python RDD of key-value pairs (of form ``RDD[(K, V)]``) to any Hadoop file\n",
       "      system, using the old Hadoop OutputFormat API (mapred package). Key and value types\n",
       "      will be inferred if not specified. Keys and values are converted for output using either\n",
       "      user specified converters or &#34;org.apache.spark.api.python.JavaToWritableConverter&#34;. The\n",
       "      `conf` is applied on top of the base Hadoop conf associated with the SparkContext\n",
       "      of this RDD to create a merged Hadoop MapReduce job configuration for saving the data.\n",
       "      \n",
       "      :param path: path to Hadoop file\n",
       "      :param outputFormatClass: fully qualified classname of Hadoop OutputFormat\n",
       "             (e.g. &#34;org.apache.hadoop.mapred.SequenceFileOutputFormat&#34;)\n",
       "      :param keyClass: fully qualified classname of key Writable class\n",
       "             (e.g. &#34;org.apache.hadoop.io.IntWritable&#34;, None by default)\n",
       "      :param valueClass: fully qualified classname of value Writable class\n",
       "             (e.g. &#34;org.apache.hadoop.io.Text&#34;, None by default)\n",
       "      :param keyConverter: (None by default)\n",
       "      :param valueConverter: (None by default)\n",
       "      :param conf: (None by default)\n",
       "      :param compressionCodecClass: (None by default)\n",
       "  \n",
       "  saveAsNewAPIHadoopDataset(self, conf, keyConverter=None, valueConverter=None)\n",
       "      Output a Python RDD of key-value pairs (of form ``RDD[(K, V)]``) to any Hadoop file\n",
       "      system, using the new Hadoop OutputFormat API (mapreduce package). Keys/values are\n",
       "      converted for output using either user specified converters or, by default,\n",
       "      &#34;org.apache.spark.api.python.JavaToWritableConverter&#34;.\n",
       "      \n",
       "      :param conf: Hadoop job configuration, passed in as a dict\n",
       "      :param keyConverter: (None by default)\n",
       "      :param valueConverter: (None by default)\n",
       "  \n",
       "  saveAsNewAPIHadoopFile(self, path, outputFormatClass, keyClass=None, valueClass=None, keyConverter=None, valueConverter=None, conf=None)\n",
       "      Output a Python RDD of key-value pairs (of form ``RDD[(K, V)]``) to any Hadoop file\n",
       "      system, using the new Hadoop OutputFormat API (mapreduce package). Key and value types\n",
       "      will be inferred if not specified. Keys and values are converted for output using either\n",
       "      user specified converters or &#34;org.apache.spark.api.python.JavaToWritableConverter&#34;. The\n",
       "      `conf` is applied on top of the base Hadoop conf associated with the SparkContext\n",
       "      of this RDD to create a merged Hadoop MapReduce job configuration for saving the data.\n",
       "      \n",
       "      :param path: path to Hadoop file\n",
       "      :param outputFormatClass: fully qualified classname of Hadoop OutputFormat\n",
       "             (e.g. &#34;org.apache.hadoop.mapreduce.lib.output.SequenceFileOutputFormat&#34;)\n",
       "      :param keyClass: fully qualified classname of key Writable class\n",
       "             (e.g. &#34;org.apache.hadoop.io.IntWritable&#34;, None by default)\n",
       "      :param valueClass: fully qualified classname of value Writable class\n",
       "             (e.g. &#34;org.apache.hadoop.io.Text&#34;, None by default)\n",
       "      :param keyConverter: (None by default)\n",
       "      :param valueConverter: (None by default)\n",
       "      :param conf: Hadoop job configuration, passed in as a dict (None by default)\n",
       "  \n",
       "  saveAsPickleFile(self, path, batchSize=10)\n",
       "      Save this RDD as a SequenceFile of serialized objects. The serializer\n",
       "      used is :class:`pyspark.serializers.PickleSerializer`, default batch size\n",
       "      is 10.\n",
       "      \n",
       "      &gt;&gt;&gt; tmpFile = NamedTemporaryFile(delete=True)\n",
       "      &gt;&gt;&gt; tmpFile.close()\n",
       "      &gt;&gt;&gt; sc.parallelize([1, 2, &#39;spark&#39;, &#39;rdd&#39;]).saveAsPickleFile(tmpFile.name, 3)\n",
       "      &gt;&gt;&gt; sorted(sc.pickleFile(tmpFile.name, 5).map(str).collect())\n",
       "      [&#39;1&#39;, &#39;2&#39;, &#39;rdd&#39;, &#39;spark&#39;]\n",
       "  \n",
       "  saveAsSequenceFile(self, path, compressionCodecClass=None)\n",
       "      Output a Python RDD of key-value pairs (of form ``RDD[(K, V)]``) to any Hadoop file\n",
       "      system, using the &#34;org.apache.hadoop.io.Writable&#34; types that we convert from the\n",
       "      RDD&#39;s key and value types. The mechanism is as follows:\n",
       "      \n",
       "          1. Pyrolite is used to convert pickled Python RDD into RDD of Java objects.\n",
       "          2. Keys and values of this Java RDD are converted to Writables and written out.\n",
       "      \n",
       "      :param path: path to sequence file\n",
       "      :param compressionCodecClass: (None by default)\n",
       "  \n",
       "  saveAsTextFile(self, path, compressionCodecClass=None)\n",
       "      Save this RDD as a text file, using string representations of elements.\n",
       "      \n",
       "      :param path: path to text file\n",
       "      :param compressionCodecClass: (None by default) string i.e.\n",
       "          &#34;org.apache.hadoop.io.compress.GzipCodec&#34;\n",
       "      \n",
       "      &gt;&gt;&gt; tempFile = NamedTemporaryFile(delete=True)\n",
       "      &gt;&gt;&gt; tempFile.close()\n",
       "      &gt;&gt;&gt; sc.parallelize(range(10)).saveAsTextFile(tempFile.name)\n",
       "      &gt;&gt;&gt; from fileinput import input\n",
       "      &gt;&gt;&gt; from glob import glob\n",
       "      &gt;&gt;&gt; &#39;&#39;.join(sorted(input(glob(tempFile.name + &#34;/part-0000*&#34;))))\n",
       "      &#39;0\\n1\\n2\\n3\\n4\\n5\\n6\\n7\\n8\\n9\\n&#39;\n",
       "      \n",
       "      Empty lines are tolerated when saving to text files.\n",
       "      \n",
       "      &gt;&gt;&gt; tempFile2 = NamedTemporaryFile(delete=True)\n",
       "      &gt;&gt;&gt; tempFile2.close()\n",
       "      &gt;&gt;&gt; sc.parallelize([&#39;&#39;, &#39;foo&#39;, &#39;&#39;, &#39;bar&#39;, &#39;&#39;]).saveAsTextFile(tempFile2.name)\n",
       "      &gt;&gt;&gt; &#39;&#39;.join(sorted(input(glob(tempFile2.name + &#34;/part-0000*&#34;))))\n",
       "      &#39;\\n\\n\\nbar\\nfoo\\n&#39;\n",
       "      \n",
       "      Using compressionCodecClass\n",
       "      \n",
       "      &gt;&gt;&gt; tempFile3 = NamedTemporaryFile(delete=True)\n",
       "      &gt;&gt;&gt; tempFile3.close()\n",
       "      &gt;&gt;&gt; codec = &#34;org.apache.hadoop.io.compress.GzipCodec&#34;\n",
       "      &gt;&gt;&gt; sc.parallelize([&#39;foo&#39;, &#39;bar&#39;]).saveAsTextFile(tempFile3.name, codec)\n",
       "      &gt;&gt;&gt; from fileinput import input, hook_compressed\n",
       "      &gt;&gt;&gt; result = sorted(input(glob(tempFile3.name + &#34;/part*.gz&#34;), openhook=hook_compressed))\n",
       "      &gt;&gt;&gt; b&#39;&#39;.join(result).decode(&#39;utf-8&#39;)\n",
       "      &#39;bar\\nfoo\\n&#39;\n",
       "  \n",
       "  setName(self, name)\n",
       "      Assign a name to this RDD.\n",
       "      \n",
       "      &gt;&gt;&gt; rdd1 = sc.parallelize([1, 2])\n",
       "      &gt;&gt;&gt; rdd1.setName(&#39;RDD1&#39;).name()\n",
       "      &#39;RDD1&#39;\n",
       "  \n",
       "  sortBy(self, keyfunc, ascending=True, numPartitions=None)\n",
       "      Sorts this RDD by the given keyfunc\n",
       "      \n",
       "      &gt;&gt;&gt; tmp = [(&#39;a&#39;, 1), (&#39;b&#39;, 2), (&#39;1&#39;, 3), (&#39;d&#39;, 4), (&#39;2&#39;, 5)]\n",
       "      &gt;&gt;&gt; sc.parallelize(tmp).sortBy(lambda x: x[0]).collect()\n",
       "      [(&#39;1&#39;, 3), (&#39;2&#39;, 5), (&#39;a&#39;, 1), (&#39;b&#39;, 2), (&#39;d&#39;, 4)]\n",
       "      &gt;&gt;&gt; sc.parallelize(tmp).sortBy(lambda x: x[1]).collect()\n",
       "      [(&#39;a&#39;, 1), (&#39;b&#39;, 2), (&#39;1&#39;, 3), (&#39;d&#39;, 4), (&#39;2&#39;, 5)]\n",
       "  \n",
       "  sortByKey(self, ascending=True, numPartitions=None, keyfunc=&lt;function RDD.&lt;lambda&gt; at 0x7f7f8c54d3b0&gt;)\n",
       "      Sorts this RDD, which is assumed to consist of (key, value) pairs.\n",
       "      \n",
       "      &gt;&gt;&gt; tmp = [(&#39;a&#39;, 1), (&#39;b&#39;, 2), (&#39;1&#39;, 3), (&#39;d&#39;, 4), (&#39;2&#39;, 5)]\n",
       "      &gt;&gt;&gt; sc.parallelize(tmp).sortByKey().first()\n",
       "      (&#39;1&#39;, 3)\n",
       "      &gt;&gt;&gt; sc.parallelize(tmp).sortByKey(True, 1).collect()\n",
       "      [(&#39;1&#39;, 3), (&#39;2&#39;, 5), (&#39;a&#39;, 1), (&#39;b&#39;, 2), (&#39;d&#39;, 4)]\n",
       "      &gt;&gt;&gt; sc.parallelize(tmp).sortByKey(True, 2).collect()\n",
       "      [(&#39;1&#39;, 3), (&#39;2&#39;, 5), (&#39;a&#39;, 1), (&#39;b&#39;, 2), (&#39;d&#39;, 4)]\n",
       "      &gt;&gt;&gt; tmp2 = [(&#39;Mary&#39;, 1), (&#39;had&#39;, 2), (&#39;a&#39;, 3), (&#39;little&#39;, 4), (&#39;lamb&#39;, 5)]\n",
       "      &gt;&gt;&gt; tmp2.extend([(&#39;whose&#39;, 6), (&#39;fleece&#39;, 7), (&#39;was&#39;, 8), (&#39;white&#39;, 9)])\n",
       "      &gt;&gt;&gt; sc.parallelize(tmp2).sortByKey(True, 3, keyfunc=lambda k: k.lower()).collect()\n",
       "      [(&#39;a&#39;, 3), (&#39;fleece&#39;, 7), (&#39;had&#39;, 2), (&#39;lamb&#39;, 5),...(&#39;white&#39;, 9), (&#39;whose&#39;, 6)]\n",
       "  \n",
       "  stats(self)\n",
       "      Return a :class:`StatCounter` object that captures the mean, variance\n",
       "      and count of the RDD&#39;s elements in one operation.\n",
       "  \n",
       "  stdev(self)\n",
       "      Compute the standard deviation of this RDD&#39;s elements.\n",
       "      \n",
       "      &gt;&gt;&gt; sc.parallelize([1, 2, 3]).stdev()\n",
       "      0.816...\n",
       "  \n",
       "  subtract(self, other, numPartitions=None)\n",
       "      Return each value in `self` that is not contained in `other`.\n",
       "      \n",
       "      &gt;&gt;&gt; x = sc.parallelize([(&#34;a&#34;, 1), (&#34;b&#34;, 4), (&#34;b&#34;, 5), (&#34;a&#34;, 3)])\n",
       "      &gt;&gt;&gt; y = sc.parallelize([(&#34;a&#34;, 3), (&#34;c&#34;, None)])\n",
       "      &gt;&gt;&gt; sorted(x.subtract(y).collect())\n",
       "      [(&#39;a&#39;, 1), (&#39;b&#39;, 4), (&#39;b&#39;, 5)]\n",
       "  \n",
       "  subtractByKey(self, other, numPartitions=None)\n",
       "      Return each (key, value) pair in `self` that has no pair with matching\n",
       "      key in `other`.\n",
       "      \n",
       "      &gt;&gt;&gt; x = sc.parallelize([(&#34;a&#34;, 1), (&#34;b&#34;, 4), (&#34;b&#34;, 5), (&#34;a&#34;, 2)])\n",
       "      &gt;&gt;&gt; y = sc.parallelize([(&#34;a&#34;, 3), (&#34;c&#34;, None)])\n",
       "      &gt;&gt;&gt; sorted(x.subtractByKey(y).collect())\n",
       "      [(&#39;b&#39;, 4), (&#39;b&#39;, 5)]\n",
       "  \n",
       "  sum(self)\n",
       "      Add up the elements in this RDD.\n",
       "      \n",
       "      &gt;&gt;&gt; sc.parallelize([1.0, 2.0, 3.0]).sum()\n",
       "      6.0\n",
       "  \n",
       "  sumApprox(self, timeout, confidence=0.95)\n",
       "      Approximate operation to return the sum within a timeout\n",
       "      or meet the confidence.\n",
       "      \n",
       "      &gt;&gt;&gt; rdd = sc.parallelize(range(1000), 10)\n",
       "      &gt;&gt;&gt; r = sum(range(1000))\n",
       "      &gt;&gt;&gt; abs(rdd.sumApprox(1000) - r) / r &lt; 0.05\n",
       "      True\n",
       "  \n",
       "  take(self, num)\n",
       "      Take the first num elements of the RDD.\n",
       "      \n",
       "      It works by first scanning one partition, and use the results from\n",
       "      that partition to estimate the number of additional partitions needed\n",
       "      to satisfy the limit.\n",
       "      \n",
       "      Translated from the Scala implementation in RDD#take().\n",
       "      \n",
       "      .. note:: this method should only be used if the resulting array is expected\n",
       "          to be small, as all the data is loaded into the driver&#39;s memory.\n",
       "      \n",
       "      &gt;&gt;&gt; sc.parallelize([2, 3, 4, 5, 6]).cache().take(2)\n",
       "      [2, 3]\n",
       "      &gt;&gt;&gt; sc.parallelize([2, 3, 4, 5, 6]).take(10)\n",
       "      [2, 3, 4, 5, 6]\n",
       "      &gt;&gt;&gt; sc.parallelize(range(100), 100).filter(lambda x: x &gt; 90).take(3)\n",
       "      [91, 92, 93]\n",
       "  \n",
       "  takeOrdered(self, num, key=None)\n",
       "      Get the N elements from an RDD ordered in ascending order or as\n",
       "      specified by the optional key function.\n",
       "      \n",
       "      .. note:: this method should only be used if the resulting array is expected\n",
       "          to be small, as all the data is loaded into the driver&#39;s memory.\n",
       "      \n",
       "      &gt;&gt;&gt; sc.parallelize([10, 1, 2, 9, 3, 4, 5, 6, 7]).takeOrdered(6)\n",
       "      [1, 2, 3, 4, 5, 6]\n",
       "      &gt;&gt;&gt; sc.parallelize([10, 1, 2, 9, 3, 4, 5, 6, 7], 2).takeOrdered(6, key=lambda x: -x)\n",
       "      [10, 9, 7, 6, 5, 4]\n",
       "  \n",
       "  takeSample(self, withReplacement, num, seed=None)\n",
       "      Return a fixed-size sampled subset of this RDD.\n",
       "      \n",
       "      .. note:: This method should only be used if the resulting array is expected\n",
       "          to be small, as all the data is loaded into the driver&#39;s memory.\n",
       "      \n",
       "      &gt;&gt;&gt; rdd = sc.parallelize(range(0, 10))\n",
       "      &gt;&gt;&gt; len(rdd.takeSample(True, 20, 1))\n",
       "      20\n",
       "      &gt;&gt;&gt; len(rdd.takeSample(False, 5, 2))\n",
       "      5\n",
       "      &gt;&gt;&gt; len(rdd.takeSample(False, 15, 3))\n",
       "      10\n",
       "  \n",
       "  toDF(self, schema=None, sampleRatio=None)\n",
       "      Converts current :class:`RDD` into a :class:`DataFrame`\n",
       "      \n",
       "      This is a shorthand for ``spark.createDataFrame(rdd, schema, sampleRatio)``\n",
       "      \n",
       "      :param schema: a :class:`pyspark.sql.types.StructType` or list of names of columns\n",
       "      :param samplingRatio: the sample ratio of rows used for inferring\n",
       "      :return: a DataFrame\n",
       "      \n",
       "      &gt;&gt;&gt; rdd.toDF().collect()\n",
       "      [Row(name=u&#39;Alice&#39;, age=1)]\n",
       "  \n",
       "  toDebugString(self)\n",
       "      A description of this RDD and its recursive dependencies for debugging.\n",
       "  \n",
       "  toLocalIterator(self, prefetchPartitions=False)\n",
       "      Return an iterator that contains all of the elements in this RDD.\n",
       "      The iterator will consume as much memory as the largest partition in this RDD.\n",
       "      With prefetch it may consume up to the memory of the 2 largest partitions.\n",
       "      \n",
       "      :param prefetchPartitions: If Spark should pre-fetch the next partition\n",
       "                                 before it is needed.\n",
       "      \n",
       "      &gt;&gt;&gt; rdd = sc.parallelize(range(10))\n",
       "      &gt;&gt;&gt; [x for x in rdd.toLocalIterator()]\n",
       "      [0, 1, 2, 3, 4, 5, 6, 7, 8, 9]\n",
       "  \n",
       "  top(self, num, key=None)\n",
       "      Get the top N elements from an RDD.\n",
       "      \n",
       "      .. note:: This method should only be used if the resulting array is expected\n",
       "          to be small, as all the data is loaded into the driver&#39;s memory.\n",
       "      \n",
       "      .. note:: It returns the list sorted in descending order.\n",
       "      \n",
       "      &gt;&gt;&gt; sc.parallelize([10, 4, 2, 12, 3]).top(1)\n",
       "      [12]\n",
       "      &gt;&gt;&gt; sc.parallelize([2, 3, 4, 5, 6], 2).top(2)\n",
       "      [6, 5]\n",
       "      &gt;&gt;&gt; sc.parallelize([10, 4, 2, 12, 3]).top(3, key=str)\n",
       "      [4, 3, 2]\n",
       "  \n",
       "  treeAggregate(self, zeroValue, seqOp, combOp, depth=2)\n",
       "      Aggregates the elements of this RDD in a multi-level tree\n",
       "      pattern.\n",
       "      \n",
       "      :param depth: suggested depth of the tree (default: 2)\n",
       "      \n",
       "      &gt;&gt;&gt; add = lambda x, y: x + y\n",
       "      &gt;&gt;&gt; rdd = sc.parallelize([-5, -4, -3, -2, -1, 1, 2, 3, 4], 10)\n",
       "      &gt;&gt;&gt; rdd.treeAggregate(0, add, add)\n",
       "      -5\n",
       "      &gt;&gt;&gt; rdd.treeAggregate(0, add, add, 1)\n",
       "      -5\n",
       "      &gt;&gt;&gt; rdd.treeAggregate(0, add, add, 2)\n",
       "      -5\n",
       "      &gt;&gt;&gt; rdd.treeAggregate(0, add, add, 5)\n",
       "      -5\n",
       "      &gt;&gt;&gt; rdd.treeAggregate(0, add, add, 10)\n",
       "      -5\n",
       "  \n",
       "  treeReduce(self, f, depth=2)\n",
       "      Reduces the elements of this RDD in a multi-level tree pattern.\n",
       "      \n",
       "      :param depth: suggested depth of the tree (default: 2)\n",
       "      \n",
       "      &gt;&gt;&gt; add = lambda x, y: x + y\n",
       "      &gt;&gt;&gt; rdd = sc.parallelize([-5, -4, -3, -2, -1, 1, 2, 3, 4], 10)\n",
       "      &gt;&gt;&gt; rdd.treeReduce(add)\n",
       "      -5\n",
       "      &gt;&gt;&gt; rdd.treeReduce(add, 1)\n",
       "      -5\n",
       "      &gt;&gt;&gt; rdd.treeReduce(add, 2)\n",
       "      -5\n",
       "      &gt;&gt;&gt; rdd.treeReduce(add, 5)\n",
       "      -5\n",
       "      &gt;&gt;&gt; rdd.treeReduce(add, 10)\n",
       "      -5\n",
       "  \n",
       "  union(self, other)\n",
       "      Return the union of this RDD and another one.\n",
       "      \n",
       "      &gt;&gt;&gt; rdd = sc.parallelize([1, 1, 2, 3])\n",
       "      &gt;&gt;&gt; rdd.union(rdd).collect()\n",
       "      [1, 1, 2, 3, 1, 1, 2, 3]\n",
       "  \n",
       "  unpersist(self, blocking=False)\n",
       "      Mark the RDD as non-persistent, and remove all blocks for it from\n",
       "      memory and disk.\n",
       "      \n",
       "      .. versionchanged:: 3.0.0\n",
       "         Added optional argument `blocking` to specify whether to block until all\n",
       "         blocks are deleted.\n",
       "  \n",
       "  values(self)\n",
       "      Return an RDD with the values of each tuple.\n",
       "      \n",
       "      &gt;&gt;&gt; m = sc.parallelize([(1, 2), (3, 4)]).values()\n",
       "      &gt;&gt;&gt; m.collect()\n",
       "      [2, 4]\n",
       "  \n",
       "  variance(self)\n",
       "      Compute the variance of this RDD&#39;s elements.\n",
       "      \n",
       "      &gt;&gt;&gt; sc.parallelize([1, 2, 3]).variance()\n",
       "      0.666...\n",
       "  \n",
       "  zip(self, other)\n",
       "      Zips this RDD with another one, returning key-value pairs with the\n",
       "      first element in each RDD second element in each RDD, etc. Assumes\n",
       "      that the two RDDs have the same number of partitions and the same\n",
       "      number of elements in each partition (e.g. one was made through\n",
       "      a map on the other).\n",
       "      \n",
       "      &gt;&gt;&gt; x = sc.parallelize(range(0,5))\n",
       "      &gt;&gt;&gt; y = sc.parallelize(range(1000, 1005))\n",
       "      &gt;&gt;&gt; x.zip(y).collect()\n",
       "      [(0, 1000), (1, 1001), (2, 1002), (3, 1003), (4, 1004)]\n",
       "  \n",
       "  zipWithIndex(self)\n",
       "      Zips this RDD with its element indices.\n",
       "      \n",
       "      The ordering is first based on the partition index and then the\n",
       "      ordering of items within each partition. So the first item in\n",
       "      the first partition gets index 0, and the last item in the last\n",
       "      partition receives the largest index.\n",
       "      \n",
       "      This method needs to trigger a spark job when this RDD contains\n",
       "      more than one partitions.\n",
       "      \n",
       "      &gt;&gt;&gt; sc.parallelize([&#34;a&#34;, &#34;b&#34;, &#34;c&#34;, &#34;d&#34;], 3).zipWithIndex().collect()\n",
       "      [(&#39;a&#39;, 0), (&#39;b&#39;, 1), (&#39;c&#39;, 2), (&#39;d&#39;, 3)]\n",
       "  \n",
       "  zipWithUniqueId(self)\n",
       "      Zips this RDD with generated unique Long ids.\n",
       "      \n",
       "      Items in the kth partition will get ids k, n+k, 2*n+k, ..., where\n",
       "      n is the number of partitions. So there may exist gaps, but this\n",
       "      method won&#39;t trigger a spark job, which is different from\n",
       "      :meth:`zipWithIndex`.\n",
       "      \n",
       "      &gt;&gt;&gt; sc.parallelize([&#34;a&#34;, &#34;b&#34;, &#34;c&#34;, &#34;d&#34;, &#34;e&#34;], 3).zipWithUniqueId().collect()\n",
       "      [(&#39;a&#39;, 0), (&#39;b&#39;, 1), (&#39;c&#39;, 4), (&#39;d&#39;, 2), (&#39;e&#39;, 5)]\n",
       "  \n",
       "  ----------------------------------------------------------------------\n",
       "  Data descriptors inherited from RDD:\n",
       "  \n",
       "  __dict__\n",
       "      dictionary for instance variables (if defined)\n",
       "  \n",
       "  __weakref__\n",
       "      list of weak references to the object (if defined)\n",
       "  \n",
       "  context\n",
       "      The :class:`SparkContext` that this RDD was created on.\n",
       "\n",
       "</div>"
      ]
     },
     "metadata": {
      "application/vnd.databricks.v1+output": {
       "addedWidgets": {},
       "arguments": {},
       "data": "<div class=\"ansiout\">Help on PipelinedRDD in module pyspark.rdd object:\n\nclass PipelinedRDD(RDD)\n |  PipelinedRDD(prev, func, preservesPartitioning=False, isFromBarrier=False)\n |  \n |  Pipelined maps:\n |  \n |  &gt;&gt;&gt; rdd = sc.parallelize([1, 2, 3, 4])\n |  &gt;&gt;&gt; rdd.map(lambda x: 2 * x).cache().map(lambda x: 2 * x).collect()\n |  [4, 8, 12, 16]\n |  &gt;&gt;&gt; rdd.map(lambda x: 2 * x).map(lambda x: 2 * x).collect()\n |  [4, 8, 12, 16]\n |  \n |  Pipelined reduces:\n |  &gt;&gt;&gt; from operator import add\n |  &gt;&gt;&gt; rdd.map(lambda x: 2 * x).reduce(add)\n |  20\n |  &gt;&gt;&gt; rdd.flatMap(lambda x: [x, x]).reduce(add)\n |  20\n |  \n |  Method resolution order:\n |      PipelinedRDD\n |      RDD\n |      builtins.object\n |  \n |  Methods defined here:\n |  \n |  __init__(self, prev, func, preservesPartitioning=False, isFromBarrier=False)\n |      Initialize self.  See help(type(self)) for accurate signature.\n |  \n |  getNumPartitions(self)\n |      Returns the number of partitions in RDD\n |      \n |      &gt;&gt;&gt; rdd = sc.parallelize([1, 2, 3, 4], 2)\n |      &gt;&gt;&gt; rdd.getNumPartitions()\n |      2\n |  \n |  id(self)\n |      A unique ID for this RDD (within its SparkContext).\n |  \n |  ----------------------------------------------------------------------\n |  Methods inherited from RDD:\n |  \n |  __add__(self, other)\n |      Return the union of this RDD and another one.\n |      \n |      &gt;&gt;&gt; rdd = sc.parallelize([1, 1, 2, 3])\n |      &gt;&gt;&gt; (rdd + rdd).collect()\n |      [1, 1, 2, 3, 1, 1, 2, 3]\n |  \n |  __getnewargs__(self)\n |  \n |  __repr__(self)\n |      Return repr(self).\n |  \n |  aggregate(self, zeroValue, seqOp, combOp)\n |      Aggregate the elements of each partition, and then the results for all\n |      the partitions, using a given combine functions and a neutral &#34;zero\n |      value.&#34;\n |      \n |      The functions ``op(t1, t2)`` is allowed to modify ``t1`` and return it\n |      as its result value to avoid object allocation; however, it should not\n |      modify ``t2``.\n |      \n |      The first function (seqOp) can return a different result type, U, than\n |      the type of this RDD. Thus, we need one operation for merging a T into\n |      an U and one operation for merging two U\n |      \n |      &gt;&gt;&gt; seqOp = (lambda x, y: (x[0] + y, x[1] + 1))\n |      &gt;&gt;&gt; combOp = (lambda x, y: (x[0] + y[0], x[1] + y[1]))\n |      &gt;&gt;&gt; sc.parallelize([1, 2, 3, 4]).aggregate((0, 0), seqOp, combOp)\n |      (10, 4)\n |      &gt;&gt;&gt; sc.parallelize([]).aggregate((0, 0), seqOp, combOp)\n |      (0, 0)\n |  \n |  aggregateByKey(self, zeroValue, seqFunc, combFunc, numPartitions=None, partitionFunc=&lt;function portable_hash at 0x7f7f8c68fb90&gt;)\n |      Aggregate the values of each key, using given combine functions and a neutral\n |      &#34;zero value&#34;. This function can return a different result type, U, than the type\n |      of the values in this RDD, V. Thus, we need one operation for merging a V into\n |      a U and one operation for merging two U&#39;s, The former operation is used for merging\n |      values within a partition, and the latter is used for merging values between\n |      partitions. To avoid memory allocation, both of these functions are\n |      allowed to modify and return their first argument instead of creating a new U.\n |  \n |  barrier(self)\n |      .. note:: Experimental\n |      \n |      Marks the current stage as a barrier stage, where Spark must launch all tasks together.\n |      In case of a task failure, instead of only restarting the failed task, Spark will abort the\n |      entire stage and relaunch all tasks for this stage.\n |      The barrier execution mode feature is experimental and it only handles limited scenarios.\n |      Please read the linked SPIP and design docs to understand the limitations and future plans.\n |      \n |      :return: an :class:`RDDBarrier` instance that provides actions within a barrier stage.\n |      \n |      .. seealso:: :class:`BarrierTaskContext`\n |      .. seealso:: `SPIP: Barrier Execution Mode\n |          &lt;http://jira.apache.org/jira/browse/SPARK-24374&gt;`_\n |      .. seealso:: `Design Doc &lt;https://jira.apache.org/jira/browse/SPARK-24582&gt;`_\n |      \n |      .. versionadded:: 2.4.0\n |  \n |  cache(self)\n |      Persist this RDD with the default storage level (`MEMORY_ONLY`).\n |  \n |  cartesian(self, other)\n |      Return the Cartesian product of this RDD and another one, that is, the\n |      RDD of all pairs of elements ``(a, b)`` where ``a`` is in `self` and\n |      ``b`` is in `other`.\n |      \n |      &gt;&gt;&gt; rdd = sc.parallelize([1, 2])\n |      &gt;&gt;&gt; sorted(rdd.cartesian(rdd).collect())\n |      [(1, 1), (1, 2), (2, 1), (2, 2)]\n |  \n |  checkpoint(self)\n |      Mark this RDD for checkpointing. It will be saved to a file inside the\n |      checkpoint directory set with :meth:`SparkContext.setCheckpointDir` and\n |      all references to its parent RDDs will be removed. This function must\n |      be called before any job has been executed on this RDD. It is strongly\n |      recommended that this RDD is persisted in memory, otherwise saving it\n |      on a file will require recomputation.\n |  \n |  coalesce(self, numPartitions, shuffle=False)\n |      Return a new RDD that is reduced into `numPartitions` partitions.\n |      \n |      &gt;&gt;&gt; sc.parallelize([1, 2, 3, 4, 5], 3).glom().collect()\n |      [[1], [2, 3], [4, 5]]\n |      &gt;&gt;&gt; sc.parallelize([1, 2, 3, 4, 5], 3).coalesce(1).glom().collect()\n |      [[1, 2, 3, 4, 5]]\n |  \n |  cogroup(self, other, numPartitions=None)\n |      For each key k in `self` or `other`, return a resulting RDD that\n |      contains a tuple with the list of values for that key in `self` as\n |      well as `other`.\n |      \n |      &gt;&gt;&gt; x = sc.parallelize([(&#34;a&#34;, 1), (&#34;b&#34;, 4)])\n |      &gt;&gt;&gt; y = sc.parallelize([(&#34;a&#34;, 2)])\n |      &gt;&gt;&gt; [(x, tuple(map(list, y))) for x, y in sorted(list(x.cogroup(y).collect()))]\n |      [(&#39;a&#39;, ([1], [2])), (&#39;b&#39;, ([4], []))]\n |  \n |  collect(self)\n |      Return a list that contains all of the elements in this RDD.\n |      \n |      .. note:: This method should only be used if the resulting array is expected\n |          to be small, as all the data is loaded into the driver&#39;s memory.\n |  \n |  collectAsMap(self)\n |      Return the key-value pairs in this RDD to the master as a dictionary.\n |      \n |      .. note:: this method should only be used if the resulting data is expected\n |          to be small, as all the data is loaded into the driver&#39;s memory.\n |      \n |      &gt;&gt;&gt; m = sc.parallelize([(1, 2), (3, 4)]).collectAsMap()\n |      &gt;&gt;&gt; m[1]\n |      2\n |      &gt;&gt;&gt; m[3]\n |      4\n |  \n |  collectWithJobGroup(self, groupId, description, interruptOnCancel=False)\n |      .. note:: Experimental\n |      \n |      When collect rdd, use this method to specify job group.\n |      \n |      .. versionadded:: 3.0.0\n |  \n |  combineByKey(self, createCombiner, mergeValue, mergeCombiners, numPartitions=None, partitionFunc=&lt;function portable_hash at 0x7f7f8c68fb90&gt;)\n |      Generic function to combine the elements for each key using a custom\n |      set of aggregation functions.\n |      \n |      Turns an RDD[(K, V)] into a result of type RDD[(K, C)], for a &#34;combined\n |      type&#34; C.\n |      \n |      Users provide three functions:\n |      \n |          - `createCombiner`, which turns a V into a C (e.g., creates\n |            a one-element list)\n |          - `mergeValue`, to merge a V into a C (e.g., adds it to the end of\n |            a list)\n |          - `mergeCombiners`, to combine two C&#39;s into a single one (e.g., merges\n |            the lists)\n |      \n |      To avoid memory allocation, both mergeValue and mergeCombiners are allowed to\n |      modify and return their first argument instead of creating a new C.\n |      \n |      In addition, users can control the partitioning of the output RDD.\n |      \n |      .. note:: V and C can be different -- for example, one might group an RDD of type\n |          (Int, Int) into an RDD of type (Int, List[Int]).\n |      \n |      &gt;&gt;&gt; x = sc.parallelize([(&#34;a&#34;, 1), (&#34;b&#34;, 1), (&#34;a&#34;, 2)])\n |      &gt;&gt;&gt; def to_list(a):\n |      ...     return [a]\n |      ...\n |      &gt;&gt;&gt; def append(a, b):\n |      ...     a.append(b)\n |      ...     return a\n |      ...\n |      &gt;&gt;&gt; def extend(a, b):\n |      ...     a.extend(b)\n |      ...     return a\n |      ...\n |      &gt;&gt;&gt; sorted(x.combineByKey(to_list, append, extend).collect())\n |      [(&#39;a&#39;, [1, 2]), (&#39;b&#39;, [1])]\n |  \n |  count(self)\n |      Return the number of elements in this RDD.\n |      \n |      &gt;&gt;&gt; sc.parallelize([2, 3, 4]).count()\n |      3\n |  \n |  countApprox(self, timeout, confidence=0.95)\n |      Approximate version of count() that returns a potentially incomplete\n |      result within a timeout, even if not all tasks have finished.\n |      \n |      &gt;&gt;&gt; rdd = sc.parallelize(range(1000), 10)\n |      &gt;&gt;&gt; rdd.countApprox(1000, 1.0)\n |      1000\n |  \n |  countApproxDistinct(self, relativeSD=0.05)\n |      Return approximate number of distinct elements in the RDD.\n |      \n |      The algorithm used is based on streamlib&#39;s implementation of\n |      `&#34;HyperLogLog in Practice: Algorithmic Engineering of a State\n |      of The Art Cardinality Estimation Algorithm&#34;, available here\n |      &lt;https://doi.org/10.1145/2452376.2452456&gt;`_.\n |      \n |      :param relativeSD: Relative accuracy. Smaller values create\n |                         counters that require more space.\n |                         It must be greater than 0.000017.\n |      \n |      &gt;&gt;&gt; n = sc.parallelize(range(1000)).map(str).countApproxDistinct()\n |      &gt;&gt;&gt; 900 &lt; n &lt; 1100\n |      True\n |      &gt;&gt;&gt; n = sc.parallelize([i % 20 for i in range(1000)]).countApproxDistinct()\n |      &gt;&gt;&gt; 16 &lt; n &lt; 24\n |      True\n |  \n |  countByKey(self)\n |      Count the number of elements for each key, and return the result to the\n |      master as a dictionary.\n |      \n |      &gt;&gt;&gt; rdd = sc.parallelize([(&#34;a&#34;, 1), (&#34;b&#34;, 1), (&#34;a&#34;, 1)])\n |      &gt;&gt;&gt; sorted(rdd.countByKey().items())\n |      [(&#39;a&#39;, 2), (&#39;b&#39;, 1)]\n |  \n |  countByValue(self)\n |      Return the count of each unique value in this RDD as a dictionary of\n |      (value, count) pairs.\n |      \n |      &gt;&gt;&gt; sorted(sc.parallelize([1, 2, 1, 2, 2], 2).countByValue().items())\n |      [(1, 2), (2, 3)]\n |  \n |  distinct(self, numPartitions=None)\n |      Return a new RDD containing the distinct elements in this RDD.\n |      \n |      &gt;&gt;&gt; sorted(sc.parallelize([1, 1, 2, 3]).distinct().collect())\n |      [1, 2, 3]\n |  \n |  filter(self, f)\n |      Return a new RDD containing only the elements that satisfy a predicate.\n |      \n |      &gt;&gt;&gt; rdd = sc.parallelize([1, 2, 3, 4, 5])\n |      &gt;&gt;&gt; rdd.filter(lambda x: x % 2 == 0).collect()\n |      [2, 4]\n |  \n |  first(self)\n |      Return the first element in this RDD.\n |      \n |      &gt;&gt;&gt; sc.parallelize([2, 3, 4]).first()\n |      2\n |      &gt;&gt;&gt; sc.parallelize([]).first()\n |      Traceback (most recent call last):\n |          ...\n |      ValueError: RDD is empty\n |  \n |  flatMap(self, f, preservesPartitioning=False)\n |      Return a new RDD by first applying a function to all elements of this\n |      RDD, and then flattening the results.\n |      \n |      &gt;&gt;&gt; rdd = sc.parallelize([2, 3, 4])\n |      &gt;&gt;&gt; sorted(rdd.flatMap(lambda x: range(1, x)).collect())\n |      [1, 1, 1, 2, 2, 3]\n |      &gt;&gt;&gt; sorted(rdd.flatMap(lambda x: [(x, x), (x, x)]).collect())\n |      [(2, 2), (2, 2), (3, 3), (3, 3), (4, 4), (4, 4)]\n |  \n |  flatMapValues(self, f)\n |      Pass each value in the key-value pair RDD through a flatMap function\n |      without changing the keys; this also retains the original RDD&#39;s\n |      partitioning.\n |      \n |      &gt;&gt;&gt; x = sc.parallelize([(&#34;a&#34;, [&#34;x&#34;, &#34;y&#34;, &#34;z&#34;]), (&#34;b&#34;, [&#34;p&#34;, &#34;r&#34;])])\n |      &gt;&gt;&gt; def f(x): return x\n |      &gt;&gt;&gt; x.flatMapValues(f).collect()\n |      [(&#39;a&#39;, &#39;x&#39;), (&#39;a&#39;, &#39;y&#39;), (&#39;a&#39;, &#39;z&#39;), (&#39;b&#39;, &#39;p&#39;), (&#39;b&#39;, &#39;r&#39;)]\n |  \n |  fold(self, zeroValue, op)\n |      Aggregate the elements of each partition, and then the results for all\n |      the partitions, using a given associative function and a neutral &#34;zero value.&#34;\n |      \n |      The function ``op(t1, t2)`` is allowed to modify ``t1`` and return it\n |      as its result value to avoid object allocation; however, it should not\n |      modify ``t2``.\n |      \n |      This behaves somewhat differently from fold operations implemented\n |      for non-distributed collections in functional languages like Scala.\n |      This fold operation may be applied to partitions individually, and then\n |      fold those results into the final result, rather than apply the fold\n |      to each element sequentially in some defined ordering. For functions\n |      that are not commutative, the result may differ from that of a fold\n |      applied to a non-distributed collection.\n |      \n |      &gt;&gt;&gt; from operator import add\n |      &gt;&gt;&gt; sc.parallelize([1, 2, 3, 4, 5]).fold(0, add)\n |      15\n |  \n |  foldByKey(self, zeroValue, func, numPartitions=None, partitionFunc=&lt;function portable_hash at 0x7f7f8c68fb90&gt;)\n |      Merge the values for each key using an associative function &#34;func&#34;\n |      and a neutral &#34;zeroValue&#34; which may be added to the result an\n |      arbitrary number of times, and must not change the result\n |      (e.g., 0 for addition, or 1 for multiplication.).\n |      \n |      &gt;&gt;&gt; rdd = sc.parallelize([(&#34;a&#34;, 1), (&#34;b&#34;, 1), (&#34;a&#34;, 1)])\n |      &gt;&gt;&gt; from operator import add\n |      &gt;&gt;&gt; sorted(rdd.foldByKey(0, add).collect())\n |      [(&#39;a&#39;, 2), (&#39;b&#39;, 1)]\n |  \n |  foreach(self, f)\n |      Applies a function to all elements of this RDD.\n |      \n |      &gt;&gt;&gt; def f(x): print(x)\n |      &gt;&gt;&gt; sc.parallelize([1, 2, 3, 4, 5]).foreach(f)\n |  \n |  foreachPartition(self, f)\n |      Applies a function to each partition of this RDD.\n |      \n |      &gt;&gt;&gt; def f(iterator):\n |      ...     for x in iterator:\n |      ...          print(x)\n |      &gt;&gt;&gt; sc.parallelize([1, 2, 3, 4, 5]).foreachPartition(f)\n |  \n |  fullOuterJoin(self, other, numPartitions=None)\n |      Perform a right outer join of `self` and `other`.\n |      \n |      For each element (k, v) in `self`, the resulting RDD will either\n |      contain all pairs (k, (v, w)) for w in `other`, or the pair\n |      (k, (v, None)) if no elements in `other` have key k.\n |      \n |      Similarly, for each element (k, w) in `other`, the resulting RDD will\n |      either contain all pairs (k, (v, w)) for v in `self`, or the pair\n |      (k, (None, w)) if no elements in `self` have key k.\n |      \n |      Hash-partitions the resulting RDD into the given number of partitions.\n |      \n |      &gt;&gt;&gt; x = sc.parallelize([(&#34;a&#34;, 1), (&#34;b&#34;, 4)])\n |      &gt;&gt;&gt; y = sc.parallelize([(&#34;a&#34;, 2), (&#34;c&#34;, 8)])\n |      &gt;&gt;&gt; sorted(x.fullOuterJoin(y).collect())\n |      [(&#39;a&#39;, (1, 2)), (&#39;b&#39;, (4, None)), (&#39;c&#39;, (None, 8))]\n |  \n |  getCheckpointFile(self)\n |      Gets the name of the file to which this RDD was checkpointed\n |      \n |      Not defined if RDD is checkpointed locally.\n |  \n |  getStorageLevel(self)\n |      Get the RDD&#39;s current storage level.\n |      \n |      &gt;&gt;&gt; rdd1 = sc.parallelize([1,2])\n |      &gt;&gt;&gt; rdd1.getStorageLevel()\n |      StorageLevel(False, False, False, False, 1)\n |      &gt;&gt;&gt; print(rdd1.getStorageLevel())\n |      Serialized 1x Replicated\n |  \n |  glom(self)\n |      Return an RDD created by coalescing all elements within each partition\n |      into a list.\n |      \n |      &gt;&gt;&gt; rdd = sc.parallelize([1, 2, 3, 4], 2)\n |      &gt;&gt;&gt; sorted(rdd.glom().collect())\n |      [[1, 2], [3, 4]]\n |  \n |  groupBy(self, f, numPartitions=None, partitionFunc=&lt;function portable_hash at 0x7f7f8c68fb90&gt;)\n |      Return an RDD of grouped items.\n |      \n |      &gt;&gt;&gt; rdd = sc.parallelize([1, 1, 2, 3, 5, 8])\n |      &gt;&gt;&gt; result = rdd.groupBy(lambda x: x % 2).collect()\n |      &gt;&gt;&gt; sorted([(x, sorted(y)) for (x, y) in result])\n |      [(0, [2, 8]), (1, [1, 1, 3, 5])]\n |  \n |  groupByKey(self, numPartitions=None, partitionFunc=&lt;function portable_hash at 0x7f7f8c68fb90&gt;)\n |      Group the values for each key in the RDD into a single sequence.\n |      Hash-partitions the resulting RDD with numPartitions partitions.\n |      \n |      .. note:: If you are grouping in order to perform an aggregation (such as a\n |          sum or average) over each key, using reduceByKey or aggregateByKey will\n |          provide much better performance.\n |      \n |      &gt;&gt;&gt; rdd = sc.parallelize([(&#34;a&#34;, 1), (&#34;b&#34;, 1), (&#34;a&#34;, 1)])\n |      &gt;&gt;&gt; sorted(rdd.groupByKey().mapValues(len).collect())\n |      [(&#39;a&#39;, 2), (&#39;b&#39;, 1)]\n |      &gt;&gt;&gt; sorted(rdd.groupByKey().mapValues(list).collect())\n |      [(&#39;a&#39;, [1, 1]), (&#39;b&#39;, [1])]\n |  \n |  groupWith(self, other, *others)\n |      Alias for cogroup but with support for multiple RDDs.\n |      \n |      &gt;&gt;&gt; w = sc.parallelize([(&#34;a&#34;, 5), (&#34;b&#34;, 6)])\n |      &gt;&gt;&gt; x = sc.parallelize([(&#34;a&#34;, 1), (&#34;b&#34;, 4)])\n |      &gt;&gt;&gt; y = sc.parallelize([(&#34;a&#34;, 2)])\n |      &gt;&gt;&gt; z = sc.parallelize([(&#34;b&#34;, 42)])\n |      &gt;&gt;&gt; [(x, tuple(map(list, y))) for x, y in sorted(list(w.groupWith(x, y, z).collect()))]\n |      [(&#39;a&#39;, ([5], [1], [2], [])), (&#39;b&#39;, ([6], [4], [], [42]))]\n |  \n |  histogram(self, buckets)\n |      Compute a histogram using the provided buckets. The buckets\n |      are all open to the right except for the last which is closed.\n |      e.g. [1,10,20,50] means the buckets are [1,10) [10,20) [20,50],\n |      which means 1&lt;=x&lt;10, 10&lt;=x&lt;20, 20&lt;=x&lt;=50. And on the input of 1\n |      and 50 we would have a histogram of 1,0,1.\n |      \n |      If your histogram is evenly spaced (e.g. [0, 10, 20, 30]),\n |      this can be switched from an O(log n) inseration to O(1) per\n |      element (where n is the number of buckets).\n |      \n |      Buckets must be sorted, not contain any duplicates, and have\n |      at least two elements.\n |      \n |      If `buckets` is a number, it will generate buckets which are\n |      evenly spaced between the minimum and maximum of the RDD. For\n |      example, if the min value is 0 and the max is 100, given `buckets`\n |      as 2, the resulting buckets will be [0,50) [50,100]. `buckets` must\n |      be at least 1. An exception is raised if the RDD contains infinity.\n |      If the elements in the RDD do not vary (max == min), a single bucket\n |      will be used.\n |      \n |      The return value is a tuple of buckets and histogram.\n |      \n |      &gt;&gt;&gt; rdd = sc.parallelize(range(51))\n |      &gt;&gt;&gt; rdd.histogram(2)\n |      ([0, 25, 50], [25, 26])\n |      &gt;&gt;&gt; rdd.histogram([0, 5, 25, 50])\n |      ([0, 5, 25, 50], [5, 20, 26])\n |      &gt;&gt;&gt; rdd.histogram([0, 15, 30, 45, 60])  # evenly spaced buckets\n |      ([0, 15, 30, 45, 60], [15, 15, 15, 6])\n |      &gt;&gt;&gt; rdd = sc.parallelize([&#34;ab&#34;, &#34;ac&#34;, &#34;b&#34;, &#34;bd&#34;, &#34;ef&#34;])\n |      &gt;&gt;&gt; rdd.histogram((&#34;a&#34;, &#34;b&#34;, &#34;c&#34;))\n |      ((&#39;a&#39;, &#39;b&#39;, &#39;c&#39;), [2, 2])\n |  \n |  intersection(self, other)\n |      Return the intersection of this RDD and another one. The output will\n |      not contain any duplicate elements, even if the input RDDs did.\n |      \n |      .. note:: This method performs a shuffle internally.\n |      \n |      &gt;&gt;&gt; rdd1 = sc.parallelize([1, 10, 2, 3, 4, 5])\n |      &gt;&gt;&gt; rdd2 = sc.parallelize([1, 6, 2, 3, 7, 8])\n |      &gt;&gt;&gt; rdd1.intersection(rdd2).collect()\n |      [1, 2, 3]\n |  \n |  isCheckpointed(self)\n |      Return whether this RDD is checkpointed and materialized, either reliably or locally.\n |  \n |  isEmpty(self)\n |      Returns true if and only if the RDD contains no elements at all.\n |      \n |      .. note:: an RDD may be empty even when it has at least 1 partition.\n |      \n |      &gt;&gt;&gt; sc.parallelize([]).isEmpty()\n |      True\n |      &gt;&gt;&gt; sc.parallelize([1]).isEmpty()\n |      False\n |  \n |  isLocallyCheckpointed(self)\n |      Return whether this RDD is marked for local checkpointing.\n |      \n |      Exposed for testing.\n |  \n |  join(self, other, numPartitions=None)\n |      Return an RDD containing all pairs of elements with matching keys in\n |      `self` and `other`.\n |      \n |      Each pair of elements will be returned as a (k, (v1, v2)) tuple, where\n |      (k, v1) is in `self` and (k, v2) is in `other`.\n |      \n |      Performs a hash join across the cluster.\n |      \n |      &gt;&gt;&gt; x = sc.parallelize([(&#34;a&#34;, 1), (&#34;b&#34;, 4)])\n |      &gt;&gt;&gt; y = sc.parallelize([(&#34;a&#34;, 2), (&#34;a&#34;, 3)])\n |      &gt;&gt;&gt; sorted(x.join(y).collect())\n |      [(&#39;a&#39;, (1, 2)), (&#39;a&#39;, (1, 3))]\n |  \n |  keyBy(self, f)\n |      Creates tuples of the elements in this RDD by applying `f`.\n |      \n |      &gt;&gt;&gt; x = sc.parallelize(range(0,3)).keyBy(lambda x: x*x)\n |      &gt;&gt;&gt; y = sc.parallelize(zip(range(0,5), range(0,5)))\n |      &gt;&gt;&gt; [(x, list(map(list, y))) for x, y in sorted(x.cogroup(y).collect())]\n |      [(0, [[0], [0]]), (1, [[1], [1]]), (2, [[], [2]]), (3, [[], [3]]), (4, [[2], [4]])]\n |  \n |  keys(self)\n |      Return an RDD with the keys of each tuple.\n |      \n |      &gt;&gt;&gt; m = sc.parallelize([(1, 2), (3, 4)]).keys()\n |      &gt;&gt;&gt; m.collect()\n |      [1, 3]\n |  \n |  leftOuterJoin(self, other, numPartitions=None)\n |      Perform a left outer join of `self` and `other`.\n |      \n |      For each element (k, v) in `self`, the resulting RDD will either\n |      contain all pairs (k, (v, w)) for w in `other`, or the pair\n |      (k, (v, None)) if no elements in `other` have key k.\n |      \n |      Hash-partitions the resulting RDD into the given number of partitions.\n |      \n |      &gt;&gt;&gt; x = sc.parallelize([(&#34;a&#34;, 1), (&#34;b&#34;, 4)])\n |      &gt;&gt;&gt; y = sc.parallelize([(&#34;a&#34;, 2)])\n |      &gt;&gt;&gt; sorted(x.leftOuterJoin(y).collect())\n |      [(&#39;a&#39;, (1, 2)), (&#39;b&#39;, (4, None))]\n |  \n |  localCheckpoint(self)\n |      Mark this RDD for local checkpointing using Spark&#39;s existing caching layer.\n |      \n |      This method is for users who wish to truncate RDD lineages while skipping the expensive\n |      step of replicating the materialized data in a reliable distributed file system. This is\n |      useful for RDDs with long lineages that need to be truncated periodically (e.g. GraphX).\n |      \n |      Local checkpointing sacrifices fault-tolerance for performance. In particular, checkpointed\n |      data is written to ephemeral local storage in the executors instead of to a reliable,\n |      fault-tolerant storage. The effect is that if an executor fails during the computation,\n |      the checkpointed data may no longer be accessible, causing an irrecoverable job failure.\n |      \n |      This is NOT safe to use with dynamic allocation, which removes executors along\n |      with their cached blocks. If you must use both features, you are advised to set\n |      `spark.dynamicAllocation.cachedExecutorIdleTimeout` to a high value.\n |      \n |      The checkpoint directory set through :meth:`SparkContext.setCheckpointDir` is not used.\n |  \n |  lookup(self, key)\n |      Return the list of values in the RDD for key `key`. This operation\n |      is done efficiently if the RDD has a known partitioner by only\n |      searching the partition that the key maps to.\n |      \n |      &gt;&gt;&gt; l = range(1000)\n |      &gt;&gt;&gt; rdd = sc.parallelize(zip(l, l), 10)\n |      &gt;&gt;&gt; rdd.lookup(42)  # slow\n |      [42]\n |      &gt;&gt;&gt; sorted = rdd.sortByKey()\n |      &gt;&gt;&gt; sorted.lookup(42)  # fast\n |      [42]\n |      &gt;&gt;&gt; sorted.lookup(1024)\n |      []\n |      &gt;&gt;&gt; rdd2 = sc.parallelize([((&#39;a&#39;, &#39;b&#39;), &#39;c&#39;)]).groupByKey()\n |      &gt;&gt;&gt; list(rdd2.lookup((&#39;a&#39;, &#39;b&#39;))[0])\n |      [&#39;c&#39;]\n |  \n |  map(self, f, preservesPartitioning=False)\n |      Return a new RDD by applying a function to each element of this RDD.\n |      \n |      &gt;&gt;&gt; rdd = sc.parallelize([&#34;b&#34;, &#34;a&#34;, &#34;c&#34;])\n |      &gt;&gt;&gt; sorted(rdd.map(lambda x: (x, 1)).collect())\n |      [(&#39;a&#39;, 1), (&#39;b&#39;, 1), (&#39;c&#39;, 1)]\n |  \n |  mapPartitions(self, f, preservesPartitioning=False)\n |      Return a new RDD by applying a function to each partition of this RDD.\n |      \n |      &gt;&gt;&gt; rdd = sc.parallelize([1, 2, 3, 4], 2)\n |      &gt;&gt;&gt; def f(iterator): yield sum(iterator)\n |      &gt;&gt;&gt; rdd.mapPartitions(f).collect()\n |      [3, 7]\n |  \n |  mapPartitionsWithIndex(self, f, preservesPartitioning=False)\n |      Return a new RDD by applying a function to each partition of this RDD,\n |      while tracking the index of the original partition.\n |      \n |      &gt;&gt;&gt; rdd = sc.parallelize([1, 2, 3, 4], 4)\n |      &gt;&gt;&gt; def f(splitIndex, iterator): yield splitIndex\n |      &gt;&gt;&gt; rdd.mapPartitionsWithIndex(f).sum()\n |      6\n |  \n |  mapPartitionsWithSplit(self, f, preservesPartitioning=False)\n |      Deprecated: use mapPartitionsWithIndex instead.\n |      \n |      Return a new RDD by applying a function to each partition of this RDD,\n |      while tracking the index of the original partition.\n |      \n |      &gt;&gt;&gt; rdd = sc.parallelize([1, 2, 3, 4], 4)\n |      &gt;&gt;&gt; def f(splitIndex, iterator): yield splitIndex\n |      &gt;&gt;&gt; rdd.mapPartitionsWithSplit(f).sum()\n |      6\n |  \n |  mapValues(self, f)\n |      Pass each value in the key-value pair RDD through a map function\n |      without changing the keys; this also retains the original RDD&#39;s\n |      partitioning.\n |      \n |      &gt;&gt;&gt; x = sc.parallelize([(&#34;a&#34;, [&#34;apple&#34;, &#34;banana&#34;, &#34;lemon&#34;]), (&#34;b&#34;, [&#34;grapes&#34;])])\n |      &gt;&gt;&gt; def f(x): return len(x)\n |      &gt;&gt;&gt; x.mapValues(f).collect()\n |      [(&#39;a&#39;, 3), (&#39;b&#39;, 1)]\n |  \n |  max(self, key=None)\n |      Find the maximum item in this RDD.\n |      \n |      :param key: A function used to generate key for comparing\n\n*** WARNING: skipped 741 bytes of output ***\n\n |      \n |      &gt;&gt;&gt; rdd = sc.parallelize([2.0, 5.0, 43.0, 10.0])\n |      &gt;&gt;&gt; rdd.min()\n |      2.0\n |      &gt;&gt;&gt; rdd.min(key=str)\n |      10.0\n |  \n |  name(self)\n |      Return the name of this RDD.\n |  \n |  partitionBy(self, numPartitions, partitionFunc=&lt;function portable_hash at 0x7f7f8c68fb90&gt;)\n |      Return a copy of the RDD partitioned using the specified partitioner.\n |      \n |      &gt;&gt;&gt; pairs = sc.parallelize([1, 2, 3, 4, 2, 4, 1]).map(lambda x: (x, x))\n |      &gt;&gt;&gt; sets = pairs.partitionBy(2).glom().collect()\n |      &gt;&gt;&gt; len(set(sets[0]).intersection(set(sets[1])))\n |      0\n |  \n |  persist(self, storageLevel=StorageLevel(False, True, False, False, 1))\n |      Set this RDD&#39;s storage level to persist its values across operations\n |      after the first time it is computed. This can only be used to assign\n |      a new storage level if the RDD does not have a storage level set yet.\n |      If no storage level is specified defaults to (`MEMORY_ONLY`).\n |      \n |      &gt;&gt;&gt; rdd = sc.parallelize([&#34;b&#34;, &#34;a&#34;, &#34;c&#34;])\n |      &gt;&gt;&gt; rdd.persist().is_cached\n |      True\n |  \n |  pipe(self, command, env=None, checkCode=False)\n |      Return an RDD created by piping elements to a forked external process.\n |      \n |      &gt;&gt;&gt; sc.parallelize([&#39;1&#39;, &#39;2&#39;, &#39;&#39;, &#39;3&#39;]).pipe(&#39;cat&#39;).collect()\n |      [&#39;1&#39;, &#39;2&#39;, &#39;&#39;, &#39;3&#39;]\n |      \n |      :param checkCode: whether or not to check the return value of the shell command.\n |  \n |  randomSplit(self, weights, seed=None)\n |      Randomly splits this RDD with the provided weights.\n |      \n |      :param weights: weights for splits, will be normalized if they don&#39;t sum to 1\n |      :param seed: random seed\n |      :return: split RDDs in a list\n |      \n |      &gt;&gt;&gt; rdd = sc.parallelize(range(500), 1)\n |      &gt;&gt;&gt; rdd1, rdd2 = rdd.randomSplit([2, 3], 17)\n |      &gt;&gt;&gt; len(rdd1.collect() + rdd2.collect())\n |      500\n |      &gt;&gt;&gt; 150 &lt; rdd1.count() &lt; 250\n |      True\n |      &gt;&gt;&gt; 250 &lt; rdd2.count() &lt; 350\n |      True\n |  \n |  reduce(self, f)\n |      Reduces the elements of this RDD using the specified commutative and\n |      associative binary operator. Currently reduces partitions locally.\n |      \n |      &gt;&gt;&gt; from operator import add\n |      &gt;&gt;&gt; sc.parallelize([1, 2, 3, 4, 5]).reduce(add)\n |      15\n |      &gt;&gt;&gt; sc.parallelize((2 for _ in range(10))).map(lambda x: 1).cache().reduce(add)\n |      10\n |      &gt;&gt;&gt; sc.parallelize([]).reduce(add)\n |      Traceback (most recent call last):\n |          ...\n |      ValueError: Can not reduce() empty RDD\n |  \n |  reduceByKey(self, func, numPartitions=None, partitionFunc=&lt;function portable_hash at 0x7f7f8c68fb90&gt;)\n |      Merge the values for each key using an associative and commutative reduce function.\n |      \n |      This will also perform the merging locally on each mapper before\n |      sending results to a reducer, similarly to a &#34;combiner&#34; in MapReduce.\n |      \n |      Output will be partitioned with `numPartitions` partitions, or\n |      the default parallelism level if `numPartitions` is not specified.\n |      Default partitioner is hash-partition.\n |      \n |      &gt;&gt;&gt; from operator import add\n |      &gt;&gt;&gt; rdd = sc.parallelize([(&#34;a&#34;, 1), (&#34;b&#34;, 1), (&#34;a&#34;, 1)])\n |      &gt;&gt;&gt; sorted(rdd.reduceByKey(add).collect())\n |      [(&#39;a&#39;, 2), (&#39;b&#39;, 1)]\n |  \n |  reduceByKeyLocally(self, func)\n |      Merge the values for each key using an associative and commutative reduce function, but\n |      return the results immediately to the master as a dictionary.\n |      \n |      This will also perform the merging locally on each mapper before\n |      sending results to a reducer, similarly to a &#34;combiner&#34; in MapReduce.\n |      \n |      &gt;&gt;&gt; from operator import add\n |      &gt;&gt;&gt; rdd = sc.parallelize([(&#34;a&#34;, 1), (&#34;b&#34;, 1), (&#34;a&#34;, 1)])\n |      &gt;&gt;&gt; sorted(rdd.reduceByKeyLocally(add).items())\n |      [(&#39;a&#39;, 2), (&#39;b&#39;, 1)]\n |  \n |  repartition(self, numPartitions)\n |      Return a new RDD that has exactly numPartitions partitions.\n |      \n |      Can increase or decrease the level of parallelism in this RDD.\n |      Internally, this uses a shuffle to redistribute data.\n |      If you are decreasing the number of partitions in this RDD, consider\n |      using `coalesce`, which can avoid performing a shuffle.\n |      \n |      &gt;&gt;&gt; rdd = sc.parallelize([1,2,3,4,5,6,7], 4)\n |      &gt;&gt;&gt; sorted(rdd.glom().collect())\n |      [[1], [2, 3], [4, 5], [6, 7]]\n |      &gt;&gt;&gt; len(rdd.repartition(2).glom().collect())\n |      2\n |      &gt;&gt;&gt; len(rdd.repartition(10).glom().collect())\n |      10\n |  \n |  repartitionAndSortWithinPartitions(self, numPartitions=None, partitionFunc=&lt;function portable_hash at 0x7f7f8c68fb90&gt;, ascending=True, keyfunc=&lt;function RDD.&lt;lambda&gt; at 0x7f7f8c54d290&gt;)\n |      Repartition the RDD according to the given partitioner and, within each resulting partition,\n |      sort records by their keys.\n |      \n |      &gt;&gt;&gt; rdd = sc.parallelize([(0, 5), (3, 8), (2, 6), (0, 8), (3, 8), (1, 3)])\n |      &gt;&gt;&gt; rdd2 = rdd.repartitionAndSortWithinPartitions(2, lambda x: x % 2, True)\n |      &gt;&gt;&gt; rdd2.glom().collect()\n |      [[(0, 5), (0, 8), (2, 6)], [(1, 3), (3, 8), (3, 8)]]\n |  \n |  rightOuterJoin(self, other, numPartitions=None)\n |      Perform a right outer join of `self` and `other`.\n |      \n |      For each element (k, w) in `other`, the resulting RDD will either\n |      contain all pairs (k, (v, w)) for v in this, or the pair (k, (None, w))\n |      if no elements in `self` have key k.\n |      \n |      Hash-partitions the resulting RDD into the given number of partitions.\n |      \n |      &gt;&gt;&gt; x = sc.parallelize([(&#34;a&#34;, 1), (&#34;b&#34;, 4)])\n |      &gt;&gt;&gt; y = sc.parallelize([(&#34;a&#34;, 2)])\n |      &gt;&gt;&gt; sorted(y.rightOuterJoin(x).collect())\n |      [(&#39;a&#39;, (2, 1)), (&#39;b&#39;, (None, 4))]\n |  \n |  sample(self, withReplacement, fraction, seed=None)\n |      Return a sampled subset of this RDD.\n |      \n |      :param withReplacement: can elements be sampled multiple times (replaced when sampled out)\n |      :param fraction: expected size of the sample as a fraction of this RDD&#39;s size\n |          without replacement: probability that each element is chosen; fraction must be [0, 1]\n |          with replacement: expected number of times each element is chosen; fraction must be &gt;= 0\n |      :param seed: seed for the random number generator\n |      \n |      .. note:: This is not guaranteed to provide exactly the fraction specified of the total\n |          count of the given :class:`DataFrame`.\n |      \n |      &gt;&gt;&gt; rdd = sc.parallelize(range(100), 4)\n |      &gt;&gt;&gt; 6 &lt;= rdd.sample(False, 0.1, 81).count() &lt;= 14\n |      True\n |  \n |  sampleByKey(self, withReplacement, fractions, seed=None)\n |      Return a subset of this RDD sampled by key (via stratified sampling).\n |      Create a sample of this RDD using variable sampling rates for\n |      different keys as specified by fractions, a key to sampling rate map.\n |      \n |      &gt;&gt;&gt; fractions = {&#34;a&#34;: 0.2, &#34;b&#34;: 0.1}\n |      &gt;&gt;&gt; rdd = sc.parallelize(fractions.keys()).cartesian(sc.parallelize(range(0, 1000)))\n |      &gt;&gt;&gt; sample = dict(rdd.sampleByKey(False, fractions, 2).groupByKey().collect())\n |      &gt;&gt;&gt; 100 &lt; len(sample[&#34;a&#34;]) &lt; 300 and 50 &lt; len(sample[&#34;b&#34;]) &lt; 150\n |      True\n |      &gt;&gt;&gt; max(sample[&#34;a&#34;]) &lt;= 999 and min(sample[&#34;a&#34;]) &gt;= 0\n |      True\n |      &gt;&gt;&gt; max(sample[&#34;b&#34;]) &lt;= 999 and min(sample[&#34;b&#34;]) &gt;= 0\n |      True\n |  \n |  sampleStdev(self)\n |      Compute the sample standard deviation of this RDD&#39;s elements (which\n |      corrects for bias in estimating the standard deviation by dividing by\n |      N-1 instead of N).\n |      \n |      &gt;&gt;&gt; sc.parallelize([1, 2, 3]).sampleStdev()\n |      1.0\n |  \n |  sampleVariance(self)\n |      Compute the sample variance of this RDD&#39;s elements (which corrects\n |      for bias in estimating the variance by dividing by N-1 instead of N).\n |      \n |      &gt;&gt;&gt; sc.parallelize([1, 2, 3]).sampleVariance()\n |      1.0\n |  \n |  saveAsHadoopDataset(self, conf, keyConverter=None, valueConverter=None)\n |      Output a Python RDD of key-value pairs (of form ``RDD[(K, V)]``) to any Hadoop file\n |      system, using the old Hadoop OutputFormat API (mapred package). Keys/values are\n |      converted for output using either user specified converters or, by default,\n |      &#34;org.apache.spark.api.python.JavaToWritableConverter&#34;.\n |      \n |      :param conf: Hadoop job configuration, passed in as a dict\n |      :param keyConverter: (None by default)\n |      :param valueConverter: (None by default)\n |  \n |  saveAsHadoopFile(self, path, outputFormatClass, keyClass=None, valueClass=None, keyConverter=None, valueConverter=None, conf=None, compressionCodecClass=None)\n |      Output a Python RDD of key-value pairs (of form ``RDD[(K, V)]``) to any Hadoop file\n |      system, using the old Hadoop OutputFormat API (mapred package). Key and value types\n |      will be inferred if not specified. Keys and values are converted for output using either\n |      user specified converters or &#34;org.apache.spark.api.python.JavaToWritableConverter&#34;. The\n |      `conf` is applied on top of the base Hadoop conf associated with the SparkContext\n |      of this RDD to create a merged Hadoop MapReduce job configuration for saving the data.\n |      \n |      :param path: path to Hadoop file\n |      :param outputFormatClass: fully qualified classname of Hadoop OutputFormat\n |             (e.g. &#34;org.apache.hadoop.mapred.SequenceFileOutputFormat&#34;)\n |      :param keyClass: fully qualified classname of key Writable class\n |             (e.g. &#34;org.apache.hadoop.io.IntWritable&#34;, None by default)\n |      :param valueClass: fully qualified classname of value Writable class\n |             (e.g. &#34;org.apache.hadoop.io.Text&#34;, None by default)\n |      :param keyConverter: (None by default)\n |      :param valueConverter: (None by default)\n |      :param conf: (None by default)\n |      :param compressionCodecClass: (None by default)\n |  \n |  saveAsNewAPIHadoopDataset(self, conf, keyConverter=None, valueConverter=None)\n |      Output a Python RDD of key-value pairs (of form ``RDD[(K, V)]``) to any Hadoop file\n |      system, using the new Hadoop OutputFormat API (mapreduce package). Keys/values are\n |      converted for output using either user specified converters or, by default,\n |      &#34;org.apache.spark.api.python.JavaToWritableConverter&#34;.\n |      \n |      :param conf: Hadoop job configuration, passed in as a dict\n |      :param keyConverter: (None by default)\n |      :param valueConverter: (None by default)\n |  \n |  saveAsNewAPIHadoopFile(self, path, outputFormatClass, keyClass=None, valueClass=None, keyConverter=None, valueConverter=None, conf=None)\n |      Output a Python RDD of key-value pairs (of form ``RDD[(K, V)]``) to any Hadoop file\n |      system, using the new Hadoop OutputFormat API (mapreduce package). Key and value types\n |      will be inferred if not specified. Keys and values are converted for output using either\n |      user specified converters or &#34;org.apache.spark.api.python.JavaToWritableConverter&#34;. The\n |      `conf` is applied on top of the base Hadoop conf associated with the SparkContext\n |      of this RDD to create a merged Hadoop MapReduce job configuration for saving the data.\n |      \n |      :param path: path to Hadoop file\n |      :param outputFormatClass: fully qualified classname of Hadoop OutputFormat\n |             (e.g. &#34;org.apache.hadoop.mapreduce.lib.output.SequenceFileOutputFormat&#34;)\n |      :param keyClass: fully qualified classname of key Writable class\n |             (e.g. &#34;org.apache.hadoop.io.IntWritable&#34;, None by default)\n |      :param valueClass: fully qualified classname of value Writable class\n |             (e.g. &#34;org.apache.hadoop.io.Text&#34;, None by default)\n |      :param keyConverter: (None by default)\n |      :param valueConverter: (None by default)\n |      :param conf: Hadoop job configuration, passed in as a dict (None by default)\n |  \n |  saveAsPickleFile(self, path, batchSize=10)\n |      Save this RDD as a SequenceFile of serialized objects. The serializer\n |      used is :class:`pyspark.serializers.PickleSerializer`, default batch size\n |      is 10.\n |      \n |      &gt;&gt;&gt; tmpFile = NamedTemporaryFile(delete=True)\n |      &gt;&gt;&gt; tmpFile.close()\n |      &gt;&gt;&gt; sc.parallelize([1, 2, &#39;spark&#39;, &#39;rdd&#39;]).saveAsPickleFile(tmpFile.name, 3)\n |      &gt;&gt;&gt; sorted(sc.pickleFile(tmpFile.name, 5).map(str).collect())\n |      [&#39;1&#39;, &#39;2&#39;, &#39;rdd&#39;, &#39;spark&#39;]\n |  \n |  saveAsSequenceFile(self, path, compressionCodecClass=None)\n |      Output a Python RDD of key-value pairs (of form ``RDD[(K, V)]``) to any Hadoop file\n |      system, using the &#34;org.apache.hadoop.io.Writable&#34; types that we convert from the\n |      RDD&#39;s key and value types. The mechanism is as follows:\n |      \n |          1. Pyrolite is used to convert pickled Python RDD into RDD of Java objects.\n |          2. Keys and values of this Java RDD are converted to Writables and written out.\n |      \n |      :param path: path to sequence file\n |      :param compressionCodecClass: (None by default)\n |  \n |  saveAsTextFile(self, path, compressionCodecClass=None)\n |      Save this RDD as a text file, using string representations of elements.\n |      \n |      :param path: path to text file\n |      :param compressionCodecClass: (None by default) string i.e.\n |          &#34;org.apache.hadoop.io.compress.GzipCodec&#34;\n |      \n |      &gt;&gt;&gt; tempFile = NamedTemporaryFile(delete=True)\n |      &gt;&gt;&gt; tempFile.close()\n |      &gt;&gt;&gt; sc.parallelize(range(10)).saveAsTextFile(tempFile.name)\n |      &gt;&gt;&gt; from fileinput import input\n |      &gt;&gt;&gt; from glob import glob\n |      &gt;&gt;&gt; &#39;&#39;.join(sorted(input(glob(tempFile.name + &#34;/part-0000*&#34;))))\n |      &#39;0\\n1\\n2\\n3\\n4\\n5\\n6\\n7\\n8\\n9\\n&#39;\n |      \n |      Empty lines are tolerated when saving to text files.\n |      \n |      &gt;&gt;&gt; tempFile2 = NamedTemporaryFile(delete=True)\n |      &gt;&gt;&gt; tempFile2.close()\n |      &gt;&gt;&gt; sc.parallelize([&#39;&#39;, &#39;foo&#39;, &#39;&#39;, &#39;bar&#39;, &#39;&#39;]).saveAsTextFile(tempFile2.name)\n |      &gt;&gt;&gt; &#39;&#39;.join(sorted(input(glob(tempFile2.name + &#34;/part-0000*&#34;))))\n |      &#39;\\n\\n\\nbar\\nfoo\\n&#39;\n |      \n |      Using compressionCodecClass\n |      \n |      &gt;&gt;&gt; tempFile3 = NamedTemporaryFile(delete=True)\n |      &gt;&gt;&gt; tempFile3.close()\n |      &gt;&gt;&gt; codec = &#34;org.apache.hadoop.io.compress.GzipCodec&#34;\n |      &gt;&gt;&gt; sc.parallelize([&#39;foo&#39;, &#39;bar&#39;]).saveAsTextFile(tempFile3.name, codec)\n |      &gt;&gt;&gt; from fileinput import input, hook_compressed\n |      &gt;&gt;&gt; result = sorted(input(glob(tempFile3.name + &#34;/part*.gz&#34;), openhook=hook_compressed))\n |      &gt;&gt;&gt; b&#39;&#39;.join(result).decode(&#39;utf-8&#39;)\n |      &#39;bar\\nfoo\\n&#39;\n |  \n |  setName(self, name)\n |      Assign a name to this RDD.\n |      \n |      &gt;&gt;&gt; rdd1 = sc.parallelize([1, 2])\n |      &gt;&gt;&gt; rdd1.setName(&#39;RDD1&#39;).name()\n |      &#39;RDD1&#39;\n |  \n |  sortBy(self, keyfunc, ascending=True, numPartitions=None)\n |      Sorts this RDD by the given keyfunc\n |      \n |      &gt;&gt;&gt; tmp = [(&#39;a&#39;, 1), (&#39;b&#39;, 2), (&#39;1&#39;, 3), (&#39;d&#39;, 4), (&#39;2&#39;, 5)]\n |      &gt;&gt;&gt; sc.parallelize(tmp).sortBy(lambda x: x[0]).collect()\n |      [(&#39;1&#39;, 3), (&#39;2&#39;, 5), (&#39;a&#39;, 1), (&#39;b&#39;, 2), (&#39;d&#39;, 4)]\n |      &gt;&gt;&gt; sc.parallelize(tmp).sortBy(lambda x: x[1]).collect()\n |      [(&#39;a&#39;, 1), (&#39;b&#39;, 2), (&#39;1&#39;, 3), (&#39;d&#39;, 4), (&#39;2&#39;, 5)]\n |  \n |  sortByKey(self, ascending=True, numPartitions=None, keyfunc=&lt;function RDD.&lt;lambda&gt; at 0x7f7f8c54d3b0&gt;)\n |      Sorts this RDD, which is assumed to consist of (key, value) pairs.\n |      \n |      &gt;&gt;&gt; tmp = [(&#39;a&#39;, 1), (&#39;b&#39;, 2), (&#39;1&#39;, 3), (&#39;d&#39;, 4), (&#39;2&#39;, 5)]\n |      &gt;&gt;&gt; sc.parallelize(tmp).sortByKey().first()\n |      (&#39;1&#39;, 3)\n |      &gt;&gt;&gt; sc.parallelize(tmp).sortByKey(True, 1).collect()\n |      [(&#39;1&#39;, 3), (&#39;2&#39;, 5), (&#39;a&#39;, 1), (&#39;b&#39;, 2), (&#39;d&#39;, 4)]\n |      &gt;&gt;&gt; sc.parallelize(tmp).sortByKey(True, 2).collect()\n |      [(&#39;1&#39;, 3), (&#39;2&#39;, 5), (&#39;a&#39;, 1), (&#39;b&#39;, 2), (&#39;d&#39;, 4)]\n |      &gt;&gt;&gt; tmp2 = [(&#39;Mary&#39;, 1), (&#39;had&#39;, 2), (&#39;a&#39;, 3), (&#39;little&#39;, 4), (&#39;lamb&#39;, 5)]\n |      &gt;&gt;&gt; tmp2.extend([(&#39;whose&#39;, 6), (&#39;fleece&#39;, 7), (&#39;was&#39;, 8), (&#39;white&#39;, 9)])\n |      &gt;&gt;&gt; sc.parallelize(tmp2).sortByKey(True, 3, keyfunc=lambda k: k.lower()).collect()\n |      [(&#39;a&#39;, 3), (&#39;fleece&#39;, 7), (&#39;had&#39;, 2), (&#39;lamb&#39;, 5),...(&#39;white&#39;, 9), (&#39;whose&#39;, 6)]\n |  \n |  stats(self)\n |      Return a :class:`StatCounter` object that captures the mean, variance\n |      and count of the RDD&#39;s elements in one operation.\n |  \n |  stdev(self)\n |      Compute the standard deviation of this RDD&#39;s elements.\n |      \n |      &gt;&gt;&gt; sc.parallelize([1, 2, 3]).stdev()\n |      0.816...\n |  \n |  subtract(self, other, numPartitions=None)\n |      Return each value in `self` that is not contained in `other`.\n |      \n |      &gt;&gt;&gt; x = sc.parallelize([(&#34;a&#34;, 1), (&#34;b&#34;, 4), (&#34;b&#34;, 5), (&#34;a&#34;, 3)])\n |      &gt;&gt;&gt; y = sc.parallelize([(&#34;a&#34;, 3), (&#34;c&#34;, None)])\n |      &gt;&gt;&gt; sorted(x.subtract(y).collect())\n |      [(&#39;a&#39;, 1), (&#39;b&#39;, 4), (&#39;b&#39;, 5)]\n |  \n |  subtractByKey(self, other, numPartitions=None)\n |      Return each (key, value) pair in `self` that has no pair with matching\n |      key in `other`.\n |      \n |      &gt;&gt;&gt; x = sc.parallelize([(&#34;a&#34;, 1), (&#34;b&#34;, 4), (&#34;b&#34;, 5), (&#34;a&#34;, 2)])\n |      &gt;&gt;&gt; y = sc.parallelize([(&#34;a&#34;, 3), (&#34;c&#34;, None)])\n |      &gt;&gt;&gt; sorted(x.subtractByKey(y).collect())\n |      [(&#39;b&#39;, 4), (&#39;b&#39;, 5)]\n |  \n |  sum(self)\n |      Add up the elements in this RDD.\n |      \n |      &gt;&gt;&gt; sc.parallelize([1.0, 2.0, 3.0]).sum()\n |      6.0\n |  \n |  sumApprox(self, timeout, confidence=0.95)\n |      Approximate operation to return the sum within a timeout\n |      or meet the confidence.\n |      \n |      &gt;&gt;&gt; rdd = sc.parallelize(range(1000), 10)\n |      &gt;&gt;&gt; r = sum(range(1000))\n |      &gt;&gt;&gt; abs(rdd.sumApprox(1000) - r) / r &lt; 0.05\n |      True\n |  \n |  take(self, num)\n |      Take the first num elements of the RDD.\n |      \n |      It works by first scanning one partition, and use the results from\n |      that partition to estimate the number of additional partitions needed\n |      to satisfy the limit.\n |      \n |      Translated from the Scala implementation in RDD#take().\n |      \n |      .. note:: this method should only be used if the resulting array is expected\n |          to be small, as all the data is loaded into the driver&#39;s memory.\n |      \n |      &gt;&gt;&gt; sc.parallelize([2, 3, 4, 5, 6]).cache().take(2)\n |      [2, 3]\n |      &gt;&gt;&gt; sc.parallelize([2, 3, 4, 5, 6]).take(10)\n |      [2, 3, 4, 5, 6]\n |      &gt;&gt;&gt; sc.parallelize(range(100), 100).filter(lambda x: x &gt; 90).take(3)\n |      [91, 92, 93]\n |  \n |  takeOrdered(self, num, key=None)\n |      Get the N elements from an RDD ordered in ascending order or as\n |      specified by the optional key function.\n |      \n |      .. note:: this method should only be used if the resulting array is expected\n |          to be small, as all the data is loaded into the driver&#39;s memory.\n |      \n |      &gt;&gt;&gt; sc.parallelize([10, 1, 2, 9, 3, 4, 5, 6, 7]).takeOrdered(6)\n |      [1, 2, 3, 4, 5, 6]\n |      &gt;&gt;&gt; sc.parallelize([10, 1, 2, 9, 3, 4, 5, 6, 7], 2).takeOrdered(6, key=lambda x: -x)\n |      [10, 9, 7, 6, 5, 4]\n |  \n |  takeSample(self, withReplacement, num, seed=None)\n |      Return a fixed-size sampled subset of this RDD.\n |      \n |      .. note:: This method should only be used if the resulting array is expected\n |          to be small, as all the data is loaded into the driver&#39;s memory.\n |      \n |      &gt;&gt;&gt; rdd = sc.parallelize(range(0, 10))\n |      &gt;&gt;&gt; len(rdd.takeSample(True, 20, 1))\n |      20\n |      &gt;&gt;&gt; len(rdd.takeSample(False, 5, 2))\n |      5\n |      &gt;&gt;&gt; len(rdd.takeSample(False, 15, 3))\n |      10\n |  \n |  toDF(self, schema=None, sampleRatio=None)\n |      Converts current :class:`RDD` into a :class:`DataFrame`\n |      \n |      This is a shorthand for ``spark.createDataFrame(rdd, schema, sampleRatio)``\n |      \n |      :param schema: a :class:`pyspark.sql.types.StructType` or list of names of columns\n |      :param samplingRatio: the sample ratio of rows used for inferring\n |      :return: a DataFrame\n |      \n |      &gt;&gt;&gt; rdd.toDF().collect()\n |      [Row(name=u&#39;Alice&#39;, age=1)]\n |  \n |  toDebugString(self)\n |      A description of this RDD and its recursive dependencies for debugging.\n |  \n |  toLocalIterator(self, prefetchPartitions=False)\n |      Return an iterator that contains all of the elements in this RDD.\n |      The iterator will consume as much memory as the largest partition in this RDD.\n |      With prefetch it may consume up to the memory of the 2 largest partitions.\n |      \n |      :param prefetchPartitions: If Spark should pre-fetch the next partition\n |                                 before it is needed.\n |      \n |      &gt;&gt;&gt; rdd = sc.parallelize(range(10))\n |      &gt;&gt;&gt; [x for x in rdd.toLocalIterator()]\n |      [0, 1, 2, 3, 4, 5, 6, 7, 8, 9]\n |  \n |  top(self, num, key=None)\n |      Get the top N elements from an RDD.\n |      \n |      .. note:: This method should only be used if the resulting array is expected\n |          to be small, as all the data is loaded into the driver&#39;s memory.\n |      \n |      .. note:: It returns the list sorted in descending order.\n |      \n |      &gt;&gt;&gt; sc.parallelize([10, 4, 2, 12, 3]).top(1)\n |      [12]\n |      &gt;&gt;&gt; sc.parallelize([2, 3, 4, 5, 6], 2).top(2)\n |      [6, 5]\n |      &gt;&gt;&gt; sc.parallelize([10, 4, 2, 12, 3]).top(3, key=str)\n |      [4, 3, 2]\n |  \n |  treeAggregate(self, zeroValue, seqOp, combOp, depth=2)\n |      Aggregates the elements of this RDD in a multi-level tree\n |      pattern.\n |      \n |      :param depth: suggested depth of the tree (default: 2)\n |      \n |      &gt;&gt;&gt; add = lambda x, y: x + y\n |      &gt;&gt;&gt; rdd = sc.parallelize([-5, -4, -3, -2, -1, 1, 2, 3, 4], 10)\n |      &gt;&gt;&gt; rdd.treeAggregate(0, add, add)\n |      -5\n |      &gt;&gt;&gt; rdd.treeAggregate(0, add, add, 1)\n |      -5\n |      &gt;&gt;&gt; rdd.treeAggregate(0, add, add, 2)\n |      -5\n |      &gt;&gt;&gt; rdd.treeAggregate(0, add, add, 5)\n |      -5\n |      &gt;&gt;&gt; rdd.treeAggregate(0, add, add, 10)\n |      -5\n |  \n |  treeReduce(self, f, depth=2)\n |      Reduces the elements of this RDD in a multi-level tree pattern.\n |      \n |      :param depth: suggested depth of the tree (default: 2)\n |      \n |      &gt;&gt;&gt; add = lambda x, y: x + y\n |      &gt;&gt;&gt; rdd = sc.parallelize([-5, -4, -3, -2, -1, 1, 2, 3, 4], 10)\n |      &gt;&gt;&gt; rdd.treeReduce(add)\n |      -5\n |      &gt;&gt;&gt; rdd.treeReduce(add, 1)\n |      -5\n |      &gt;&gt;&gt; rdd.treeReduce(add, 2)\n |      -5\n |      &gt;&gt;&gt; rdd.treeReduce(add, 5)\n |      -5\n |      &gt;&gt;&gt; rdd.treeReduce(add, 10)\n |      -5\n |  \n |  union(self, other)\n |      Return the union of this RDD and another one.\n |      \n |      &gt;&gt;&gt; rdd = sc.parallelize([1, 1, 2, 3])\n |      &gt;&gt;&gt; rdd.union(rdd).collect()\n |      [1, 1, 2, 3, 1, 1, 2, 3]\n |  \n |  unpersist(self, blocking=False)\n |      Mark the RDD as non-persistent, and remove all blocks for it from\n |      memory and disk.\n |      \n |      .. versionchanged:: 3.0.0\n |         Added optional argument `blocking` to specify whether to block until all\n |         blocks are deleted.\n |  \n |  values(self)\n |      Return an RDD with the values of each tuple.\n |      \n |      &gt;&gt;&gt; m = sc.parallelize([(1, 2), (3, 4)]).values()\n |      &gt;&gt;&gt; m.collect()\n |      [2, 4]\n |  \n |  variance(self)\n |      Compute the variance of this RDD&#39;s elements.\n |      \n |      &gt;&gt;&gt; sc.parallelize([1, 2, 3]).variance()\n |      0.666...\n |  \n |  zip(self, other)\n |      Zips this RDD with another one, returning key-value pairs with the\n |      first element in each RDD second element in each RDD, etc. Assumes\n |      that the two RDDs have the same number of partitions and the same\n |      number of elements in each partition (e.g. one was made through\n |      a map on the other).\n |      \n |      &gt;&gt;&gt; x = sc.parallelize(range(0,5))\n |      &gt;&gt;&gt; y = sc.parallelize(range(1000, 1005))\n |      &gt;&gt;&gt; x.zip(y).collect()\n |      [(0, 1000), (1, 1001), (2, 1002), (3, 1003), (4, 1004)]\n |  \n |  zipWithIndex(self)\n |      Zips this RDD with its element indices.\n |      \n |      The ordering is first based on the partition index and then the\n |      ordering of items within each partition. So the first item in\n |      the first partition gets index 0, and the last item in the last\n |      partition receives the largest index.\n |      \n |      This method needs to trigger a spark job when this RDD contains\n |      more than one partitions.\n |      \n |      &gt;&gt;&gt; sc.parallelize([&#34;a&#34;, &#34;b&#34;, &#34;c&#34;, &#34;d&#34;], 3).zipWithIndex().collect()\n |      [(&#39;a&#39;, 0), (&#39;b&#39;, 1), (&#39;c&#39;, 2), (&#39;d&#39;, 3)]\n |  \n |  zipWithUniqueId(self)\n |      Zips this RDD with generated unique Long ids.\n |      \n |      Items in the kth partition will get ids k, n+k, 2*n+k, ..., where\n |      n is the number of partitions. So there may exist gaps, but this\n |      method won&#39;t trigger a spark job, which is different from\n |      :meth:`zipWithIndex`.\n |      \n |      &gt;&gt;&gt; sc.parallelize([&#34;a&#34;, &#34;b&#34;, &#34;c&#34;, &#34;d&#34;, &#34;e&#34;], 3).zipWithUniqueId().collect()\n |      [(&#39;a&#39;, 0), (&#39;b&#39;, 1), (&#39;c&#39;, 4), (&#39;d&#39;, 2), (&#39;e&#39;, 5)]\n |  \n |  ----------------------------------------------------------------------\n |  Data descriptors inherited from RDD:\n |  \n |  __dict__\n |      dictionary for instance variables (if defined)\n |  \n |  __weakref__\n |      list of weak references to the object (if defined)\n |  \n |  context\n |      The :class:`SparkContext` that this RDD was created on.\n\n</div>",
       "datasetInfos": [],
       "removedWidgets": [],
       "type": "html"
      }
     },
     "output_type": "display_data"
    }
   ],
   "source": [
    "# Let's use help to see what methods we can call on this RDD\n",
    "help(rangeRDD)"
   ]
  },
  {
   "cell_type": "code",
   "execution_count": null,
   "metadata": {
    "application/vnd.databricks.v1+cell": {
     "inputWidgets": {},
     "nuid": "6031edd0-5976-48a7-a0ef-4eedd7544b32",
     "showTitle": false,
     "title": ""
    }
   },
   "outputs": [
    {
     "data": {
      "text/html": [
       "<style scoped>\n",
       "  .ansiout {\n",
       "    display: block;\n",
       "    unicode-bidi: embed;\n",
       "    white-space: pre-wrap;\n",
       "    word-wrap: break-word;\n",
       "    word-break: break-all;\n",
       "    font-family: \"Source Code Pro\", \"Menlo\", monospace;;\n",
       "    font-size: 13px;\n",
       "    color: #555;\n",
       "    margin-left: 4px;\n",
       "    line-height: 19px;\n",
       "  }\n",
       "</style>\n",
       "<div class=\"ansiout\">Out[11]: 8</div>"
      ]
     },
     "metadata": {
      "application/vnd.databricks.v1+output": {
       "addedWidgets": {},
       "arguments": {},
       "data": "<div class=\"ansiout\">Out[11]: 8</div>",
       "datasetInfos": [],
       "removedWidgets": [],
       "type": "html"
      }
     },
     "output_type": "display_data"
    }
   ],
   "source": [
    "# Let's see how many partitions the RDD will be split into by using the getNumPartitions()\n",
    "rangeRDD.getNumPartitions()"
   ]
  },
  {
   "cell_type": "markdown",
   "metadata": {
    "application/vnd.databricks.v1+cell": {
     "inputWidgets": {},
     "nuid": "3db6b36b-4b90-45e6-a95f-c54da9262808",
     "showTitle": false,
     "title": ""
    }
   },
   "source": [
    "**(3c): Subtract one from each value using `map`**\n",
    " \n",
    "So far, we've created a distributed dataset that is split into many partitions, where each partition is stored on a single machine in our cluster.  Let's look at what happens when we do a basic operation on the dataset.  Many useful data analysis operations can be specified as \"do something to each item in the dataset\".  These data-parallel operations are convenient because each item in the dataset can be processed individually: the operation on one entry doesn't effect the operations on any of the other entries.  Therefore, Spark can parallelize the operation.\n",
    " \n",
    "`map(f)`, the most common Spark transformation, is one such example: it applies a function `f` to each item in the dataset, and outputs the resulting dataset.  When you run `map()` on a dataset, a single *stage* of tasks is launched.  A *stage* is a group of tasks that all perform the same computation, but on different input data.  One task is launched for each partitition, as shown in the example below.  A task is a unit of execution that runs on a single machine. When we run `map(f)` within a partition, a new *task* applies `f` to all of the entries in a particular partition, and outputs a new partition. In this example figure, the dataset is broken into four partitions, so four `map()` tasks are launched.\n",
    " \n",
    "![tasks](http://spark-mooc.github.io/web-assets/images/tasks.png)\n",
    " \n",
    "The figure below shows how this would work on the smaller data set from the earlier figures.  Note that one task is launched for each partition.\n",
    "![foo](http://spark-mooc.github.io/web-assets/images/map.png)\n",
    " \n",
    "When applying the `map()` transformation, each item in the parent RDD will map to one element in the new RDD. So, if the parent RDD has twenty elements, the new RDD will also have twenty items.\n",
    " \n",
    "Now we will use `map()` to subtract one from each value in the base RDD we just created. First, we define a Python function called `sub()` that will subtract one from the input integer. Second, we will pass each item in the base RDD into a `map()` transformation that applies the `sub()` function to each element. And finally, we print out the RDD transformation hierarchy using `toDebugString()`."
   ]
  },
  {
   "cell_type": "code",
   "execution_count": null,
   "metadata": {
    "application/vnd.databricks.v1+cell": {
     "inputWidgets": {},
     "nuid": "ad80ade0-aa0a-406f-97e3-30ab54be5369",
     "showTitle": false,
     "title": ""
    }
   },
   "outputs": [
    {
     "data": {
      "text/html": [
       "<style scoped>\n",
       "  .ansiout {\n",
       "    display: block;\n",
       "    unicode-bidi: embed;\n",
       "    white-space: pre-wrap;\n",
       "    word-wrap: break-word;\n",
       "    word-break: break-all;\n",
       "    font-family: \"Source Code Pro\", \"Menlo\", monospace;;\n",
       "    font-size: 13px;\n",
       "    color: #555;\n",
       "    margin-left: 4px;\n",
       "    line-height: 19px;\n",
       "  }\n",
       "</style>\n",
       "<div class=\"ansiout\">b&#39;(8) PythonRDD[2] at RDD at PythonRDD.scala:58 []\\n |  ParallelCollectionRDD[0] at readRDDFromInputStream at PythonRDD.scala:413 []&#39;\n",
       "</div>"
      ]
     },
     "metadata": {
      "application/vnd.databricks.v1+output": {
       "addedWidgets": {},
       "arguments": {},
       "data": "<div class=\"ansiout\">b&#39;(8) PythonRDD[2] at RDD at PythonRDD.scala:58 []\\n |  ParallelCollectionRDD[0] at readRDDFromInputStream at PythonRDD.scala:413 []&#39;\n</div>",
       "datasetInfos": [],
       "removedWidgets": [],
       "type": "html"
      }
     },
     "output_type": "display_data"
    }
   ],
   "source": [
    "# Create sub function to subtract 1\n",
    "def sub(value):\n",
    "  return (value - 1)\n",
    "subRDD = rangeRDD.map(sub)\n",
    "print(subRDD.toDebugString())"
   ]
  },
  {
   "cell_type": "markdown",
   "metadata": {
    "application/vnd.databricks.v1+cell": {
     "inputWidgets": {},
     "nuid": "86df3808-1750-4ea2-a788-60645eec1984",
     "showTitle": false,
     "title": ""
    }
   },
   "source": [
    "** (3d) Perform action `collect` to view results **\n",
    " \n",
    "To see a list of elements decremented by one, we need to create a new list on the driver from the the data distributed in the executor nodes.  To do this we call the `collect()` method on our RDD.  `collect()` is often used after a filter or other operation to ensure that we are only returning a *small* amount of data to the driver.  This is done because the data returned to the driver must fit into the driver's available memory.  If not, the driver will crash.\n",
    " \n",
    "The `collect()` method is the first action operation that we have encountered.  Action operations cause Spark to perform the (lazy) transformation operations that are required to compute the RDD returned by the action.  In our example, this means that tasks will now be launched to perform the `parallelize`, `map`, and `collect` operations.\n",
    " \n",
    "In this example, the dataset is broken into four partitions, so four `collect()` tasks are launched. Each task collects the entries in its partition and sends the result to the SparkContext, which creates a list of the values, as shown in the figure below.\n",
    " \n",
    "![collect](http://spark-mooc.github.io/web-assets/images/collect.png)\n",
    " \n",
    "The above figures showed what would happen if we ran `collect()` on a small example dataset with just four partitions.\n",
    "Now let's run `collect()` on `subRDD`."
   ]
  },
  {
   "cell_type": "code",
   "execution_count": null,
   "metadata": {
    "application/vnd.databricks.v1+cell": {
     "inputWidgets": {},
     "nuid": "31430b83-be23-48fc-acb7-3ea0735b9380",
     "showTitle": false,
     "title": ""
    }
   },
   "outputs": [],
   "source": [
    "# Let's collect the data\n",
    "print(subRDD.collect())"
   ]
  },
  {
   "cell_type": "markdown",
   "metadata": {
    "application/vnd.databricks.v1+cell": {
     "inputWidgets": {},
     "nuid": "5fc9df06-1be8-4e07-8e2c-074be398b2ad",
     "showTitle": false,
     "title": ""
    }
   },
   "source": [
    "** (3d) Perform action `count` to view counts **\n",
    " \n",
    "One of the most basic jobs that we can run is the `count()` job which will count the number of elements in an RDD using the `count()` action. Since `map()` creates a new RDD with the same number of elements as the starting RDD, we expect that applying `count()` to each RDD will return the same result.\n",
    " \n",
    "Note that because `count()` is an action operation, if we had not already performed an action with `collect()`, then Spark would now perform the transformation operations when we executed `count()`.\n",
    " \n",
    "Each task counts the entries in its partition and sends the result to your SparkContext, which adds up all of the counts. The figure below shows what would happen if we ran `count()` on a small example dataset with just four partitions.\n",
    "![count](http://spark-mooc.github.io/web-assets/images/count.png)"
   ]
  },
  {
   "cell_type": "code",
   "execution_count": null,
   "metadata": {
    "application/vnd.databricks.v1+cell": {
     "inputWidgets": {},
     "nuid": "9e5efffd-6bcd-4423-ad72-1ac515c3786c",
     "showTitle": false,
     "title": ""
    }
   },
   "outputs": [
    {
     "data": {
      "text/html": [
       "<style scoped>\n",
       "  .ansiout {\n",
       "    display: block;\n",
       "    unicode-bidi: embed;\n",
       "    white-space: pre-wrap;\n",
       "    word-wrap: break-word;\n",
       "    word-break: break-all;\n",
       "    font-family: \"Source Code Pro\", \"Menlo\", monospace;;\n",
       "    font-size: 13px;\n",
       "    color: #555;\n",
       "    margin-left: 4px;\n",
       "    line-height: 19px;\n",
       "  }\n",
       "</style>\n",
       "<div class=\"ansiout\">10000\n",
       "10000\n",
       "</div>"
      ]
     },
     "metadata": {
      "application/vnd.databricks.v1+output": {
       "addedWidgets": {},
       "arguments": {},
       "data": "<div class=\"ansiout\">10000\n10000\n</div>",
       "datasetInfos": [],
       "removedWidgets": [],
       "type": "html"
      }
     },
     "output_type": "display_data"
    }
   ],
   "source": [
    "print(rangeRDD.count())\n",
    "print(subRDD.count())"
   ]
  },
  {
   "cell_type": "markdown",
   "metadata": {
    "application/vnd.databricks.v1+cell": {
     "inputWidgets": {},
     "nuid": "7ca64368-55e6-4e2a-8c8b-a0f1d9259a48",
     "showTitle": false,
     "title": ""
    }
   },
   "source": [
    "** (3e) Apply transformation `filter` and view results with `collect` **\n",
    " \n",
    "Next, we'll create a new RDD that only contains the values less than ten by using the `filter(f)` data-parallel operation. The `filter(f)` method is a transformation operation that creates a new RDD from the input RDD by applying filter function `f` to each item in the parent RDD and only passing those elements where the filter function returns `True`. Elements that do not return `True` will be dropped. Like `map()`, filter can be applied individually to each entry in the dataset, so is easily parallelized using Spark.\n",
    " \n",
    "The figure below shows how this would work on the small four-partition dataset.\n",
    " \n",
    "![filter](http://spark-mooc.github.io/web-assets/images/filter.png)\n",
    " \n",
    "To filter this dataset, we'll define a function called `ten()`, which returns `True` if the input is less than 10 and `False` otherwise.  This function will be passed to the `filter()` transformation as the filter function `f`.\n",
    " \n",
    "To view the filtered list of elements less than ten, we need to create a new list on the driver from the distributed data on the executor nodes.  We use the `collect()` method to return a list that contains all of the elements in this filtered RDD to the driver program."
   ]
  },
  {
   "cell_type": "code",
   "execution_count": null,
   "metadata": {
    "application/vnd.databricks.v1+cell": {
     "inputWidgets": {},
     "nuid": "b3140613-7217-455d-93da-209180effd34",
     "showTitle": false,
     "title": ""
    }
   },
   "outputs": [
    {
     "data": {
      "text/html": [
       "<style scoped>\n",
       "  .ansiout {\n",
       "    display: block;\n",
       "    unicode-bidi: embed;\n",
       "    white-space: pre-wrap;\n",
       "    word-wrap: break-word;\n",
       "    word-break: break-all;\n",
       "    font-family: \"Source Code Pro\", \"Menlo\", monospace;;\n",
       "    font-size: 13px;\n",
       "    color: #555;\n",
       "    margin-left: 4px;\n",
       "    line-height: 19px;\n",
       "  }\n",
       "</style>\n",
       "<div class=\"ansiout\">[0, 1, 2, 3, 4, 5, 6, 7, 8, 9]\n",
       "</div>"
      ]
     },
     "metadata": {
      "application/vnd.databricks.v1+output": {
       "addedWidgets": {},
       "arguments": {},
       "data": "<div class=\"ansiout\">[0, 1, 2, 3, 4, 5, 6, 7, 8, 9]\n</div>",
       "datasetInfos": [],
       "removedWidgets": [],
       "type": "html"
      }
     },
     "output_type": "display_data"
    }
   ],
   "source": [
    "# Define a function to filter a single value\n",
    "def ten(value):\n",
    "    \"\"\"Return whether value is below ten.\n",
    "\n",
    "    Args:\n",
    "        value (int): A number.\n",
    "\n",
    "    Returns:\n",
    "        bool: Whether `value` is less than ten.\n",
    "    \"\"\"\n",
    "    if (value < 10):\n",
    "        return True\n",
    "    else:\n",
    "        return False\n",
    "# The ten function could also be written concisely as: def ten(value): return value < 10\n",
    "\n",
    "# Pass the function ten to the filter transformation\n",
    "# Filter is a transformation so no tasks are run\n",
    "filteredRDD = subRDD.filter(ten)\n",
    "\n",
    "# View the results using collect()\n",
    "# Collect is an action and triggers the filter transformation to run\n",
    "print(filteredRDD.collect())"
   ]
  },
  {
   "cell_type": "markdown",
   "metadata": {
    "application/vnd.databricks.v1+cell": {
     "inputWidgets": {},
     "nuid": "eb7fde34-7a79-4ae7-864d-c4d4d82cd2f9",
     "showTitle": false,
     "title": ""
    }
   },
   "source": [
    "#### ** Part 4: Lambda Functions **"
   ]
  },
  {
   "cell_type": "markdown",
   "metadata": {
    "application/vnd.databricks.v1+cell": {
     "inputWidgets": {},
     "nuid": "ba0281f8-e9e2-4f5e-9c2e-2230a446116d",
     "showTitle": false,
     "title": ""
    }
   },
   "source": [
    "** (4a) Using Python `lambda()` functions **\n",
    " \n",
    "Python supports the use of small one-line anonymous functions that are not bound to a name at runtime. Borrowed from LISP, these `lambda` functions can be used wherever function objects are required. They are syntactically restricted to a single expression. Remember that `lambda` functions are a matter of style and using them is never required - semantically, they are just syntactic sugar for a normal function definition. You can always define a separate normal function instead, but using a `lambda()` function is an equivalent and more compact form of coding. Ideally you should consider using `lambda` functions where you want to encapsulate non-reusable code without littering your code with one-line functions.\n",
    " \n",
    "Here, instead of defining a separate function for the `filter()` transformation, we will use an inline `lambda()` function."
   ]
  },
  {
   "cell_type": "code",
   "execution_count": null,
   "metadata": {
    "application/vnd.databricks.v1+cell": {
     "inputWidgets": {},
     "nuid": "6e63f1b2-dd89-4a3a-9f15-2a3556916435",
     "showTitle": false,
     "title": ""
    }
   },
   "outputs": [
    {
     "data": {
      "text/html": [
       "<style scoped>\n",
       "  .ansiout {\n",
       "    display: block;\n",
       "    unicode-bidi: embed;\n",
       "    white-space: pre-wrap;\n",
       "    word-wrap: break-word;\n",
       "    word-break: break-all;\n",
       "    font-family: \"Source Code Pro\", \"Menlo\", monospace;;\n",
       "    font-size: 13px;\n",
       "    color: #555;\n",
       "    margin-left: 4px;\n",
       "    line-height: 19px;\n",
       "  }\n",
       "</style>\n",
       "<div class=\"ansiout\">Out[16]: [0, 1, 2, 3, 4, 5, 6, 7, 8, 9]</div>"
      ]
     },
     "metadata": {
      "application/vnd.databricks.v1+output": {
       "addedWidgets": {},
       "arguments": {},
       "data": "<div class=\"ansiout\">Out[16]: [0, 1, 2, 3, 4, 5, 6, 7, 8, 9]</div>",
       "datasetInfos": [],
       "removedWidgets": [],
       "type": "html"
      }
     },
     "output_type": "display_data"
    }
   ],
   "source": [
    "lambdaRDD = subRDD.filter(lambda value : value < 10)\n",
    "\n",
    "lambdaRDD.collect()"
   ]
  },
  {
   "cell_type": "code",
   "execution_count": null,
   "metadata": {
    "application/vnd.databricks.v1+cell": {
     "inputWidgets": {},
     "nuid": "1bde24e8-d79e-4d27-b2df-63bff5072090",
     "showTitle": false,
     "title": ""
    }
   },
   "outputs": [
    {
     "data": {
      "text/html": [
       "<style scoped>\n",
       "  .ansiout {\n",
       "    display: block;\n",
       "    unicode-bidi: embed;\n",
       "    white-space: pre-wrap;\n",
       "    word-wrap: break-word;\n",
       "    word-break: break-all;\n",
       "    font-family: \"Source Code Pro\", \"Menlo\", monospace;;\n",
       "    font-size: 13px;\n",
       "    color: #555;\n",
       "    margin-left: 4px;\n",
       "    line-height: 19px;\n",
       "  }\n",
       "</style>\n",
       "<div class=\"ansiout\">Out[17]: [0, 2, 4, 6, 8]</div>"
      ]
     },
     "metadata": {
      "application/vnd.databricks.v1+output": {
       "addedWidgets": {},
       "arguments": {},
       "data": "<div class=\"ansiout\">Out[17]: [0, 2, 4, 6, 8]</div>",
       "datasetInfos": [],
       "removedWidgets": [],
       "type": "html"
      }
     },
     "output_type": "display_data"
    }
   ],
   "source": [
    "# Let's collect the even values less than 10\n",
    "evenRDD = lambdaRDD.filter(lambda value : value % 2 == 0)\n",
    "evenRDD.collect()"
   ]
  },
  {
   "cell_type": "markdown",
   "metadata": {
    "application/vnd.databricks.v1+cell": {
     "inputWidgets": {},
     "nuid": "c09f824f-4a3b-4971-aeb1-31090389a536",
     "showTitle": false,
     "title": ""
    }
   },
   "source": [
    "#### ** Part 5: Additional RDD actions **"
   ]
  },
  {
   "cell_type": "markdown",
   "metadata": {
    "application/vnd.databricks.v1+cell": {
     "inputWidgets": {},
     "nuid": "ccaa1e73-bb60-421b-89b5-e3ada206996b",
     "showTitle": false,
     "title": ""
    }
   },
   "source": [
    "** (5a) Other common actions **\n",
    " \n",
    "Let's investigate the additional actions: [first()](http://spark.apache.org/docs/latest/api/python/pyspark.html#pyspark.RDD.first), [take()](http://spark.apache.org/docs/latest/api/python/pyspark.html#pyspark.RDD.take), [top()](http://spark.apache.org/docs/latest/api/python/pyspark.html#pyspark.RDD.top), [takeOrdered()](http://spark.apache.org/docs/latest/api/python/pyspark.html#pyspark.RDD.takeOrdered), and [reduce()](http://spark.apache.org/docs/latest/api/python/pyspark.html#pyspark.RDD.reduce)\n",
    " \n",
    "One useful thing to do when we have a new dataset is to look at the first few entries to obtain a rough idea of what information is available.  In Spark, we can do that using the `first()`, `take()`, `top()`, and `takeOrdered()` actions. Note that for the `first()` and `take()` actions, the elements that are returned depend on how the RDD is *partitioned*.\n",
    " \n",
    "Instead of using the `collect()` action, we can use the `take(n)` action to return the first n elements of the RDD. The `first()` action returns the first element of an RDD, and is equivalent to `take(1)`.\n",
    " \n",
    "The `takeOrdered()` action returns the first n elements of the RDD, using either their natural order or a custom comparator. The key advantage of using `takeOrdered()` instead of `first()` or `take()` is that `takeOrdered()` returns a deterministic result, while the other two actions may return differing results, depending on the number of partions or execution environment. `takeOrdered()` returns the list sorted in *ascending order*.  The `top()` action is similar to `takeOrdered()` except that it returns the list in *descending order.*\n",
    " \n",
    "The `reduce()` action reduces the elements of a RDD to a single value by applying a function that takes two parameters and returns a single value.  The function should be commutative and associative, as `reduce()` is applied at the partition level and then again to aggregate results from partitions.  If these rules don't hold, the results from `reduce()` will be inconsistent.  Reducing locally at partitions makes `reduce()` very efficient."
   ]
  },
  {
   "cell_type": "code",
   "execution_count": null,
   "metadata": {
    "application/vnd.databricks.v1+cell": {
     "inputWidgets": {},
     "nuid": "8829249a-6fc3-4fea-a750-9494707d18cb",
     "showTitle": false,
     "title": ""
    }
   },
   "outputs": [
    {
     "data": {
      "text/html": [
       "<style scoped>\n",
       "  .ansiout {\n",
       "    display: block;\n",
       "    unicode-bidi: embed;\n",
       "    white-space: pre-wrap;\n",
       "    word-wrap: break-word;\n",
       "    word-break: break-all;\n",
       "    font-family: \"Source Code Pro\", \"Menlo\", monospace;;\n",
       "    font-size: 13px;\n",
       "    color: #555;\n",
       "    margin-left: 4px;\n",
       "    line-height: 19px;\n",
       "  }\n",
       "</style>\n",
       "<div class=\"ansiout\">[0, 1, 2, 3, 4, 5, 6, 7, 8, 9]\n",
       "0\n",
       "[0, 1, 2, 3]\n",
       "[0, 1, 2, 3, 4, 5, 6, 7, 8, 9]\n",
       "</div>"
      ]
     },
     "metadata": {
      "application/vnd.databricks.v1+output": {
       "addedWidgets": {},
       "arguments": {},
       "data": "<div class=\"ansiout\">[0, 1, 2, 3, 4, 5, 6, 7, 8, 9]\n0\n[0, 1, 2, 3]\n[0, 1, 2, 3, 4, 5, 6, 7, 8, 9]\n</div>",
       "datasetInfos": [],
       "removedWidgets": [],
       "type": "html"
      }
     },
     "output_type": "display_data"
    }
   ],
   "source": [
    "print(filteredRDD.collect())\n",
    "# Let's get the first element\n",
    "print(filteredRDD.first())\n",
    "# The first 4\n",
    "print(filteredRDD.take(4))\n",
    "# Note that it is ok to take more elements than the RDD has\n",
    "print(filteredRDD.take(12))"
   ]
  },
  {
   "cell_type": "code",
   "execution_count": null,
   "metadata": {
    "application/vnd.databricks.v1+cell": {
     "inputWidgets": {},
     "nuid": "e20921d0-6797-407e-92dc-efb5ccd2be4d",
     "showTitle": false,
     "title": ""
    }
   },
   "outputs": [
    {
     "data": {
      "text/html": [
       "<style scoped>\n",
       "  .ansiout {\n",
       "    display: block;\n",
       "    unicode-bidi: embed;\n",
       "    white-space: pre-wrap;\n",
       "    word-wrap: break-word;\n",
       "    word-break: break-all;\n",
       "    font-family: \"Source Code Pro\", \"Menlo\", monospace;;\n",
       "    font-size: 13px;\n",
       "    color: #555;\n",
       "    margin-left: 4px;\n",
       "    line-height: 19px;\n",
       "  }\n",
       "</style>\n",
       "<div class=\"ansiout\">[0, 1, 2]\n",
       "[9, 8, 7, 6, 5]\n",
       "</div>"
      ]
     },
     "metadata": {
      "application/vnd.databricks.v1+output": {
       "addedWidgets": {},
       "arguments": {},
       "data": "<div class=\"ansiout\">[0, 1, 2]\n[9, 8, 7, 6, 5]\n</div>",
       "datasetInfos": [],
       "removedWidgets": [],
       "type": "html"
      }
     },
     "output_type": "display_data"
    }
   ],
   "source": [
    "# Retrieve the three smallest elements\n",
    "print(filteredRDD.takeOrdered(3))\n",
    "# Retrieve the five largest elements\n",
    "print(filteredRDD.top(5))"
   ]
  },
  {
   "cell_type": "code",
   "execution_count": null,
   "metadata": {
    "application/vnd.databricks.v1+cell": {
     "inputWidgets": {},
     "nuid": "82afed9d-16b6-498c-8388-89a1893e20bc",
     "showTitle": false,
     "title": ""
    }
   },
   "outputs": [
    {
     "data": {
      "text/html": [
       "<style scoped>\n",
       "  .ansiout {\n",
       "    display: block;\n",
       "    unicode-bidi: embed;\n",
       "    white-space: pre-wrap;\n",
       "    word-wrap: break-word;\n",
       "    word-break: break-all;\n",
       "    font-family: \"Source Code Pro\", \"Menlo\", monospace;;\n",
       "    font-size: 13px;\n",
       "    color: #555;\n",
       "    margin-left: 4px;\n",
       "    line-height: 19px;\n",
       "  }\n",
       "</style>\n",
       "<div class=\"ansiout\">Out[20]: [9, 8, 7, 6]</div>"
      ]
     },
     "metadata": {
      "application/vnd.databricks.v1+output": {
       "addedWidgets": {},
       "arguments": {},
       "data": "<div class=\"ansiout\">Out[20]: [9, 8, 7, 6]</div>",
       "datasetInfos": [],
       "removedWidgets": [],
       "type": "html"
      }
     },
     "output_type": "display_data"
    }
   ],
   "source": [
    "# Pass a lambda function to takeOrdered to reverse the order\n",
    "filteredRDD.takeOrdered(4, lambda s : -s)"
   ]
  },
  {
   "cell_type": "code",
   "execution_count": null,
   "metadata": {
    "application/vnd.databricks.v1+cell": {
     "inputWidgets": {},
     "nuid": "2ed45179-3225-4fe5-b56f-8be10ecb4faf",
     "showTitle": false,
     "title": ""
    }
   },
   "outputs": [
    {
     "data": {
      "text/html": [
       "<style scoped>\n",
       "  .ansiout {\n",
       "    display: block;\n",
       "    unicode-bidi: embed;\n",
       "    white-space: pre-wrap;\n",
       "    word-wrap: break-word;\n",
       "    word-break: break-all;\n",
       "    font-family: \"Source Code Pro\", \"Menlo\", monospace;;\n",
       "    font-size: 13px;\n",
       "    color: #555;\n",
       "    margin-left: 4px;\n",
       "    line-height: 19px;\n",
       "  }\n",
       "</style>\n",
       "<div class=\"ansiout\">45\n",
       "45\n",
       "-45\n",
       "-45\n",
       "45\n",
       "</div>"
      ]
     },
     "metadata": {
      "application/vnd.databricks.v1+output": {
       "addedWidgets": {},
       "arguments": {},
       "data": "<div class=\"ansiout\">45\n45\n-45\n-45\n45\n</div>",
       "datasetInfos": [],
       "removedWidgets": [],
       "type": "html"
      }
     },
     "output_type": "display_data"
    }
   ],
   "source": [
    "# Obtain Python's add function\n",
    "from operator import add\n",
    "# Efficiently sum the RDD using reduce\n",
    "print(filteredRDD.reduce(add))\n",
    "# Sum using reduce with a lambda function\n",
    "print(filteredRDD.reduce(lambda a, b: a + b))\n",
    "# Note that subtraction is not both associative and commutative\n",
    "print(filteredRDD.reduce(lambda a, b: a - b))\n",
    "print(filteredRDD.repartition(4).reduce(lambda a, b: a - b))\n",
    "# While addition is\n",
    "print(filteredRDD.repartition(4).reduce(lambda a, b: a + b))"
   ]
  },
  {
   "cell_type": "markdown",
   "metadata": {
    "application/vnd.databricks.v1+cell": {
     "inputWidgets": {},
     "nuid": "fbc386cd-f527-4b61-892a-06907d976b83",
     "showTitle": false,
     "title": ""
    }
   },
   "source": [
    "** (5b) Advanced actions **\n",
    " \n",
    "Here are two additional actions that are useful for retrieving information from an RDD: [takeSample()](http://spark.apache.org/docs/latest/api/python/pyspark.html#pyspark.RDD.takeSample) and [countByValue()](http://spark.apache.org/docs/latest/api/python/pyspark.html#pyspark.RDD.countByValue)\n",
    " \n",
    "The `takeSample()` action returns an array with a random sample of elements from the dataset.  It takes in a `withReplacement` argument, which specifies whether it is okay to randomly pick the same item multiple times from the parent RDD (so when `withReplacement=True`, you can get the same item back multiple times). It takes in a `num` parameter, which specifies the number of elements in the dataset you want to return. It also takes an optional `seed` parameter that allows you to specify a seed value for the random number generator, so that reproducible results can be obtained.\n",
    " \n",
    "The `countByValue()` action returns the count of each unique value in the RDD as a dictionary that maps values to counts."
   ]
  },
  {
   "cell_type": "code",
   "execution_count": null,
   "metadata": {
    "application/vnd.databricks.v1+cell": {
     "inputWidgets": {},
     "nuid": "63c0fd4d-d9c4-4270-bbc0-d629810d8ceb",
     "showTitle": false,
     "title": ""
    }
   },
   "outputs": [
    {
     "data": {
      "text/html": [
       "<style scoped>\n",
       "  .ansiout {\n",
       "    display: block;\n",
       "    unicode-bidi: embed;\n",
       "    white-space: pre-wrap;\n",
       "    word-wrap: break-word;\n",
       "    word-break: break-all;\n",
       "    font-family: \"Source Code Pro\", \"Menlo\", monospace;;\n",
       "    font-size: 13px;\n",
       "    color: #555;\n",
       "    margin-left: 4px;\n",
       "    line-height: 19px;\n",
       "  }\n",
       "</style>\n",
       "<div class=\"ansiout\">[1, 7, 0, 5, 8, 4, 8, 9, 6, 5, 7, 3, 9, 1, 4, 2, 7, 9, 6, 2, 4, 0, 3, 1, 5, 9, 2, 9, 5, 3, 8, 6, 0, 1, 7, 2, 0, 2, 0, 0, 1, 7, 6, 2, 0, 6, 5, 9, 5, 6]\n",
       "[8, 0, 3, 7, 1, 4, 5, 2, 6, 9]\n",
       "</div>"
      ]
     },
     "metadata": {
      "application/vnd.databricks.v1+output": {
       "addedWidgets": {},
       "arguments": {},
       "data": "<div class=\"ansiout\">[1, 7, 0, 5, 8, 4, 8, 9, 6, 5, 7, 3, 9, 1, 4, 2, 7, 9, 6, 2, 4, 0, 3, 1, 5, 9, 2, 9, 5, 3, 8, 6, 0, 1, 7, 2, 0, 2, 0, 0, 1, 7, 6, 2, 0, 6, 5, 9, 5, 6]\n[8, 0, 3, 7, 1, 4, 5, 2, 6, 9]\n</div>",
       "datasetInfos": [],
       "removedWidgets": [],
       "type": "html"
      }
     },
     "output_type": "display_data"
    }
   ],
   "source": [
    "# takeSample reusing elements\n",
    "print(filteredRDD.takeSample(withReplacement=True, num=50))\n",
    "# takeSample without reuse\n",
    "print(filteredRDD.takeSample(withReplacement=False, num=20))"
   ]
  },
  {
   "cell_type": "code",
   "execution_count": null,
   "metadata": {
    "application/vnd.databricks.v1+cell": {
     "inputWidgets": {},
     "nuid": "e3f841ab-de8f-45ea-b4d2-15ee78054d28",
     "showTitle": false,
     "title": ""
    }
   },
   "outputs": [
    {
     "data": {
      "text/html": [
       "<style scoped>\n",
       "  .ansiout {\n",
       "    display: block;\n",
       "    unicode-bidi: embed;\n",
       "    white-space: pre-wrap;\n",
       "    word-wrap: break-word;\n",
       "    word-break: break-all;\n",
       "    font-family: \"Source Code Pro\", \"Menlo\", monospace;;\n",
       "    font-size: 13px;\n",
       "    color: #555;\n",
       "    margin-left: 4px;\n",
       "    line-height: 19px;\n",
       "  }\n",
       "</style>\n",
       "<div class=\"ansiout\">[6, 4, 0, 1, 3, 5]\n",
       "</div>"
      ]
     },
     "metadata": {
      "application/vnd.databricks.v1+output": {
       "addedWidgets": {},
       "arguments": {},
       "data": "<div class=\"ansiout\">[6, 4, 0, 1, 3, 5]\n</div>",
       "datasetInfos": [],
       "removedWidgets": [],
       "type": "html"
      }
     },
     "output_type": "display_data"
    }
   ],
   "source": [
    "# Set seed for predictability\n",
    "print(filteredRDD.takeSample(withReplacement=False, num=6, seed=500))\n",
    "# Try reruning this cell and the cell above -- the results from this cell will remain constant"
   ]
  },
  {
   "cell_type": "code",
   "execution_count": null,
   "metadata": {
    "application/vnd.databricks.v1+cell": {
     "inputWidgets": {},
     "nuid": "8f1b9799-0500-43f7-93ea-84b2d6b07197",
     "showTitle": false,
     "title": ""
    }
   },
   "outputs": [
    {
     "data": {
      "text/html": [
       "<style scoped>\n",
       "  .ansiout {\n",
       "    display: block;\n",
       "    unicode-bidi: embed;\n",
       "    white-space: pre-wrap;\n",
       "    word-wrap: break-word;\n",
       "    word-break: break-all;\n",
       "    font-family: \"Source Code Pro\", \"Menlo\", monospace;;\n",
       "    font-size: 13px;\n",
       "    color: #555;\n",
       "    margin-left: 4px;\n",
       "    line-height: 19px;\n",
       "  }\n",
       "</style>\n",
       "<div class=\"ansiout\">defaultdict(&lt;class &#39;int&#39;&gt;, {1: 4, 2: 4, 3: 5, 4: 2, 5: 1, 6: 1})\n",
       "[0 1 2 3 4 5 6 7 8 9] [ 994  999  969  995 1018 1076  993  980 1017  959]\n",
       "</div>"
      ]
     },
     "metadata": {
      "application/vnd.databricks.v1+output": {
       "addedWidgets": {},
       "arguments": {},
       "data": "<div class=\"ansiout\">defaultdict(&lt;class &#39;int&#39;&gt;, {1: 4, 2: 4, 3: 5, 4: 2, 5: 1, 6: 1})\n[0 1 2 3 4 5 6 7 8 9] [ 994  999  969  995 1018 1076  993  980 1017  959]\n</div>",
       "datasetInfos": [],
       "removedWidgets": [],
       "type": "html"
      }
     },
     "output_type": "display_data"
    }
   ],
   "source": [
    "# Create new base RDD to show countByValue\n",
    "repetitiveRDD = sc.parallelize([1, 2, 3, 1, 2, 3, 1, 2, 1, 2, 3, 3, 3, 4, 5, 4, 6])\n",
    "print(repetitiveRDD.countByValue())\n",
    "\n",
    "# Check the used sampling distribution by experiments\n",
    "import numpy\n",
    "ls = filteredRDD.takeSample(withReplacement=True, num=10000)\n",
    "values, counts = numpy.unique(ls, return_counts = True)\n",
    "print(values, counts)\n",
    "\n",
    "# Try to apply countByValue to the dataset sampled with replacement!\n"
   ]
  },
  {
   "cell_type": "markdown",
   "metadata": {
    "application/vnd.databricks.v1+cell": {
     "inputWidgets": {},
     "nuid": "fa5f5683-b3f3-44b3-ae5b-07b8e8967a8a",
     "showTitle": false,
     "title": ""
    }
   },
   "source": [
    "#### ** Part 6: Additional RDD transformations **"
   ]
  },
  {
   "cell_type": "markdown",
   "metadata": {
    "application/vnd.databricks.v1+cell": {
     "inputWidgets": {},
     "nuid": "771b70a8-a3b8-407f-b006-8b1ca2b51e1a",
     "showTitle": false,
     "title": ""
    }
   },
   "source": [
    "** (6a) `flatMap` **\n",
    "\n",
    "A `map()` function is a one to many transformation while a `flatMap()` function is a one to zero or many transformation.\n",
    "\n",
    "According to the docs,\n",
    "\n",
    "* `map(func)`: Return a new distributed dataset formed by passing each element of the source through a function func.\n",
    "* `flatMap(func)`: Similar to map, but each input item can be mapped to 0 or more output items (so func should return a Seq rather than a single item).\n",
    "\n",
    "Basically: you can say for each input value, the flatMap outputs a sequence which can have 0 or more elements which are flattened to form output RDD."
   ]
  },
  {
   "cell_type": "code",
   "execution_count": null,
   "metadata": {
    "application/vnd.databricks.v1+cell": {
     "inputWidgets": {},
     "nuid": "48f1acb7-7968-4011-858a-9b3bb3df8029",
     "showTitle": false,
     "title": ""
    }
   },
   "outputs": [
    {
     "data": {
      "text/html": [
       "<style scoped>\n",
       "  .ansiout {\n",
       "    display: block;\n",
       "    unicode-bidi: embed;\n",
       "    white-space: pre-wrap;\n",
       "    word-wrap: break-word;\n",
       "    word-break: break-all;\n",
       "    font-family: \"Source Code Pro\", \"Menlo\", monospace;;\n",
       "    font-size: 13px;\n",
       "    color: #555;\n",
       "    margin-left: 4px;\n",
       "    line-height: 19px;\n",
       "  }\n",
       "</style>\n",
       "<div class=\"ansiout\">[(&#39;cat&#39;, &#39;cats&#39;), (&#39;elephant&#39;, &#39;elephants&#39;), (&#39;rat&#39;, &#39;rats&#39;), (&#39;rat&#39;, &#39;rats&#39;), (&#39;cat&#39;, &#39;cats&#39;)]\n",
       "[&#39;cat&#39;, &#39;cats&#39;, &#39;elephant&#39;, &#39;elephants&#39;, &#39;rat&#39;, &#39;rats&#39;, &#39;rat&#39;, &#39;rats&#39;, &#39;cat&#39;, &#39;cats&#39;]\n",
       "5\n",
       "10\n",
       "</div>"
      ]
     },
     "metadata": {
      "application/vnd.databricks.v1+output": {
       "addedWidgets": {},
       "arguments": {},
       "data": "<div class=\"ansiout\">[(&#39;cat&#39;, &#39;cats&#39;), (&#39;elephant&#39;, &#39;elephants&#39;), (&#39;rat&#39;, &#39;rats&#39;), (&#39;rat&#39;, &#39;rats&#39;), (&#39;cat&#39;, &#39;cats&#39;)]\n[&#39;cat&#39;, &#39;cats&#39;, &#39;elephant&#39;, &#39;elephants&#39;, &#39;rat&#39;, &#39;rats&#39;, &#39;rat&#39;, &#39;rats&#39;, &#39;cat&#39;, &#39;cats&#39;]\n5\n10\n</div>",
       "datasetInfos": [],
       "removedWidgets": [],
       "type": "html"
      }
     },
     "output_type": "display_data"
    }
   ],
   "source": [
    "# Let's create a new base RDD to work from\n",
    "wordsList = ['cat', 'elephant', 'rat', 'rat', 'cat']\n",
    "wordsRDD = sc.parallelize(wordsList, 4)\n",
    "\n",
    "# Use map\n",
    "singularAndPluralWordsRDDMap = wordsRDD.map(lambda x: (x, x + 's'))\n",
    "# Use flatMap\n",
    "singularAndPluralWordsRDD = wordsRDD.flatMap(lambda x: (x, x + 's'))\n",
    "\n",
    "# View the results\n",
    "print(singularAndPluralWordsRDDMap.collect())\n",
    "print(singularAndPluralWordsRDD.collect())\n",
    "# View the number of elements in the RDD\n",
    "print(singularAndPluralWordsRDDMap.count())\n",
    "print(singularAndPluralWordsRDD.count())"
   ]
  },
  {
   "cell_type": "code",
   "execution_count": null,
   "metadata": {
    "application/vnd.databricks.v1+cell": {
     "inputWidgets": {},
     "nuid": "19cbb67e-357b-4ba0-9ae4-44a4312ce99f",
     "showTitle": false,
     "title": ""
    }
   },
   "outputs": [
    {
     "data": {
      "text/html": [
       "<style scoped>\n",
       "  .ansiout {\n",
       "    display: block;\n",
       "    unicode-bidi: embed;\n",
       "    white-space: pre-wrap;\n",
       "    word-wrap: break-word;\n",
       "    word-break: break-all;\n",
       "    font-family: \"Source Code Pro\", \"Menlo\", monospace;;\n",
       "    font-size: 13px;\n",
       "    color: #555;\n",
       "    margin-left: 4px;\n",
       "    line-height: 19px;\n",
       "  }\n",
       "</style>\n",
       "<div class=\"ansiout\">[range(1, 2), range(1, 3), range(1, 4)]\n",
       "[1, 1, 2, 1, 2, 3]\n",
       "</div>"
      ]
     },
     "metadata": {
      "application/vnd.databricks.v1+output": {
       "addedWidgets": {},
       "arguments": {},
       "data": "<div class=\"ansiout\">[range(1, 2), range(1, 3), range(1, 4)]\n[1, 1, 2, 1, 2, 3]\n</div>",
       "datasetInfos": [],
       "removedWidgets": [],
       "type": "html"
      }
     },
     "output_type": "display_data"
    }
   ],
   "source": [
    "#Another example\n",
    "simpleRDD = sc.parallelize([2, 3, 4])\n",
    "print(simpleRDD.map(lambda x: range(1, x)).collect())\n",
    "print(simpleRDD.flatMap(lambda x: range(1, x)).collect())"
   ]
  },
  {
   "cell_type": "markdown",
   "metadata": {
    "application/vnd.databricks.v1+cell": {
     "inputWidgets": {},
     "nuid": "0d600774-c789-4853-ad04-760c7881dd26",
     "showTitle": false,
     "title": ""
    }
   },
   "source": [
    "** (6b) `groupByKey` and `reduceByKey` **\n",
    " \n",
    "Let's investigate the additional transformations: [groupByKey()](http://spark.apache.org/docs/latest/api/python/pyspark.html#pyspark.RDD.groupByKey) and [reduceByKey()](http://spark.apache.org/docs/latest/api/python/pyspark.html#pyspark.RDD.reduceByKey).\n",
    " \n",
    "Both of these transformations operate on pair RDDs.  A pair RDD is an RDD where each element is a pair tuple (key, value).  For example, `sc.parallelize([('a', 1), ('a', 2), ('b', 1)])` would create a pair RDD where the keys are 'a', 'a', 'b' and the values are 1, 2, 1.\n",
    "The `reduceByKey()` transformation gathers together pairs that have the same key and applies a function to two associated values at a time. `reduceByKey()` operates by applying the function first within each partition on a per-key basis and then across the partitions.\n",
    "While both the `groupByKey()` and `reduceByKey()` transformations can often be used to solve the same problem and will produce the same answer, the `reduceByKey()` transformation works much better for large distributed datasets. This is because Spark knows it can combine output with a common key on each partition *before* shuffling (redistributing) the data across nodes.  Only use `groupByKey()` if the operation would not benefit from reducing the data before the shuffle occurs.\n",
    " \n",
    "Look at the diagram below to understand how `reduceByKey` works.  Notice how pairs on the same machine with the same key are combined (by using the lamdba function passed into reduceByKey) before the data is shuffled. Then the lamdba function is called again to reduce all the values from each partition to produce one final result.\n",
    " \n",
    "![reduceByKey() figure](http://spark-mooc.github.io/web-assets/images/reduce_by.png)\n",
    " \n",
    "On the other hand, when using the `groupByKey()` transformation - all the key-value pairs are shuffled around, causing a lot of unnecessary data to being transferred over the network.\n",
    " \n",
    "To determine which machine to shuffle a pair to, Spark calls a partitioning function on the key of the pair. Spark spills data to disk when there is more data shuffled onto a single executor machine than can fit in memory. However, it flushes out the data to disk one key at a time, so if a single key has more key-value pairs than can fit in memory an out of memory exception occurs. This will be more gracefully handled in a later release of Spark so that the job can still proceed, but should still be avoided.  When Spark needs to spill to disk, performance is severely impacted.\n",
    " \n",
    "![groupByKey() figure](http://spark-mooc.github.io/web-assets/images/group_by.png)\n",
    " \n",
    "As your dataset grows, the difference in the amount of data that needs to be shuffled, between the `reduceByKey()` and `groupByKey()` transformations, becomes increasingly exaggerated.\n",
    " \n",
    "Now let's go through a simple `groupByKey()` and `reduceByKey()` example."
   ]
  },
  {
   "cell_type": "code",
   "execution_count": null,
   "metadata": {
    "application/vnd.databricks.v1+cell": {
     "inputWidgets": {},
     "nuid": "c14c69cb-c3ce-4f39-b7f6-2debc137f284",
     "showTitle": false,
     "title": ""
    }
   },
   "outputs": [
    {
     "data": {
      "text/html": [
       "<style scoped>\n",
       "  .ansiout {\n",
       "    display: block;\n",
       "    unicode-bidi: embed;\n",
       "    white-space: pre-wrap;\n",
       "    word-wrap: break-word;\n",
       "    word-break: break-all;\n",
       "    font-family: \"Source Code Pro\", \"Menlo\", monospace;;\n",
       "    font-size: 13px;\n",
       "    color: #555;\n",
       "    margin-left: 4px;\n",
       "    line-height: 19px;\n",
       "  }\n",
       "</style>\n",
       "<div class=\"ansiout\">[(&#39;a&#39;, 3), (&#39;b&#39;, 1)]\n",
       "[(&#39;a&#39;, 3), (&#39;b&#39;, 1)]\n",
       "</div>"
      ]
     },
     "metadata": {
      "application/vnd.databricks.v1+output": {
       "addedWidgets": {},
       "arguments": {},
       "data": "<div class=\"ansiout\">[(&#39;a&#39;, 3), (&#39;b&#39;, 1)]\n[(&#39;a&#39;, 3), (&#39;b&#39;, 1)]\n</div>",
       "datasetInfos": [],
       "removedWidgets": [],
       "type": "html"
      }
     },
     "output_type": "display_data"
    }
   ],
   "source": [
    "pairRDD = sc.parallelize([('a', 1), ('a', 2), ('b', 1)])\n",
    "\n",
    "# Different ways to sum by key\n",
    "print(pairRDD.groupByKey().map(lambda kv: (kv[0], sum(kv[1]))).collect())\n",
    "\n",
    "# reduceByKey is more efficient / scalable\n",
    "print(pairRDD.reduceByKey(add).collect())"
   ]
  },
  {
   "cell_type": "markdown",
   "metadata": {
    "application/vnd.databricks.v1+cell": {
     "inputWidgets": {},
     "nuid": "4a97941d-cc62-4079-b639-0e769382e635",
     "showTitle": false,
     "title": ""
    }
   },
   "source": [
    "#### ** Part 7: Caching RDDs and storage options **"
   ]
  },
  {
   "cell_type": "markdown",
   "metadata": {
    "application/vnd.databricks.v1+cell": {
     "inputWidgets": {},
     "nuid": "115296d9-e0d5-489e-9557-4bd8e27ade25",
     "showTitle": false,
     "title": ""
    }
   },
   "source": [
    "** (7a) Caching RDDs **\n",
    " \n",
    "For efficiency Spark keeps your RDDs in RAM memory. By keeping the contents in memory, Spark can quickly access the data. However, memory is limited, so if you try to keep too many RDDs in memory, Spark will automatically delete RDDs from memory to make space for new RDDs. If you later refer to one of the RDDs, Spark will automatically recreate the RDD for you, but that takes time.\n",
    " \n",
    "So, if you plan to use an RDD more than once, then you should tell Spark to cache that RDD. You can use the `cache()` operation to keep the RDD in memory. However, you must still trigger an action on the RDD, such as `collect()` for the RDD to be created, and only then will the RDD be cached. Keep in mind that if you cache too many RDDs and Spark runs out of memory, it will delete the least recently used (LRU) RDD first. Again, the RDD will be automatically recreated when accessed.\n",
    " \n",
    "You can check if an RDD is cached by using the `is_cached` attribute, and you can see your cached RDD in the \"Storage\" section of the Spark web UI. If you click on the RDD's name, you can see more information about where the RDD is stored."
   ]
  },
  {
   "cell_type": "code",
   "execution_count": null,
   "metadata": {
    "application/vnd.databricks.v1+cell": {
     "inputWidgets": {},
     "nuid": "8bd3311f-383a-4c7a-9193-b988e5ccbd6f",
     "showTitle": false,
     "title": ""
    }
   },
   "outputs": [
    {
     "data": {
      "text/html": [
       "<style scoped>\n",
       "  .ansiout {\n",
       "    display: block;\n",
       "    unicode-bidi: embed;\n",
       "    white-space: pre-wrap;\n",
       "    word-wrap: break-word;\n",
       "    word-break: break-all;\n",
       "    font-family: \"Source Code Pro\", \"Menlo\", monospace;;\n",
       "    font-size: 13px;\n",
       "    color: #555;\n",
       "    margin-left: 4px;\n",
       "    line-height: 19px;\n",
       "  }\n",
       "</style>\n",
       "<div class=\"ansiout\">True\n",
       "</div>"
      ]
     },
     "metadata": {
      "application/vnd.databricks.v1+output": {
       "addedWidgets": {},
       "arguments": {},
       "data": "<div class=\"ansiout\">True\n</div>",
       "datasetInfos": [],
       "removedWidgets": [],
       "type": "html"
      }
     },
     "output_type": "display_data"
    }
   ],
   "source": [
    "# Name the RDD\n",
    "filteredRDD.setName('My Filtered RDD')\n",
    "# Cache the RDD\n",
    "filteredRDD.cache()\n",
    "# Trigger an action\n",
    "filteredRDD.collect()\n",
    "# Is it cached\n",
    "print(filteredRDD.is_cached)"
   ]
  },
  {
   "cell_type": "markdown",
   "metadata": {
    "application/vnd.databricks.v1+cell": {
     "inputWidgets": {},
     "nuid": "977b8593-1230-4191-8e0a-80dc0c38750b",
     "showTitle": false,
     "title": ""
    }
   },
   "source": [
    "** (7b) Unpersist and storage options **\n",
    " \n",
    "Spark automatically manages the RDDs cached in memory and will save them to disk if it runs out of memory. For efficiency, once you are finished using an RDD, you can optionally tell Spark to stop caching it in memory by using the RDD's `unpersist()` method to inform Spark that you no longer need the RDD in memory.\n",
    " \n",
    "You can see the set of transformations that were applied to create an RDD by using the `toDebugString()` method, which will provide storage information, and you can directly query the current storage information for an RDD using the `getStorageLevel()` operation.\n",
    " \n",
    "** Advanced: ** Spark provides many more options for managing how RDDs are stored in memory or even saved to disk. You can explore the API for RDD's [persist()](http://spark.apache.org/docs/latest/api/python/pyspark.html#pyspark.RDD.persist) operation using Python's [help()](https://docs.python.org/2/library/functions.html?highlight=help#help) command.  The `persist()` operation, optionally, takes a pySpark [StorageLevel](http://spark.apache.org/docs/latest/api/python/pyspark.html#pyspark.StorageLevel) object."
   ]
  },
  {
   "cell_type": "code",
   "execution_count": null,
   "metadata": {
    "application/vnd.databricks.v1+cell": {
     "inputWidgets": {},
     "nuid": "83743dbc-8acf-4d65-990d-72a7d026d8e6",
     "showTitle": false,
     "title": ""
    }
   },
   "outputs": [
    {
     "data": {
      "text/html": [
       "<style scoped>\n",
       "  .ansiout {\n",
       "    display: block;\n",
       "    unicode-bidi: embed;\n",
       "    white-space: pre-wrap;\n",
       "    word-wrap: break-word;\n",
       "    word-break: break-all;\n",
       "    font-family: \"Source Code Pro\", \"Menlo\", monospace;;\n",
       "    font-size: 13px;\n",
       "    color: #555;\n",
       "    margin-left: 4px;\n",
       "    line-height: 19px;\n",
       "  }\n",
       "</style>\n",
       "<div class=\"ansiout\">b&#39;(8) My Filtered RDD PythonRDD[5] at collect at &lt;command-3776015551368536&gt;:23 [Memory Serialized 1x Replicated]\\n |       CachedPartitions: 8; MemorySize: 263.0 B; ExternalBlockStoreSize: 0.0 B; DiskSize: 0.0 B\\n |  ParallelCollectionRDD[0] at readRDDFromInputStream at PythonRDD.scala:413 [Memory Serialized 1x Replicated]&#39;\n",
       "</div>"
      ]
     },
     "metadata": {
      "application/vnd.databricks.v1+output": {
       "addedWidgets": {},
       "arguments": {},
       "data": "<div class=\"ansiout\">b&#39;(8) My Filtered RDD PythonRDD[5] at collect at &lt;command-3776015551368536&gt;:23 [Memory Serialized 1x Replicated]\\n |       CachedPartitions: 8; MemorySize: 263.0 B; ExternalBlockStoreSize: 0.0 B; DiskSize: 0.0 B\\n |  ParallelCollectionRDD[0] at readRDDFromInputStream at PythonRDD.scala:413 [Memory Serialized 1x Replicated]&#39;\n</div>",
       "datasetInfos": [],
       "removedWidgets": [],
       "type": "html"
      }
     },
     "output_type": "display_data"
    }
   ],
   "source": [
    "# Note that toDebugString also provides storage information\n",
    "print(filteredRDD.toDebugString())"
   ]
  },
  {
   "cell_type": "code",
   "execution_count": null,
   "metadata": {
    "application/vnd.databricks.v1+cell": {
     "inputWidgets": {},
     "nuid": "daf56698-e89a-4823-941b-89e0c5450024",
     "showTitle": false,
     "title": ""
    }
   },
   "outputs": [
    {
     "data": {
      "text/html": [
       "<style scoped>\n",
       "  .ansiout {\n",
       "    display: block;\n",
       "    unicode-bidi: embed;\n",
       "    white-space: pre-wrap;\n",
       "    word-wrap: break-word;\n",
       "    word-break: break-all;\n",
       "    font-family: \"Source Code Pro\", \"Menlo\", monospace;;\n",
       "    font-size: 13px;\n",
       "    color: #555;\n",
       "    margin-left: 4px;\n",
       "    line-height: 19px;\n",
       "  }\n",
       "</style>\n",
       "<div class=\"ansiout\">Serialized 1x Replicated\n",
       "Memory Serialized 1x Replicated\n",
       "</div>"
      ]
     },
     "metadata": {
      "application/vnd.databricks.v1+output": {
       "addedWidgets": {},
       "arguments": {},
       "data": "<div class=\"ansiout\">Serialized 1x Replicated\nMemory Serialized 1x Replicated\n</div>",
       "datasetInfos": [],
       "removedWidgets": [],
       "type": "html"
      }
     },
     "output_type": "display_data"
    }
   ],
   "source": [
    "# If we are done with the RDD we can unpersist it so that its memory can be reclaimed\n",
    "filteredRDD.unpersist()\n",
    "# Storage level for a non cached RDD\n",
    "print(filteredRDD.getStorageLevel())\n",
    "filteredRDD.cache()\n",
    "# Storage level for a cached RDD\n",
    "print(filteredRDD.getStorageLevel())"
   ]
  },
  {
   "cell_type": "markdown",
   "metadata": {
    "application/vnd.databricks.v1+cell": {
     "inputWidgets": {},
     "nuid": "94479e4b-da7f-4c7a-a1b7-813fc1363b79",
     "showTitle": false,
     "title": ""
    }
   },
   "source": [
    "#### ** Part 8: Debugging Spark applications and lazy evaluation **"
   ]
  },
  {
   "cell_type": "markdown",
   "metadata": {
    "application/vnd.databricks.v1+cell": {
     "inputWidgets": {},
     "nuid": "536e3694-1a06-40e1-9ffd-e8c174687c2f",
     "showTitle": false,
     "title": ""
    }
   },
   "source": [
    "** How Python is Executed in Spark **\n",
    " \n",
    "Internally, Spark executes using a Java Virtual Machine (JVM). pySpark runs Python code in a JVM using [Py4J](http://py4j.sourceforge.net). Py4J enables Python programs running in a Python interpreter to dynamically access Java objects in a Java Virtual Machine. Methods are called as if the Java objects resided in the Python interpreter and Java collections can be accessed through standard Python collection methods. Py4J also enables Java programs to call back Python objects.\n",
    " \n",
    "Because pySpark uses Py4J, coding errors often result in a complicated, confusing stack trace that can be difficult to understand. In the following section, we'll explore how to understand stack traces."
   ]
  },
  {
   "cell_type": "markdown",
   "metadata": {
    "application/vnd.databricks.v1+cell": {
     "inputWidgets": {},
     "nuid": "183a1caa-407d-4e51-be33-782fbb93758c",
     "showTitle": false,
     "title": ""
    }
   },
   "source": [
    "** (8a) Challenges with lazy evaluation using transformations and actions **\n",
    " \n",
    "Spark's use of lazy evaluation can make debugging more difficult because code is not always executed immediately. To see an example of how this can happen, let's first define a broken filter function.\n",
    "Next we perform a `filter()` operation using the broken filtering function.  No error will occur at this point due to Spark's use of lazy evaluation.\n",
    " \n",
    "The `filter()` method will not be executed *until* an action operation is invoked on the RDD.  We will perform an action by using the `collect()` method to return a list that contains all of the elements in this RDD."
   ]
  },
  {
   "cell_type": "code",
   "execution_count": 1,
   "metadata": {
    "application/vnd.databricks.v1+cell": {
     "inputWidgets": {},
     "nuid": "4c641dca-f4cb-43da-9475-f37ee8791ccb",
     "showTitle": false,
     "title": ""
    }
   },
   "outputs": [
    {
     "ename": "NameError",
     "evalue": "name 'subRDD' is not defined",
     "output_type": "error",
     "traceback": [
      "\u001b[0;31m---------------------------------------------------------------------------\u001b[0m",
      "\u001b[0;31mNameError\u001b[0m                                 Traceback (most recent call last)",
      "Input \u001b[0;32mIn [1]\u001b[0m, in \u001b[0;36m<module>\u001b[0;34m\u001b[0m\n\u001b[1;32m     19\u001b[0m     \u001b[38;5;28;01melse\u001b[39;00m:\n\u001b[1;32m     20\u001b[0m         \u001b[38;5;28;01mreturn\u001b[39;00m \u001b[38;5;28;01mFalse\u001b[39;00m\n\u001b[0;32m---> 22\u001b[0m brokenRDD \u001b[38;5;241m=\u001b[39m \u001b[43msubRDD\u001b[49m\u001b[38;5;241m.\u001b[39mfilter(brokenTen)\n",
      "\u001b[0;31mNameError\u001b[0m: name 'subRDD' is not defined"
     ]
    }
   ],
   "source": [
    "def brokenTen(value):\n",
    "    \"\"\"Incorrect implementation of the ten function.\n",
    "\n",
    "    Note:\n",
    "        The `if` statement checks an undefined variable `val` instead of `value`.\n",
    "\n",
    "    Args:\n",
    "        value (int): A number.\n",
    "\n",
    "    Returns:\n",
    "        bool: Whether `value` is less than ten.\n",
    "\n",
    "    Raises:\n",
    "        NameError: The function references `val`, which is not available in the local or global\n",
    "            namespace, so a `NameError` is raised.\n",
    "    \"\"\"\n",
    "    if (val < 10):\n",
    "        return True\n",
    "    else:\n",
    "        return False\n",
    "\n",
    "brokenRDD = subRDD.filter(brokenTen) # this is lazy evaluated!!"
   ]
  },
  {
   "cell_type": "code",
   "execution_count": null,
   "metadata": {
    "application/vnd.databricks.v1+cell": {
     "inputWidgets": {},
     "nuid": "336e2af8-13ff-44ee-b1e1-7840d346bd8b",
     "showTitle": false,
     "title": ""
    }
   },
   "outputs": [
    {
     "data": {
      "text/html": [
       "<style scoped>\n",
       "  .ansiout {\n",
       "    display: block;\n",
       "    unicode-bidi: embed;\n",
       "    white-space: pre-wrap;\n",
       "    word-wrap: break-word;\n",
       "    word-break: break-all;\n",
       "    font-family: \"Source Code Pro\", \"Menlo\", monospace;;\n",
       "    font-size: 13px;\n",
       "    color: #555;\n",
       "    margin-left: 4px;\n",
       "    line-height: 19px;\n",
       "  }\n",
       "</style>\n",
       "<div class=\"ansiout\"></div>"
      ]
     },
     "metadata": {
      "application/vnd.databricks.v1+output": {
       "addedWidgets": {},
       "arguments": {},
       "data": "<div class=\"ansiout\"></div>",
       "datasetInfos": [],
       "removedWidgets": [],
       "type": "html"
      }
     },
     "output_type": "display_data"
    },
    {
     "data": {
      "text/html": [
       "<style scoped>\n",
       "  .ansiout {\n",
       "    display: block;\n",
       "    unicode-bidi: embed;\n",
       "    white-space: pre-wrap;\n",
       "    word-wrap: break-word;\n",
       "    word-break: break-all;\n",
       "    font-family: \"Source Code Pro\", \"Menlo\", monospace;;\n",
       "    font-size: 13px;\n",
       "    color: #555;\n",
       "    margin-left: 4px;\n",
       "    line-height: 19px;\n",
       "  }\n",
       "</style>\n",
       "<div class=\"ansiout\"><span class=\"ansi-red-fg\">---------------------------------------------------------------------------</span>\n",
       "<span class=\"ansi-red-fg\">Py4JJavaError</span>                             Traceback (most recent call last)\n",
       "<span class=\"ansi-green-fg\">&lt;command-3776015551368570&gt;</span> in <span class=\"ansi-cyan-fg\">&lt;module&gt;</span>\n",
       "<span class=\"ansi-green-intense-fg ansi-bold\">      1</span> <span class=\"ansi-red-fg\"># Now we&#39;ll see the error</span>\n",
       "<span class=\"ansi-green-fg\">----&gt; 2</span><span class=\"ansi-red-fg\"> </span>brokenRDD<span class=\"ansi-blue-fg\">.</span>collect<span class=\"ansi-blue-fg\">(</span><span class=\"ansi-blue-fg\">)</span>\n",
       "\n",
       "<span class=\"ansi-green-fg\">/databricks/spark/python/pyspark/rdd.py</span> in <span class=\"ansi-cyan-fg\">collect</span><span class=\"ansi-blue-fg\">(self)</span>\n",
       "<span class=\"ansi-green-intense-fg ansi-bold\">    901</span>         <span class=\"ansi-red-fg\"># Default path used in OSS Spark / for non-credential passthrough clusters:</span>\n",
       "<span class=\"ansi-green-intense-fg ansi-bold\">    902</span>         <span class=\"ansi-green-fg\">with</span> SCCallSiteSync<span class=\"ansi-blue-fg\">(</span>self<span class=\"ansi-blue-fg\">.</span>context<span class=\"ansi-blue-fg\">)</span> <span class=\"ansi-green-fg\">as</span> css<span class=\"ansi-blue-fg\">:</span>\n",
       "<span class=\"ansi-green-fg\">--&gt; 903</span><span class=\"ansi-red-fg\">             </span>sock_info <span class=\"ansi-blue-fg\">=</span> self<span class=\"ansi-blue-fg\">.</span>ctx<span class=\"ansi-blue-fg\">.</span>_jvm<span class=\"ansi-blue-fg\">.</span>PythonRDD<span class=\"ansi-blue-fg\">.</span>collectAndServe<span class=\"ansi-blue-fg\">(</span>self<span class=\"ansi-blue-fg\">.</span>_jrdd<span class=\"ansi-blue-fg\">.</span>rdd<span class=\"ansi-blue-fg\">(</span><span class=\"ansi-blue-fg\">)</span><span class=\"ansi-blue-fg\">)</span>\n",
       "<span class=\"ansi-green-intense-fg ansi-bold\">    904</span>         <span class=\"ansi-green-fg\">return</span> list<span class=\"ansi-blue-fg\">(</span>_load_from_socket<span class=\"ansi-blue-fg\">(</span>sock_info<span class=\"ansi-blue-fg\">,</span> self<span class=\"ansi-blue-fg\">.</span>_jrdd_deserializer<span class=\"ansi-blue-fg\">)</span><span class=\"ansi-blue-fg\">)</span>\n",
       "<span class=\"ansi-green-intense-fg ansi-bold\">    905</span> \n",
       "\n",
       "<span class=\"ansi-green-fg\">/databricks/spark/python/lib/py4j-0.10.9-src.zip/py4j/java_gateway.py</span> in <span class=\"ansi-cyan-fg\">__call__</span><span class=\"ansi-blue-fg\">(self, *args)</span>\n",
       "<span class=\"ansi-green-intense-fg ansi-bold\">   1303</span>         answer <span class=\"ansi-blue-fg\">=</span> self<span class=\"ansi-blue-fg\">.</span>gateway_client<span class=\"ansi-blue-fg\">.</span>send_command<span class=\"ansi-blue-fg\">(</span>command<span class=\"ansi-blue-fg\">)</span>\n",
       "<span class=\"ansi-green-intense-fg ansi-bold\">   1304</span>         return_value = get_return_value(\n",
       "<span class=\"ansi-green-fg\">-&gt; 1305</span><span class=\"ansi-red-fg\">             answer, self.gateway_client, self.target_id, self.name)\n",
       "</span><span class=\"ansi-green-intense-fg ansi-bold\">   1306</span> \n",
       "<span class=\"ansi-green-intense-fg ansi-bold\">   1307</span>         <span class=\"ansi-green-fg\">for</span> temp_arg <span class=\"ansi-green-fg\">in</span> temp_args<span class=\"ansi-blue-fg\">:</span>\n",
       "\n",
       "<span class=\"ansi-green-fg\">/databricks/spark/python/pyspark/sql/utils.py</span> in <span class=\"ansi-cyan-fg\">deco</span><span class=\"ansi-blue-fg\">(*a, **kw)</span>\n",
       "<span class=\"ansi-green-intense-fg ansi-bold\">    125</span>     <span class=\"ansi-green-fg\">def</span> deco<span class=\"ansi-blue-fg\">(</span><span class=\"ansi-blue-fg\">*</span>a<span class=\"ansi-blue-fg\">,</span> <span class=\"ansi-blue-fg\">**</span>kw<span class=\"ansi-blue-fg\">)</span><span class=\"ansi-blue-fg\">:</span>\n",
       "<span class=\"ansi-green-intense-fg ansi-bold\">    126</span>         <span class=\"ansi-green-fg\">try</span><span class=\"ansi-blue-fg\">:</span>\n",
       "<span class=\"ansi-green-fg\">--&gt; 127</span><span class=\"ansi-red-fg\">             </span><span class=\"ansi-green-fg\">return</span> f<span class=\"ansi-blue-fg\">(</span><span class=\"ansi-blue-fg\">*</span>a<span class=\"ansi-blue-fg\">,</span> <span class=\"ansi-blue-fg\">**</span>kw<span class=\"ansi-blue-fg\">)</span>\n",
       "<span class=\"ansi-green-intense-fg ansi-bold\">    128</span>         <span class=\"ansi-green-fg\">except</span> py4j<span class=\"ansi-blue-fg\">.</span>protocol<span class=\"ansi-blue-fg\">.</span>Py4JJavaError <span class=\"ansi-green-fg\">as</span> e<span class=\"ansi-blue-fg\">:</span>\n",
       "<span class=\"ansi-green-intense-fg ansi-bold\">    129</span>             converted <span class=\"ansi-blue-fg\">=</span> convert_exception<span class=\"ansi-blue-fg\">(</span>e<span class=\"ansi-blue-fg\">.</span>java_exception<span class=\"ansi-blue-fg\">)</span>\n",
       "\n",
       "<span class=\"ansi-green-fg\">/databricks/spark/python/lib/py4j-0.10.9-src.zip/py4j/protocol.py</span> in <span class=\"ansi-cyan-fg\">get_return_value</span><span class=\"ansi-blue-fg\">(answer, gateway_client, target_id, name)</span>\n",
       "<span class=\"ansi-green-intense-fg ansi-bold\">    326</span>                 raise Py4JJavaError(\n",
       "<span class=\"ansi-green-intense-fg ansi-bold\">    327</span>                     <span class=\"ansi-blue-fg\">&#34;An error occurred while calling {0}{1}{2}.\\n&#34;</span><span class=\"ansi-blue-fg\">.</span>\n",
       "<span class=\"ansi-green-fg\">--&gt; 328</span><span class=\"ansi-red-fg\">                     format(target_id, &#34;.&#34;, name), value)\n",
       "</span><span class=\"ansi-green-intense-fg ansi-bold\">    329</span>             <span class=\"ansi-green-fg\">else</span><span class=\"ansi-blue-fg\">:</span>\n",
       "<span class=\"ansi-green-intense-fg ansi-bold\">    330</span>                 raise Py4JError(\n",
       "\n",
       "<span class=\"ansi-red-fg\">Py4JJavaError</span>: An error occurred while calling z:org.apache.spark.api.python.PythonRDD.collectAndServe.\n",
       ": org.apache.spark.SparkException: Job aborted due to stage failure: Task 7 in stage 44.0 failed 1 times, most recent failure: Lost task 7.0 in stage 44.0 (TID 289, ip-10-172-254-158.us-west-2.compute.internal, executor driver): org.apache.spark.api.python.PythonException: &#39;NameError: name &#39;val&#39; is not defined&#39;, from &lt;command-3776015551368569&gt;, line 17. Full traceback below:\n",
       "Traceback (most recent call last):\n",
       "  File &#34;/databricks/spark/python/pyspark/worker.py&#34;, line 676, in main\n",
       "    process()\n",
       "  File &#34;/databricks/spark/python/pyspark/worker.py&#34;, line 668, in process\n",
       "    serializer.dump_stream(out_iter, outfile)\n",
       "  File &#34;/databricks/spark/python/pyspark/serializers.py&#34;, line 279, in dump_stream\n",
       "    vs = list(itertools.islice(iterator, batch))\n",
       "  File &#34;/databricks/spark/python/pyspark/util.py&#34;, line 110, in wrapper\n",
       "    return f(*args, **kwargs)\n",
       "  File &#34;&lt;command-3776015551368569&gt;&#34;, line 17, in brokenTen\n",
       "NameError: name &#39;val&#39; is not defined\n",
       "\n",
       "\tat org.apache.spark.api.python.BasePythonRunner$ReaderIterator.handlePythonException(PythonRunner.scala:603)\n",
       "\tat org.apache.spark.api.python.PythonRunner$$anon$3.read(PythonRunner.scala:738)\n",
       "\tat org.apache.spark.api.python.PythonRunner$$anon$3.read(PythonRunner.scala:721)\n",
       "\tat org.apache.spark.api.python.BasePythonRunner$ReaderIterator.hasNext(PythonRunner.scala:556)\n",
       "\tat org.apache.spark.InterruptibleIterator.hasNext(InterruptibleIterator.scala:37)\n",
       "\tat scala.collection.Iterator.foreach(Iterator.scala:941)\n",
       "\tat scala.collection.Iterator.foreach$(Iterator.scala:941)\n",
       "\tat org.apache.spark.InterruptibleIterator.foreach(InterruptibleIterator.scala:28)\n",
       "\tat scala.collection.generic.Growable.$plus$plus$eq(Growable.scala:62)\n",
       "\tat scala.collection.generic.Growable.$plus$plus$eq$(Growable.scala:53)\n",
       "\tat scala.collection.mutable.ArrayBuffer.$plus$plus$eq(ArrayBuffer.scala:105)\n",
       "\tat scala.collection.mutable.ArrayBuffer.$plus$plus$eq(ArrayBuffer.scala:49)\n",
       "\tat scala.collection.TraversableOnce.to(TraversableOnce.scala:315)\n",
       "\tat scala.collection.TraversableOnce.to$(TraversableOnce.scala:313)\n",
       "\tat org.apache.spark.InterruptibleIterator.to(InterruptibleIterator.scala:28)\n",
       "\tat scala.collection.TraversableOnce.toBuffer(TraversableOnce.scala:307)\n",
       "\tat scala.collection.TraversableOnce.toBuffer$(TraversableOnce.scala:307)\n",
       "\tat org.apache.spark.InterruptibleIterator.toBuffer(InterruptibleIterator.scala:28)\n",
       "\tat scala.collection.TraversableOnce.toArray(TraversableOnce.scala:294)\n",
       "\tat scala.collection.TraversableOnce.toArray$(TraversableOnce.scala:288)\n",
       "\tat org.apache.spark.InterruptibleIterator.toArray(InterruptibleIterator.scala:28)\n",
       "\tat org.apache.spark.rdd.RDD.$anonfun$collect$2(RDD.scala:1011)\n",
       "\tat org.apache.spark.SparkContext.$anonfun$runJob$5(SparkContext.scala:2373)\n",
       "\tat org.apache.spark.scheduler.ResultTask.runTask(ResultTask.scala:90)\n",
       "\tat org.apache.spark.scheduler.Task.doRunTask(Task.scala:144)\n",
       "\tat org.apache.spark.scheduler.Task.run(Task.scala:117)\n",
       "\tat org.apache.spark.executor.Executor$TaskRunner.$anonfun$run$8(Executor.scala:677)\n",
       "\tat org.apache.spark.util.Utils$.tryWithSafeFinally(Utils.scala:1581)\n",
       "\tat org.apache.spark.executor.Executor$TaskRunner.run(Executor.scala:680)\n",
       "\tat java.util.concurrent.ThreadPoolExecutor.runWorker(ThreadPoolExecutor.java:1149)\n",
       "\tat java.util.concurrent.ThreadPoolExecutor$Worker.run(ThreadPoolExecutor.java:624)\n",
       "\tat java.lang.Thread.run(Thread.java:748)\n",
       "\n",
       "Driver stacktrace:\n",
       "\tat org.apache.spark.scheduler.DAGScheduler.failJobAndIndependentStages(DAGScheduler.scala:2519)\n",
       "\tat org.apache.spark.scheduler.DAGScheduler.$anonfun$abortStage$2(DAGScheduler.scala:2466)\n",
       "\tat org.apache.spark.scheduler.DAGScheduler.$anonfun$abortStage$2$adapted(DAGScheduler.scala:2460)\n",
       "\tat scala.collection.mutable.ResizableArray.foreach(ResizableArray.scala:62)\n",
       "\tat scala.collection.mutable.ResizableArray.foreach$(ResizableArray.scala:55)\n",
       "\tat scala.collection.mutable.ArrayBuffer.foreach(ArrayBuffer.scala:49)\n",
       "\tat org.apache.spark.scheduler.DAGScheduler.abortStage(DAGScheduler.scala:2460)\n",
       "\tat org.apache.spark.scheduler.DAGScheduler.$anonfun$handleTaskSetFailed$1(DAGScheduler.scala:1152)\n",
       "\tat org.apache.spark.scheduler.DAGScheduler.$anonfun$handleTaskSetFailed$1$adapted(DAGScheduler.scala:1152)\n",
       "\tat scala.Option.foreach(Option.scala:407)\n",
       "\tat org.apache.spark.scheduler.DAGScheduler.handleTaskSetFailed(DAGScheduler.scala:1152)\n",
       "\tat org.apache.spark.scheduler.DAGSchedulerEventProcessLoop.doOnReceive(DAGScheduler.scala:2721)\n",
       "\tat org.apache.spark.scheduler.DAGSchedulerEventProcessLoop.onReceive(DAGScheduler.scala:2668)\n",
       "\tat org.apache.spark.scheduler.DAGSchedulerEventProcessLoop.onReceive(DAGScheduler.scala:2656)\n",
       "\tat org.apache.spark.util.EventLoop$$anon$1.run(EventLoop.scala:49)\n",
       "\tat org.apache.spark.scheduler.DAGScheduler.runJob(DAGScheduler.scala:938)\n",
       "\tat org.apache.spark.SparkContext.runJob(SparkContext.scala:2333)\n",
       "\tat org.apache.spark.SparkContext.runJob(SparkContext.scala:2354)\n",
       "\tat org.apache.spark.SparkContext.runJob(SparkContext.scala:2373)\n",
       "\tat org.apache.spark.SparkContext.runJob(SparkContext.scala:2398)\n",
       "\tat org.apache.spark.rdd.RDD.$anonfun$collect$1(RDD.scala:1011)\n",
       "\tat org.apache.spark.rdd.RDDOperationScope$.withScope(RDDOperationScope.scala:165)\n",
       "\tat org.apache.spark.rdd.RDDOperationScope$.withScope(RDDOperationScope.scala:125)\n",
       "\tat org.apache.spark.rdd.RDDOperationScope$.withScope(RDDOperationScope.scala:112)\n",
       "\tat org.apache.spark.rdd.RDD.withScope(RDD.scala:395)\n",
       "\tat org.apache.spark.rdd.RDD.collect(RDD.scala:1010)\n",
       "\tat org.apache.spark.api.python.PythonRDD$.collectAndServe(PythonRDD.scala:260)\n",
       "\tat org.apache.spark.api.python.PythonRDD.collectAndServe(PythonRDD.scala)\n",
       "\tat sun.reflect.GeneratedMethodAccessor176.invoke(Unknown Source)\n",
       "\tat sun.reflect.DelegatingMethodAccessorImpl.invoke(DelegatingMethodAccessorImpl.java:43)\n",
       "\tat java.lang.reflect.Method.invoke(Method.java:498)\n",
       "\tat py4j.reflection.MethodInvoker.invoke(MethodInvoker.java:244)\n",
       "\tat py4j.reflection.ReflectionEngine.invoke(ReflectionEngine.java:380)\n",
       "\tat py4j.Gateway.invoke(Gateway.java:295)\n",
       "\tat py4j.commands.AbstractCommand.invokeMethod(AbstractCommand.java:132)\n",
       "\tat py4j.commands.CallCommand.execute(CallCommand.java:79)\n",
       "\tat py4j.GatewayConnection.run(GatewayConnection.java:251)\n",
       "\tat java.lang.Thread.run(Thread.java:748)\n",
       "Caused by: org.apache.spark.api.python.PythonException: &#39;NameError: name &#39;val&#39; is not defined&#39;, from &lt;command-3776015551368569&gt;, line 17. Full traceback below:\n",
       "Traceback (most recent call last):\n",
       "  File &#34;/databricks/spark/python/pyspark/worker.py&#34;, line 676, in main\n",
       "    process()\n",
       "  File &#34;/databricks/spark/python/pyspark/worker.py&#34;, line 668, in process\n",
       "    serializer.dump_stream(out_iter, outfile)\n",
       "  File &#34;/databricks/spark/python/pyspark/serializers.py&#34;, line 279, in dump_stream\n",
       "    vs = list(itertools.islice(iterator, batch))\n",
       "  File &#34;/databricks/spark/python/pyspark/util.py&#34;, line 110, in wrapper\n",
       "    return f(*args, **kwargs)\n",
       "  File &#34;&lt;command-3776015551368569&gt;&#34;, line 17, in brokenTen\n",
       "NameError: name &#39;val&#39; is not defined\n",
       "\n",
       "\tat org.apache.spark.api.python.BasePythonRunner$ReaderIterator.handlePythonException(PythonRunner.scala:603)\n",
       "\tat org.apache.spark.api.python.PythonRunner$$anon$3.read(PythonRunner.scala:738)\n",
       "\tat org.apache.spark.api.python.PythonRunner$$anon$3.read(PythonRunner.scala:721)\n",
       "\tat org.apache.spark.api.python.BasePythonRunner$ReaderIterator.hasNext(PythonRunner.scala:556)\n",
       "\tat org.apache.spark.InterruptibleIterator.hasNext(InterruptibleIterator.scala:37)\n",
       "\tat scala.collection.Iterator.foreach(Iterator.scala:941)\n",
       "\tat scala.collection.Iterator.foreach$(Iterator.scala:941)\n",
       "\tat org.apache.spark.InterruptibleIterator.foreach(InterruptibleIterator.scala:28)\n",
       "\tat scala.collection.generic.Growable.$plus$plus$eq(Growable.scala:62)\n",
       "\tat scala.collection.generic.Growable.$plus$plus$eq$(Growable.scala:53)\n",
       "\tat scala.collection.mutable.ArrayBuffer.$plus$plus$eq(ArrayBuffer.scala:105)\n",
       "\tat scala.collection.mutable.ArrayBuffer.$plus$plus$eq(ArrayBuffer.scala:49)\n",
       "\tat scala.collection.TraversableOnce.to(TraversableOnce.scala:315)\n",
       "\tat scala.collection.TraversableOnce.to$(TraversableOnce.scala:313)\n",
       "\tat org.apache.spark.InterruptibleIterator.to(InterruptibleIterator.scala:28)\n",
       "\tat scala.collection.TraversableOnce.toBuffer(TraversableOnce.scala:307)\n",
       "\tat scala.collection.TraversableOnce.toBuffer$(TraversableOnce.scala:307)\n",
       "\tat org.apache.spark.InterruptibleIterator.toBuffer(InterruptibleIterator.scala:28)\n",
       "\tat scala.collection.TraversableOnce.toArray(TraversableOnce.scala:294)\n",
       "\tat scala.collection.TraversableOnce.toArray$(TraversableOnce.scala:288)\n",
       "\tat org.apache.spark.InterruptibleIterator.toArray(InterruptibleIterator.scala:28)\n",
       "\tat org.apache.spark.rdd.RDD.$anonfun$collect$2(RDD.scala:1011)\n",
       "\tat org.apache.spark.SparkContext.$anonfun$runJob$5(SparkContext.scala:2373)\n",
       "\tat org.apache.spark.scheduler.ResultTask.runTask(ResultTask.scala:90)\n",
       "\tat org.apache.spark.scheduler.Task.doRunTask(Task.scala:144)\n",
       "\tat org.apache.spark.scheduler.Task.run(Task.scala:117)\n",
       "\tat org.apache.spark.executor.Executor$TaskRunner.$anonfun$run$8(Executor.scala:677)\n",
       "\tat org.apache.spark.util.Utils$.tryWithSafeFinally(Utils.scala:1581)\n",
       "\tat org.apache.spark.executor.Executor$TaskRunner.run(Executor.scala:680)\n",
       "\tat java.util.concurrent.ThreadPoolExecutor.runWorker(ThreadPoolExecutor.java:1149)\n",
       "\tat java.util.concurrent.ThreadPoolExecutor$Worker.run(ThreadPoolExecutor.java:624)\n",
       "\t... 1 more\n",
       "</div>"
      ]
     },
     "metadata": {
      "application/vnd.databricks.v1+output": {
       "arguments": {},
       "data": "<div class=\"ansiout\"><span class=\"ansi-red-fg\">---------------------------------------------------------------------------</span>\n<span class=\"ansi-red-fg\">Py4JJavaError</span>                             Traceback (most recent call last)\n<span class=\"ansi-green-fg\">&lt;command-3776015551368570&gt;</span> in <span class=\"ansi-cyan-fg\">&lt;module&gt;</span>\n<span class=\"ansi-green-intense-fg ansi-bold\">      1</span> <span class=\"ansi-red-fg\"># Now we&#39;ll see the error</span>\n<span class=\"ansi-green-fg\">----&gt; 2</span><span class=\"ansi-red-fg\"> </span>brokenRDD<span class=\"ansi-blue-fg\">.</span>collect<span class=\"ansi-blue-fg\">(</span><span class=\"ansi-blue-fg\">)</span>\n\n<span class=\"ansi-green-fg\">/databricks/spark/python/pyspark/rdd.py</span> in <span class=\"ansi-cyan-fg\">collect</span><span class=\"ansi-blue-fg\">(self)</span>\n<span class=\"ansi-green-intense-fg ansi-bold\">    901</span>         <span class=\"ansi-red-fg\"># Default path used in OSS Spark / for non-credential passthrough clusters:</span>\n<span class=\"ansi-green-intense-fg ansi-bold\">    902</span>         <span class=\"ansi-green-fg\">with</span> SCCallSiteSync<span class=\"ansi-blue-fg\">(</span>self<span class=\"ansi-blue-fg\">.</span>context<span class=\"ansi-blue-fg\">)</span> <span class=\"ansi-green-fg\">as</span> css<span class=\"ansi-blue-fg\">:</span>\n<span class=\"ansi-green-fg\">--&gt; 903</span><span class=\"ansi-red-fg\">             </span>sock_info <span class=\"ansi-blue-fg\">=</span> self<span class=\"ansi-blue-fg\">.</span>ctx<span class=\"ansi-blue-fg\">.</span>_jvm<span class=\"ansi-blue-fg\">.</span>PythonRDD<span class=\"ansi-blue-fg\">.</span>collectAndServe<span class=\"ansi-blue-fg\">(</span>self<span class=\"ansi-blue-fg\">.</span>_jrdd<span class=\"ansi-blue-fg\">.</span>rdd<span class=\"ansi-blue-fg\">(</span><span class=\"ansi-blue-fg\">)</span><span class=\"ansi-blue-fg\">)</span>\n<span class=\"ansi-green-intense-fg ansi-bold\">    904</span>         <span class=\"ansi-green-fg\">return</span> list<span class=\"ansi-blue-fg\">(</span>_load_from_socket<span class=\"ansi-blue-fg\">(</span>sock_info<span class=\"ansi-blue-fg\">,</span> self<span class=\"ansi-blue-fg\">.</span>_jrdd_deserializer<span class=\"ansi-blue-fg\">)</span><span class=\"ansi-blue-fg\">)</span>\n<span class=\"ansi-green-intense-fg ansi-bold\">    905</span> \n\n<span class=\"ansi-green-fg\">/databricks/spark/python/lib/py4j-0.10.9-src.zip/py4j/java_gateway.py</span> in <span class=\"ansi-cyan-fg\">__call__</span><span class=\"ansi-blue-fg\">(self, *args)</span>\n<span class=\"ansi-green-intense-fg ansi-bold\">   1303</span>         answer <span class=\"ansi-blue-fg\">=</span> self<span class=\"ansi-blue-fg\">.</span>gateway_client<span class=\"ansi-blue-fg\">.</span>send_command<span class=\"ansi-blue-fg\">(</span>command<span class=\"ansi-blue-fg\">)</span>\n<span class=\"ansi-green-intense-fg ansi-bold\">   1304</span>         return_value = get_return_value(\n<span class=\"ansi-green-fg\">-&gt; 1305</span><span class=\"ansi-red-fg\">             answer, self.gateway_client, self.target_id, self.name)\n</span><span class=\"ansi-green-intense-fg ansi-bold\">   1306</span> \n<span class=\"ansi-green-intense-fg ansi-bold\">   1307</span>         <span class=\"ansi-green-fg\">for</span> temp_arg <span class=\"ansi-green-fg\">in</span> temp_args<span class=\"ansi-blue-fg\">:</span>\n\n<span class=\"ansi-green-fg\">/databricks/spark/python/pyspark/sql/utils.py</span> in <span class=\"ansi-cyan-fg\">deco</span><span class=\"ansi-blue-fg\">(*a, **kw)</span>\n<span class=\"ansi-green-intense-fg ansi-bold\">    125</span>     <span class=\"ansi-green-fg\">def</span> deco<span class=\"ansi-blue-fg\">(</span><span class=\"ansi-blue-fg\">*</span>a<span class=\"ansi-blue-fg\">,</span> <span class=\"ansi-blue-fg\">**</span>kw<span class=\"ansi-blue-fg\">)</span><span class=\"ansi-blue-fg\">:</span>\n<span class=\"ansi-green-intense-fg ansi-bold\">    126</span>         <span class=\"ansi-green-fg\">try</span><span class=\"ansi-blue-fg\">:</span>\n<span class=\"ansi-green-fg\">--&gt; 127</span><span class=\"ansi-red-fg\">             </span><span class=\"ansi-green-fg\">return</span> f<span class=\"ansi-blue-fg\">(</span><span class=\"ansi-blue-fg\">*</span>a<span class=\"ansi-blue-fg\">,</span> <span class=\"ansi-blue-fg\">**</span>kw<span class=\"ansi-blue-fg\">)</span>\n<span class=\"ansi-green-intense-fg ansi-bold\">    128</span>         <span class=\"ansi-green-fg\">except</span> py4j<span class=\"ansi-blue-fg\">.</span>protocol<span class=\"ansi-blue-fg\">.</span>Py4JJavaError <span class=\"ansi-green-fg\">as</span> e<span class=\"ansi-blue-fg\">:</span>\n<span class=\"ansi-green-intense-fg ansi-bold\">    129</span>             converted <span class=\"ansi-blue-fg\">=</span> convert_exception<span class=\"ansi-blue-fg\">(</span>e<span class=\"ansi-blue-fg\">.</span>java_exception<span class=\"ansi-blue-fg\">)</span>\n\n<span class=\"ansi-green-fg\">/databricks/spark/python/lib/py4j-0.10.9-src.zip/py4j/protocol.py</span> in <span class=\"ansi-cyan-fg\">get_return_value</span><span class=\"ansi-blue-fg\">(answer, gateway_client, target_id, name)</span>\n<span class=\"ansi-green-intense-fg ansi-bold\">    326</span>                 raise Py4JJavaError(\n<span class=\"ansi-green-intense-fg ansi-bold\">    327</span>                     <span class=\"ansi-blue-fg\">&#34;An error occurred while calling {0}{1}{2}.\\n&#34;</span><span class=\"ansi-blue-fg\">.</span>\n<span class=\"ansi-green-fg\">--&gt; 328</span><span class=\"ansi-red-fg\">                     format(target_id, &#34;.&#34;, name), value)\n</span><span class=\"ansi-green-intense-fg ansi-bold\">    329</span>             <span class=\"ansi-green-fg\">else</span><span class=\"ansi-blue-fg\">:</span>\n<span class=\"ansi-green-intense-fg ansi-bold\">    330</span>                 raise Py4JError(\n\n<span class=\"ansi-red-fg\">Py4JJavaError</span>: An error occurred while calling z:org.apache.spark.api.python.PythonRDD.collectAndServe.\n: org.apache.spark.SparkException: Job aborted due to stage failure: Task 7 in stage 44.0 failed 1 times, most recent failure: Lost task 7.0 in stage 44.0 (TID 289, ip-10-172-254-158.us-west-2.compute.internal, executor driver): org.apache.spark.api.python.PythonException: &#39;NameError: name &#39;val&#39; is not defined&#39;, from &lt;command-3776015551368569&gt;, line 17. Full traceback below:\nTraceback (most recent call last):\n  File &#34;/databricks/spark/python/pyspark/worker.py&#34;, line 676, in main\n    process()\n  File &#34;/databricks/spark/python/pyspark/worker.py&#34;, line 668, in process\n    serializer.dump_stream(out_iter, outfile)\n  File &#34;/databricks/spark/python/pyspark/serializers.py&#34;, line 279, in dump_stream\n    vs = list(itertools.islice(iterator, batch))\n  File &#34;/databricks/spark/python/pyspark/util.py&#34;, line 110, in wrapper\n    return f(*args, **kwargs)\n  File &#34;&lt;command-3776015551368569&gt;&#34;, line 17, in brokenTen\nNameError: name &#39;val&#39; is not defined\n\n\tat org.apache.spark.api.python.BasePythonRunner$ReaderIterator.handlePythonException(PythonRunner.scala:603)\n\tat org.apache.spark.api.python.PythonRunner$$anon$3.read(PythonRunner.scala:738)\n\tat org.apache.spark.api.python.PythonRunner$$anon$3.read(PythonRunner.scala:721)\n\tat org.apache.spark.api.python.BasePythonRunner$ReaderIterator.hasNext(PythonRunner.scala:556)\n\tat org.apache.spark.InterruptibleIterator.hasNext(InterruptibleIterator.scala:37)\n\tat scala.collection.Iterator.foreach(Iterator.scala:941)\n\tat scala.collection.Iterator.foreach$(Iterator.scala:941)\n\tat org.apache.spark.InterruptibleIterator.foreach(InterruptibleIterator.scala:28)\n\tat scala.collection.generic.Growable.$plus$plus$eq(Growable.scala:62)\n\tat scala.collection.generic.Growable.$plus$plus$eq$(Growable.scala:53)\n\tat scala.collection.mutable.ArrayBuffer.$plus$plus$eq(ArrayBuffer.scala:105)\n\tat scala.collection.mutable.ArrayBuffer.$plus$plus$eq(ArrayBuffer.scala:49)\n\tat scala.collection.TraversableOnce.to(TraversableOnce.scala:315)\n\tat scala.collection.TraversableOnce.to$(TraversableOnce.scala:313)\n\tat org.apache.spark.InterruptibleIterator.to(InterruptibleIterator.scala:28)\n\tat scala.collection.TraversableOnce.toBuffer(TraversableOnce.scala:307)\n\tat scala.collection.TraversableOnce.toBuffer$(TraversableOnce.scala:307)\n\tat org.apache.spark.InterruptibleIterator.toBuffer(InterruptibleIterator.scala:28)\n\tat scala.collection.TraversableOnce.toArray(TraversableOnce.scala:294)\n\tat scala.collection.TraversableOnce.toArray$(TraversableOnce.scala:288)\n\tat org.apache.spark.InterruptibleIterator.toArray(InterruptibleIterator.scala:28)\n\tat org.apache.spark.rdd.RDD.$anonfun$collect$2(RDD.scala:1011)\n\tat org.apache.spark.SparkContext.$anonfun$runJob$5(SparkContext.scala:2373)\n\tat org.apache.spark.scheduler.ResultTask.runTask(ResultTask.scala:90)\n\tat org.apache.spark.scheduler.Task.doRunTask(Task.scala:144)\n\tat org.apache.spark.scheduler.Task.run(Task.scala:117)\n\tat org.apache.spark.executor.Executor$TaskRunner.$anonfun$run$8(Executor.scala:677)\n\tat org.apache.spark.util.Utils$.tryWithSafeFinally(Utils.scala:1581)\n\tat org.apache.spark.executor.Executor$TaskRunner.run(Executor.scala:680)\n\tat java.util.concurrent.ThreadPoolExecutor.runWorker(ThreadPoolExecutor.java:1149)\n\tat java.util.concurrent.ThreadPoolExecutor$Worker.run(ThreadPoolExecutor.java:624)\n\tat java.lang.Thread.run(Thread.java:748)\n\nDriver stacktrace:\n\tat org.apache.spark.scheduler.DAGScheduler.failJobAndIndependentStages(DAGScheduler.scala:2519)\n\tat org.apache.spark.scheduler.DAGScheduler.$anonfun$abortStage$2(DAGScheduler.scala:2466)\n\tat org.apache.spark.scheduler.DAGScheduler.$anonfun$abortStage$2$adapted(DAGScheduler.scala:2460)\n\tat scala.collection.mutable.ResizableArray.foreach(ResizableArray.scala:62)\n\tat scala.collection.mutable.ResizableArray.foreach$(ResizableArray.scala:55)\n\tat scala.collection.mutable.ArrayBuffer.foreach(ArrayBuffer.scala:49)\n\tat org.apache.spark.scheduler.DAGScheduler.abortStage(DAGScheduler.scala:2460)\n\tat org.apache.spark.scheduler.DAGScheduler.$anonfun$handleTaskSetFailed$1(DAGScheduler.scala:1152)\n\tat org.apache.spark.scheduler.DAGScheduler.$anonfun$handleTaskSetFailed$1$adapted(DAGScheduler.scala:1152)\n\tat scala.Option.foreach(Option.scala:407)\n\tat org.apache.spark.scheduler.DAGScheduler.handleTaskSetFailed(DAGScheduler.scala:1152)\n\tat org.apache.spark.scheduler.DAGSchedulerEventProcessLoop.doOnReceive(DAGScheduler.scala:2721)\n\tat org.apache.spark.scheduler.DAGSchedulerEventProcessLoop.onReceive(DAGScheduler.scala:2668)\n\tat org.apache.spark.scheduler.DAGSchedulerEventProcessLoop.onReceive(DAGScheduler.scala:2656)\n\tat org.apache.spark.util.EventLoop$$anon$1.run(EventLoop.scala:49)\n\tat org.apache.spark.scheduler.DAGScheduler.runJob(DAGScheduler.scala:938)\n\tat org.apache.spark.SparkContext.runJob(SparkContext.scala:2333)\n\tat org.apache.spark.SparkContext.runJob(SparkContext.scala:2354)\n\tat org.apache.spark.SparkContext.runJob(SparkContext.scala:2373)\n\tat org.apache.spark.SparkContext.runJob(SparkContext.scala:2398)\n\tat org.apache.spark.rdd.RDD.$anonfun$collect$1(RDD.scala:1011)\n\tat org.apache.spark.rdd.RDDOperationScope$.withScope(RDDOperationScope.scala:165)\n\tat org.apache.spark.rdd.RDDOperationScope$.withScope(RDDOperationScope.scala:125)\n\tat org.apache.spark.rdd.RDDOperationScope$.withScope(RDDOperationScope.scala:112)\n\tat org.apache.spark.rdd.RDD.withScope(RDD.scala:395)\n\tat org.apache.spark.rdd.RDD.collect(RDD.scala:1010)\n\tat org.apache.spark.api.python.PythonRDD$.collectAndServe(PythonRDD.scala:260)\n\tat org.apache.spark.api.python.PythonRDD.collectAndServe(PythonRDD.scala)\n\tat sun.reflect.GeneratedMethodAccessor176.invoke(Unknown Source)\n\tat sun.reflect.DelegatingMethodAccessorImpl.invoke(DelegatingMethodAccessorImpl.java:43)\n\tat java.lang.reflect.Method.invoke(Method.java:498)\n\tat py4j.reflection.MethodInvoker.invoke(MethodInvoker.java:244)\n\tat py4j.reflection.ReflectionEngine.invoke(ReflectionEngine.java:380)\n\tat py4j.Gateway.invoke(Gateway.java:295)\n\tat py4j.commands.AbstractCommand.invokeMethod(AbstractCommand.java:132)\n\tat py4j.commands.CallCommand.execute(CallCommand.java:79)\n\tat py4j.GatewayConnection.run(GatewayConnection.java:251)\n\tat java.lang.Thread.run(Thread.java:748)\nCaused by: org.apache.spark.api.python.PythonException: &#39;NameError: name &#39;val&#39; is not defined&#39;, from &lt;command-3776015551368569&gt;, line 17. Full traceback below:\nTraceback (most recent call last):\n  File &#34;/databricks/spark/python/pyspark/worker.py&#34;, line 676, in main\n    process()\n  File &#34;/databricks/spark/python/pyspark/worker.py&#34;, line 668, in process\n    serializer.dump_stream(out_iter, outfile)\n  File &#34;/databricks/spark/python/pyspark/serializers.py&#34;, line 279, in dump_stream\n    vs = list(itertools.islice(iterator, batch))\n  File &#34;/databricks/spark/python/pyspark/util.py&#34;, line 110, in wrapper\n    return f(*args, **kwargs)\n  File &#34;&lt;command-3776015551368569&gt;&#34;, line 17, in brokenTen\nNameError: name &#39;val&#39; is not defined\n\n\tat org.apache.spark.api.python.BasePythonRunner$ReaderIterator.handlePythonException(PythonRunner.scala:603)\n\tat org.apache.spark.api.python.PythonRunner$$anon$3.read(PythonRunner.scala:738)\n\tat org.apache.spark.api.python.PythonRunner$$anon$3.read(PythonRunner.scala:721)\n\tat org.apache.spark.api.python.BasePythonRunner$ReaderIterator.hasNext(PythonRunner.scala:556)\n\tat org.apache.spark.InterruptibleIterator.hasNext(InterruptibleIterator.scala:37)\n\tat scala.collection.Iterator.foreach(Iterator.scala:941)\n\tat scala.collection.Iterator.foreach$(Iterator.scala:941)\n\tat org.apache.spark.InterruptibleIterator.foreach(InterruptibleIterator.scala:28)\n\tat scala.collection.generic.Growable.$plus$plus$eq(Growable.scala:62)\n\tat scala.collection.generic.Growable.$plus$plus$eq$(Growable.scala:53)\n\tat scala.collection.mutable.ArrayBuffer.$plus$plus$eq(ArrayBuffer.scala:105)\n\tat scala.collection.mutable.ArrayBuffer.$plus$plus$eq(ArrayBuffer.scala:49)\n\tat scala.collection.TraversableOnce.to(TraversableOnce.scala:315)\n\tat scala.collection.TraversableOnce.to$(TraversableOnce.scala:313)\n\tat org.apache.spark.InterruptibleIterator.to(InterruptibleIterator.scala:28)\n\tat scala.collection.TraversableOnce.toBuffer(TraversableOnce.scala:307)\n\tat scala.collection.TraversableOnce.toBuffer$(TraversableOnce.scala:307)\n\tat org.apache.spark.InterruptibleIterator.toBuffer(InterruptibleIterator.scala:28)\n\tat scala.collection.TraversableOnce.toArray(TraversableOnce.scala:294)\n\tat scala.collection.TraversableOnce.toArray$(TraversableOnce.scala:288)\n\tat org.apache.spark.InterruptibleIterator.toArray(InterruptibleIterator.scala:28)\n\tat org.apache.spark.rdd.RDD.$anonfun$collect$2(RDD.scala:1011)\n\tat org.apache.spark.SparkContext.$anonfun$runJob$5(SparkContext.scala:2373)\n\tat org.apache.spark.scheduler.ResultTask.runTask(ResultTask.scala:90)\n\tat org.apache.spark.scheduler.Task.doRunTask(Task.scala:144)\n\tat org.apache.spark.scheduler.Task.run(Task.scala:117)\n\tat org.apache.spark.executor.Executor$TaskRunner.$anonfun$run$8(Executor.scala:677)\n\tat org.apache.spark.util.Utils$.tryWithSafeFinally(Utils.scala:1581)\n\tat org.apache.spark.executor.Executor$TaskRunner.run(Executor.scala:680)\n\tat java.util.concurrent.ThreadPoolExecutor.runWorker(ThreadPoolExecutor.java:1149)\n\tat java.util.concurrent.ThreadPoolExecutor$Worker.run(ThreadPoolExecutor.java:624)\n\t... 1 more\n</div>",
       "errorSummary": "org.apache.spark.SparkException: Job aborted due to stage failure: Task 7 in stage 44.0 failed 1 times, most recent failure: Lost task 7.0 in stage 44.0 (TID 289, ip-10-172-254-158.us-west-2.compute.internal, executor driver): org.apache.spark.api.python.PythonException: &#39;NameError: name &#39;val&#39; is not defined&#39;, from &lt;command-3776015551368569&gt;, line 17. Full traceback below:",
       "type": "ipynbError"
      }
     },
     "output_type": "display_data"
    }
   ],
   "source": [
    "# Now we'll see the error\n",
    "brokenRDD.collect()"
   ]
  },
  {
   "cell_type": "markdown",
   "metadata": {
    "application/vnd.databricks.v1+cell": {
     "inputWidgets": {},
     "nuid": "1079ead0-6e7a-4867-b3e0-9c6b24704048",
     "showTitle": false,
     "title": ""
    }
   },
   "source": [
    "** (8b) Finding the bug **\n",
    " \n",
    "When the `filter()` method is executed, Spark evaluates the RDD by executing the `parallelize()` and `filter()` methods. Since our `filter()` method has an error in the filtering function `brokenTen()`, an error occurs.\n",
    " \n",
    "Scroll through the output \"Py4JJavaError     Traceback (most recent call last)\" part of the cell and first you will see that the line that generated the error is the `collect()` method line. There is *nothing wrong with this line*. However, it is an action and that caused other methods to be executed. Continue scrolling through the Traceback and you will see the following error line:\n",
    " \n",
    "`NameError: global name 'val' is not defined`\n",
    " \n",
    "Looking at this error line, we can see that we used the wrong variable name in our filtering function `brokenTen()`."
   ]
  },
  {
   "cell_type": "markdown",
   "metadata": {
    "application/vnd.databricks.v1+cell": {
     "inputWidgets": {},
     "nuid": "0b8da51f-ed52-441c-8f80-b27e793b2705",
     "showTitle": false,
     "title": ""
    }
   },
   "source": [
    "** (8c) Moving toward expert style **\n",
    " \n",
    "As you are learning Spark, I recommend that you write your code in the form:\n",
    "```\n",
    "    RDD.transformation1()\n",
    "    RDD.action1()\n",
    "    RDD.transformation2()\n",
    "    RDD.action2()\n",
    "```\n",
    "Using this style will make debugging your code much easier as it makes errors easier to localize - errors in your transformations will occur when the next action is executed.\n",
    " \n",
    "Once you become more experienced with Spark, you can write your code with the form: `RDD.transformation1().transformation2().action()`\n",
    " \n",
    "We can also use `lambda()` functions instead of separately defined functions when their use improves readability and conciseness."
   ]
  },
  {
   "cell_type": "code",
   "execution_count": null,
   "metadata": {
    "application/vnd.databricks.v1+cell": {
     "inputWidgets": {},
     "nuid": "ad4fadd0-0756-4f07-b009-3de36a1fbf33",
     "showTitle": false,
     "title": ""
    }
   },
   "outputs": [
    {
     "data": {
      "text/html": [
       "<style scoped>\n",
       "  .ansiout {\n",
       "    display: block;\n",
       "    unicode-bidi: embed;\n",
       "    white-space: pre-wrap;\n",
       "    word-wrap: break-word;\n",
       "    word-break: break-all;\n",
       "    font-family: \"Source Code Pro\", \"Menlo\", monospace;;\n",
       "    font-size: 13px;\n",
       "    color: #555;\n",
       "    margin-left: 4px;\n",
       "    line-height: 19px;\n",
       "  }\n",
       "</style>\n",
       "<div class=\"ansiout\">Out[33]: [0, 1, 2, 3, 4, 5, 6, 7, 8, 9]</div>"
      ]
     },
     "metadata": {
      "application/vnd.databricks.v1+output": {
       "addedWidgets": {},
       "arguments": {},
       "data": "<div class=\"ansiout\">Out[33]: [0, 1, 2, 3, 4, 5, 6, 7, 8, 9]</div>",
       "datasetInfos": [],
       "removedWidgets": [],
       "type": "html"
      }
     },
     "output_type": "display_data"
    }
   ],
   "source": [
    "# Cleaner code through lambda use\n",
    "subRDD.filter(lambda x: x < 10).collect()"
   ]
  },
  {
   "cell_type": "code",
   "execution_count": null,
   "metadata": {
    "application/vnd.databricks.v1+cell": {
     "inputWidgets": {},
     "nuid": "747adc83-8987-4dab-9a65-8bae33e56221",
     "showTitle": false,
     "title": ""
    }
   },
   "outputs": [
    {
     "data": {
      "text/html": [
       "<style scoped>\n",
       "  .ansiout {\n",
       "    display: block;\n",
       "    unicode-bidi: embed;\n",
       "    white-space: pre-wrap;\n",
       "    word-wrap: break-word;\n",
       "    word-break: break-all;\n",
       "    font-family: \"Source Code Pro\", \"Menlo\", monospace;;\n",
       "    font-size: 13px;\n",
       "    color: #555;\n",
       "    margin-left: 4px;\n",
       "    line-height: 19px;\n",
       "  }\n",
       "</style>\n",
       "<div class=\"ansiout\">Out[34]: [0, 1, 2, 3, 4, 5, 6, 7, 8, 9]</div>"
      ]
     },
     "metadata": {
      "application/vnd.databricks.v1+output": {
       "addedWidgets": {},
       "arguments": {},
       "data": "<div class=\"ansiout\">Out[34]: [0, 1, 2, 3, 4, 5, 6, 7, 8, 9]</div>",
       "datasetInfos": [],
       "removedWidgets": [],
       "type": "html"
      }
     },
     "output_type": "display_data"
    }
   ],
   "source": [
    "# Even better by moving our chain of operators into a single line.\n",
    "sc.parallelize(data).map(lambda y: y - 1).filter(lambda x: x < 10).collect()"
   ]
  },
  {
   "cell_type": "markdown",
   "metadata": {
    "application/vnd.databricks.v1+cell": {
     "inputWidgets": {},
     "nuid": "d90def61-b127-4218-97a5-e67d4635721a",
     "showTitle": false,
     "title": ""
    }
   },
   "source": [
    "** (8d) Readability and code style **\n",
    " \n",
    "To make the expert coding style more readable, enclose the statement in parentheses and put each method, transformation, or action on a separate line."
   ]
  },
  {
   "cell_type": "code",
   "execution_count": null,
   "metadata": {
    "application/vnd.databricks.v1+cell": {
     "inputWidgets": {},
     "nuid": "76fa2073-3a68-431c-a501-f34fd75dab36",
     "showTitle": false,
     "title": ""
    }
   },
   "outputs": [
    {
     "data": {
      "text/html": [
       "<style scoped>\n",
       "  .ansiout {\n",
       "    display: block;\n",
       "    unicode-bidi: embed;\n",
       "    white-space: pre-wrap;\n",
       "    word-wrap: break-word;\n",
       "    word-break: break-all;\n",
       "    font-family: \"Source Code Pro\", \"Menlo\", monospace;;\n",
       "    font-size: 13px;\n",
       "    color: #555;\n",
       "    margin-left: 4px;\n",
       "    line-height: 19px;\n",
       "  }\n",
       "</style>\n",
       "<div class=\"ansiout\">Out[35]: [0, 1, 2, 3, 4, 5, 6, 7, 8, 9]</div>"
      ]
     },
     "metadata": {
      "application/vnd.databricks.v1+output": {
       "addedWidgets": {},
       "arguments": {},
       "data": "<div class=\"ansiout\">Out[35]: [0, 1, 2, 3, 4, 5, 6, 7, 8, 9]</div>",
       "datasetInfos": [],
       "removedWidgets": [],
       "type": "html"
      }
     },
     "output_type": "display_data"
    }
   ],
   "source": [
    "# Final version\n",
    "(sc\n",
    " .parallelize(data)\n",
    " .map(lambda y: y - 1)\n",
    " .filter(lambda x: x < 10)\n",
    " .collect())"
   ]
  }
 ],
 "metadata": {
  "application/vnd.databricks.v1+notebook": {
   "dashboards": [],
   "language": "python",
   "notebookName": "Apache Spark Tutorial",
   "notebookOrigID": 3776015551368491,
   "widgets": {}
  },
  "kernelspec": {
   "display_name": "Python 3 (ipykernel)",
   "language": "python",
   "name": "python3"
  },
  "language_info": {
   "codemirror_mode": {
    "name": "ipython",
    "version": 3
   },
   "file_extension": ".py",
   "mimetype": "text/x-python",
   "name": "python",
   "nbconvert_exporter": "python",
   "pygments_lexer": "ipython3",
   "version": "3.10.2"
  }
 },
 "nbformat": 4,
 "nbformat_minor": 4
}
